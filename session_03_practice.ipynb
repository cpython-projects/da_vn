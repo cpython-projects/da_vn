{
 "cells": [
  {
   "cell_type": "code",
   "execution_count": 1,
   "id": "81829e75-0d37-4f7a-a924-c2f0bbf6c0a1",
   "metadata": {},
   "outputs": [],
   "source": [
    "!pip install --upgrade pandas\n",
    "import pandas as pd\n",
    "from google.colab import files\n",
    "uploaded = files.upload()"
   ]
  },
  {
   "cell_type": "markdown",
   "id": "2e1a932d-0127-4244-b354-54f47d0383e6",
   "metadata": {},
   "source": [
    "### 1. Reading Data from CSV with Specific Features\n",
    "When reading CSV files, we often need to handle special cases:\n",
    "- Different delimiters (here we use ';')\n",
    "- Potential encoding issues\n",
    "- Handling of missing values\n",
    "- Parsing dates correctly"
   ]
  },
  {
   "cell_type": "code",
   "execution_count": 13,
   "id": "7116fb06-4285-4f25-91f0-d959e60c51f0",
   "metadata": {},
   "outputs": [],
   "source": [
    "df = pd.read_csv('session_03_data_practice.csv', delimiter=';', parse_dates=['Creation Date', 'Date when pay'])"
   ]
  },
  {
   "cell_type": "markdown",
   "id": "b06ef571-b74f-46f2-84d0-b1768a6e614c",
   "metadata": {},
   "source": [
    "**Note: The parse_dates parameter attempts to convert specified columns to datetime objects**  \n",
    "This is especially useful for time series analysis"
   ]
  },
  {
   "cell_type": "markdown",
   "id": "9338cb59-8345-4e8e-95ec-37577530947e",
   "metadata": {},
   "source": [
    "### 2. Initial Data Exploration\n",
    "Understanding your data is the first critical step in any analysis"
   ]
  },
  {
   "cell_type": "markdown",
   "id": "ee43bd9c-2733-4c79-a0f6-d1ab738dc188",
   "metadata": {},
   "source": [
    "**View first 5 rows to get a quick look at the data structure**"
   ]
  },
  {
   "cell_type": "code",
   "execution_count": 15,
   "id": "f0e97b11-6f08-4a49-b879-32b48a97cea0",
   "metadata": {},
   "outputs": [
    {
     "data": {
      "text/html": [
       "<div>\n",
       "<style scoped>\n",
       "    .dataframe tbody tr th:only-of-type {\n",
       "        vertical-align: middle;\n",
       "    }\n",
       "\n",
       "    .dataframe tbody tr th {\n",
       "        vertical-align: top;\n",
       "    }\n",
       "\n",
       "    .dataframe thead th {\n",
       "        text-align: right;\n",
       "    }\n",
       "</style>\n",
       "<table border=\"1\" class=\"dataframe\">\n",
       "  <thead>\n",
       "    <tr style=\"text-align: right;\">\n",
       "      <th></th>\n",
       "      <th>Number</th>\n",
       "      <th>Creation Date</th>\n",
       "      <th>Date when pay</th>\n",
       "      <th>Title</th>\n",
       "      <th>Status</th>\n",
       "      <th>Money amount</th>\n",
       "      <th>City</th>\n",
       "      <th>Payment System</th>\n",
       "    </tr>\n",
       "  </thead>\n",
       "  <tbody>\n",
       "    <tr>\n",
       "      <th>0</th>\n",
       "      <td>1062823</td>\n",
       "      <td>01.12.2024 10:50</td>\n",
       "      <td>01.12.2024 10:52</td>\n",
       "      <td>AI Engineering</td>\n",
       "      <td>Completed</td>\n",
       "      <td>29597.5</td>\n",
       "      <td>Bucha</td>\n",
       "      <td>Банківський переказ</td>\n",
       "    </tr>\n",
       "    <tr>\n",
       "      <th>1</th>\n",
       "      <td>1062855</td>\n",
       "      <td>01.12.2024 20:53</td>\n",
       "      <td>01.12.2024 21:27</td>\n",
       "      <td>AI Engineering</td>\n",
       "      <td>Completed</td>\n",
       "      <td>17450.3</td>\n",
       "      <td>Kharkiv</td>\n",
       "      <td>Google Pay</td>\n",
       "    </tr>\n",
       "    <tr>\n",
       "      <th>2</th>\n",
       "      <td>1062856</td>\n",
       "      <td>01.12.2024 21:43</td>\n",
       "      <td>NaN</td>\n",
       "      <td>Python. Data analysis</td>\n",
       "      <td>Canceled</td>\n",
       "      <td>0.0</td>\n",
       "      <td>Vinnytsia</td>\n",
       "      <td>NaN</td>\n",
       "    </tr>\n",
       "    <tr>\n",
       "      <th>3</th>\n",
       "      <td>1062880</td>\n",
       "      <td>03.12.2024 0:18</td>\n",
       "      <td>NaN</td>\n",
       "      <td>Frontend Development</td>\n",
       "      <td>Canceled</td>\n",
       "      <td>0.0</td>\n",
       "      <td>Pervomaisk</td>\n",
       "      <td>NaN</td>\n",
       "    </tr>\n",
       "    <tr>\n",
       "      <th>4</th>\n",
       "      <td>1062899</td>\n",
       "      <td>03.12.2024 21:43</td>\n",
       "      <td>NaN</td>\n",
       "      <td>AI Engineering</td>\n",
       "      <td>Canceled</td>\n",
       "      <td>0.0</td>\n",
       "      <td>Smila</td>\n",
       "      <td>NaN</td>\n",
       "    </tr>\n",
       "  </tbody>\n",
       "</table>\n",
       "</div>"
      ],
      "text/plain": [
       "   Number      Creation Date     Date when pay                  Title  \\\n",
       "0  1062823  01.12.2024 10:50  01.12.2024 10:52         AI Engineering   \n",
       "1  1062855  01.12.2024 20:53  01.12.2024 21:27         AI Engineering   \n",
       "2  1062856  01.12.2024 21:43               NaN  Python. Data analysis   \n",
       "3  1062880   03.12.2024 0:18               NaN   Frontend Development   \n",
       "4  1062899  03.12.2024 21:43               NaN         AI Engineering   \n",
       "\n",
       "    Status    Money amount          City       Payment System  \n",
       "0  Completed         29597.5       Bucha  Банківський переказ  \n",
       "1  Completed         17450.3     Kharkiv           Google Pay  \n",
       "2   Canceled             0.0   Vinnytsia                  NaN  \n",
       "3   Canceled             0.0  Pervomaisk                  NaN  \n",
       "4   Canceled             0.0       Smila                  NaN  "
      ]
     },
     "execution_count": 15,
     "metadata": {},
     "output_type": "execute_result"
    }
   ],
   "source": [
    "df.head()"
   ]
  },
  {
   "cell_type": "markdown",
   "id": "bcee20bc-9b7c-4aa2-a3b7-feae6d15c64f",
   "metadata": {},
   "source": [
    "**View last 5 rows to check if data is consistent throughout**"
   ]
  },
  {
   "cell_type": "code",
   "execution_count": 16,
   "id": "7e4e1179-1adc-4b6e-919d-44e1ba923d01",
   "metadata": {},
   "outputs": [
    {
     "data": {
      "text/html": [
       "<div>\n",
       "<style scoped>\n",
       "    .dataframe tbody tr th:only-of-type {\n",
       "        vertical-align: middle;\n",
       "    }\n",
       "\n",
       "    .dataframe tbody tr th {\n",
       "        vertical-align: top;\n",
       "    }\n",
       "\n",
       "    .dataframe thead th {\n",
       "        text-align: right;\n",
       "    }\n",
       "</style>\n",
       "<table border=\"1\" class=\"dataframe\">\n",
       "  <thead>\n",
       "    <tr style=\"text-align: right;\">\n",
       "      <th></th>\n",
       "      <th>Number</th>\n",
       "      <th>Creation Date</th>\n",
       "      <th>Date when pay</th>\n",
       "      <th>Title</th>\n",
       "      <th>Status</th>\n",
       "      <th>Money amount</th>\n",
       "      <th>City</th>\n",
       "      <th>Payment System</th>\n",
       "    </tr>\n",
       "  </thead>\n",
       "  <tbody>\n",
       "    <tr>\n",
       "      <th>287</th>\n",
       "      <td>1064720</td>\n",
       "      <td>30.12.2024 9:42</td>\n",
       "      <td>30.12.2024 12:49</td>\n",
       "      <td>Java Developer</td>\n",
       "      <td>Completed</td>\n",
       "      <td>2935.44</td>\n",
       "      <td>Irpin</td>\n",
       "      <td>Apple Pay</td>\n",
       "    </tr>\n",
       "    <tr>\n",
       "      <th>288</th>\n",
       "      <td>1064724</td>\n",
       "      <td>30.12.2024 11:32</td>\n",
       "      <td>NaN</td>\n",
       "      <td>Frontend Development</td>\n",
       "      <td>Canceled</td>\n",
       "      <td>0.00</td>\n",
       "      <td>rivne</td>\n",
       "      <td>NaN</td>\n",
       "    </tr>\n",
       "    <tr>\n",
       "      <th>289</th>\n",
       "      <td>1064775</td>\n",
       "      <td>31.12.2024 2:17</td>\n",
       "      <td>31.12.2024 2:22</td>\n",
       "      <td>Frontend Development</td>\n",
       "      <td>Completed</td>\n",
       "      <td>7423.92</td>\n",
       "      <td>Kherson</td>\n",
       "      <td>Apple Pay</td>\n",
       "    </tr>\n",
       "    <tr>\n",
       "      <th>290</th>\n",
       "      <td>1064793</td>\n",
       "      <td>31.12.2024 16:40</td>\n",
       "      <td>01.01.2020 14:29</td>\n",
       "      <td>Java Developer</td>\n",
       "      <td>Completed</td>\n",
       "      <td>2935.44</td>\n",
       "      <td>Irpin</td>\n",
       "      <td>ПриватБанк</td>\n",
       "    </tr>\n",
       "    <tr>\n",
       "      <th>291</th>\n",
       "      <td>1064796</td>\n",
       "      <td>31.12.2024 17:29</td>\n",
       "      <td>31.12.2024 17:32</td>\n",
       "      <td>Python. Web-developer</td>\n",
       "      <td>Completed</td>\n",
       "      <td>9898.56</td>\n",
       "      <td>Sumy</td>\n",
       "      <td>Apple Pay</td>\n",
       "    </tr>\n",
       "  </tbody>\n",
       "</table>\n",
       "</div>"
      ],
      "text/plain": [
       "     Number      Creation Date     Date when pay                   Title  \\\n",
       "287  1064720   30.12.2024 9:42  30.12.2024 12:49          Java Developer   \n",
       "288  1064724  30.12.2024 11:32               NaN    Frontend Development   \n",
       "289  1064775   31.12.2024 2:17   31.12.2024 2:22    Frontend Development   \n",
       "290  1064793  31.12.2024 16:40  01.01.2020 14:29          Java Developer   \n",
       "291  1064796  31.12.2024 17:29  31.12.2024 17:32  Python. Web-developer    \n",
       "\n",
       "      Status    Money amount       City Payment System  \n",
       "287  Completed         2935.44    Irpin      Apple Pay  \n",
       "288   Canceled            0.00  rivne              NaN  \n",
       "289  Completed         7423.92  Kherson      Apple Pay  \n",
       "290  Completed         2935.44    Irpin     ПриватБанк  \n",
       "291  Completed         9898.56     Sumy      Apple Pay  "
      ]
     },
     "execution_count": 16,
     "metadata": {},
     "output_type": "execute_result"
    }
   ],
   "source": [
    "df.tail()"
   ]
  },
  {
   "cell_type": "markdown",
   "id": "1114d7b2-1859-45cf-a8ba-d43847881adf",
   "metadata": {},
   "source": [
    "**Get basic information about the DataFrame:**\n",
    "- Number of non-null entries per column\n",
    "- Data types of each column\n",
    "- Memory usage"
   ]
  },
  {
   "cell_type": "code",
   "execution_count": 17,
   "id": "93956bc0-0fbe-43eb-8d28-52853091762b",
   "metadata": {},
   "outputs": [
    {
     "name": "stdout",
     "output_type": "stream",
     "text": [
      "<class 'pandas.core.frame.DataFrame'>\n",
      "RangeIndex: 292 entries, 0 to 291\n",
      "Data columns (total 8 columns):\n",
      " #   Column          Non-Null Count  Dtype  \n",
      "---  ------          --------------  -----  \n",
      " 0   Number          292 non-null    int64  \n",
      " 1   Creation Date   292 non-null    object \n",
      " 2   Date when pay   180 non-null    object \n",
      " 3   Title           292 non-null    object \n",
      " 4   Status          291 non-null    object \n",
      " 5   Money amount    292 non-null    float64\n",
      " 6   City            266 non-null    object \n",
      " 7   Payment System  180 non-null    object \n",
      "dtypes: float64(1), int64(1), object(6)\n",
      "memory usage: 18.4+ KB\n"
     ]
    }
   ],
   "source": [
    "df.info()"
   ]
  },
  {
   "cell_type": "markdown",
   "id": "9632ab52-8d41-47fd-ac50-865dd084c138",
   "metadata": {},
   "source": [
    "**Generate descriptive statistics for numeric columns:**\n",
    "- Count, mean, std, min, quartiles, max"
   ]
  },
  {
   "cell_type": "code",
   "execution_count": 18,
   "id": "3ef5e891-a355-4b00-b7bb-599dc2e48bf2",
   "metadata": {},
   "outputs": [
    {
     "data": {
      "text/html": [
       "<div>\n",
       "<style scoped>\n",
       "    .dataframe tbody tr th:only-of-type {\n",
       "        vertical-align: middle;\n",
       "    }\n",
       "\n",
       "    .dataframe tbody tr th {\n",
       "        vertical-align: top;\n",
       "    }\n",
       "\n",
       "    .dataframe thead th {\n",
       "        text-align: right;\n",
       "    }\n",
       "</style>\n",
       "<table border=\"1\" class=\"dataframe\">\n",
       "  <thead>\n",
       "    <tr style=\"text-align: right;\">\n",
       "      <th></th>\n",
       "      <th>Number</th>\n",
       "      <th>Money amount</th>\n",
       "    </tr>\n",
       "  </thead>\n",
       "  <tbody>\n",
       "    <tr>\n",
       "      <th>count</th>\n",
       "      <td>2.920000e+02</td>\n",
       "      <td>292.000000</td>\n",
       "    </tr>\n",
       "    <tr>\n",
       "      <th>mean</th>\n",
       "      <td>1.063745e+06</td>\n",
       "      <td>3397.615034</td>\n",
       "    </tr>\n",
       "    <tr>\n",
       "      <th>std</th>\n",
       "      <td>4.438688e+02</td>\n",
       "      <td>5771.572829</td>\n",
       "    </tr>\n",
       "    <tr>\n",
       "      <th>min</th>\n",
       "      <td>1.062823e+06</td>\n",
       "      <td>0.000000</td>\n",
       "    </tr>\n",
       "    <tr>\n",
       "      <th>25%</th>\n",
       "      <td>1.063608e+06</td>\n",
       "      <td>0.000000</td>\n",
       "    </tr>\n",
       "    <tr>\n",
       "      <th>50%</th>\n",
       "      <td>1.063698e+06</td>\n",
       "      <td>2935.440000</td>\n",
       "    </tr>\n",
       "    <tr>\n",
       "      <th>75%</th>\n",
       "      <td>1.063807e+06</td>\n",
       "      <td>2935.440000</td>\n",
       "    </tr>\n",
       "    <tr>\n",
       "      <th>max</th>\n",
       "      <td>1.064796e+06</td>\n",
       "      <td>42750.000000</td>\n",
       "    </tr>\n",
       "  </tbody>\n",
       "</table>\n",
       "</div>"
      ],
      "text/plain": [
       "            Number   Money amount  \n",
       "count  2.920000e+02      292.000000\n",
       "mean   1.063745e+06     3397.615034\n",
       "std    4.438688e+02     5771.572829\n",
       "min    1.062823e+06        0.000000\n",
       "25%    1.063608e+06        0.000000\n",
       "50%    1.063698e+06     2935.440000\n",
       "75%    1.063807e+06     2935.440000\n",
       "max    1.064796e+06    42750.000000"
      ]
     },
     "execution_count": 18,
     "metadata": {},
     "output_type": "execute_result"
    }
   ],
   "source": [
    "df.describe()"
   ]
  },
  {
   "cell_type": "markdown",
   "id": "28a5bc33-dc84-4531-9d1c-f4f4489c8ff5",
   "metadata": {},
   "source": [
    "**Get DataFrame dimensions (rows, columns)**"
   ]
  },
  {
   "cell_type": "code",
   "execution_count": 19,
   "id": "fd07f16a-e41d-4906-9a33-c65849ff4e34",
   "metadata": {},
   "outputs": [
    {
     "data": {
      "text/plain": [
       "(292, 8)"
      ]
     },
     "execution_count": 19,
     "metadata": {},
     "output_type": "execute_result"
    }
   ],
   "source": [
    "df.shape"
   ]
  },
  {
   "cell_type": "markdown",
   "id": "89568866-f800-4db1-bfc6-bd11dbe95131",
   "metadata": {},
   "source": [
    "**View column names (important for referencing columns correctly)**"
   ]
  },
  {
   "cell_type": "code",
   "execution_count": 20,
   "id": "e61167e6-4592-4d3d-a17a-421e56c93b15",
   "metadata": {},
   "outputs": [
    {
     "data": {
      "text/plain": [
       "Index(['Number ', 'Creation Date', 'Date when pay', 'Title', 'Status  ',\n",
       "       'Money amount  ', 'City', 'Payment System'],\n",
       "      dtype='object')"
      ]
     },
     "execution_count": 20,
     "metadata": {},
     "output_type": "execute_result"
    }
   ],
   "source": [
    "df.columns"
   ]
  },
  {
   "cell_type": "code",
   "execution_count": 21,
   "id": "9f20b3b0-fbcb-4a68-a59d-20ef8f2adc4b",
   "metadata": {},
   "outputs": [
    {
     "data": {
      "text/plain": [
       "['Number ',\n",
       " 'Creation Date',\n",
       " 'Date when pay',\n",
       " 'Title',\n",
       " 'Status  ',\n",
       " 'Money amount  ',\n",
       " 'City',\n",
       " 'Payment System']"
      ]
     },
     "execution_count": 21,
     "metadata": {},
     "output_type": "execute_result"
    }
   ],
   "source": [
    "df.columns.tolist()"
   ]
  },
  {
   "cell_type": "markdown",
   "id": "b4bf8e1a-f2c5-4c77-8e91-5c5767356641",
   "metadata": {},
   "source": [
    "**Initial observations we might make:**\n",
    "- Mixed data types (numeric, text, dates)\n",
    "- Some columns have missing values (like 'Date when pay')\n",
    "- Potential data quality issues (spaces in city names, inconsistent capitalization)\n",
    "- Numeric columns like 'Money amount' have wide ranges"
   ]
  },
  {
   "cell_type": "markdown",
   "id": "f5cab097-c6e3-4996-9561-46e044ccfea5",
   "metadata": {},
   "source": [
    "### 3. Renaming Columns\n",
    "**Column renaming is important for:**\n",
    "- Consistency (standard naming conventions)\n",
    "- Readability (clear, descriptive names)\n",
    "- Ease of use (avoid spaces/special characters in names)"
   ]
  },
  {
   "cell_type": "code",
   "execution_count": 24,
   "id": "d47ae0c0-21bf-48c6-936a-5303830e213a",
   "metadata": {},
   "outputs": [],
   "source": [
    "df = df.rename(columns={\n",
    "    'Number ': 'transaction_id',\n",
    "    'Creation Date': 'creation_date',\n",
    "    'Date when pay': 'payment_date',\n",
    "    'Title': 'course_title',\n",
    "    'Status  ': 'status',\n",
    "    'Money amount  ': 'amount',\n",
    "    'City': 'city',\n",
    "    'Payment System': 'payment_method'\n",
    "})"
   ]
  },
  {
   "cell_type": "markdown",
   "id": "1e94de9a-d9d6-475e-bfeb-a344521d316b",
   "metadata": {},
   "source": [
    "**Verify the changes**"
   ]
  },
  {
   "cell_type": "code",
   "execution_count": 25,
   "id": "65e6aeb6-55e8-4f32-abc1-4a683ca70b07",
   "metadata": {},
   "outputs": [
    {
     "data": {
      "text/plain": [
       "['transaction_id',\n",
       " 'creation_date',\n",
       " 'payment_date',\n",
       " 'course_title',\n",
       " 'status',\n",
       " 'amount',\n",
       " 'city',\n",
       " 'payment_method']"
      ]
     },
     "execution_count": 25,
     "metadata": {},
     "output_type": "execute_result"
    }
   ],
   "source": [
    "df.columns.tolist()"
   ]
  },
  {
   "cell_type": "markdown",
   "id": "1c64d563-c2ae-413c-9cb9-ac01f8987f43",
   "metadata": {},
   "source": [
    "### 4. Working with Columns and Rows\n",
    "\n",
    "**Selecting Columns**\n",
    "- Single column (returns Series)"
   ]
  },
  {
   "cell_type": "code",
   "execution_count": 27,
   "id": "f6179e82-ac13-47e5-a04e-ddf0ef1b40fd",
   "metadata": {},
   "outputs": [],
   "source": [
    "amounts = df['amount']"
   ]
  },
  {
   "cell_type": "code",
   "execution_count": 28,
   "id": "371c9cd1-21aa-44f9-acd0-ee92718e4bb0",
   "metadata": {},
   "outputs": [
    {
     "name": "stdout",
     "output_type": "stream",
     "text": [
      "0      29597.50\n",
      "1      17450.30\n",
      "2          0.00\n",
      "3          0.00\n",
      "4          0.00\n",
      "         ...   \n",
      "287     2935.44\n",
      "288        0.00\n",
      "289     7423.92\n",
      "290     2935.44\n",
      "291     9898.56\n",
      "Name: amount, Length: 292, dtype: float64\n"
     ]
    }
   ],
   "source": [
    "print(amounts)"
   ]
  },
  {
   "cell_type": "code",
   "execution_count": 30,
   "id": "a670d154-005d-4842-a0bc-9d192965f84e",
   "metadata": {},
   "outputs": [
    {
     "name": "stdout",
     "output_type": "stream",
     "text": [
      "0      29597.50\n",
      "1      17450.30\n",
      "2          0.00\n",
      "3          0.00\n",
      "4          0.00\n",
      "         ...   \n",
      "287     2935.44\n",
      "288        0.00\n",
      "289     7423.92\n",
      "290     2935.44\n",
      "291     9898.56\n",
      "Name: amount, Length: 292, dtype: float64\n"
     ]
    }
   ],
   "source": [
    "print(df.amount)"
   ]
  },
  {
   "cell_type": "markdown",
   "id": "fd855f71-9c37-4000-8fe3-1edfd1a41331",
   "metadata": {},
   "source": [
    "**Multiple columns (returns DataFrame)**"
   ]
  },
  {
   "cell_type": "code",
   "execution_count": 31,
   "id": "f6a5c32d-2212-4b07-aff5-4ab36f27e099",
   "metadata": {},
   "outputs": [],
   "source": [
    "financial_data = df[['amount', 'payment_method']]"
   ]
  },
  {
   "cell_type": "code",
   "execution_count": 32,
   "id": "47da86ba-8097-42cb-a04b-b11fdea12f11",
   "metadata": {},
   "outputs": [
    {
     "name": "stdout",
     "output_type": "stream",
     "text": [
      "       amount       payment_method\n",
      "0    29597.50  Банківський переказ\n",
      "1    17450.30           Google Pay\n",
      "2        0.00                  NaN\n",
      "3        0.00                  NaN\n",
      "4        0.00                  NaN\n",
      "..        ...                  ...\n",
      "287   2935.44            Apple Pay\n",
      "288      0.00                  NaN\n",
      "289   7423.92            Apple Pay\n",
      "290   2935.44           ПриватБанк\n",
      "291   9898.56            Apple Pay\n",
      "\n",
      "[292 rows x 2 columns]\n"
     ]
    }
   ],
   "source": [
    "print(financial_data)"
   ]
  },
  {
   "cell_type": "markdown",
   "id": "a998845e-0210-4305-b851-e78cc5f7cd1f",
   "metadata": {},
   "source": [
    "**Selecting Rows**\n",
    "- By index"
   ]
  },
  {
   "cell_type": "code",
   "execution_count": 33,
   "id": "554a2f2e-e530-456a-a68e-cc9c4334a17e",
   "metadata": {},
   "outputs": [
    {
     "data": {
      "text/html": [
       "<div>\n",
       "<style scoped>\n",
       "    .dataframe tbody tr th:only-of-type {\n",
       "        vertical-align: middle;\n",
       "    }\n",
       "\n",
       "    .dataframe tbody tr th {\n",
       "        vertical-align: top;\n",
       "    }\n",
       "\n",
       "    .dataframe thead th {\n",
       "        text-align: right;\n",
       "    }\n",
       "</style>\n",
       "<table border=\"1\" class=\"dataframe\">\n",
       "  <thead>\n",
       "    <tr style=\"text-align: right;\">\n",
       "      <th></th>\n",
       "      <th>transaction_id</th>\n",
       "      <th>creation_date</th>\n",
       "      <th>payment_date</th>\n",
       "      <th>course_title</th>\n",
       "      <th>status</th>\n",
       "      <th>amount</th>\n",
       "      <th>city</th>\n",
       "      <th>payment_method</th>\n",
       "    </tr>\n",
       "  </thead>\n",
       "  <tbody>\n",
       "    <tr>\n",
       "      <th>0</th>\n",
       "      <td>1062823</td>\n",
       "      <td>01.12.2024 10:50</td>\n",
       "      <td>01.12.2024 10:52</td>\n",
       "      <td>AI Engineering</td>\n",
       "      <td>Completed</td>\n",
       "      <td>29597.5</td>\n",
       "      <td>Bucha</td>\n",
       "      <td>Банківський переказ</td>\n",
       "    </tr>\n",
       "    <tr>\n",
       "      <th>1</th>\n",
       "      <td>1062855</td>\n",
       "      <td>01.12.2024 20:53</td>\n",
       "      <td>01.12.2024 21:27</td>\n",
       "      <td>AI Engineering</td>\n",
       "      <td>Completed</td>\n",
       "      <td>17450.3</td>\n",
       "      <td>Kharkiv</td>\n",
       "      <td>Google Pay</td>\n",
       "    </tr>\n",
       "    <tr>\n",
       "      <th>2</th>\n",
       "      <td>1062856</td>\n",
       "      <td>01.12.2024 21:43</td>\n",
       "      <td>NaN</td>\n",
       "      <td>Python. Data analysis</td>\n",
       "      <td>Canceled</td>\n",
       "      <td>0.0</td>\n",
       "      <td>Vinnytsia</td>\n",
       "      <td>NaN</td>\n",
       "    </tr>\n",
       "    <tr>\n",
       "      <th>3</th>\n",
       "      <td>1062880</td>\n",
       "      <td>03.12.2024 0:18</td>\n",
       "      <td>NaN</td>\n",
       "      <td>Frontend Development</td>\n",
       "      <td>Canceled</td>\n",
       "      <td>0.0</td>\n",
       "      <td>Pervomaisk</td>\n",
       "      <td>NaN</td>\n",
       "    </tr>\n",
       "    <tr>\n",
       "      <th>4</th>\n",
       "      <td>1062899</td>\n",
       "      <td>03.12.2024 21:43</td>\n",
       "      <td>NaN</td>\n",
       "      <td>AI Engineering</td>\n",
       "      <td>Canceled</td>\n",
       "      <td>0.0</td>\n",
       "      <td>Smila</td>\n",
       "      <td>NaN</td>\n",
       "    </tr>\n",
       "    <tr>\n",
       "      <th>5</th>\n",
       "      <td>1062900</td>\n",
       "      <td>03.12.2024 21:49</td>\n",
       "      <td>NaN</td>\n",
       "      <td>Frontend Development</td>\n",
       "      <td>Canceled</td>\n",
       "      <td>0.0</td>\n",
       "      <td>TERNOPIL</td>\n",
       "      <td>NaN</td>\n",
       "    </tr>\n",
       "    <tr>\n",
       "      <th>6</th>\n",
       "      <td>1062911</td>\n",
       "      <td>04.12.2024 13:12</td>\n",
       "      <td>NaN</td>\n",
       "      <td>Frontend Development</td>\n",
       "      <td>Canceled</td>\n",
       "      <td>0.0</td>\n",
       "      <td>Vinnytsia</td>\n",
       "      <td>NaN</td>\n",
       "    </tr>\n",
       "    <tr>\n",
       "      <th>7</th>\n",
       "      <td>1062914</td>\n",
       "      <td>04.12.2024 14:57</td>\n",
       "      <td>NaN</td>\n",
       "      <td>Frontend Development</td>\n",
       "      <td>Canceled</td>\n",
       "      <td>0.0</td>\n",
       "      <td>Vinnytsia</td>\n",
       "      <td>NaN</td>\n",
       "    </tr>\n",
       "    <tr>\n",
       "      <th>8</th>\n",
       "      <td>1062915</td>\n",
       "      <td>04.12.2024 16:08</td>\n",
       "      <td>NaN</td>\n",
       "      <td>AI Engineering</td>\n",
       "      <td>Canceled</td>\n",
       "      <td>0.0</td>\n",
       "      <td>Kharkiv</td>\n",
       "      <td>NaN</td>\n",
       "    </tr>\n",
       "    <tr>\n",
       "      <th>9</th>\n",
       "      <td>1062925</td>\n",
       "      <td>04.12.2024 21:51</td>\n",
       "      <td>NaN</td>\n",
       "      <td>AI Engineering</td>\n",
       "      <td>Canceled</td>\n",
       "      <td>0.0</td>\n",
       "      <td>Kovel</td>\n",
       "      <td>NaN</td>\n",
       "    </tr>\n",
       "  </tbody>\n",
       "</table>\n",
       "</div>"
      ],
      "text/plain": [
       "   transaction_id     creation_date      payment_date           course_title  \\\n",
       "0         1062823  01.12.2024 10:50  01.12.2024 10:52         AI Engineering   \n",
       "1         1062855  01.12.2024 20:53  01.12.2024 21:27         AI Engineering   \n",
       "2         1062856  01.12.2024 21:43               NaN  Python. Data analysis   \n",
       "3         1062880   03.12.2024 0:18               NaN   Frontend Development   \n",
       "4         1062899  03.12.2024 21:43               NaN         AI Engineering   \n",
       "5         1062900  03.12.2024 21:49               NaN   Frontend Development   \n",
       "6         1062911  04.12.2024 13:12               NaN   Frontend Development   \n",
       "7         1062914  04.12.2024 14:57               NaN   Frontend Development   \n",
       "8         1062915  04.12.2024 16:08               NaN         AI Engineering   \n",
       "9         1062925  04.12.2024 21:51               NaN         AI Engineering   \n",
       "\n",
       "      status   amount        city       payment_method  \n",
       "0  Completed  29597.5       Bucha  Банківський переказ  \n",
       "1  Completed  17450.3     Kharkiv           Google Pay  \n",
       "2   Canceled      0.0   Vinnytsia                  NaN  \n",
       "3   Canceled      0.0  Pervomaisk                  NaN  \n",
       "4   Canceled      0.0       Smila                  NaN  \n",
       "5   Canceled      0.0    TERNOPIL                  NaN  \n",
       "6   Canceled      0.0   Vinnytsia                  NaN  \n",
       "7   Canceled      0.0   Vinnytsia                  NaN  \n",
       "8   Canceled      0.0     Kharkiv                  NaN  \n",
       "9   Canceled      0.0       Kovel                  NaN  "
      ]
     },
     "execution_count": 33,
     "metadata": {},
     "output_type": "execute_result"
    }
   ],
   "source": [
    "df.head(10)"
   ]
  },
  {
   "cell_type": "markdown",
   "id": "2b09b292-147f-432a-a2a4-a066c679b0a7",
   "metadata": {},
   "source": [
    "- By position (iloc)"
   ]
  },
  {
   "cell_type": "code",
   "execution_count": 34,
   "id": "97192207-4bb1-4341-a6ae-daf653e3a4f4",
   "metadata": {},
   "outputs": [
    {
     "data": {
      "text/html": [
       "<div>\n",
       "<style scoped>\n",
       "    .dataframe tbody tr th:only-of-type {\n",
       "        vertical-align: middle;\n",
       "    }\n",
       "\n",
       "    .dataframe tbody tr th {\n",
       "        vertical-align: top;\n",
       "    }\n",
       "\n",
       "    .dataframe thead th {\n",
       "        text-align: right;\n",
       "    }\n",
       "</style>\n",
       "<table border=\"1\" class=\"dataframe\">\n",
       "  <thead>\n",
       "    <tr style=\"text-align: right;\">\n",
       "      <th></th>\n",
       "      <th>transaction_id</th>\n",
       "      <th>creation_date</th>\n",
       "      <th>payment_date</th>\n",
       "      <th>course_title</th>\n",
       "      <th>status</th>\n",
       "      <th>amount</th>\n",
       "      <th>city</th>\n",
       "      <th>payment_method</th>\n",
       "    </tr>\n",
       "  </thead>\n",
       "  <tbody>\n",
       "    <tr>\n",
       "      <th>5</th>\n",
       "      <td>1062900</td>\n",
       "      <td>03.12.2024 21:49</td>\n",
       "      <td>NaN</td>\n",
       "      <td>Frontend Development</td>\n",
       "      <td>Canceled</td>\n",
       "      <td>0.0</td>\n",
       "      <td>TERNOPIL</td>\n",
       "      <td>NaN</td>\n",
       "    </tr>\n",
       "    <tr>\n",
       "      <th>6</th>\n",
       "      <td>1062911</td>\n",
       "      <td>04.12.2024 13:12</td>\n",
       "      <td>NaN</td>\n",
       "      <td>Frontend Development</td>\n",
       "      <td>Canceled</td>\n",
       "      <td>0.0</td>\n",
       "      <td>Vinnytsia</td>\n",
       "      <td>NaN</td>\n",
       "    </tr>\n",
       "    <tr>\n",
       "      <th>7</th>\n",
       "      <td>1062914</td>\n",
       "      <td>04.12.2024 14:57</td>\n",
       "      <td>NaN</td>\n",
       "      <td>Frontend Development</td>\n",
       "      <td>Canceled</td>\n",
       "      <td>0.0</td>\n",
       "      <td>Vinnytsia</td>\n",
       "      <td>NaN</td>\n",
       "    </tr>\n",
       "    <tr>\n",
       "      <th>8</th>\n",
       "      <td>1062915</td>\n",
       "      <td>04.12.2024 16:08</td>\n",
       "      <td>NaN</td>\n",
       "      <td>AI Engineering</td>\n",
       "      <td>Canceled</td>\n",
       "      <td>0.0</td>\n",
       "      <td>Kharkiv</td>\n",
       "      <td>NaN</td>\n",
       "    </tr>\n",
       "    <tr>\n",
       "      <th>9</th>\n",
       "      <td>1062925</td>\n",
       "      <td>04.12.2024 21:51</td>\n",
       "      <td>NaN</td>\n",
       "      <td>AI Engineering</td>\n",
       "      <td>Canceled</td>\n",
       "      <td>0.0</td>\n",
       "      <td>Kovel</td>\n",
       "      <td>NaN</td>\n",
       "    </tr>\n",
       "    <tr>\n",
       "      <th>10</th>\n",
       "      <td>1062927</td>\n",
       "      <td>04.12.2024 22:02</td>\n",
       "      <td>NaN</td>\n",
       "      <td>Python. Data analysis</td>\n",
       "      <td>Canceled</td>\n",
       "      <td>0.0</td>\n",
       "      <td>NaN</td>\n",
       "      <td>NaN</td>\n",
       "    </tr>\n",
       "  </tbody>\n",
       "</table>\n",
       "</div>"
      ],
      "text/plain": [
       "    transaction_id     creation_date payment_date           course_title  \\\n",
       "5          1062900  03.12.2024 21:49          NaN   Frontend Development   \n",
       "6          1062911  04.12.2024 13:12          NaN   Frontend Development   \n",
       "7          1062914  04.12.2024 14:57          NaN   Frontend Development   \n",
       "8          1062915  04.12.2024 16:08          NaN         AI Engineering   \n",
       "9          1062925  04.12.2024 21:51          NaN         AI Engineering   \n",
       "10         1062927  04.12.2024 22:02          NaN  Python. Data analysis   \n",
       "\n",
       "      status  amount       city payment_method  \n",
       "5   Canceled     0.0   TERNOPIL            NaN  \n",
       "6   Canceled     0.0  Vinnytsia            NaN  \n",
       "7   Canceled     0.0  Vinnytsia            NaN  \n",
       "8   Canceled     0.0    Kharkiv            NaN  \n",
       "9   Canceled     0.0      Kovel            NaN  \n",
       "10  Canceled     0.0        NaN            NaN  "
      ]
     },
     "execution_count": 34,
     "metadata": {},
     "output_type": "execute_result"
    }
   ],
   "source": [
    "df.iloc[5:11]"
   ]
  },
  {
   "cell_type": "markdown",
   "id": "086e75c1-a0bc-4b70-980e-debbab977d9f",
   "metadata": {},
   "source": [
    "**Filtering Data**\n",
    "- Completed transactions only"
   ]
  },
  {
   "cell_type": "code",
   "execution_count": 39,
   "id": "095b4c5c-cf60-403a-a3f1-8bd7c9563242",
   "metadata": {},
   "outputs": [
    {
     "name": "stdout",
     "output_type": "stream",
     "text": [
      "     transaction_id     creation_date      payment_date  \\\n",
      "0           1062823  01.12.2024 10:50  01.12.2024 10:52   \n",
      "1           1062855  01.12.2024 20:53  01.12.2024 21:27   \n",
      "12          1062938  05.12.2024 12:07  22.12.2024 12:29   \n",
      "13          1062940  05.12.2024 15:35  05.12.2024 15:40   \n",
      "14          1062947  05.12.2024 21:39  07.12.2024 13:35   \n",
      "..              ...               ...               ...   \n",
      "286         1064712  29.12.2024 22:58  30.12.2024 10:56   \n",
      "287         1064720   30.12.2024 9:42  30.12.2024 12:49   \n",
      "289         1064775   31.12.2024 2:17   31.12.2024 2:22   \n",
      "290         1064793  31.12.2024 16:40  01.01.2020 14:29   \n",
      "291         1064796  31.12.2024 17:29  31.12.2024 17:32   \n",
      "\n",
      "               course_title     status    amount     city       payment_method  \n",
      "0            AI Engineering  Completed  29597.50    Bucha  Банківський переказ  \n",
      "1            AI Engineering  Completed  17450.30  Kharkiv           Google Pay  \n",
      "12     Frontend Development  Completed   8910.00     Lviv               PayPal  \n",
      "13         Machine Learning  Completed   9394.56      NaN               LiqPay  \n",
      "14     Frontend Development  Completed   5044.05     Sumy               LiqPay  \n",
      "..                      ...        ...       ...      ...                  ...  \n",
      "286   Python. Data analysis  Completed   3591.84     Sumy            WayForPay  \n",
      "287          Java Developer  Completed   2935.44    Irpin            Apple Pay  \n",
      "289    Frontend Development  Completed   7423.92  Kherson            Apple Pay  \n",
      "290          Java Developer  Completed   2935.44    Irpin           ПриватБанк  \n",
      "291  Python. Web-developer   Completed   9898.56     Sumy            Apple Pay  \n",
      "\n",
      "[180 rows x 8 columns]\n"
     ]
    }
   ],
   "source": [
    "completed = df[df['status'] == 'Completed']\n",
    "print(completed)"
   ]
  },
  {
   "cell_type": "markdown",
   "id": "39c4ed7c-4d96-4977-9f62-b43c9e965ce5",
   "metadata": {},
   "source": [
    "- High-value transactions (> 20,000)"
   ]
  },
  {
   "cell_type": "code",
   "execution_count": 40,
   "id": "a53d1c34-1093-4584-9cac-48ee121ec798",
   "metadata": {},
   "outputs": [
    {
     "name": "stdout",
     "output_type": "stream",
     "text": [
      "     transaction_id     creation_date      payment_date  \\\n",
      "0           1062823  01.12.2024 10:50  01.12.2024 10:52   \n",
      "16          1062949  05.12.2024 21:57   06.12.2024 9:15   \n",
      "21          1063014  08.12.2024 21:58  08.12.2024 23:51   \n",
      "37          1063251  14.12.2024 14:34  18.12.2024 13:11   \n",
      "46          1063333  16.12.2024 11:11  17.12.2024 13:42   \n",
      "50          1063391   17.12.2024 9:59  17.12.2024 10:01   \n",
      "234         1064053   23.12.2024 0:38   23.12.2024 0:42   \n",
      "270         1064553  27.12.2024 18:06  27.12.2024 18:09   \n",
      "\n",
      "              course_title     status   amount          city  \\\n",
      "0           AI Engineering  Completed  29597.5         Bucha   \n",
      "16          AI Engineering  Completed  29597.5         Irpin   \n",
      "21          AI Engineering  Completed  29597.5      Cherkasy   \n",
      "37          AI Engineering  Completed  42750.0       Kharkiv   \n",
      "46   Python. Data analysis  Completed  29695.7          Lviv   \n",
      "50   Python. Data analysis  Completed  29695.7       Kherson   \n",
      "234  Python. Data analysis  Completed  29695.7  ZAPORIZHZHIA   \n",
      "270  Python. Data analysis  Completed  29695.7  zAPORIZHZHIA   \n",
      "\n",
      "          payment_method  \n",
      "0    Банківський переказ  \n",
      "16              Монобанк  \n",
      "21                LiqPay  \n",
      "37             WayForPay  \n",
      "46            Google Pay  \n",
      "50                LiqPay  \n",
      "234             Монобанк  \n",
      "270           Google Pay  \n"
     ]
    }
   ],
   "source": [
    "high_value = df[df['amount'] > 20000]\n",
    "print(high_value)"
   ]
  },
  {
   "cell_type": "markdown",
   "id": "6ccfdaeb-364a-43ad-ad2e-d70296883af6",
   "metadata": {},
   "source": [
    "- Multiple conditions (use & for AND, | for OR)"
   ]
  },
  {
   "cell_type": "code",
   "execution_count": 41,
   "id": "203ef1cd-8169-4b65-8f8c-12849baf01d9",
   "metadata": {},
   "outputs": [
    {
     "name": "stdout",
     "output_type": "stream",
     "text": [
      "     transaction_id     creation_date      payment_date  \\\n",
      "0           1062823  01.12.2024 10:50  01.12.2024 10:52   \n",
      "16          1062949  05.12.2024 21:57   06.12.2024 9:15   \n",
      "21          1063014  08.12.2024 21:58  08.12.2024 23:51   \n",
      "37          1063251  14.12.2024 14:34  18.12.2024 13:11   \n",
      "46          1063333  16.12.2024 11:11  17.12.2024 13:42   \n",
      "50          1063391   17.12.2024 9:59  17.12.2024 10:01   \n",
      "234         1064053   23.12.2024 0:38   23.12.2024 0:42   \n",
      "270         1064553  27.12.2024 18:06  27.12.2024 18:09   \n",
      "\n",
      "              course_title     status   amount          city  \\\n",
      "0           AI Engineering  Completed  29597.5         Bucha   \n",
      "16          AI Engineering  Completed  29597.5         Irpin   \n",
      "21          AI Engineering  Completed  29597.5      Cherkasy   \n",
      "37          AI Engineering  Completed  42750.0       Kharkiv   \n",
      "46   Python. Data analysis  Completed  29695.7          Lviv   \n",
      "50   Python. Data analysis  Completed  29695.7       Kherson   \n",
      "234  Python. Data analysis  Completed  29695.7  ZAPORIZHZHIA   \n",
      "270  Python. Data analysis  Completed  29695.7  zAPORIZHZHIA   \n",
      "\n",
      "          payment_method  \n",
      "0    Банківський переказ  \n",
      "16              Монобанк  \n",
      "21                LiqPay  \n",
      "37             WayForPay  \n",
      "46            Google Pay  \n",
      "50                LiqPay  \n",
      "234             Монобанк  \n",
      "270           Google Pay  \n"
     ]
    }
   ],
   "source": [
    "completed_high_value = df[(df['status'] == 'Completed') & (df['amount'] > 20000)]\n",
    "print(completed_high_value)"
   ]
  },
  {
   "cell_type": "markdown",
   "id": "9cec237f-c8f9-4bfa-b35e-d39f20918010",
   "metadata": {},
   "source": [
    "- Filter by string contains (case sensitive)"
   ]
  },
  {
   "cell_type": "code",
   "execution_count": 42,
   "id": "6e0185f2-6fb5-41c7-985c-ee1b3e3386cb",
   "metadata": {},
   "outputs": [
    {
     "name": "stdout",
     "output_type": "stream",
     "text": [
      "     transaction_id     creation_date      payment_date    course_title  \\\n",
      "0           1062823  01.12.2024 10:50  01.12.2024 10:52  AI Engineering   \n",
      "1           1062855  01.12.2024 20:53  01.12.2024 21:27  AI Engineering   \n",
      "4           1062899  03.12.2024 21:43               NaN  AI Engineering   \n",
      "8           1062915  04.12.2024 16:08               NaN  AI Engineering   \n",
      "9           1062925  04.12.2024 21:51               NaN  AI Engineering   \n",
      "11          1062931  04.12.2024 23:11               NaN  AI Engineering   \n",
      "15          1062948  05.12.2024 21:56               NaN  AI Engineering   \n",
      "16          1062949  05.12.2024 21:57   06.12.2024 9:15  AI Engineering   \n",
      "21          1063014  08.12.2024 21:58  08.12.2024 23:51  AI Engineering   \n",
      "34          1063174  13.12.2024 13:30               NaN  AI Engineering   \n",
      "35          1063186  13.12.2024 15:30               NaN  AI Engineering   \n",
      "36          1063225   14.12.2024 0:26               NaN  AI Engineering   \n",
      "37          1063251  14.12.2024 14:34  18.12.2024 13:11  AI Engineering   \n",
      "39          1063282  14.12.2024 21:42               NaN  AI Engineering   \n",
      "48          1063367  16.12.2024 21:53               NaN  AI Engineering   \n",
      "51          1063419  17.12.2024 21:47               NaN  AI Engineering   \n",
      "223         1063847  20.12.2024 21:55               NaN  AI Engineering   \n",
      "240         1064123  23.12.2024 21:54               NaN  AI Engineering   \n",
      "243         1064143   24.12.2024 7:00               NaN  AI Engineering   \n",
      "248         1064349  25.12.2024 21:51               NaN  AI Engineering   \n",
      "260         1064432  26.12.2024 21:52               NaN  AI Engineering   \n",
      "271         1064576  27.12.2024 21:58               NaN  AI Engineering   \n",
      "\n",
      "        status   amount          city       payment_method  \n",
      "0    Completed  29597.5         Bucha  Банківський переказ  \n",
      "1    Completed  17450.3       Kharkiv           Google Pay  \n",
      "4     Canceled      0.0         Smila                  NaN  \n",
      "8     Canceled      0.0       Kharkiv                  NaN  \n",
      "9     Canceled      0.0         Kovel                  NaN  \n",
      "11    Canceled      0.0    Pervomaisk                  NaN  \n",
      "15    Canceled      0.0  OdesaDnipro                   NaN  \n",
      "16   Completed  29597.5         Irpin             Монобанк  \n",
      "21   Completed  29597.5      Cherkasy               LiqPay  \n",
      "34    Canceled      0.0       Kharkiv                  NaN  \n",
      "35    Canceled      0.0         Bucha                  NaN  \n",
      "36    Canceled      0.0         Smila                  NaN  \n",
      "37   Completed  42750.0       Kharkiv            WayForPay  \n",
      "39    Canceled      0.0      Zhytomyr                  NaN  \n",
      "48    Canceled      0.0    Pervomaisk                  NaN  \n",
      "51    Canceled      0.0         Kyiv                   NaN  \n",
      "223   Canceled      0.0          Sumy                  NaN  \n",
      "240   Canceled      0.0         lutsk                  NaN  \n",
      "243   Canceled      0.0      TERNOPIL                  NaN  \n",
      "248   Canceled      0.0      Uzhhorod                  NaN  \n",
      "260   Canceled      0.0         Smila                  NaN  \n",
      "271   Canceled      0.0          Sumy                  NaN  \n"
     ]
    }
   ],
   "source": [
    "ai_courses = df[df['course_title'].str.contains('AI Engineering', na=False)]\n",
    "print(ai_courses)"
   ]
  },
  {
   "cell_type": "markdown",
   "id": "874c3a46-8923-48a2-acbf-3cd228b1b6ac",
   "metadata": {},
   "source": [
    "### 5. Basic Data Operations\n",
    "\n",
    "**Adding Columns**\n",
    "- Calculate payment delay in days (for completed transactions)"
   ]
  },
  {
   "cell_type": "code",
   "execution_count": 50,
   "id": "4acd2ea0-a557-4d15-ba35-13d6a4096add",
   "metadata": {},
   "outputs": [
    {
     "data": {
      "text/html": [
       "<div>\n",
       "<style scoped>\n",
       "    .dataframe tbody tr th:only-of-type {\n",
       "        vertical-align: middle;\n",
       "    }\n",
       "\n",
       "    .dataframe tbody tr th {\n",
       "        vertical-align: top;\n",
       "    }\n",
       "\n",
       "    .dataframe thead th {\n",
       "        text-align: right;\n",
       "    }\n",
       "</style>\n",
       "<table border=\"1\" class=\"dataframe\">\n",
       "  <thead>\n",
       "    <tr style=\"text-align: right;\">\n",
       "      <th></th>\n",
       "      <th>transaction_id</th>\n",
       "      <th>creation_date</th>\n",
       "      <th>payment_date</th>\n",
       "      <th>course_title</th>\n",
       "      <th>status</th>\n",
       "      <th>amount</th>\n",
       "      <th>city</th>\n",
       "      <th>payment_method</th>\n",
       "      <th>payment_delay</th>\n",
       "    </tr>\n",
       "  </thead>\n",
       "  <tbody>\n",
       "    <tr>\n",
       "      <th>0</th>\n",
       "      <td>1062823</td>\n",
       "      <td>2024-12-01 10:50:00</td>\n",
       "      <td>2024-12-01 10:52:00</td>\n",
       "      <td>AI Engineering</td>\n",
       "      <td>Completed</td>\n",
       "      <td>29597.5</td>\n",
       "      <td>Bucha</td>\n",
       "      <td>Банківський переказ</td>\n",
       "      <td>0.0</td>\n",
       "    </tr>\n",
       "    <tr>\n",
       "      <th>1</th>\n",
       "      <td>1062855</td>\n",
       "      <td>2024-12-01 20:53:00</td>\n",
       "      <td>2024-12-01 21:27:00</td>\n",
       "      <td>AI Engineering</td>\n",
       "      <td>Completed</td>\n",
       "      <td>17450.3</td>\n",
       "      <td>Kharkiv</td>\n",
       "      <td>Google Pay</td>\n",
       "      <td>0.0</td>\n",
       "    </tr>\n",
       "    <tr>\n",
       "      <th>2</th>\n",
       "      <td>1062856</td>\n",
       "      <td>2024-12-01 21:43:00</td>\n",
       "      <td>NaT</td>\n",
       "      <td>Python. Data analysis</td>\n",
       "      <td>Canceled</td>\n",
       "      <td>0.0</td>\n",
       "      <td>Vinnytsia</td>\n",
       "      <td>NaN</td>\n",
       "      <td>NaN</td>\n",
       "    </tr>\n",
       "    <tr>\n",
       "      <th>3</th>\n",
       "      <td>1062880</td>\n",
       "      <td>2024-12-03 00:18:00</td>\n",
       "      <td>NaT</td>\n",
       "      <td>Frontend Development</td>\n",
       "      <td>Canceled</td>\n",
       "      <td>0.0</td>\n",
       "      <td>Pervomaisk</td>\n",
       "      <td>NaN</td>\n",
       "      <td>NaN</td>\n",
       "    </tr>\n",
       "    <tr>\n",
       "      <th>4</th>\n",
       "      <td>1062899</td>\n",
       "      <td>2024-12-03 21:43:00</td>\n",
       "      <td>NaT</td>\n",
       "      <td>AI Engineering</td>\n",
       "      <td>Canceled</td>\n",
       "      <td>0.0</td>\n",
       "      <td>Smila</td>\n",
       "      <td>NaN</td>\n",
       "      <td>NaN</td>\n",
       "    </tr>\n",
       "  </tbody>\n",
       "</table>\n",
       "</div>"
      ],
      "text/plain": [
       "   transaction_id       creation_date        payment_date  \\\n",
       "0         1062823 2024-12-01 10:50:00 2024-12-01 10:52:00   \n",
       "1         1062855 2024-12-01 20:53:00 2024-12-01 21:27:00   \n",
       "2         1062856 2024-12-01 21:43:00                 NaT   \n",
       "3         1062880 2024-12-03 00:18:00                 NaT   \n",
       "4         1062899 2024-12-03 21:43:00                 NaT   \n",
       "\n",
       "            course_title     status   amount        city       payment_method  \\\n",
       "0         AI Engineering  Completed  29597.5       Bucha  Банківський переказ   \n",
       "1         AI Engineering  Completed  17450.3     Kharkiv           Google Pay   \n",
       "2  Python. Data analysis   Canceled      0.0   Vinnytsia                  NaN   \n",
       "3   Frontend Development   Canceled      0.0  Pervomaisk                  NaN   \n",
       "4         AI Engineering   Canceled      0.0       Smila                  NaN   \n",
       "\n",
       "   payment_delay  \n",
       "0            0.0  \n",
       "1            0.0  \n",
       "2            NaN  \n",
       "3            NaN  \n",
       "4            NaN  "
      ]
     },
     "execution_count": 50,
     "metadata": {},
     "output_type": "execute_result"
    }
   ],
   "source": [
    "# Convert string dates to datetime first\n",
    "df['creation_date'] = pd.to_datetime(df['creation_date'], dayfirst=True)\n",
    "df['payment_date'] = pd.to_datetime(df['payment_date'], dayfirst=True, errors='coerce')\n",
    "\n",
    "# Now calculate payment delay (in days)\n",
    "df['payment_delay'] = (df['payment_date'] - df['creation_date']).dt.days\n",
    "\n",
    "df.head()"
   ]
  },
  {
   "cell_type": "markdown",
   "id": "68a4f2c3-d08c-4995-bba6-cd9667b74b79",
   "metadata": {},
   "source": [
    "**Create a binary column indicating high-value transactions**"
   ]
  },
  {
   "cell_type": "code",
   "execution_count": 51,
   "id": "0bc09963-08bc-4cf0-919f-7da73f86235f",
   "metadata": {},
   "outputs": [
    {
     "data": {
      "text/html": [
       "<div>\n",
       "<style scoped>\n",
       "    .dataframe tbody tr th:only-of-type {\n",
       "        vertical-align: middle;\n",
       "    }\n",
       "\n",
       "    .dataframe tbody tr th {\n",
       "        vertical-align: top;\n",
       "    }\n",
       "\n",
       "    .dataframe thead th {\n",
       "        text-align: right;\n",
       "    }\n",
       "</style>\n",
       "<table border=\"1\" class=\"dataframe\">\n",
       "  <thead>\n",
       "    <tr style=\"text-align: right;\">\n",
       "      <th></th>\n",
       "      <th>transaction_id</th>\n",
       "      <th>creation_date</th>\n",
       "      <th>payment_date</th>\n",
       "      <th>course_title</th>\n",
       "      <th>status</th>\n",
       "      <th>amount</th>\n",
       "      <th>city</th>\n",
       "      <th>payment_method</th>\n",
       "      <th>payment_delay</th>\n",
       "      <th>is_high_value</th>\n",
       "    </tr>\n",
       "  </thead>\n",
       "  <tbody>\n",
       "    <tr>\n",
       "      <th>0</th>\n",
       "      <td>1062823</td>\n",
       "      <td>2024-12-01 10:50:00</td>\n",
       "      <td>2024-12-01 10:52:00</td>\n",
       "      <td>AI Engineering</td>\n",
       "      <td>Completed</td>\n",
       "      <td>29597.5</td>\n",
       "      <td>Bucha</td>\n",
       "      <td>Банківський переказ</td>\n",
       "      <td>0.0</td>\n",
       "      <td>True</td>\n",
       "    </tr>\n",
       "    <tr>\n",
       "      <th>1</th>\n",
       "      <td>1062855</td>\n",
       "      <td>2024-12-01 20:53:00</td>\n",
       "      <td>2024-12-01 21:27:00</td>\n",
       "      <td>AI Engineering</td>\n",
       "      <td>Completed</td>\n",
       "      <td>17450.3</td>\n",
       "      <td>Kharkiv</td>\n",
       "      <td>Google Pay</td>\n",
       "      <td>0.0</td>\n",
       "      <td>False</td>\n",
       "    </tr>\n",
       "    <tr>\n",
       "      <th>2</th>\n",
       "      <td>1062856</td>\n",
       "      <td>2024-12-01 21:43:00</td>\n",
       "      <td>NaT</td>\n",
       "      <td>Python. Data analysis</td>\n",
       "      <td>Canceled</td>\n",
       "      <td>0.0</td>\n",
       "      <td>Vinnytsia</td>\n",
       "      <td>NaN</td>\n",
       "      <td>NaN</td>\n",
       "      <td>False</td>\n",
       "    </tr>\n",
       "    <tr>\n",
       "      <th>3</th>\n",
       "      <td>1062880</td>\n",
       "      <td>2024-12-03 00:18:00</td>\n",
       "      <td>NaT</td>\n",
       "      <td>Frontend Development</td>\n",
       "      <td>Canceled</td>\n",
       "      <td>0.0</td>\n",
       "      <td>Pervomaisk</td>\n",
       "      <td>NaN</td>\n",
       "      <td>NaN</td>\n",
       "      <td>False</td>\n",
       "    </tr>\n",
       "    <tr>\n",
       "      <th>4</th>\n",
       "      <td>1062899</td>\n",
       "      <td>2024-12-03 21:43:00</td>\n",
       "      <td>NaT</td>\n",
       "      <td>AI Engineering</td>\n",
       "      <td>Canceled</td>\n",
       "      <td>0.0</td>\n",
       "      <td>Smila</td>\n",
       "      <td>NaN</td>\n",
       "      <td>NaN</td>\n",
       "      <td>False</td>\n",
       "    </tr>\n",
       "  </tbody>\n",
       "</table>\n",
       "</div>"
      ],
      "text/plain": [
       "   transaction_id       creation_date        payment_date  \\\n",
       "0         1062823 2024-12-01 10:50:00 2024-12-01 10:52:00   \n",
       "1         1062855 2024-12-01 20:53:00 2024-12-01 21:27:00   \n",
       "2         1062856 2024-12-01 21:43:00                 NaT   \n",
       "3         1062880 2024-12-03 00:18:00                 NaT   \n",
       "4         1062899 2024-12-03 21:43:00                 NaT   \n",
       "\n",
       "            course_title     status   amount        city       payment_method  \\\n",
       "0         AI Engineering  Completed  29597.5       Bucha  Банківський переказ   \n",
       "1         AI Engineering  Completed  17450.3     Kharkiv           Google Pay   \n",
       "2  Python. Data analysis   Canceled      0.0   Vinnytsia                  NaN   \n",
       "3   Frontend Development   Canceled      0.0  Pervomaisk                  NaN   \n",
       "4         AI Engineering   Canceled      0.0       Smila                  NaN   \n",
       "\n",
       "   payment_delay  is_high_value  \n",
       "0            0.0           True  \n",
       "1            0.0          False  \n",
       "2            NaN          False  \n",
       "3            NaN          False  \n",
       "4            NaN          False  "
      ]
     },
     "execution_count": 51,
     "metadata": {},
     "output_type": "execute_result"
    }
   ],
   "source": [
    "df['is_high_value'] = df['amount'] > 20000\n",
    "df.head()"
   ]
  },
  {
   "cell_type": "markdown",
   "id": "44ff109b-8f79-48a5-9c0c-1731ea8e0314",
   "metadata": {},
   "source": [
    "**Removing Columns**\n",
    "- Drop the temporary column we created"
   ]
  },
  {
   "cell_type": "code",
   "execution_count": 52,
   "id": "bad879ce-7da5-46c5-9a45-5ad600216351",
   "metadata": {},
   "outputs": [
    {
     "data": {
      "text/html": [
       "<div>\n",
       "<style scoped>\n",
       "    .dataframe tbody tr th:only-of-type {\n",
       "        vertical-align: middle;\n",
       "    }\n",
       "\n",
       "    .dataframe tbody tr th {\n",
       "        vertical-align: top;\n",
       "    }\n",
       "\n",
       "    .dataframe thead th {\n",
       "        text-align: right;\n",
       "    }\n",
       "</style>\n",
       "<table border=\"1\" class=\"dataframe\">\n",
       "  <thead>\n",
       "    <tr style=\"text-align: right;\">\n",
       "      <th></th>\n",
       "      <th>transaction_id</th>\n",
       "      <th>creation_date</th>\n",
       "      <th>payment_date</th>\n",
       "      <th>course_title</th>\n",
       "      <th>status</th>\n",
       "      <th>amount</th>\n",
       "      <th>city</th>\n",
       "      <th>payment_method</th>\n",
       "      <th>payment_delay</th>\n",
       "    </tr>\n",
       "  </thead>\n",
       "  <tbody>\n",
       "    <tr>\n",
       "      <th>0</th>\n",
       "      <td>1062823</td>\n",
       "      <td>2024-12-01 10:50:00</td>\n",
       "      <td>2024-12-01 10:52:00</td>\n",
       "      <td>AI Engineering</td>\n",
       "      <td>Completed</td>\n",
       "      <td>29597.5</td>\n",
       "      <td>Bucha</td>\n",
       "      <td>Банківський переказ</td>\n",
       "      <td>0.0</td>\n",
       "    </tr>\n",
       "    <tr>\n",
       "      <th>1</th>\n",
       "      <td>1062855</td>\n",
       "      <td>2024-12-01 20:53:00</td>\n",
       "      <td>2024-12-01 21:27:00</td>\n",
       "      <td>AI Engineering</td>\n",
       "      <td>Completed</td>\n",
       "      <td>17450.3</td>\n",
       "      <td>Kharkiv</td>\n",
       "      <td>Google Pay</td>\n",
       "      <td>0.0</td>\n",
       "    </tr>\n",
       "    <tr>\n",
       "      <th>2</th>\n",
       "      <td>1062856</td>\n",
       "      <td>2024-12-01 21:43:00</td>\n",
       "      <td>NaT</td>\n",
       "      <td>Python. Data analysis</td>\n",
       "      <td>Canceled</td>\n",
       "      <td>0.0</td>\n",
       "      <td>Vinnytsia</td>\n",
       "      <td>NaN</td>\n",
       "      <td>NaN</td>\n",
       "    </tr>\n",
       "    <tr>\n",
       "      <th>3</th>\n",
       "      <td>1062880</td>\n",
       "      <td>2024-12-03 00:18:00</td>\n",
       "      <td>NaT</td>\n",
       "      <td>Frontend Development</td>\n",
       "      <td>Canceled</td>\n",
       "      <td>0.0</td>\n",
       "      <td>Pervomaisk</td>\n",
       "      <td>NaN</td>\n",
       "      <td>NaN</td>\n",
       "    </tr>\n",
       "    <tr>\n",
       "      <th>4</th>\n",
       "      <td>1062899</td>\n",
       "      <td>2024-12-03 21:43:00</td>\n",
       "      <td>NaT</td>\n",
       "      <td>AI Engineering</td>\n",
       "      <td>Canceled</td>\n",
       "      <td>0.0</td>\n",
       "      <td>Smila</td>\n",
       "      <td>NaN</td>\n",
       "      <td>NaN</td>\n",
       "    </tr>\n",
       "  </tbody>\n",
       "</table>\n",
       "</div>"
      ],
      "text/plain": [
       "   transaction_id       creation_date        payment_date  \\\n",
       "0         1062823 2024-12-01 10:50:00 2024-12-01 10:52:00   \n",
       "1         1062855 2024-12-01 20:53:00 2024-12-01 21:27:00   \n",
       "2         1062856 2024-12-01 21:43:00                 NaT   \n",
       "3         1062880 2024-12-03 00:18:00                 NaT   \n",
       "4         1062899 2024-12-03 21:43:00                 NaT   \n",
       "\n",
       "            course_title     status   amount        city       payment_method  \\\n",
       "0         AI Engineering  Completed  29597.5       Bucha  Банківський переказ   \n",
       "1         AI Engineering  Completed  17450.3     Kharkiv           Google Pay   \n",
       "2  Python. Data analysis   Canceled      0.0   Vinnytsia                  NaN   \n",
       "3   Frontend Development   Canceled      0.0  Pervomaisk                  NaN   \n",
       "4         AI Engineering   Canceled      0.0       Smila                  NaN   \n",
       "\n",
       "   payment_delay  \n",
       "0            0.0  \n",
       "1            0.0  \n",
       "2            NaN  \n",
       "3            NaN  \n",
       "4            NaN  "
      ]
     },
     "execution_count": 52,
     "metadata": {},
     "output_type": "execute_result"
    }
   ],
   "source": [
    "df = df.drop(columns=['is_high_value'])\n",
    "df.head()"
   ]
  },
  {
   "cell_type": "markdown",
   "id": "1eef9b4e-c622-4b56-999c-763b5e2272f1",
   "metadata": {},
   "source": [
    "**Sorting Data**\n",
    "- Sort by amount (descending)"
   ]
  },
  {
   "cell_type": "code",
   "execution_count": 54,
   "id": "5bb35455-d605-4e3e-a009-25edc1cd2b2d",
   "metadata": {},
   "outputs": [
    {
     "data": {
      "text/html": [
       "<div>\n",
       "<style scoped>\n",
       "    .dataframe tbody tr th:only-of-type {\n",
       "        vertical-align: middle;\n",
       "    }\n",
       "\n",
       "    .dataframe tbody tr th {\n",
       "        vertical-align: top;\n",
       "    }\n",
       "\n",
       "    .dataframe thead th {\n",
       "        text-align: right;\n",
       "    }\n",
       "</style>\n",
       "<table border=\"1\" class=\"dataframe\">\n",
       "  <thead>\n",
       "    <tr style=\"text-align: right;\">\n",
       "      <th></th>\n",
       "      <th>transaction_id</th>\n",
       "      <th>creation_date</th>\n",
       "      <th>payment_date</th>\n",
       "      <th>course_title</th>\n",
       "      <th>status</th>\n",
       "      <th>amount</th>\n",
       "      <th>city</th>\n",
       "      <th>payment_method</th>\n",
       "      <th>payment_delay</th>\n",
       "    </tr>\n",
       "  </thead>\n",
       "  <tbody>\n",
       "    <tr>\n",
       "      <th>37</th>\n",
       "      <td>1063251</td>\n",
       "      <td>2024-12-14 14:34:00</td>\n",
       "      <td>2024-12-18 13:11:00</td>\n",
       "      <td>AI Engineering</td>\n",
       "      <td>Completed</td>\n",
       "      <td>42750.0</td>\n",
       "      <td>Kharkiv</td>\n",
       "      <td>WayForPay</td>\n",
       "      <td>3.0</td>\n",
       "    </tr>\n",
       "    <tr>\n",
       "      <th>46</th>\n",
       "      <td>1063333</td>\n",
       "      <td>2024-12-16 11:11:00</td>\n",
       "      <td>2024-12-17 13:42:00</td>\n",
       "      <td>Python. Data analysis</td>\n",
       "      <td>Completed</td>\n",
       "      <td>29695.7</td>\n",
       "      <td>Lviv</td>\n",
       "      <td>Google Pay</td>\n",
       "      <td>1.0</td>\n",
       "    </tr>\n",
       "    <tr>\n",
       "      <th>270</th>\n",
       "      <td>1064553</td>\n",
       "      <td>2024-12-27 18:06:00</td>\n",
       "      <td>2024-12-27 18:09:00</td>\n",
       "      <td>Python. Data analysis</td>\n",
       "      <td>Completed</td>\n",
       "      <td>29695.7</td>\n",
       "      <td>zAPORIZHZHIA</td>\n",
       "      <td>Google Pay</td>\n",
       "      <td>0.0</td>\n",
       "    </tr>\n",
       "    <tr>\n",
       "      <th>234</th>\n",
       "      <td>1064053</td>\n",
       "      <td>2024-12-23 00:38:00</td>\n",
       "      <td>2024-12-23 00:42:00</td>\n",
       "      <td>Python. Data analysis</td>\n",
       "      <td>Completed</td>\n",
       "      <td>29695.7</td>\n",
       "      <td>ZAPORIZHZHIA</td>\n",
       "      <td>Монобанк</td>\n",
       "      <td>0.0</td>\n",
       "    </tr>\n",
       "    <tr>\n",
       "      <th>50</th>\n",
       "      <td>1063391</td>\n",
       "      <td>2024-12-17 09:59:00</td>\n",
       "      <td>2024-12-17 10:01:00</td>\n",
       "      <td>Python. Data analysis</td>\n",
       "      <td>Completed</td>\n",
       "      <td>29695.7</td>\n",
       "      <td>Kherson</td>\n",
       "      <td>LiqPay</td>\n",
       "      <td>0.0</td>\n",
       "    </tr>\n",
       "  </tbody>\n",
       "</table>\n",
       "</div>"
      ],
      "text/plain": [
       "     transaction_id       creation_date        payment_date  \\\n",
       "37          1063251 2024-12-14 14:34:00 2024-12-18 13:11:00   \n",
       "46          1063333 2024-12-16 11:11:00 2024-12-17 13:42:00   \n",
       "270         1064553 2024-12-27 18:06:00 2024-12-27 18:09:00   \n",
       "234         1064053 2024-12-23 00:38:00 2024-12-23 00:42:00   \n",
       "50          1063391 2024-12-17 09:59:00 2024-12-17 10:01:00   \n",
       "\n",
       "              course_title     status   amount          city payment_method  \\\n",
       "37          AI Engineering  Completed  42750.0       Kharkiv      WayForPay   \n",
       "46   Python. Data analysis  Completed  29695.7          Lviv     Google Pay   \n",
       "270  Python. Data analysis  Completed  29695.7  zAPORIZHZHIA     Google Pay   \n",
       "234  Python. Data analysis  Completed  29695.7  ZAPORIZHZHIA       Монобанк   \n",
       "50   Python. Data analysis  Completed  29695.7       Kherson         LiqPay   \n",
       "\n",
       "     payment_delay  \n",
       "37             3.0  \n",
       "46             1.0  \n",
       "270            0.0  \n",
       "234            0.0  \n",
       "50             0.0  "
      ]
     },
     "execution_count": 54,
     "metadata": {},
     "output_type": "execute_result"
    }
   ],
   "source": [
    "df_sorted = df.sort_values('amount', ascending=False)\n",
    "df_sorted.head()"
   ]
  },
  {
   "cell_type": "markdown",
   "id": "26b333af-9a8e-4e09-9540-0e023454b959",
   "metadata": {},
   "source": [
    "- Multi-column sort"
   ]
  },
  {
   "cell_type": "code",
   "execution_count": 55,
   "id": "03a8a9f0-279f-4e85-a671-7e3ca4bca16f",
   "metadata": {},
   "outputs": [
    {
     "data": {
      "text/html": [
       "<div>\n",
       "<style scoped>\n",
       "    .dataframe tbody tr th:only-of-type {\n",
       "        vertical-align: middle;\n",
       "    }\n",
       "\n",
       "    .dataframe tbody tr th {\n",
       "        vertical-align: top;\n",
       "    }\n",
       "\n",
       "    .dataframe thead th {\n",
       "        text-align: right;\n",
       "    }\n",
       "</style>\n",
       "<table border=\"1\" class=\"dataframe\">\n",
       "  <thead>\n",
       "    <tr style=\"text-align: right;\">\n",
       "      <th></th>\n",
       "      <th>transaction_id</th>\n",
       "      <th>creation_date</th>\n",
       "      <th>payment_date</th>\n",
       "      <th>course_title</th>\n",
       "      <th>status</th>\n",
       "      <th>amount</th>\n",
       "      <th>city</th>\n",
       "      <th>payment_method</th>\n",
       "      <th>payment_delay</th>\n",
       "    </tr>\n",
       "  </thead>\n",
       "  <tbody>\n",
       "    <tr>\n",
       "      <th>2</th>\n",
       "      <td>1062856</td>\n",
       "      <td>2024-12-01 21:43:00</td>\n",
       "      <td>NaT</td>\n",
       "      <td>Python. Data analysis</td>\n",
       "      <td>Canceled</td>\n",
       "      <td>0.0</td>\n",
       "      <td>Vinnytsia</td>\n",
       "      <td>NaN</td>\n",
       "      <td>NaN</td>\n",
       "    </tr>\n",
       "    <tr>\n",
       "      <th>3</th>\n",
       "      <td>1062880</td>\n",
       "      <td>2024-12-03 00:18:00</td>\n",
       "      <td>NaT</td>\n",
       "      <td>Frontend Development</td>\n",
       "      <td>Canceled</td>\n",
       "      <td>0.0</td>\n",
       "      <td>Pervomaisk</td>\n",
       "      <td>NaN</td>\n",
       "      <td>NaN</td>\n",
       "    </tr>\n",
       "    <tr>\n",
       "      <th>4</th>\n",
       "      <td>1062899</td>\n",
       "      <td>2024-12-03 21:43:00</td>\n",
       "      <td>NaT</td>\n",
       "      <td>AI Engineering</td>\n",
       "      <td>Canceled</td>\n",
       "      <td>0.0</td>\n",
       "      <td>Smila</td>\n",
       "      <td>NaN</td>\n",
       "      <td>NaN</td>\n",
       "    </tr>\n",
       "    <tr>\n",
       "      <th>5</th>\n",
       "      <td>1062900</td>\n",
       "      <td>2024-12-03 21:49:00</td>\n",
       "      <td>NaT</td>\n",
       "      <td>Frontend Development</td>\n",
       "      <td>Canceled</td>\n",
       "      <td>0.0</td>\n",
       "      <td>TERNOPIL</td>\n",
       "      <td>NaN</td>\n",
       "      <td>NaN</td>\n",
       "    </tr>\n",
       "    <tr>\n",
       "      <th>6</th>\n",
       "      <td>1062911</td>\n",
       "      <td>2024-12-04 13:12:00</td>\n",
       "      <td>NaT</td>\n",
       "      <td>Frontend Development</td>\n",
       "      <td>Canceled</td>\n",
       "      <td>0.0</td>\n",
       "      <td>Vinnytsia</td>\n",
       "      <td>NaN</td>\n",
       "      <td>NaN</td>\n",
       "    </tr>\n",
       "  </tbody>\n",
       "</table>\n",
       "</div>"
      ],
      "text/plain": [
       "   transaction_id       creation_date payment_date           course_title  \\\n",
       "2         1062856 2024-12-01 21:43:00          NaT  Python. Data analysis   \n",
       "3         1062880 2024-12-03 00:18:00          NaT   Frontend Development   \n",
       "4         1062899 2024-12-03 21:43:00          NaT         AI Engineering   \n",
       "5         1062900 2024-12-03 21:49:00          NaT   Frontend Development   \n",
       "6         1062911 2024-12-04 13:12:00          NaT   Frontend Development   \n",
       "\n",
       "     status  amount        city payment_method  payment_delay  \n",
       "2  Canceled     0.0   Vinnytsia            NaN            NaN  \n",
       "3  Canceled     0.0  Pervomaisk            NaN            NaN  \n",
       "4  Canceled     0.0       Smila            NaN            NaN  \n",
       "5  Canceled     0.0    TERNOPIL            NaN            NaN  \n",
       "6  Canceled     0.0   Vinnytsia            NaN            NaN  "
      ]
     },
     "execution_count": 55,
     "metadata": {},
     "output_type": "execute_result"
    }
   ],
   "source": [
    "df_sorted_multi = df.sort_values(['status', 'amount'], ascending=[True, False])\n",
    "df_sorted_multi.head()"
   ]
  },
  {
   "cell_type": "markdown",
   "id": "3c11aa46-eb60-40a7-8c81-b42b0b620639",
   "metadata": {},
   "source": [
    "### Additional Important Initial Analysis Steps\n",
    "**Checking for Missing Values**"
   ]
  },
  {
   "cell_type": "code",
   "execution_count": 57,
   "id": "b443ea34-4f95-4858-a758-68aec3e27e5e",
   "metadata": {},
   "outputs": [
    {
     "name": "stdout",
     "output_type": "stream",
     "text": [
      "\n",
      "Missing values per column:\n",
      "transaction_id      0\n",
      "creation_date       0\n",
      "payment_date      112\n",
      "course_title        0\n",
      "status              1\n",
      "amount              0\n",
      "city               26\n",
      "payment_method    112\n",
      "payment_delay     112\n",
      "dtype: int64\n"
     ]
    }
   ],
   "source": [
    "print(\"\\nMissing values per column:\")\n",
    "print(df.isnull().sum())"
   ]
  },
  {
   "cell_type": "markdown",
   "id": "f841cd98-4da9-4900-bfa8-c3ac07c5704b",
   "metadata": {},
   "source": [
    "**Examining Unique Values**"
   ]
  },
  {
   "cell_type": "code",
   "execution_count": 58,
   "id": "4dba5fc4-71d7-4f2b-9af6-2501680c69ec",
   "metadata": {},
   "outputs": [
    {
     "name": "stdout",
     "output_type": "stream",
     "text": [
      "\n",
      "Unique status values: ['Completed' 'Canceled' 'Pending payment' nan 'Partially paid']\n",
      "Unique course titles: ['AI Engineering' 'Python. Data analysis' 'Frontend Development'\n",
      " 'Machine Learning' 'Python. Web-developer ' 'Java Developer']\n"
     ]
    }
   ],
   "source": [
    "print(\"\\nUnique status values:\", df['status'].unique())\n",
    "print(\"Unique course titles:\", df['course_title'].unique())"
   ]
  },
  {
   "cell_type": "markdown",
   "id": "9091778f-8d04-4fec-9594-86e98aa56a6e",
   "metadata": {},
   "source": [
    "**Data Quality Checks**\n",
    "- Check for inconsistent city names (case sensitivity, whitespace)"
   ]
  },
  {
   "cell_type": "code",
   "execution_count": 59,
   "id": "ff150fc0-cbe5-4818-b991-a64a4646539d",
   "metadata": {},
   "outputs": [
    {
     "name": "stdout",
     "output_type": "stream",
     "text": [
      "\n",
      "Sample city names: ['Bucha' 'Kharkiv' 'Vinnytsia' 'Pervomaisk' 'Smila' 'TERNOPIL' 'Kovel' nan\n",
      " 'Lviv' 'Sumy']\n"
     ]
    }
   ],
   "source": [
    "print(\"\\nSample city names:\", df['city'].str.strip().unique()[:10])"
   ]
  },
  {
   "cell_type": "markdown",
   "id": "8a90b5ce-2bf6-4a9e-b402-dca4757f3a05",
   "metadata": {},
   "source": [
    "- Value Counts (useful for categorical data)"
   ]
  },
  {
   "cell_type": "code",
   "execution_count": 60,
   "id": "fe3ff958-863e-4d91-8198-94cf9b2c0262",
   "metadata": {},
   "outputs": [
    {
     "name": "stdout",
     "output_type": "stream",
     "text": [
      "\n",
      "Payment method distribution:\n",
      "payment_method\n",
      "PayPal                 29\n",
      "Монобанк               21\n",
      "Apple Pay              21\n",
      "Google Pay             20\n",
      "Банківський переказ    19\n",
      "WayForPay              19\n",
      "LiqPay                 17\n",
      "ПриватБанк             13\n",
      "Готівка                11\n",
      "Portmone               10\n",
      "Name: count, dtype: int64\n"
     ]
    }
   ],
   "source": [
    "print(\"\\nPayment method distribution:\")\n",
    "print(df['payment_method'].value_counts())"
   ]
  },
  {
   "cell_type": "markdown",
   "id": "6d0f363b-eb8f-45d5-81c7-01c3a99de77b",
   "metadata": {},
   "source": [
    "- Cross-tabulation (relationship between two categorical variables)"
   ]
  },
  {
   "cell_type": "code",
   "execution_count": 61,
   "id": "6ae0dd1c-48b3-4f3a-8039-17a87af286f1",
   "metadata": {},
   "outputs": [
    {
     "name": "stdout",
     "output_type": "stream",
     "text": [
      "\n",
      "Course vs Status:\n",
      "status                  Canceled  Completed  Partially paid  Pending payment\n",
      "course_title                                                                \n",
      "AI Engineering                17          5               0                0\n",
      "Frontend Development          21         31               0                0\n",
      "Java Developer                55        125               0                1\n",
      "Machine Learning               5          3               1                0\n",
      "Python. Data analysis          5          7               0                0\n",
      "Python. Web-developer          5          9               1                0\n"
     ]
    }
   ],
   "source": [
    "print(\"\\nCourse vs Status:\")\n",
    "print(pd.crosstab(df['course_title'], df['status']))"
   ]
  },
  {
   "cell_type": "markdown",
   "id": "425a7c2c-43c6-44ba-b126-33085de2ae4a",
   "metadata": {},
   "source": [
    "**Handling Text Data**\n",
    "- Clean city names (remove extra spaces, standardize case)"
   ]
  },
  {
   "cell_type": "code",
   "execution_count": 62,
   "id": "45f3b27e-f120-43e7-9e06-15de9edb6dfe",
   "metadata": {},
   "outputs": [],
   "source": [
    "df['city'] = df['city'].str.strip().str.title()"
   ]
  },
  {
   "cell_type": "markdown",
   "id": "31fa132f-259e-4b38-bb6c-6ccfc07a8b2f",
   "metadata": {},
   "source": [
    "- Extract year/month from dates for temporal analysis"
   ]
  },
  {
   "cell_type": "code",
   "execution_count": 63,
   "id": "9a9e7d6c-2cbb-4bf9-b378-81f0ac340d8c",
   "metadata": {},
   "outputs": [],
   "source": [
    "df['creation_year'] = df['creation_date'].dt.year\n",
    "df['creation_month'] = df['creation_date'].dt.month"
   ]
  },
  {
   "cell_type": "markdown",
   "id": "94ce6fc6-fb5e-4241-ae26-2e114478cfe0",
   "metadata": {},
   "source": [
    "### Initial Observations:\n",
    "\n",
    "1. **Data Structure Preview**:\n",
    "   - The dataset contains transaction records with columns like `Number`, `Creation Date`, `Payment Date`, `Title`, `Status`, `Money Amount`, `City`, and `Payment System`.\n",
    "   - Mixed data types are visible at a glance (dates, numbers, text).\n",
    "\n",
    "2. **Missing Values**:\n",
    "   - `Date when pay` is empty for canceled transactions (e.g., rows 3-7 in head).\n",
    "   - `Money amount` shows `0` for canceled transactions.\n",
    "   - Some `City` and `Payment System` fields are empty (e.g., row 11 in head).\n",
    "\n",
    "3. **Status Patterns**:\n",
    "   - `Completed` status correlates with:\n",
    "     - Filled payment dates\n",
    "     - Positive money amounts\n",
    "     - Specified payment methods\n",
    "   - `Canceled` status shows:\n",
    "     - Empty payment dates\n",
    "     - Zero amounts\n",
    "     - Often missing payment methods\n",
    "\n",
    "4. **Data Quality Indicators**:\n",
    "   - Inconsistent city name formatting:\n",
    "     - Mixed case (e.g., \"TERNOPIL\" vs \"Vinnytsia\")\n",
    "     - Trailing spaces (e.g., \" Lviv\" vs \"Lviv\")\n",
    "     - Combined city names (\"OdesaDnipro\")\n",
    "   - Payment method names use different languages (Ukrainian and English)\n",
    "\n",
    "5. **Temporal Patterns**:\n",
    "   - Transactions span December 2024 (based on creation dates)\n",
    "   - Payment delays vary (e.g., row 1 shows 2-minute delay, while row 14 shows 17-day delay)\n",
    "\n",
    "6. **Business Context Clues**:\n",
    "   - Course titles suggest an educational platform (\"AI Engineering\", \"Frontend Development\", etc.)\n",
    "   - Payment amounts vary significantly (from 1.0 to 42750.0)\n",
    "   - Multiple payment systems are supported (Google Pay, PayPal, bank transfers)\n",
    "\n",
    "7. **Potential Anomalies**:\n",
    "   - Very small payments (1.0) in rows 28-34 might represent test transactions\n",
    "   - Some payment dates (e.g., \"01.01.2020\" in last row) appear inconsistent with creation dates\n",
    "\n",
    "**Key Questions for Further Investigation**:\n",
    "- Why do some completed transactions have payment dates before creation dates?\n",
    "- Should city names be standardized (case, spacing)?\n",
    "- Are the 1.0 payments valid or system artifacts?\n",
    "- What explains the extreme payment amount range?\n",
    "\n",
    "This initial inspection reveals both the dataset's structure and immediate data quality considerations that would need addressing before deeper analysis."
   ]
  },
  {
   "cell_type": "code",
   "execution_count": null,
   "id": "817578da-9ed3-49fa-b725-b2583de213e1",
   "metadata": {},
   "outputs": [],
   "source": []
  }
 ],
 "metadata": {
  "kernelspec": {
   "display_name": "Python 3 (ipykernel)",
   "language": "python",
   "name": "python3"
  },
  "language_info": {
   "codemirror_mode": {
    "name": "ipython",
    "version": 3
   },
   "file_extension": ".py",
   "mimetype": "text/x-python",
   "name": "python",
   "nbconvert_exporter": "python",
   "pygments_lexer": "ipython3",
   "version": "3.13.2"
  }
 },
 "nbformat": 4,
 "nbformat_minor": 5
}
