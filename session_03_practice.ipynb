{
  "cells": [
    {
      "cell_type": "markdown",
      "metadata": {
        "id": "view-in-github",
        "colab_type": "text"
      },
      "source": [
        "<a href=\"https://colab.research.google.com/github/cpython-projects/da_vn/blob/main/session_03_practice.ipynb\" target=\"_parent\"><img src=\"https://colab.research.google.com/assets/colab-badge.svg\" alt=\"Open In Colab\"/></a>"
      ]
    },
    {
      "cell_type": "code",
      "execution_count": 1,
      "id": "81829e75-0d37-4f7a-a924-c2f0bbf6c0a1",
      "metadata": {
        "id": "81829e75-0d37-4f7a-a924-c2f0bbf6c0a1",
        "outputId": "a7a76b20-cad2-4082-b350-a7a62cff544c",
        "colab": {
          "base_uri": "https://localhost:8080/",
          "height": 422
        }
      },
      "outputs": [
        {
          "output_type": "stream",
          "name": "stdout",
          "text": [
            "Requirement already satisfied: pandas in /usr/local/lib/python3.11/dist-packages (2.2.2)\n",
            "Collecting pandas\n",
            "  Downloading pandas-2.2.3-cp311-cp311-manylinux_2_17_x86_64.manylinux2014_x86_64.whl.metadata (89 kB)\n",
            "\u001b[2K     \u001b[90m━━━━━━━━━━━━━━━━━━━━━━━━━━━━━━━━━━━━━━━━\u001b[0m \u001b[32m89.9/89.9 kB\u001b[0m \u001b[31m1.5 MB/s\u001b[0m eta \u001b[36m0:00:00\u001b[0m\n",
            "\u001b[?25hRequirement already satisfied: numpy>=1.23.2 in /usr/local/lib/python3.11/dist-packages (from pandas) (2.0.2)\n",
            "Requirement already satisfied: python-dateutil>=2.8.2 in /usr/local/lib/python3.11/dist-packages (from pandas) (2.8.2)\n",
            "Requirement already satisfied: pytz>=2020.1 in /usr/local/lib/python3.11/dist-packages (from pandas) (2025.2)\n",
            "Requirement already satisfied: tzdata>=2022.7 in /usr/local/lib/python3.11/dist-packages (from pandas) (2025.2)\n",
            "Requirement already satisfied: six>=1.5 in /usr/local/lib/python3.11/dist-packages (from python-dateutil>=2.8.2->pandas) (1.17.0)\n",
            "Downloading pandas-2.2.3-cp311-cp311-manylinux_2_17_x86_64.manylinux2014_x86_64.whl (13.1 MB)\n",
            "\u001b[2K   \u001b[90m━━━━━━━━━━━━━━━━━━━━━━━━━━━━━━━━━━━━━━━━\u001b[0m \u001b[32m13.1/13.1 MB\u001b[0m \u001b[31m26.0 MB/s\u001b[0m eta \u001b[36m0:00:00\u001b[0m\n",
            "\u001b[?25hInstalling collected packages: pandas\n",
            "  Attempting uninstall: pandas\n",
            "    Found existing installation: pandas 2.2.2\n",
            "    Uninstalling pandas-2.2.2:\n",
            "      Successfully uninstalled pandas-2.2.2\n",
            "\u001b[31mERROR: pip's dependency resolver does not currently take into account all the packages that are installed. This behaviour is the source of the following dependency conflicts.\n",
            "google-colab 1.0.0 requires pandas==2.2.2, but you have pandas 2.2.3 which is incompatible.\u001b[0m\u001b[31m\n",
            "\u001b[0mSuccessfully installed pandas-2.2.3\n"
          ]
        },
        {
          "output_type": "display_data",
          "data": {
            "text/plain": [
              "<IPython.core.display.HTML object>"
            ],
            "text/html": [
              "\n",
              "     <input type=\"file\" id=\"files-d37844e4-e08d-4764-a108-601b00cdee44\" name=\"files[]\" multiple disabled\n",
              "        style=\"border:none\" />\n",
              "     <output id=\"result-d37844e4-e08d-4764-a108-601b00cdee44\">\n",
              "      Upload widget is only available when the cell has been executed in the\n",
              "      current browser session. Please rerun this cell to enable.\n",
              "      </output>\n",
              "      <script>// Copyright 2017 Google LLC\n",
              "//\n",
              "// Licensed under the Apache License, Version 2.0 (the \"License\");\n",
              "// you may not use this file except in compliance with the License.\n",
              "// You may obtain a copy of the License at\n",
              "//\n",
              "//      http://www.apache.org/licenses/LICENSE-2.0\n",
              "//\n",
              "// Unless required by applicable law or agreed to in writing, software\n",
              "// distributed under the License is distributed on an \"AS IS\" BASIS,\n",
              "// WITHOUT WARRANTIES OR CONDITIONS OF ANY KIND, either express or implied.\n",
              "// See the License for the specific language governing permissions and\n",
              "// limitations under the License.\n",
              "\n",
              "/**\n",
              " * @fileoverview Helpers for google.colab Python module.\n",
              " */\n",
              "(function(scope) {\n",
              "function span(text, styleAttributes = {}) {\n",
              "  const element = document.createElement('span');\n",
              "  element.textContent = text;\n",
              "  for (const key of Object.keys(styleAttributes)) {\n",
              "    element.style[key] = styleAttributes[key];\n",
              "  }\n",
              "  return element;\n",
              "}\n",
              "\n",
              "// Max number of bytes which will be uploaded at a time.\n",
              "const MAX_PAYLOAD_SIZE = 100 * 1024;\n",
              "\n",
              "function _uploadFiles(inputId, outputId) {\n",
              "  const steps = uploadFilesStep(inputId, outputId);\n",
              "  const outputElement = document.getElementById(outputId);\n",
              "  // Cache steps on the outputElement to make it available for the next call\n",
              "  // to uploadFilesContinue from Python.\n",
              "  outputElement.steps = steps;\n",
              "\n",
              "  return _uploadFilesContinue(outputId);\n",
              "}\n",
              "\n",
              "// This is roughly an async generator (not supported in the browser yet),\n",
              "// where there are multiple asynchronous steps and the Python side is going\n",
              "// to poll for completion of each step.\n",
              "// This uses a Promise to block the python side on completion of each step,\n",
              "// then passes the result of the previous step as the input to the next step.\n",
              "function _uploadFilesContinue(outputId) {\n",
              "  const outputElement = document.getElementById(outputId);\n",
              "  const steps = outputElement.steps;\n",
              "\n",
              "  const next = steps.next(outputElement.lastPromiseValue);\n",
              "  return Promise.resolve(next.value.promise).then((value) => {\n",
              "    // Cache the last promise value to make it available to the next\n",
              "    // step of the generator.\n",
              "    outputElement.lastPromiseValue = value;\n",
              "    return next.value.response;\n",
              "  });\n",
              "}\n",
              "\n",
              "/**\n",
              " * Generator function which is called between each async step of the upload\n",
              " * process.\n",
              " * @param {string} inputId Element ID of the input file picker element.\n",
              " * @param {string} outputId Element ID of the output display.\n",
              " * @return {!Iterable<!Object>} Iterable of next steps.\n",
              " */\n",
              "function* uploadFilesStep(inputId, outputId) {\n",
              "  const inputElement = document.getElementById(inputId);\n",
              "  inputElement.disabled = false;\n",
              "\n",
              "  const outputElement = document.getElementById(outputId);\n",
              "  outputElement.innerHTML = '';\n",
              "\n",
              "  const pickedPromise = new Promise((resolve) => {\n",
              "    inputElement.addEventListener('change', (e) => {\n",
              "      resolve(e.target.files);\n",
              "    });\n",
              "  });\n",
              "\n",
              "  const cancel = document.createElement('button');\n",
              "  inputElement.parentElement.appendChild(cancel);\n",
              "  cancel.textContent = 'Cancel upload';\n",
              "  const cancelPromise = new Promise((resolve) => {\n",
              "    cancel.onclick = () => {\n",
              "      resolve(null);\n",
              "    };\n",
              "  });\n",
              "\n",
              "  // Wait for the user to pick the files.\n",
              "  const files = yield {\n",
              "    promise: Promise.race([pickedPromise, cancelPromise]),\n",
              "    response: {\n",
              "      action: 'starting',\n",
              "    }\n",
              "  };\n",
              "\n",
              "  cancel.remove();\n",
              "\n",
              "  // Disable the input element since further picks are not allowed.\n",
              "  inputElement.disabled = true;\n",
              "\n",
              "  if (!files) {\n",
              "    return {\n",
              "      response: {\n",
              "        action: 'complete',\n",
              "      }\n",
              "    };\n",
              "  }\n",
              "\n",
              "  for (const file of files) {\n",
              "    const li = document.createElement('li');\n",
              "    li.append(span(file.name, {fontWeight: 'bold'}));\n",
              "    li.append(span(\n",
              "        `(${file.type || 'n/a'}) - ${file.size} bytes, ` +\n",
              "        `last modified: ${\n",
              "            file.lastModifiedDate ? file.lastModifiedDate.toLocaleDateString() :\n",
              "                                    'n/a'} - `));\n",
              "    const percent = span('0% done');\n",
              "    li.appendChild(percent);\n",
              "\n",
              "    outputElement.appendChild(li);\n",
              "\n",
              "    const fileDataPromise = new Promise((resolve) => {\n",
              "      const reader = new FileReader();\n",
              "      reader.onload = (e) => {\n",
              "        resolve(e.target.result);\n",
              "      };\n",
              "      reader.readAsArrayBuffer(file);\n",
              "    });\n",
              "    // Wait for the data to be ready.\n",
              "    let fileData = yield {\n",
              "      promise: fileDataPromise,\n",
              "      response: {\n",
              "        action: 'continue',\n",
              "      }\n",
              "    };\n",
              "\n",
              "    // Use a chunked sending to avoid message size limits. See b/62115660.\n",
              "    let position = 0;\n",
              "    do {\n",
              "      const length = Math.min(fileData.byteLength - position, MAX_PAYLOAD_SIZE);\n",
              "      const chunk = new Uint8Array(fileData, position, length);\n",
              "      position += length;\n",
              "\n",
              "      const base64 = btoa(String.fromCharCode.apply(null, chunk));\n",
              "      yield {\n",
              "        response: {\n",
              "          action: 'append',\n",
              "          file: file.name,\n",
              "          data: base64,\n",
              "        },\n",
              "      };\n",
              "\n",
              "      let percentDone = fileData.byteLength === 0 ?\n",
              "          100 :\n",
              "          Math.round((position / fileData.byteLength) * 100);\n",
              "      percent.textContent = `${percentDone}% done`;\n",
              "\n",
              "    } while (position < fileData.byteLength);\n",
              "  }\n",
              "\n",
              "  // All done.\n",
              "  yield {\n",
              "    response: {\n",
              "      action: 'complete',\n",
              "    }\n",
              "  };\n",
              "}\n",
              "\n",
              "scope.google = scope.google || {};\n",
              "scope.google.colab = scope.google.colab || {};\n",
              "scope.google.colab._files = {\n",
              "  _uploadFiles,\n",
              "  _uploadFilesContinue,\n",
              "};\n",
              "})(self);\n",
              "</script> "
            ]
          },
          "metadata": {}
        },
        {
          "output_type": "stream",
          "name": "stdout",
          "text": [
            "Saving session_03_data_practice.csv to session_03_data_practice.csv\n"
          ]
        }
      ],
      "source": [
        "!pip install --upgrade pandas\n",
        "import pandas as pd\n",
        "from google.colab import files\n",
        "uploaded = files.upload()"
      ]
    },
    {
      "cell_type": "markdown",
      "id": "2e1a932d-0127-4244-b354-54f47d0383e6",
      "metadata": {
        "id": "2e1a932d-0127-4244-b354-54f47d0383e6"
      },
      "source": [
        "### 1. Reading Data from CSV with Specific Features\n",
        "When reading CSV files, we often need to handle special cases:\n",
        "- Different delimiters (here we use ';')\n",
        "- Potential encoding issues\n",
        "- Handling of missing values\n",
        "- Parsing dates correctly"
      ]
    },
    {
      "cell_type": "code",
      "execution_count": 2,
      "id": "7116fb06-4285-4f25-91f0-d959e60c51f0",
      "metadata": {
        "id": "7116fb06-4285-4f25-91f0-d959e60c51f0"
      },
      "outputs": [],
      "source": [
        "df = pd.read_csv('session_03_data_practice.csv', delimiter=';', parse_dates=['Creation Date', 'Date when pay'])"
      ]
    },
    {
      "cell_type": "markdown",
      "id": "b06ef571-b74f-46f2-84d0-b1768a6e614c",
      "metadata": {
        "id": "b06ef571-b74f-46f2-84d0-b1768a6e614c"
      },
      "source": [
        "**Note: The parse_dates parameter attempts to convert specified columns to datetime objects**  \n",
        "This is especially useful for time series analysis"
      ]
    },
    {
      "cell_type": "markdown",
      "id": "9338cb59-8345-4e8e-95ec-37577530947e",
      "metadata": {
        "id": "9338cb59-8345-4e8e-95ec-37577530947e"
      },
      "source": [
        "### 2. Initial Data Exploration\n",
        "Understanding your data is the first critical step in any analysis"
      ]
    },
    {
      "cell_type": "markdown",
      "id": "ee43bd9c-2733-4c79-a0f6-d1ab738dc188",
      "metadata": {
        "id": "ee43bd9c-2733-4c79-a0f6-d1ab738dc188"
      },
      "source": [
        "**View first 5 rows to get a quick look at the data structure**"
      ]
    },
    {
      "cell_type": "code",
      "execution_count": 3,
      "id": "f0e97b11-6f08-4a49-b879-32b48a97cea0",
      "metadata": {
        "id": "f0e97b11-6f08-4a49-b879-32b48a97cea0",
        "outputId": "99ba17c0-89cc-4199-b894-9f4794e5ca5a",
        "colab": {
          "base_uri": "https://localhost:8080/",
          "height": 206
        }
      },
      "outputs": [
        {
          "output_type": "execute_result",
          "data": {
            "text/plain": [
              "   Number      Creation Date     Date when pay                  Title  \\\n",
              "0  1062823  01.12.2024 10:50  01.12.2024 10:52         AI Engineering   \n",
              "1  1062855  01.12.2024 20:53  01.12.2024 21:27         AI Engineering   \n",
              "2  1062856  01.12.2024 21:43               NaN  Python. Data analysis   \n",
              "3  1062880   03.12.2024 0:18               NaN   Frontend Development   \n",
              "4  1062899  03.12.2024 21:43               NaN         AI Engineering   \n",
              "\n",
              "    Status    Money amount          City       Payment System  \n",
              "0  Completed         29597.5       Bucha  Банківський переказ  \n",
              "1  Completed         17450.3     Kharkiv           Google Pay  \n",
              "2   Canceled             0.0   Vinnytsia                  NaN  \n",
              "3   Canceled             0.0  Pervomaisk                  NaN  \n",
              "4   Canceled             0.0       Smila                  NaN  "
            ],
            "text/html": [
              "\n",
              "  <div id=\"df-d923bdd9-97a0-4784-a16d-a8ffbbe5cf60\" class=\"colab-df-container\">\n",
              "    <div>\n",
              "<style scoped>\n",
              "    .dataframe tbody tr th:only-of-type {\n",
              "        vertical-align: middle;\n",
              "    }\n",
              "\n",
              "    .dataframe tbody tr th {\n",
              "        vertical-align: top;\n",
              "    }\n",
              "\n",
              "    .dataframe thead th {\n",
              "        text-align: right;\n",
              "    }\n",
              "</style>\n",
              "<table border=\"1\" class=\"dataframe\">\n",
              "  <thead>\n",
              "    <tr style=\"text-align: right;\">\n",
              "      <th></th>\n",
              "      <th>Number</th>\n",
              "      <th>Creation Date</th>\n",
              "      <th>Date when pay</th>\n",
              "      <th>Title</th>\n",
              "      <th>Status</th>\n",
              "      <th>Money amount</th>\n",
              "      <th>City</th>\n",
              "      <th>Payment System</th>\n",
              "    </tr>\n",
              "  </thead>\n",
              "  <tbody>\n",
              "    <tr>\n",
              "      <th>0</th>\n",
              "      <td>1062823</td>\n",
              "      <td>01.12.2024 10:50</td>\n",
              "      <td>01.12.2024 10:52</td>\n",
              "      <td>AI Engineering</td>\n",
              "      <td>Completed</td>\n",
              "      <td>29597.5</td>\n",
              "      <td>Bucha</td>\n",
              "      <td>Банківський переказ</td>\n",
              "    </tr>\n",
              "    <tr>\n",
              "      <th>1</th>\n",
              "      <td>1062855</td>\n",
              "      <td>01.12.2024 20:53</td>\n",
              "      <td>01.12.2024 21:27</td>\n",
              "      <td>AI Engineering</td>\n",
              "      <td>Completed</td>\n",
              "      <td>17450.3</td>\n",
              "      <td>Kharkiv</td>\n",
              "      <td>Google Pay</td>\n",
              "    </tr>\n",
              "    <tr>\n",
              "      <th>2</th>\n",
              "      <td>1062856</td>\n",
              "      <td>01.12.2024 21:43</td>\n",
              "      <td>NaN</td>\n",
              "      <td>Python. Data analysis</td>\n",
              "      <td>Canceled</td>\n",
              "      <td>0.0</td>\n",
              "      <td>Vinnytsia</td>\n",
              "      <td>NaN</td>\n",
              "    </tr>\n",
              "    <tr>\n",
              "      <th>3</th>\n",
              "      <td>1062880</td>\n",
              "      <td>03.12.2024 0:18</td>\n",
              "      <td>NaN</td>\n",
              "      <td>Frontend Development</td>\n",
              "      <td>Canceled</td>\n",
              "      <td>0.0</td>\n",
              "      <td>Pervomaisk</td>\n",
              "      <td>NaN</td>\n",
              "    </tr>\n",
              "    <tr>\n",
              "      <th>4</th>\n",
              "      <td>1062899</td>\n",
              "      <td>03.12.2024 21:43</td>\n",
              "      <td>NaN</td>\n",
              "      <td>AI Engineering</td>\n",
              "      <td>Canceled</td>\n",
              "      <td>0.0</td>\n",
              "      <td>Smila</td>\n",
              "      <td>NaN</td>\n",
              "    </tr>\n",
              "  </tbody>\n",
              "</table>\n",
              "</div>\n",
              "    <div class=\"colab-df-buttons\">\n",
              "\n",
              "  <div class=\"colab-df-container\">\n",
              "    <button class=\"colab-df-convert\" onclick=\"convertToInteractive('df-d923bdd9-97a0-4784-a16d-a8ffbbe5cf60')\"\n",
              "            title=\"Convert this dataframe to an interactive table.\"\n",
              "            style=\"display:none;\">\n",
              "\n",
              "  <svg xmlns=\"http://www.w3.org/2000/svg\" height=\"24px\" viewBox=\"0 -960 960 960\">\n",
              "    <path d=\"M120-120v-720h720v720H120Zm60-500h600v-160H180v160Zm220 220h160v-160H400v160Zm0 220h160v-160H400v160ZM180-400h160v-160H180v160Zm440 0h160v-160H620v160ZM180-180h160v-160H180v160Zm440 0h160v-160H620v160Z\"/>\n",
              "  </svg>\n",
              "    </button>\n",
              "\n",
              "  <style>\n",
              "    .colab-df-container {\n",
              "      display:flex;\n",
              "      gap: 12px;\n",
              "    }\n",
              "\n",
              "    .colab-df-convert {\n",
              "      background-color: #E8F0FE;\n",
              "      border: none;\n",
              "      border-radius: 50%;\n",
              "      cursor: pointer;\n",
              "      display: none;\n",
              "      fill: #1967D2;\n",
              "      height: 32px;\n",
              "      padding: 0 0 0 0;\n",
              "      width: 32px;\n",
              "    }\n",
              "\n",
              "    .colab-df-convert:hover {\n",
              "      background-color: #E2EBFA;\n",
              "      box-shadow: 0px 1px 2px rgba(60, 64, 67, 0.3), 0px 1px 3px 1px rgba(60, 64, 67, 0.15);\n",
              "      fill: #174EA6;\n",
              "    }\n",
              "\n",
              "    .colab-df-buttons div {\n",
              "      margin-bottom: 4px;\n",
              "    }\n",
              "\n",
              "    [theme=dark] .colab-df-convert {\n",
              "      background-color: #3B4455;\n",
              "      fill: #D2E3FC;\n",
              "    }\n",
              "\n",
              "    [theme=dark] .colab-df-convert:hover {\n",
              "      background-color: #434B5C;\n",
              "      box-shadow: 0px 1px 3px 1px rgba(0, 0, 0, 0.15);\n",
              "      filter: drop-shadow(0px 1px 2px rgba(0, 0, 0, 0.3));\n",
              "      fill: #FFFFFF;\n",
              "    }\n",
              "  </style>\n",
              "\n",
              "    <script>\n",
              "      const buttonEl =\n",
              "        document.querySelector('#df-d923bdd9-97a0-4784-a16d-a8ffbbe5cf60 button.colab-df-convert');\n",
              "      buttonEl.style.display =\n",
              "        google.colab.kernel.accessAllowed ? 'block' : 'none';\n",
              "\n",
              "      async function convertToInteractive(key) {\n",
              "        const element = document.querySelector('#df-d923bdd9-97a0-4784-a16d-a8ffbbe5cf60');\n",
              "        const dataTable =\n",
              "          await google.colab.kernel.invokeFunction('convertToInteractive',\n",
              "                                                    [key], {});\n",
              "        if (!dataTable) return;\n",
              "\n",
              "        const docLinkHtml = 'Like what you see? Visit the ' +\n",
              "          '<a target=\"_blank\" href=https://colab.research.google.com/notebooks/data_table.ipynb>data table notebook</a>'\n",
              "          + ' to learn more about interactive tables.';\n",
              "        element.innerHTML = '';\n",
              "        dataTable['output_type'] = 'display_data';\n",
              "        await google.colab.output.renderOutput(dataTable, element);\n",
              "        const docLink = document.createElement('div');\n",
              "        docLink.innerHTML = docLinkHtml;\n",
              "        element.appendChild(docLink);\n",
              "      }\n",
              "    </script>\n",
              "  </div>\n",
              "\n",
              "\n",
              "<div id=\"df-07e8b4ae-7811-43a1-acd6-a4bef4b8d77a\">\n",
              "  <button class=\"colab-df-quickchart\" onclick=\"quickchart('df-07e8b4ae-7811-43a1-acd6-a4bef4b8d77a')\"\n",
              "            title=\"Suggest charts\"\n",
              "            style=\"display:none;\">\n",
              "\n",
              "<svg xmlns=\"http://www.w3.org/2000/svg\" height=\"24px\"viewBox=\"0 0 24 24\"\n",
              "     width=\"24px\">\n",
              "    <g>\n",
              "        <path d=\"M19 3H5c-1.1 0-2 .9-2 2v14c0 1.1.9 2 2 2h14c1.1 0 2-.9 2-2V5c0-1.1-.9-2-2-2zM9 17H7v-7h2v7zm4 0h-2V7h2v10zm4 0h-2v-4h2v4z\"/>\n",
              "    </g>\n",
              "</svg>\n",
              "  </button>\n",
              "\n",
              "<style>\n",
              "  .colab-df-quickchart {\n",
              "      --bg-color: #E8F0FE;\n",
              "      --fill-color: #1967D2;\n",
              "      --hover-bg-color: #E2EBFA;\n",
              "      --hover-fill-color: #174EA6;\n",
              "      --disabled-fill-color: #AAA;\n",
              "      --disabled-bg-color: #DDD;\n",
              "  }\n",
              "\n",
              "  [theme=dark] .colab-df-quickchart {\n",
              "      --bg-color: #3B4455;\n",
              "      --fill-color: #D2E3FC;\n",
              "      --hover-bg-color: #434B5C;\n",
              "      --hover-fill-color: #FFFFFF;\n",
              "      --disabled-bg-color: #3B4455;\n",
              "      --disabled-fill-color: #666;\n",
              "  }\n",
              "\n",
              "  .colab-df-quickchart {\n",
              "    background-color: var(--bg-color);\n",
              "    border: none;\n",
              "    border-radius: 50%;\n",
              "    cursor: pointer;\n",
              "    display: none;\n",
              "    fill: var(--fill-color);\n",
              "    height: 32px;\n",
              "    padding: 0;\n",
              "    width: 32px;\n",
              "  }\n",
              "\n",
              "  .colab-df-quickchart:hover {\n",
              "    background-color: var(--hover-bg-color);\n",
              "    box-shadow: 0 1px 2px rgba(60, 64, 67, 0.3), 0 1px 3px 1px rgba(60, 64, 67, 0.15);\n",
              "    fill: var(--button-hover-fill-color);\n",
              "  }\n",
              "\n",
              "  .colab-df-quickchart-complete:disabled,\n",
              "  .colab-df-quickchart-complete:disabled:hover {\n",
              "    background-color: var(--disabled-bg-color);\n",
              "    fill: var(--disabled-fill-color);\n",
              "    box-shadow: none;\n",
              "  }\n",
              "\n",
              "  .colab-df-spinner {\n",
              "    border: 2px solid var(--fill-color);\n",
              "    border-color: transparent;\n",
              "    border-bottom-color: var(--fill-color);\n",
              "    animation:\n",
              "      spin 1s steps(1) infinite;\n",
              "  }\n",
              "\n",
              "  @keyframes spin {\n",
              "    0% {\n",
              "      border-color: transparent;\n",
              "      border-bottom-color: var(--fill-color);\n",
              "      border-left-color: var(--fill-color);\n",
              "    }\n",
              "    20% {\n",
              "      border-color: transparent;\n",
              "      border-left-color: var(--fill-color);\n",
              "      border-top-color: var(--fill-color);\n",
              "    }\n",
              "    30% {\n",
              "      border-color: transparent;\n",
              "      border-left-color: var(--fill-color);\n",
              "      border-top-color: var(--fill-color);\n",
              "      border-right-color: var(--fill-color);\n",
              "    }\n",
              "    40% {\n",
              "      border-color: transparent;\n",
              "      border-right-color: var(--fill-color);\n",
              "      border-top-color: var(--fill-color);\n",
              "    }\n",
              "    60% {\n",
              "      border-color: transparent;\n",
              "      border-right-color: var(--fill-color);\n",
              "    }\n",
              "    80% {\n",
              "      border-color: transparent;\n",
              "      border-right-color: var(--fill-color);\n",
              "      border-bottom-color: var(--fill-color);\n",
              "    }\n",
              "    90% {\n",
              "      border-color: transparent;\n",
              "      border-bottom-color: var(--fill-color);\n",
              "    }\n",
              "  }\n",
              "</style>\n",
              "\n",
              "  <script>\n",
              "    async function quickchart(key) {\n",
              "      const quickchartButtonEl =\n",
              "        document.querySelector('#' + key + ' button');\n",
              "      quickchartButtonEl.disabled = true;  // To prevent multiple clicks.\n",
              "      quickchartButtonEl.classList.add('colab-df-spinner');\n",
              "      try {\n",
              "        const charts = await google.colab.kernel.invokeFunction(\n",
              "            'suggestCharts', [key], {});\n",
              "      } catch (error) {\n",
              "        console.error('Error during call to suggestCharts:', error);\n",
              "      }\n",
              "      quickchartButtonEl.classList.remove('colab-df-spinner');\n",
              "      quickchartButtonEl.classList.add('colab-df-quickchart-complete');\n",
              "    }\n",
              "    (() => {\n",
              "      let quickchartButtonEl =\n",
              "        document.querySelector('#df-07e8b4ae-7811-43a1-acd6-a4bef4b8d77a button');\n",
              "      quickchartButtonEl.style.display =\n",
              "        google.colab.kernel.accessAllowed ? 'block' : 'none';\n",
              "    })();\n",
              "  </script>\n",
              "</div>\n",
              "\n",
              "    </div>\n",
              "  </div>\n"
            ],
            "application/vnd.google.colaboratory.intrinsic+json": {
              "type": "dataframe",
              "variable_name": "df",
              "summary": "{\n  \"name\": \"df\",\n  \"rows\": 292,\n  \"fields\": [\n    {\n      \"column\": \"Number \",\n      \"properties\": {\n        \"dtype\": \"number\",\n        \"std\": 443,\n        \"min\": 1062823,\n        \"max\": 1064796,\n        \"num_unique_values\": 292,\n        \"samples\": [\n          1063623,\n          1064432,\n          1063314\n        ],\n        \"semantic_type\": \"\",\n        \"description\": \"\"\n      }\n    },\n    {\n      \"column\": \"Creation Date\",\n      \"properties\": {\n        \"dtype\": \"string\",\n        \"num_unique_values\": 180,\n        \"samples\": [\n          \"08.12.2024 21:43\",\n          \"15.12.2024 10:58\",\n          \"27.12.2024 11:58\"\n        ],\n        \"semantic_type\": \"\",\n        \"description\": \"\"\n      }\n    },\n    {\n      \"column\": \"Date when pay\",\n      \"properties\": {\n        \"dtype\": \"category\",\n        \"num_unique_values\": 142,\n        \"samples\": [\n          \"28.12.2024 17:11\",\n          \"18.12.2024 13:11\",\n          \"25.12.2024 18:36\"\n        ],\n        \"semantic_type\": \"\",\n        \"description\": \"\"\n      }\n    },\n    {\n      \"column\": \"Title\",\n      \"properties\": {\n        \"dtype\": \"category\",\n        \"num_unique_values\": 6,\n        \"samples\": [\n          \"AI Engineering\",\n          \"Python. Data analysis\",\n          \"Java Developer\"\n        ],\n        \"semantic_type\": \"\",\n        \"description\": \"\"\n      }\n    },\n    {\n      \"column\": \"Status  \",\n      \"properties\": {\n        \"dtype\": \"category\",\n        \"num_unique_values\": 4,\n        \"samples\": [\n          \"Canceled\",\n          \"Partially paid\",\n          \"Completed\"\n        ],\n        \"semantic_type\": \"\",\n        \"description\": \"\"\n      }\n    },\n    {\n      \"column\": \"Money amount  \",\n      \"properties\": {\n        \"dtype\": \"number\",\n        \"std\": 5771.572829353859,\n        \"min\": 0.0,\n        \"max\": 42750.0,\n        \"num_unique_values\": 33,\n        \"samples\": [\n          5398.56,\n          9405.0,\n          7125.0\n        ],\n        \"semantic_type\": \"\",\n        \"description\": \"\"\n      }\n    },\n    {\n      \"column\": \"City\",\n      \"properties\": {\n        \"dtype\": \"category\",\n        \"num_unique_values\": 35,\n        \"samples\": [\n          \"oDesa\",\n          \"Poltava\",\n          \"Kherson\"\n        ],\n        \"semantic_type\": \"\",\n        \"description\": \"\"\n      }\n    },\n    {\n      \"column\": \"Payment System\",\n      \"properties\": {\n        \"dtype\": \"category\",\n        \"num_unique_values\": 10,\n        \"samples\": [\n          \"Apple Pay\",\n          \"Google Pay\",\n          \"WayForPay\"\n        ],\n        \"semantic_type\": \"\",\n        \"description\": \"\"\n      }\n    }\n  ]\n}"
            }
          },
          "metadata": {},
          "execution_count": 3
        }
      ],
      "source": [
        "df.head()"
      ]
    },
    {
      "cell_type": "markdown",
      "id": "bcee20bc-9b7c-4aa2-a3b7-feae6d15c64f",
      "metadata": {
        "id": "bcee20bc-9b7c-4aa2-a3b7-feae6d15c64f"
      },
      "source": [
        "**View last 5 rows to check if data is consistent throughout**"
      ]
    },
    {
      "cell_type": "code",
      "execution_count": null,
      "id": "7e4e1179-1adc-4b6e-919d-44e1ba923d01",
      "metadata": {
        "id": "7e4e1179-1adc-4b6e-919d-44e1ba923d01",
        "outputId": "ab771f1b-e67a-4be9-b5a3-7bc77886e3ed"
      },
      "outputs": [
        {
          "data": {
            "text/html": [
              "<div>\n",
              "<style scoped>\n",
              "    .dataframe tbody tr th:only-of-type {\n",
              "        vertical-align: middle;\n",
              "    }\n",
              "\n",
              "    .dataframe tbody tr th {\n",
              "        vertical-align: top;\n",
              "    }\n",
              "\n",
              "    .dataframe thead th {\n",
              "        text-align: right;\n",
              "    }\n",
              "</style>\n",
              "<table border=\"1\" class=\"dataframe\">\n",
              "  <thead>\n",
              "    <tr style=\"text-align: right;\">\n",
              "      <th></th>\n",
              "      <th>Number</th>\n",
              "      <th>Creation Date</th>\n",
              "      <th>Date when pay</th>\n",
              "      <th>Title</th>\n",
              "      <th>Status</th>\n",
              "      <th>Money amount</th>\n",
              "      <th>City</th>\n",
              "      <th>Payment System</th>\n",
              "    </tr>\n",
              "  </thead>\n",
              "  <tbody>\n",
              "    <tr>\n",
              "      <th>287</th>\n",
              "      <td>1064720</td>\n",
              "      <td>30.12.2024 9:42</td>\n",
              "      <td>30.12.2024 12:49</td>\n",
              "      <td>Java Developer</td>\n",
              "      <td>Completed</td>\n",
              "      <td>2935.44</td>\n",
              "      <td>Irpin</td>\n",
              "      <td>Apple Pay</td>\n",
              "    </tr>\n",
              "    <tr>\n",
              "      <th>288</th>\n",
              "      <td>1064724</td>\n",
              "      <td>30.12.2024 11:32</td>\n",
              "      <td>NaN</td>\n",
              "      <td>Frontend Development</td>\n",
              "      <td>Canceled</td>\n",
              "      <td>0.00</td>\n",
              "      <td>rivne</td>\n",
              "      <td>NaN</td>\n",
              "    </tr>\n",
              "    <tr>\n",
              "      <th>289</th>\n",
              "      <td>1064775</td>\n",
              "      <td>31.12.2024 2:17</td>\n",
              "      <td>31.12.2024 2:22</td>\n",
              "      <td>Frontend Development</td>\n",
              "      <td>Completed</td>\n",
              "      <td>7423.92</td>\n",
              "      <td>Kherson</td>\n",
              "      <td>Apple Pay</td>\n",
              "    </tr>\n",
              "    <tr>\n",
              "      <th>290</th>\n",
              "      <td>1064793</td>\n",
              "      <td>31.12.2024 16:40</td>\n",
              "      <td>01.01.2020 14:29</td>\n",
              "      <td>Java Developer</td>\n",
              "      <td>Completed</td>\n",
              "      <td>2935.44</td>\n",
              "      <td>Irpin</td>\n",
              "      <td>ПриватБанк</td>\n",
              "    </tr>\n",
              "    <tr>\n",
              "      <th>291</th>\n",
              "      <td>1064796</td>\n",
              "      <td>31.12.2024 17:29</td>\n",
              "      <td>31.12.2024 17:32</td>\n",
              "      <td>Python. Web-developer</td>\n",
              "      <td>Completed</td>\n",
              "      <td>9898.56</td>\n",
              "      <td>Sumy</td>\n",
              "      <td>Apple Pay</td>\n",
              "    </tr>\n",
              "  </tbody>\n",
              "</table>\n",
              "</div>"
            ],
            "text/plain": [
              "     Number      Creation Date     Date when pay                   Title  \\\n",
              "287  1064720   30.12.2024 9:42  30.12.2024 12:49          Java Developer   \n",
              "288  1064724  30.12.2024 11:32               NaN    Frontend Development   \n",
              "289  1064775   31.12.2024 2:17   31.12.2024 2:22    Frontend Development   \n",
              "290  1064793  31.12.2024 16:40  01.01.2020 14:29          Java Developer   \n",
              "291  1064796  31.12.2024 17:29  31.12.2024 17:32  Python. Web-developer    \n",
              "\n",
              "      Status    Money amount       City Payment System  \n",
              "287  Completed         2935.44    Irpin      Apple Pay  \n",
              "288   Canceled            0.00  rivne              NaN  \n",
              "289  Completed         7423.92  Kherson      Apple Pay  \n",
              "290  Completed         2935.44    Irpin     ПриватБанк  \n",
              "291  Completed         9898.56     Sumy      Apple Pay  "
            ]
          },
          "execution_count": 16,
          "metadata": {},
          "output_type": "execute_result"
        }
      ],
      "source": [
        "df.tail()"
      ]
    },
    {
      "cell_type": "markdown",
      "id": "1114d7b2-1859-45cf-a8ba-d43847881adf",
      "metadata": {
        "id": "1114d7b2-1859-45cf-a8ba-d43847881adf"
      },
      "source": [
        "**Get basic information about the DataFrame:**\n",
        "- Number of non-null entries per column\n",
        "- Data types of each column\n",
        "- Memory usage"
      ]
    },
    {
      "cell_type": "code",
      "execution_count": null,
      "id": "93956bc0-0fbe-43eb-8d28-52853091762b",
      "metadata": {
        "id": "93956bc0-0fbe-43eb-8d28-52853091762b",
        "outputId": "4409e2c1-0615-431d-d9bc-e854004727fa"
      },
      "outputs": [
        {
          "name": "stdout",
          "output_type": "stream",
          "text": [
            "<class 'pandas.core.frame.DataFrame'>\n",
            "RangeIndex: 292 entries, 0 to 291\n",
            "Data columns (total 8 columns):\n",
            " #   Column          Non-Null Count  Dtype  \n",
            "---  ------          --------------  -----  \n",
            " 0   Number          292 non-null    int64  \n",
            " 1   Creation Date   292 non-null    object \n",
            " 2   Date when pay   180 non-null    object \n",
            " 3   Title           292 non-null    object \n",
            " 4   Status          291 non-null    object \n",
            " 5   Money amount    292 non-null    float64\n",
            " 6   City            266 non-null    object \n",
            " 7   Payment System  180 non-null    object \n",
            "dtypes: float64(1), int64(1), object(6)\n",
            "memory usage: 18.4+ KB\n"
          ]
        }
      ],
      "source": [
        "df.info()"
      ]
    },
    {
      "cell_type": "markdown",
      "id": "9632ab52-8d41-47fd-ac50-865dd084c138",
      "metadata": {
        "id": "9632ab52-8d41-47fd-ac50-865dd084c138"
      },
      "source": [
        "**Generate descriptive statistics for numeric columns:**\n",
        "- Count, mean, std, min, quartiles, max"
      ]
    },
    {
      "cell_type": "code",
      "execution_count": null,
      "id": "3ef5e891-a355-4b00-b7bb-599dc2e48bf2",
      "metadata": {
        "id": "3ef5e891-a355-4b00-b7bb-599dc2e48bf2",
        "outputId": "05c0b333-6c5f-44aa-a1b6-11575e3ddc0e"
      },
      "outputs": [
        {
          "data": {
            "text/html": [
              "<div>\n",
              "<style scoped>\n",
              "    .dataframe tbody tr th:only-of-type {\n",
              "        vertical-align: middle;\n",
              "    }\n",
              "\n",
              "    .dataframe tbody tr th {\n",
              "        vertical-align: top;\n",
              "    }\n",
              "\n",
              "    .dataframe thead th {\n",
              "        text-align: right;\n",
              "    }\n",
              "</style>\n",
              "<table border=\"1\" class=\"dataframe\">\n",
              "  <thead>\n",
              "    <tr style=\"text-align: right;\">\n",
              "      <th></th>\n",
              "      <th>Number</th>\n",
              "      <th>Money amount</th>\n",
              "    </tr>\n",
              "  </thead>\n",
              "  <tbody>\n",
              "    <tr>\n",
              "      <th>count</th>\n",
              "      <td>2.920000e+02</td>\n",
              "      <td>292.000000</td>\n",
              "    </tr>\n",
              "    <tr>\n",
              "      <th>mean</th>\n",
              "      <td>1.063745e+06</td>\n",
              "      <td>3397.615034</td>\n",
              "    </tr>\n",
              "    <tr>\n",
              "      <th>std</th>\n",
              "      <td>4.438688e+02</td>\n",
              "      <td>5771.572829</td>\n",
              "    </tr>\n",
              "    <tr>\n",
              "      <th>min</th>\n",
              "      <td>1.062823e+06</td>\n",
              "      <td>0.000000</td>\n",
              "    </tr>\n",
              "    <tr>\n",
              "      <th>25%</th>\n",
              "      <td>1.063608e+06</td>\n",
              "      <td>0.000000</td>\n",
              "    </tr>\n",
              "    <tr>\n",
              "      <th>50%</th>\n",
              "      <td>1.063698e+06</td>\n",
              "      <td>2935.440000</td>\n",
              "    </tr>\n",
              "    <tr>\n",
              "      <th>75%</th>\n",
              "      <td>1.063807e+06</td>\n",
              "      <td>2935.440000</td>\n",
              "    </tr>\n",
              "    <tr>\n",
              "      <th>max</th>\n",
              "      <td>1.064796e+06</td>\n",
              "      <td>42750.000000</td>\n",
              "    </tr>\n",
              "  </tbody>\n",
              "</table>\n",
              "</div>"
            ],
            "text/plain": [
              "            Number   Money amount  \n",
              "count  2.920000e+02      292.000000\n",
              "mean   1.063745e+06     3397.615034\n",
              "std    4.438688e+02     5771.572829\n",
              "min    1.062823e+06        0.000000\n",
              "25%    1.063608e+06        0.000000\n",
              "50%    1.063698e+06     2935.440000\n",
              "75%    1.063807e+06     2935.440000\n",
              "max    1.064796e+06    42750.000000"
            ]
          },
          "execution_count": 18,
          "metadata": {},
          "output_type": "execute_result"
        }
      ],
      "source": [
        "df.describe()"
      ]
    },
    {
      "cell_type": "markdown",
      "id": "28a5bc33-dc84-4531-9d1c-f4f4489c8ff5",
      "metadata": {
        "id": "28a5bc33-dc84-4531-9d1c-f4f4489c8ff5"
      },
      "source": [
        "**Get DataFrame dimensions (rows, columns)**"
      ]
    },
    {
      "cell_type": "code",
      "execution_count": null,
      "id": "fd07f16a-e41d-4906-9a33-c65849ff4e34",
      "metadata": {
        "id": "fd07f16a-e41d-4906-9a33-c65849ff4e34",
        "outputId": "8544a943-fab2-425c-ea10-7676273ee825"
      },
      "outputs": [
        {
          "data": {
            "text/plain": [
              "(292, 8)"
            ]
          },
          "execution_count": 19,
          "metadata": {},
          "output_type": "execute_result"
        }
      ],
      "source": [
        "df.shape"
      ]
    },
    {
      "cell_type": "markdown",
      "id": "89568866-f800-4db1-bfc6-bd11dbe95131",
      "metadata": {
        "id": "89568866-f800-4db1-bfc6-bd11dbe95131"
      },
      "source": [
        "**View column names (important for referencing columns correctly)**"
      ]
    },
    {
      "cell_type": "code",
      "execution_count": null,
      "id": "e61167e6-4592-4d3d-a17a-421e56c93b15",
      "metadata": {
        "id": "e61167e6-4592-4d3d-a17a-421e56c93b15",
        "outputId": "ed4e196b-7dcf-40c8-df29-ffebffac3a04"
      },
      "outputs": [
        {
          "data": {
            "text/plain": [
              "Index(['Number ', 'Creation Date', 'Date when pay', 'Title', 'Status  ',\n",
              "       'Money amount  ', 'City', 'Payment System'],\n",
              "      dtype='object')"
            ]
          },
          "execution_count": 20,
          "metadata": {},
          "output_type": "execute_result"
        }
      ],
      "source": [
        "df.columns"
      ]
    },
    {
      "cell_type": "code",
      "execution_count": null,
      "id": "9f20b3b0-fbcb-4a68-a59d-20ef8f2adc4b",
      "metadata": {
        "id": "9f20b3b0-fbcb-4a68-a59d-20ef8f2adc4b",
        "outputId": "ae8eb8b9-7658-492d-b8cf-23155d3fd00e"
      },
      "outputs": [
        {
          "data": {
            "text/plain": [
              "['Number ',\n",
              " 'Creation Date',\n",
              " 'Date when pay',\n",
              " 'Title',\n",
              " 'Status  ',\n",
              " 'Money amount  ',\n",
              " 'City',\n",
              " 'Payment System']"
            ]
          },
          "execution_count": 21,
          "metadata": {},
          "output_type": "execute_result"
        }
      ],
      "source": [
        "df.columns.tolist()"
      ]
    },
    {
      "cell_type": "markdown",
      "id": "b4bf8e1a-f2c5-4c77-8e91-5c5767356641",
      "metadata": {
        "id": "b4bf8e1a-f2c5-4c77-8e91-5c5767356641"
      },
      "source": [
        "**Initial observations we might make:**\n",
        "- Mixed data types (numeric, text, dates)\n",
        "- Some columns have missing values (like 'Date when pay')\n",
        "- Potential data quality issues (spaces in city names, inconsistent capitalization)\n",
        "- Numeric columns like 'Money amount' have wide ranges"
      ]
    },
    {
      "cell_type": "markdown",
      "id": "f5cab097-c6e3-4996-9561-46e044ccfea5",
      "metadata": {
        "id": "f5cab097-c6e3-4996-9561-46e044ccfea5"
      },
      "source": [
        "### 3. Renaming Columns\n",
        "**Column renaming is important for:**\n",
        "- Consistency (standard naming conventions)\n",
        "- Readability (clear, descriptive names)\n",
        "- Ease of use (avoid spaces/special characters in names)"
      ]
    },
    {
      "cell_type": "code",
      "execution_count": null,
      "id": "d47ae0c0-21bf-48c6-936a-5303830e213a",
      "metadata": {
        "id": "d47ae0c0-21bf-48c6-936a-5303830e213a"
      },
      "outputs": [],
      "source": [
        "df = df.rename(columns={\n",
        "    'Number ': 'transaction_id',\n",
        "    'Creation Date': 'creation_date',\n",
        "    'Date when pay': 'payment_date',\n",
        "    'Title': 'course_title',\n",
        "    'Status  ': 'status',\n",
        "    'Money amount  ': 'amount',\n",
        "    'City': 'city',\n",
        "    'Payment System': 'payment_method'\n",
        "})"
      ]
    },
    {
      "cell_type": "markdown",
      "id": "1e94de9a-d9d6-475e-bfeb-a344521d316b",
      "metadata": {
        "id": "1e94de9a-d9d6-475e-bfeb-a344521d316b"
      },
      "source": [
        "**Verify the changes**"
      ]
    },
    {
      "cell_type": "code",
      "execution_count": null,
      "id": "65e6aeb6-55e8-4f32-abc1-4a683ca70b07",
      "metadata": {
        "id": "65e6aeb6-55e8-4f32-abc1-4a683ca70b07",
        "outputId": "1f570e59-8bb8-4cd8-fc9a-8d89d31b8cef"
      },
      "outputs": [
        {
          "data": {
            "text/plain": [
              "['transaction_id',\n",
              " 'creation_date',\n",
              " 'payment_date',\n",
              " 'course_title',\n",
              " 'status',\n",
              " 'amount',\n",
              " 'city',\n",
              " 'payment_method']"
            ]
          },
          "execution_count": 25,
          "metadata": {},
          "output_type": "execute_result"
        }
      ],
      "source": [
        "df.columns.tolist()"
      ]
    },
    {
      "cell_type": "markdown",
      "id": "1c64d563-c2ae-413c-9cb9-ac01f8987f43",
      "metadata": {
        "id": "1c64d563-c2ae-413c-9cb9-ac01f8987f43"
      },
      "source": [
        "### 4. Working with Columns and Rows\n",
        "\n",
        "**Selecting Columns**\n",
        "- Single column (returns Series)"
      ]
    },
    {
      "cell_type": "code",
      "execution_count": null,
      "id": "f6179e82-ac13-47e5-a04e-ddf0ef1b40fd",
      "metadata": {
        "id": "f6179e82-ac13-47e5-a04e-ddf0ef1b40fd"
      },
      "outputs": [],
      "source": [
        "amounts = df['amount']"
      ]
    },
    {
      "cell_type": "code",
      "execution_count": null,
      "id": "371c9cd1-21aa-44f9-acd0-ee92718e4bb0",
      "metadata": {
        "id": "371c9cd1-21aa-44f9-acd0-ee92718e4bb0",
        "outputId": "9ba3b09e-54f0-457b-b808-29e60731da1d"
      },
      "outputs": [
        {
          "name": "stdout",
          "output_type": "stream",
          "text": [
            "0      29597.50\n",
            "1      17450.30\n",
            "2          0.00\n",
            "3          0.00\n",
            "4          0.00\n",
            "         ...   \n",
            "287     2935.44\n",
            "288        0.00\n",
            "289     7423.92\n",
            "290     2935.44\n",
            "291     9898.56\n",
            "Name: amount, Length: 292, dtype: float64\n"
          ]
        }
      ],
      "source": [
        "print(amounts)"
      ]
    },
    {
      "cell_type": "code",
      "execution_count": null,
      "id": "a670d154-005d-4842-a0bc-9d192965f84e",
      "metadata": {
        "id": "a670d154-005d-4842-a0bc-9d192965f84e",
        "outputId": "214f74e1-885b-42d4-e4d5-e69035fb872b"
      },
      "outputs": [
        {
          "name": "stdout",
          "output_type": "stream",
          "text": [
            "0      29597.50\n",
            "1      17450.30\n",
            "2          0.00\n",
            "3          0.00\n",
            "4          0.00\n",
            "         ...   \n",
            "287     2935.44\n",
            "288        0.00\n",
            "289     7423.92\n",
            "290     2935.44\n",
            "291     9898.56\n",
            "Name: amount, Length: 292, dtype: float64\n"
          ]
        }
      ],
      "source": [
        "print(df.amount)"
      ]
    },
    {
      "cell_type": "markdown",
      "id": "fd855f71-9c37-4000-8fe3-1edfd1a41331",
      "metadata": {
        "id": "fd855f71-9c37-4000-8fe3-1edfd1a41331"
      },
      "source": [
        "**Multiple columns (returns DataFrame)**"
      ]
    },
    {
      "cell_type": "code",
      "execution_count": null,
      "id": "f6a5c32d-2212-4b07-aff5-4ab36f27e099",
      "metadata": {
        "id": "f6a5c32d-2212-4b07-aff5-4ab36f27e099"
      },
      "outputs": [],
      "source": [
        "financial_data = df[['amount', 'payment_method']]"
      ]
    },
    {
      "cell_type": "code",
      "execution_count": null,
      "id": "47da86ba-8097-42cb-a04b-b11fdea12f11",
      "metadata": {
        "id": "47da86ba-8097-42cb-a04b-b11fdea12f11",
        "outputId": "6a6d5778-344f-4825-d818-7dcd22183757"
      },
      "outputs": [
        {
          "name": "stdout",
          "output_type": "stream",
          "text": [
            "       amount       payment_method\n",
            "0    29597.50  Банківський переказ\n",
            "1    17450.30           Google Pay\n",
            "2        0.00                  NaN\n",
            "3        0.00                  NaN\n",
            "4        0.00                  NaN\n",
            "..        ...                  ...\n",
            "287   2935.44            Apple Pay\n",
            "288      0.00                  NaN\n",
            "289   7423.92            Apple Pay\n",
            "290   2935.44           ПриватБанк\n",
            "291   9898.56            Apple Pay\n",
            "\n",
            "[292 rows x 2 columns]\n"
          ]
        }
      ],
      "source": [
        "print(financial_data)"
      ]
    },
    {
      "cell_type": "markdown",
      "id": "a998845e-0210-4305-b851-e78cc5f7cd1f",
      "metadata": {
        "id": "a998845e-0210-4305-b851-e78cc5f7cd1f"
      },
      "source": [
        "**Selecting Rows**\n",
        "- By index"
      ]
    },
    {
      "cell_type": "code",
      "execution_count": null,
      "id": "554a2f2e-e530-456a-a68e-cc9c4334a17e",
      "metadata": {
        "id": "554a2f2e-e530-456a-a68e-cc9c4334a17e",
        "outputId": "08bb52f0-b373-42b9-e49f-e206d84e06f6"
      },
      "outputs": [
        {
          "data": {
            "text/html": [
              "<div>\n",
              "<style scoped>\n",
              "    .dataframe tbody tr th:only-of-type {\n",
              "        vertical-align: middle;\n",
              "    }\n",
              "\n",
              "    .dataframe tbody tr th {\n",
              "        vertical-align: top;\n",
              "    }\n",
              "\n",
              "    .dataframe thead th {\n",
              "        text-align: right;\n",
              "    }\n",
              "</style>\n",
              "<table border=\"1\" class=\"dataframe\">\n",
              "  <thead>\n",
              "    <tr style=\"text-align: right;\">\n",
              "      <th></th>\n",
              "      <th>transaction_id</th>\n",
              "      <th>creation_date</th>\n",
              "      <th>payment_date</th>\n",
              "      <th>course_title</th>\n",
              "      <th>status</th>\n",
              "      <th>amount</th>\n",
              "      <th>city</th>\n",
              "      <th>payment_method</th>\n",
              "    </tr>\n",
              "  </thead>\n",
              "  <tbody>\n",
              "    <tr>\n",
              "      <th>0</th>\n",
              "      <td>1062823</td>\n",
              "      <td>01.12.2024 10:50</td>\n",
              "      <td>01.12.2024 10:52</td>\n",
              "      <td>AI Engineering</td>\n",
              "      <td>Completed</td>\n",
              "      <td>29597.5</td>\n",
              "      <td>Bucha</td>\n",
              "      <td>Банківський переказ</td>\n",
              "    </tr>\n",
              "    <tr>\n",
              "      <th>1</th>\n",
              "      <td>1062855</td>\n",
              "      <td>01.12.2024 20:53</td>\n",
              "      <td>01.12.2024 21:27</td>\n",
              "      <td>AI Engineering</td>\n",
              "      <td>Completed</td>\n",
              "      <td>17450.3</td>\n",
              "      <td>Kharkiv</td>\n",
              "      <td>Google Pay</td>\n",
              "    </tr>\n",
              "    <tr>\n",
              "      <th>2</th>\n",
              "      <td>1062856</td>\n",
              "      <td>01.12.2024 21:43</td>\n",
              "      <td>NaN</td>\n",
              "      <td>Python. Data analysis</td>\n",
              "      <td>Canceled</td>\n",
              "      <td>0.0</td>\n",
              "      <td>Vinnytsia</td>\n",
              "      <td>NaN</td>\n",
              "    </tr>\n",
              "    <tr>\n",
              "      <th>3</th>\n",
              "      <td>1062880</td>\n",
              "      <td>03.12.2024 0:18</td>\n",
              "      <td>NaN</td>\n",
              "      <td>Frontend Development</td>\n",
              "      <td>Canceled</td>\n",
              "      <td>0.0</td>\n",
              "      <td>Pervomaisk</td>\n",
              "      <td>NaN</td>\n",
              "    </tr>\n",
              "    <tr>\n",
              "      <th>4</th>\n",
              "      <td>1062899</td>\n",
              "      <td>03.12.2024 21:43</td>\n",
              "      <td>NaN</td>\n",
              "      <td>AI Engineering</td>\n",
              "      <td>Canceled</td>\n",
              "      <td>0.0</td>\n",
              "      <td>Smila</td>\n",
              "      <td>NaN</td>\n",
              "    </tr>\n",
              "    <tr>\n",
              "      <th>5</th>\n",
              "      <td>1062900</td>\n",
              "      <td>03.12.2024 21:49</td>\n",
              "      <td>NaN</td>\n",
              "      <td>Frontend Development</td>\n",
              "      <td>Canceled</td>\n",
              "      <td>0.0</td>\n",
              "      <td>TERNOPIL</td>\n",
              "      <td>NaN</td>\n",
              "    </tr>\n",
              "    <tr>\n",
              "      <th>6</th>\n",
              "      <td>1062911</td>\n",
              "      <td>04.12.2024 13:12</td>\n",
              "      <td>NaN</td>\n",
              "      <td>Frontend Development</td>\n",
              "      <td>Canceled</td>\n",
              "      <td>0.0</td>\n",
              "      <td>Vinnytsia</td>\n",
              "      <td>NaN</td>\n",
              "    </tr>\n",
              "    <tr>\n",
              "      <th>7</th>\n",
              "      <td>1062914</td>\n",
              "      <td>04.12.2024 14:57</td>\n",
              "      <td>NaN</td>\n",
              "      <td>Frontend Development</td>\n",
              "      <td>Canceled</td>\n",
              "      <td>0.0</td>\n",
              "      <td>Vinnytsia</td>\n",
              "      <td>NaN</td>\n",
              "    </tr>\n",
              "    <tr>\n",
              "      <th>8</th>\n",
              "      <td>1062915</td>\n",
              "      <td>04.12.2024 16:08</td>\n",
              "      <td>NaN</td>\n",
              "      <td>AI Engineering</td>\n",
              "      <td>Canceled</td>\n",
              "      <td>0.0</td>\n",
              "      <td>Kharkiv</td>\n",
              "      <td>NaN</td>\n",
              "    </tr>\n",
              "    <tr>\n",
              "      <th>9</th>\n",
              "      <td>1062925</td>\n",
              "      <td>04.12.2024 21:51</td>\n",
              "      <td>NaN</td>\n",
              "      <td>AI Engineering</td>\n",
              "      <td>Canceled</td>\n",
              "      <td>0.0</td>\n",
              "      <td>Kovel</td>\n",
              "      <td>NaN</td>\n",
              "    </tr>\n",
              "  </tbody>\n",
              "</table>\n",
              "</div>"
            ],
            "text/plain": [
              "   transaction_id     creation_date      payment_date           course_title  \\\n",
              "0         1062823  01.12.2024 10:50  01.12.2024 10:52         AI Engineering   \n",
              "1         1062855  01.12.2024 20:53  01.12.2024 21:27         AI Engineering   \n",
              "2         1062856  01.12.2024 21:43               NaN  Python. Data analysis   \n",
              "3         1062880   03.12.2024 0:18               NaN   Frontend Development   \n",
              "4         1062899  03.12.2024 21:43               NaN         AI Engineering   \n",
              "5         1062900  03.12.2024 21:49               NaN   Frontend Development   \n",
              "6         1062911  04.12.2024 13:12               NaN   Frontend Development   \n",
              "7         1062914  04.12.2024 14:57               NaN   Frontend Development   \n",
              "8         1062915  04.12.2024 16:08               NaN         AI Engineering   \n",
              "9         1062925  04.12.2024 21:51               NaN         AI Engineering   \n",
              "\n",
              "      status   amount        city       payment_method  \n",
              "0  Completed  29597.5       Bucha  Банківський переказ  \n",
              "1  Completed  17450.3     Kharkiv           Google Pay  \n",
              "2   Canceled      0.0   Vinnytsia                  NaN  \n",
              "3   Canceled      0.0  Pervomaisk                  NaN  \n",
              "4   Canceled      0.0       Smila                  NaN  \n",
              "5   Canceled      0.0    TERNOPIL                  NaN  \n",
              "6   Canceled      0.0   Vinnytsia                  NaN  \n",
              "7   Canceled      0.0   Vinnytsia                  NaN  \n",
              "8   Canceled      0.0     Kharkiv                  NaN  \n",
              "9   Canceled      0.0       Kovel                  NaN  "
            ]
          },
          "execution_count": 33,
          "metadata": {},
          "output_type": "execute_result"
        }
      ],
      "source": [
        "df.head(10)"
      ]
    },
    {
      "cell_type": "markdown",
      "id": "2b09b292-147f-432a-a2a4-a066c679b0a7",
      "metadata": {
        "id": "2b09b292-147f-432a-a2a4-a066c679b0a7"
      },
      "source": [
        "- By position (iloc)"
      ]
    },
    {
      "cell_type": "code",
      "execution_count": null,
      "id": "97192207-4bb1-4341-a6ae-daf653e3a4f4",
      "metadata": {
        "id": "97192207-4bb1-4341-a6ae-daf653e3a4f4",
        "outputId": "6cb8228f-fdbb-402c-9e39-25a78a6fbcbc"
      },
      "outputs": [
        {
          "data": {
            "text/html": [
              "<div>\n",
              "<style scoped>\n",
              "    .dataframe tbody tr th:only-of-type {\n",
              "        vertical-align: middle;\n",
              "    }\n",
              "\n",
              "    .dataframe tbody tr th {\n",
              "        vertical-align: top;\n",
              "    }\n",
              "\n",
              "    .dataframe thead th {\n",
              "        text-align: right;\n",
              "    }\n",
              "</style>\n",
              "<table border=\"1\" class=\"dataframe\">\n",
              "  <thead>\n",
              "    <tr style=\"text-align: right;\">\n",
              "      <th></th>\n",
              "      <th>transaction_id</th>\n",
              "      <th>creation_date</th>\n",
              "      <th>payment_date</th>\n",
              "      <th>course_title</th>\n",
              "      <th>status</th>\n",
              "      <th>amount</th>\n",
              "      <th>city</th>\n",
              "      <th>payment_method</th>\n",
              "    </tr>\n",
              "  </thead>\n",
              "  <tbody>\n",
              "    <tr>\n",
              "      <th>5</th>\n",
              "      <td>1062900</td>\n",
              "      <td>03.12.2024 21:49</td>\n",
              "      <td>NaN</td>\n",
              "      <td>Frontend Development</td>\n",
              "      <td>Canceled</td>\n",
              "      <td>0.0</td>\n",
              "      <td>TERNOPIL</td>\n",
              "      <td>NaN</td>\n",
              "    </tr>\n",
              "    <tr>\n",
              "      <th>6</th>\n",
              "      <td>1062911</td>\n",
              "      <td>04.12.2024 13:12</td>\n",
              "      <td>NaN</td>\n",
              "      <td>Frontend Development</td>\n",
              "      <td>Canceled</td>\n",
              "      <td>0.0</td>\n",
              "      <td>Vinnytsia</td>\n",
              "      <td>NaN</td>\n",
              "    </tr>\n",
              "    <tr>\n",
              "      <th>7</th>\n",
              "      <td>1062914</td>\n",
              "      <td>04.12.2024 14:57</td>\n",
              "      <td>NaN</td>\n",
              "      <td>Frontend Development</td>\n",
              "      <td>Canceled</td>\n",
              "      <td>0.0</td>\n",
              "      <td>Vinnytsia</td>\n",
              "      <td>NaN</td>\n",
              "    </tr>\n",
              "    <tr>\n",
              "      <th>8</th>\n",
              "      <td>1062915</td>\n",
              "      <td>04.12.2024 16:08</td>\n",
              "      <td>NaN</td>\n",
              "      <td>AI Engineering</td>\n",
              "      <td>Canceled</td>\n",
              "      <td>0.0</td>\n",
              "      <td>Kharkiv</td>\n",
              "      <td>NaN</td>\n",
              "    </tr>\n",
              "    <tr>\n",
              "      <th>9</th>\n",
              "      <td>1062925</td>\n",
              "      <td>04.12.2024 21:51</td>\n",
              "      <td>NaN</td>\n",
              "      <td>AI Engineering</td>\n",
              "      <td>Canceled</td>\n",
              "      <td>0.0</td>\n",
              "      <td>Kovel</td>\n",
              "      <td>NaN</td>\n",
              "    </tr>\n",
              "    <tr>\n",
              "      <th>10</th>\n",
              "      <td>1062927</td>\n",
              "      <td>04.12.2024 22:02</td>\n",
              "      <td>NaN</td>\n",
              "      <td>Python. Data analysis</td>\n",
              "      <td>Canceled</td>\n",
              "      <td>0.0</td>\n",
              "      <td>NaN</td>\n",
              "      <td>NaN</td>\n",
              "    </tr>\n",
              "  </tbody>\n",
              "</table>\n",
              "</div>"
            ],
            "text/plain": [
              "    transaction_id     creation_date payment_date           course_title  \\\n",
              "5          1062900  03.12.2024 21:49          NaN   Frontend Development   \n",
              "6          1062911  04.12.2024 13:12          NaN   Frontend Development   \n",
              "7          1062914  04.12.2024 14:57          NaN   Frontend Development   \n",
              "8          1062915  04.12.2024 16:08          NaN         AI Engineering   \n",
              "9          1062925  04.12.2024 21:51          NaN         AI Engineering   \n",
              "10         1062927  04.12.2024 22:02          NaN  Python. Data analysis   \n",
              "\n",
              "      status  amount       city payment_method  \n",
              "5   Canceled     0.0   TERNOPIL            NaN  \n",
              "6   Canceled     0.0  Vinnytsia            NaN  \n",
              "7   Canceled     0.0  Vinnytsia            NaN  \n",
              "8   Canceled     0.0    Kharkiv            NaN  \n",
              "9   Canceled     0.0      Kovel            NaN  \n",
              "10  Canceled     0.0        NaN            NaN  "
            ]
          },
          "execution_count": 34,
          "metadata": {},
          "output_type": "execute_result"
        }
      ],
      "source": [
        "df.iloc[5:11]"
      ]
    },
    {
      "cell_type": "markdown",
      "id": "086e75c1-a0bc-4b70-980e-debbab977d9f",
      "metadata": {
        "id": "086e75c1-a0bc-4b70-980e-debbab977d9f"
      },
      "source": [
        "**Filtering Data**\n",
        "- Completed transactions only"
      ]
    },
    {
      "cell_type": "code",
      "execution_count": null,
      "id": "095b4c5c-cf60-403a-a3f1-8bd7c9563242",
      "metadata": {
        "id": "095b4c5c-cf60-403a-a3f1-8bd7c9563242",
        "outputId": "fc32322c-4518-47f5-a7c4-901a9a44f7ff"
      },
      "outputs": [
        {
          "name": "stdout",
          "output_type": "stream",
          "text": [
            "     transaction_id     creation_date      payment_date  \\\n",
            "0           1062823  01.12.2024 10:50  01.12.2024 10:52   \n",
            "1           1062855  01.12.2024 20:53  01.12.2024 21:27   \n",
            "12          1062938  05.12.2024 12:07  22.12.2024 12:29   \n",
            "13          1062940  05.12.2024 15:35  05.12.2024 15:40   \n",
            "14          1062947  05.12.2024 21:39  07.12.2024 13:35   \n",
            "..              ...               ...               ...   \n",
            "286         1064712  29.12.2024 22:58  30.12.2024 10:56   \n",
            "287         1064720   30.12.2024 9:42  30.12.2024 12:49   \n",
            "289         1064775   31.12.2024 2:17   31.12.2024 2:22   \n",
            "290         1064793  31.12.2024 16:40  01.01.2020 14:29   \n",
            "291         1064796  31.12.2024 17:29  31.12.2024 17:32   \n",
            "\n",
            "               course_title     status    amount     city       payment_method  \n",
            "0            AI Engineering  Completed  29597.50    Bucha  Банківський переказ  \n",
            "1            AI Engineering  Completed  17450.30  Kharkiv           Google Pay  \n",
            "12     Frontend Development  Completed   8910.00     Lviv               PayPal  \n",
            "13         Machine Learning  Completed   9394.56      NaN               LiqPay  \n",
            "14     Frontend Development  Completed   5044.05     Sumy               LiqPay  \n",
            "..                      ...        ...       ...      ...                  ...  \n",
            "286   Python. Data analysis  Completed   3591.84     Sumy            WayForPay  \n",
            "287          Java Developer  Completed   2935.44    Irpin            Apple Pay  \n",
            "289    Frontend Development  Completed   7423.92  Kherson            Apple Pay  \n",
            "290          Java Developer  Completed   2935.44    Irpin           ПриватБанк  \n",
            "291  Python. Web-developer   Completed   9898.56     Sumy            Apple Pay  \n",
            "\n",
            "[180 rows x 8 columns]\n"
          ]
        }
      ],
      "source": [
        "completed = df[df['status'] == 'Completed']\n",
        "print(completed)"
      ]
    },
    {
      "cell_type": "markdown",
      "id": "39c4ed7c-4d96-4977-9f62-b43c9e965ce5",
      "metadata": {
        "id": "39c4ed7c-4d96-4977-9f62-b43c9e965ce5"
      },
      "source": [
        "- High-value transactions (> 20,000)"
      ]
    },
    {
      "cell_type": "code",
      "execution_count": null,
      "id": "a53d1c34-1093-4584-9cac-48ee121ec798",
      "metadata": {
        "id": "a53d1c34-1093-4584-9cac-48ee121ec798",
        "outputId": "f492f1e9-3a0d-42a1-8cf2-c327b7ae75e0"
      },
      "outputs": [
        {
          "name": "stdout",
          "output_type": "stream",
          "text": [
            "     transaction_id     creation_date      payment_date  \\\n",
            "0           1062823  01.12.2024 10:50  01.12.2024 10:52   \n",
            "16          1062949  05.12.2024 21:57   06.12.2024 9:15   \n",
            "21          1063014  08.12.2024 21:58  08.12.2024 23:51   \n",
            "37          1063251  14.12.2024 14:34  18.12.2024 13:11   \n",
            "46          1063333  16.12.2024 11:11  17.12.2024 13:42   \n",
            "50          1063391   17.12.2024 9:59  17.12.2024 10:01   \n",
            "234         1064053   23.12.2024 0:38   23.12.2024 0:42   \n",
            "270         1064553  27.12.2024 18:06  27.12.2024 18:09   \n",
            "\n",
            "              course_title     status   amount          city  \\\n",
            "0           AI Engineering  Completed  29597.5         Bucha   \n",
            "16          AI Engineering  Completed  29597.5         Irpin   \n",
            "21          AI Engineering  Completed  29597.5      Cherkasy   \n",
            "37          AI Engineering  Completed  42750.0       Kharkiv   \n",
            "46   Python. Data analysis  Completed  29695.7          Lviv   \n",
            "50   Python. Data analysis  Completed  29695.7       Kherson   \n",
            "234  Python. Data analysis  Completed  29695.7  ZAPORIZHZHIA   \n",
            "270  Python. Data analysis  Completed  29695.7  zAPORIZHZHIA   \n",
            "\n",
            "          payment_method  \n",
            "0    Банківський переказ  \n",
            "16              Монобанк  \n",
            "21                LiqPay  \n",
            "37             WayForPay  \n",
            "46            Google Pay  \n",
            "50                LiqPay  \n",
            "234             Монобанк  \n",
            "270           Google Pay  \n"
          ]
        }
      ],
      "source": [
        "high_value = df[df['amount'] > 20000]\n",
        "print(high_value)"
      ]
    },
    {
      "cell_type": "markdown",
      "id": "6ccfdaeb-364a-43ad-ad2e-d70296883af6",
      "metadata": {
        "id": "6ccfdaeb-364a-43ad-ad2e-d70296883af6"
      },
      "source": [
        "- Multiple conditions (use & for AND, | for OR)"
      ]
    },
    {
      "cell_type": "code",
      "execution_count": null,
      "id": "203ef1cd-8169-4b65-8f8c-12849baf01d9",
      "metadata": {
        "id": "203ef1cd-8169-4b65-8f8c-12849baf01d9",
        "outputId": "6b222513-e34e-4a8c-e263-4b6530d68728"
      },
      "outputs": [
        {
          "name": "stdout",
          "output_type": "stream",
          "text": [
            "     transaction_id     creation_date      payment_date  \\\n",
            "0           1062823  01.12.2024 10:50  01.12.2024 10:52   \n",
            "16          1062949  05.12.2024 21:57   06.12.2024 9:15   \n",
            "21          1063014  08.12.2024 21:58  08.12.2024 23:51   \n",
            "37          1063251  14.12.2024 14:34  18.12.2024 13:11   \n",
            "46          1063333  16.12.2024 11:11  17.12.2024 13:42   \n",
            "50          1063391   17.12.2024 9:59  17.12.2024 10:01   \n",
            "234         1064053   23.12.2024 0:38   23.12.2024 0:42   \n",
            "270         1064553  27.12.2024 18:06  27.12.2024 18:09   \n",
            "\n",
            "              course_title     status   amount          city  \\\n",
            "0           AI Engineering  Completed  29597.5         Bucha   \n",
            "16          AI Engineering  Completed  29597.5         Irpin   \n",
            "21          AI Engineering  Completed  29597.5      Cherkasy   \n",
            "37          AI Engineering  Completed  42750.0       Kharkiv   \n",
            "46   Python. Data analysis  Completed  29695.7          Lviv   \n",
            "50   Python. Data analysis  Completed  29695.7       Kherson   \n",
            "234  Python. Data analysis  Completed  29695.7  ZAPORIZHZHIA   \n",
            "270  Python. Data analysis  Completed  29695.7  zAPORIZHZHIA   \n",
            "\n",
            "          payment_method  \n",
            "0    Банківський переказ  \n",
            "16              Монобанк  \n",
            "21                LiqPay  \n",
            "37             WayForPay  \n",
            "46            Google Pay  \n",
            "50                LiqPay  \n",
            "234             Монобанк  \n",
            "270           Google Pay  \n"
          ]
        }
      ],
      "source": [
        "completed_high_value = df[(df['status'] == 'Completed') & (df['amount'] > 20000)]\n",
        "print(completed_high_value)"
      ]
    },
    {
      "cell_type": "markdown",
      "id": "9cec237f-c8f9-4bfa-b35e-d39f20918010",
      "metadata": {
        "id": "9cec237f-c8f9-4bfa-b35e-d39f20918010"
      },
      "source": [
        "- Filter by string contains (case sensitive)"
      ]
    },
    {
      "cell_type": "code",
      "execution_count": null,
      "id": "6e0185f2-6fb5-41c7-985c-ee1b3e3386cb",
      "metadata": {
        "id": "6e0185f2-6fb5-41c7-985c-ee1b3e3386cb",
        "outputId": "4b4b4e57-d401-468b-9424-277729932fcf"
      },
      "outputs": [
        {
          "name": "stdout",
          "output_type": "stream",
          "text": [
            "     transaction_id     creation_date      payment_date    course_title  \\\n",
            "0           1062823  01.12.2024 10:50  01.12.2024 10:52  AI Engineering   \n",
            "1           1062855  01.12.2024 20:53  01.12.2024 21:27  AI Engineering   \n",
            "4           1062899  03.12.2024 21:43               NaN  AI Engineering   \n",
            "8           1062915  04.12.2024 16:08               NaN  AI Engineering   \n",
            "9           1062925  04.12.2024 21:51               NaN  AI Engineering   \n",
            "11          1062931  04.12.2024 23:11               NaN  AI Engineering   \n",
            "15          1062948  05.12.2024 21:56               NaN  AI Engineering   \n",
            "16          1062949  05.12.2024 21:57   06.12.2024 9:15  AI Engineering   \n",
            "21          1063014  08.12.2024 21:58  08.12.2024 23:51  AI Engineering   \n",
            "34          1063174  13.12.2024 13:30               NaN  AI Engineering   \n",
            "35          1063186  13.12.2024 15:30               NaN  AI Engineering   \n",
            "36          1063225   14.12.2024 0:26               NaN  AI Engineering   \n",
            "37          1063251  14.12.2024 14:34  18.12.2024 13:11  AI Engineering   \n",
            "39          1063282  14.12.2024 21:42               NaN  AI Engineering   \n",
            "48          1063367  16.12.2024 21:53               NaN  AI Engineering   \n",
            "51          1063419  17.12.2024 21:47               NaN  AI Engineering   \n",
            "223         1063847  20.12.2024 21:55               NaN  AI Engineering   \n",
            "240         1064123  23.12.2024 21:54               NaN  AI Engineering   \n",
            "243         1064143   24.12.2024 7:00               NaN  AI Engineering   \n",
            "248         1064349  25.12.2024 21:51               NaN  AI Engineering   \n",
            "260         1064432  26.12.2024 21:52               NaN  AI Engineering   \n",
            "271         1064576  27.12.2024 21:58               NaN  AI Engineering   \n",
            "\n",
            "        status   amount          city       payment_method  \n",
            "0    Completed  29597.5         Bucha  Банківський переказ  \n",
            "1    Completed  17450.3       Kharkiv           Google Pay  \n",
            "4     Canceled      0.0         Smila                  NaN  \n",
            "8     Canceled      0.0       Kharkiv                  NaN  \n",
            "9     Canceled      0.0         Kovel                  NaN  \n",
            "11    Canceled      0.0    Pervomaisk                  NaN  \n",
            "15    Canceled      0.0  OdesaDnipro                   NaN  \n",
            "16   Completed  29597.5         Irpin             Монобанк  \n",
            "21   Completed  29597.5      Cherkasy               LiqPay  \n",
            "34    Canceled      0.0       Kharkiv                  NaN  \n",
            "35    Canceled      0.0         Bucha                  NaN  \n",
            "36    Canceled      0.0         Smila                  NaN  \n",
            "37   Completed  42750.0       Kharkiv            WayForPay  \n",
            "39    Canceled      0.0      Zhytomyr                  NaN  \n",
            "48    Canceled      0.0    Pervomaisk                  NaN  \n",
            "51    Canceled      0.0         Kyiv                   NaN  \n",
            "223   Canceled      0.0          Sumy                  NaN  \n",
            "240   Canceled      0.0         lutsk                  NaN  \n",
            "243   Canceled      0.0      TERNOPIL                  NaN  \n",
            "248   Canceled      0.0      Uzhhorod                  NaN  \n",
            "260   Canceled      0.0         Smila                  NaN  \n",
            "271   Canceled      0.0          Sumy                  NaN  \n"
          ]
        }
      ],
      "source": [
        "ai_courses = df[df['course_title'].str.contains('AI Engineering', na=False)]\n",
        "print(ai_courses)"
      ]
    },
    {
      "cell_type": "markdown",
      "id": "874c3a46-8923-48a2-acbf-3cd228b1b6ac",
      "metadata": {
        "id": "874c3a46-8923-48a2-acbf-3cd228b1b6ac"
      },
      "source": [
        "### 5. Basic Data Operations\n",
        "\n",
        "**Adding Columns**\n",
        "- Calculate payment delay in days (for completed transactions)"
      ]
    },
    {
      "cell_type": "code",
      "execution_count": null,
      "id": "4acd2ea0-a557-4d15-ba35-13d6a4096add",
      "metadata": {
        "id": "4acd2ea0-a557-4d15-ba35-13d6a4096add",
        "outputId": "731ec617-ec9c-4b7f-9242-720a1389112b"
      },
      "outputs": [
        {
          "data": {
            "text/html": [
              "<div>\n",
              "<style scoped>\n",
              "    .dataframe tbody tr th:only-of-type {\n",
              "        vertical-align: middle;\n",
              "    }\n",
              "\n",
              "    .dataframe tbody tr th {\n",
              "        vertical-align: top;\n",
              "    }\n",
              "\n",
              "    .dataframe thead th {\n",
              "        text-align: right;\n",
              "    }\n",
              "</style>\n",
              "<table border=\"1\" class=\"dataframe\">\n",
              "  <thead>\n",
              "    <tr style=\"text-align: right;\">\n",
              "      <th></th>\n",
              "      <th>transaction_id</th>\n",
              "      <th>creation_date</th>\n",
              "      <th>payment_date</th>\n",
              "      <th>course_title</th>\n",
              "      <th>status</th>\n",
              "      <th>amount</th>\n",
              "      <th>city</th>\n",
              "      <th>payment_method</th>\n",
              "      <th>payment_delay</th>\n",
              "    </tr>\n",
              "  </thead>\n",
              "  <tbody>\n",
              "    <tr>\n",
              "      <th>0</th>\n",
              "      <td>1062823</td>\n",
              "      <td>2024-12-01 10:50:00</td>\n",
              "      <td>2024-12-01 10:52:00</td>\n",
              "      <td>AI Engineering</td>\n",
              "      <td>Completed</td>\n",
              "      <td>29597.5</td>\n",
              "      <td>Bucha</td>\n",
              "      <td>Банківський переказ</td>\n",
              "      <td>0.0</td>\n",
              "    </tr>\n",
              "    <tr>\n",
              "      <th>1</th>\n",
              "      <td>1062855</td>\n",
              "      <td>2024-12-01 20:53:00</td>\n",
              "      <td>2024-12-01 21:27:00</td>\n",
              "      <td>AI Engineering</td>\n",
              "      <td>Completed</td>\n",
              "      <td>17450.3</td>\n",
              "      <td>Kharkiv</td>\n",
              "      <td>Google Pay</td>\n",
              "      <td>0.0</td>\n",
              "    </tr>\n",
              "    <tr>\n",
              "      <th>2</th>\n",
              "      <td>1062856</td>\n",
              "      <td>2024-12-01 21:43:00</td>\n",
              "      <td>NaT</td>\n",
              "      <td>Python. Data analysis</td>\n",
              "      <td>Canceled</td>\n",
              "      <td>0.0</td>\n",
              "      <td>Vinnytsia</td>\n",
              "      <td>NaN</td>\n",
              "      <td>NaN</td>\n",
              "    </tr>\n",
              "    <tr>\n",
              "      <th>3</th>\n",
              "      <td>1062880</td>\n",
              "      <td>2024-12-03 00:18:00</td>\n",
              "      <td>NaT</td>\n",
              "      <td>Frontend Development</td>\n",
              "      <td>Canceled</td>\n",
              "      <td>0.0</td>\n",
              "      <td>Pervomaisk</td>\n",
              "      <td>NaN</td>\n",
              "      <td>NaN</td>\n",
              "    </tr>\n",
              "    <tr>\n",
              "      <th>4</th>\n",
              "      <td>1062899</td>\n",
              "      <td>2024-12-03 21:43:00</td>\n",
              "      <td>NaT</td>\n",
              "      <td>AI Engineering</td>\n",
              "      <td>Canceled</td>\n",
              "      <td>0.0</td>\n",
              "      <td>Smila</td>\n",
              "      <td>NaN</td>\n",
              "      <td>NaN</td>\n",
              "    </tr>\n",
              "  </tbody>\n",
              "</table>\n",
              "</div>"
            ],
            "text/plain": [
              "   transaction_id       creation_date        payment_date  \\\n",
              "0         1062823 2024-12-01 10:50:00 2024-12-01 10:52:00   \n",
              "1         1062855 2024-12-01 20:53:00 2024-12-01 21:27:00   \n",
              "2         1062856 2024-12-01 21:43:00                 NaT   \n",
              "3         1062880 2024-12-03 00:18:00                 NaT   \n",
              "4         1062899 2024-12-03 21:43:00                 NaT   \n",
              "\n",
              "            course_title     status   amount        city       payment_method  \\\n",
              "0         AI Engineering  Completed  29597.5       Bucha  Банківський переказ   \n",
              "1         AI Engineering  Completed  17450.3     Kharkiv           Google Pay   \n",
              "2  Python. Data analysis   Canceled      0.0   Vinnytsia                  NaN   \n",
              "3   Frontend Development   Canceled      0.0  Pervomaisk                  NaN   \n",
              "4         AI Engineering   Canceled      0.0       Smila                  NaN   \n",
              "\n",
              "   payment_delay  \n",
              "0            0.0  \n",
              "1            0.0  \n",
              "2            NaN  \n",
              "3            NaN  \n",
              "4            NaN  "
            ]
          },
          "execution_count": 50,
          "metadata": {},
          "output_type": "execute_result"
        }
      ],
      "source": [
        "# Convert string dates to datetime first\n",
        "df['creation_date'] = pd.to_datetime(df['creation_date'], dayfirst=True)\n",
        "df['payment_date'] = pd.to_datetime(df['payment_date'], dayfirst=True, errors='coerce')\n",
        "\n",
        "# Now calculate payment delay (in days)\n",
        "df['payment_delay'] = (df['payment_date'] - df['creation_date']).dt.days\n",
        "\n",
        "df.head()"
      ]
    },
    {
      "cell_type": "markdown",
      "id": "68a4f2c3-d08c-4995-bba6-cd9667b74b79",
      "metadata": {
        "id": "68a4f2c3-d08c-4995-bba6-cd9667b74b79"
      },
      "source": [
        "**Create a binary column indicating high-value transactions**"
      ]
    },
    {
      "cell_type": "code",
      "execution_count": null,
      "id": "0bc09963-08bc-4cf0-919f-7da73f86235f",
      "metadata": {
        "id": "0bc09963-08bc-4cf0-919f-7da73f86235f",
        "outputId": "e0b90e27-0421-4058-a007-9b6aa699d923"
      },
      "outputs": [
        {
          "data": {
            "text/html": [
              "<div>\n",
              "<style scoped>\n",
              "    .dataframe tbody tr th:only-of-type {\n",
              "        vertical-align: middle;\n",
              "    }\n",
              "\n",
              "    .dataframe tbody tr th {\n",
              "        vertical-align: top;\n",
              "    }\n",
              "\n",
              "    .dataframe thead th {\n",
              "        text-align: right;\n",
              "    }\n",
              "</style>\n",
              "<table border=\"1\" class=\"dataframe\">\n",
              "  <thead>\n",
              "    <tr style=\"text-align: right;\">\n",
              "      <th></th>\n",
              "      <th>transaction_id</th>\n",
              "      <th>creation_date</th>\n",
              "      <th>payment_date</th>\n",
              "      <th>course_title</th>\n",
              "      <th>status</th>\n",
              "      <th>amount</th>\n",
              "      <th>city</th>\n",
              "      <th>payment_method</th>\n",
              "      <th>payment_delay</th>\n",
              "      <th>is_high_value</th>\n",
              "    </tr>\n",
              "  </thead>\n",
              "  <tbody>\n",
              "    <tr>\n",
              "      <th>0</th>\n",
              "      <td>1062823</td>\n",
              "      <td>2024-12-01 10:50:00</td>\n",
              "      <td>2024-12-01 10:52:00</td>\n",
              "      <td>AI Engineering</td>\n",
              "      <td>Completed</td>\n",
              "      <td>29597.5</td>\n",
              "      <td>Bucha</td>\n",
              "      <td>Банківський переказ</td>\n",
              "      <td>0.0</td>\n",
              "      <td>True</td>\n",
              "    </tr>\n",
              "    <tr>\n",
              "      <th>1</th>\n",
              "      <td>1062855</td>\n",
              "      <td>2024-12-01 20:53:00</td>\n",
              "      <td>2024-12-01 21:27:00</td>\n",
              "      <td>AI Engineering</td>\n",
              "      <td>Completed</td>\n",
              "      <td>17450.3</td>\n",
              "      <td>Kharkiv</td>\n",
              "      <td>Google Pay</td>\n",
              "      <td>0.0</td>\n",
              "      <td>False</td>\n",
              "    </tr>\n",
              "    <tr>\n",
              "      <th>2</th>\n",
              "      <td>1062856</td>\n",
              "      <td>2024-12-01 21:43:00</td>\n",
              "      <td>NaT</td>\n",
              "      <td>Python. Data analysis</td>\n",
              "      <td>Canceled</td>\n",
              "      <td>0.0</td>\n",
              "      <td>Vinnytsia</td>\n",
              "      <td>NaN</td>\n",
              "      <td>NaN</td>\n",
              "      <td>False</td>\n",
              "    </tr>\n",
              "    <tr>\n",
              "      <th>3</th>\n",
              "      <td>1062880</td>\n",
              "      <td>2024-12-03 00:18:00</td>\n",
              "      <td>NaT</td>\n",
              "      <td>Frontend Development</td>\n",
              "      <td>Canceled</td>\n",
              "      <td>0.0</td>\n",
              "      <td>Pervomaisk</td>\n",
              "      <td>NaN</td>\n",
              "      <td>NaN</td>\n",
              "      <td>False</td>\n",
              "    </tr>\n",
              "    <tr>\n",
              "      <th>4</th>\n",
              "      <td>1062899</td>\n",
              "      <td>2024-12-03 21:43:00</td>\n",
              "      <td>NaT</td>\n",
              "      <td>AI Engineering</td>\n",
              "      <td>Canceled</td>\n",
              "      <td>0.0</td>\n",
              "      <td>Smila</td>\n",
              "      <td>NaN</td>\n",
              "      <td>NaN</td>\n",
              "      <td>False</td>\n",
              "    </tr>\n",
              "  </tbody>\n",
              "</table>\n",
              "</div>"
            ],
            "text/plain": [
              "   transaction_id       creation_date        payment_date  \\\n",
              "0         1062823 2024-12-01 10:50:00 2024-12-01 10:52:00   \n",
              "1         1062855 2024-12-01 20:53:00 2024-12-01 21:27:00   \n",
              "2         1062856 2024-12-01 21:43:00                 NaT   \n",
              "3         1062880 2024-12-03 00:18:00                 NaT   \n",
              "4         1062899 2024-12-03 21:43:00                 NaT   \n",
              "\n",
              "            course_title     status   amount        city       payment_method  \\\n",
              "0         AI Engineering  Completed  29597.5       Bucha  Банківський переказ   \n",
              "1         AI Engineering  Completed  17450.3     Kharkiv           Google Pay   \n",
              "2  Python. Data analysis   Canceled      0.0   Vinnytsia                  NaN   \n",
              "3   Frontend Development   Canceled      0.0  Pervomaisk                  NaN   \n",
              "4         AI Engineering   Canceled      0.0       Smila                  NaN   \n",
              "\n",
              "   payment_delay  is_high_value  \n",
              "0            0.0           True  \n",
              "1            0.0          False  \n",
              "2            NaN          False  \n",
              "3            NaN          False  \n",
              "4            NaN          False  "
            ]
          },
          "execution_count": 51,
          "metadata": {},
          "output_type": "execute_result"
        }
      ],
      "source": [
        "df['is_high_value'] = df['amount'] > 20000\n",
        "df.head()"
      ]
    },
    {
      "cell_type": "markdown",
      "id": "44ff109b-8f79-48a5-9c0c-1731ea8e0314",
      "metadata": {
        "id": "44ff109b-8f79-48a5-9c0c-1731ea8e0314"
      },
      "source": [
        "**Removing Columns**\n",
        "- Drop the temporary column we created"
      ]
    },
    {
      "cell_type": "code",
      "execution_count": null,
      "id": "bad879ce-7da5-46c5-9a45-5ad600216351",
      "metadata": {
        "id": "bad879ce-7da5-46c5-9a45-5ad600216351",
        "outputId": "fe15a00a-cbc0-48eb-caaf-d3c43446aab9"
      },
      "outputs": [
        {
          "data": {
            "text/html": [
              "<div>\n",
              "<style scoped>\n",
              "    .dataframe tbody tr th:only-of-type {\n",
              "        vertical-align: middle;\n",
              "    }\n",
              "\n",
              "    .dataframe tbody tr th {\n",
              "        vertical-align: top;\n",
              "    }\n",
              "\n",
              "    .dataframe thead th {\n",
              "        text-align: right;\n",
              "    }\n",
              "</style>\n",
              "<table border=\"1\" class=\"dataframe\">\n",
              "  <thead>\n",
              "    <tr style=\"text-align: right;\">\n",
              "      <th></th>\n",
              "      <th>transaction_id</th>\n",
              "      <th>creation_date</th>\n",
              "      <th>payment_date</th>\n",
              "      <th>course_title</th>\n",
              "      <th>status</th>\n",
              "      <th>amount</th>\n",
              "      <th>city</th>\n",
              "      <th>payment_method</th>\n",
              "      <th>payment_delay</th>\n",
              "    </tr>\n",
              "  </thead>\n",
              "  <tbody>\n",
              "    <tr>\n",
              "      <th>0</th>\n",
              "      <td>1062823</td>\n",
              "      <td>2024-12-01 10:50:00</td>\n",
              "      <td>2024-12-01 10:52:00</td>\n",
              "      <td>AI Engineering</td>\n",
              "      <td>Completed</td>\n",
              "      <td>29597.5</td>\n",
              "      <td>Bucha</td>\n",
              "      <td>Банківський переказ</td>\n",
              "      <td>0.0</td>\n",
              "    </tr>\n",
              "    <tr>\n",
              "      <th>1</th>\n",
              "      <td>1062855</td>\n",
              "      <td>2024-12-01 20:53:00</td>\n",
              "      <td>2024-12-01 21:27:00</td>\n",
              "      <td>AI Engineering</td>\n",
              "      <td>Completed</td>\n",
              "      <td>17450.3</td>\n",
              "      <td>Kharkiv</td>\n",
              "      <td>Google Pay</td>\n",
              "      <td>0.0</td>\n",
              "    </tr>\n",
              "    <tr>\n",
              "      <th>2</th>\n",
              "      <td>1062856</td>\n",
              "      <td>2024-12-01 21:43:00</td>\n",
              "      <td>NaT</td>\n",
              "      <td>Python. Data analysis</td>\n",
              "      <td>Canceled</td>\n",
              "      <td>0.0</td>\n",
              "      <td>Vinnytsia</td>\n",
              "      <td>NaN</td>\n",
              "      <td>NaN</td>\n",
              "    </tr>\n",
              "    <tr>\n",
              "      <th>3</th>\n",
              "      <td>1062880</td>\n",
              "      <td>2024-12-03 00:18:00</td>\n",
              "      <td>NaT</td>\n",
              "      <td>Frontend Development</td>\n",
              "      <td>Canceled</td>\n",
              "      <td>0.0</td>\n",
              "      <td>Pervomaisk</td>\n",
              "      <td>NaN</td>\n",
              "      <td>NaN</td>\n",
              "    </tr>\n",
              "    <tr>\n",
              "      <th>4</th>\n",
              "      <td>1062899</td>\n",
              "      <td>2024-12-03 21:43:00</td>\n",
              "      <td>NaT</td>\n",
              "      <td>AI Engineering</td>\n",
              "      <td>Canceled</td>\n",
              "      <td>0.0</td>\n",
              "      <td>Smila</td>\n",
              "      <td>NaN</td>\n",
              "      <td>NaN</td>\n",
              "    </tr>\n",
              "  </tbody>\n",
              "</table>\n",
              "</div>"
            ],
            "text/plain": [
              "   transaction_id       creation_date        payment_date  \\\n",
              "0         1062823 2024-12-01 10:50:00 2024-12-01 10:52:00   \n",
              "1         1062855 2024-12-01 20:53:00 2024-12-01 21:27:00   \n",
              "2         1062856 2024-12-01 21:43:00                 NaT   \n",
              "3         1062880 2024-12-03 00:18:00                 NaT   \n",
              "4         1062899 2024-12-03 21:43:00                 NaT   \n",
              "\n",
              "            course_title     status   amount        city       payment_method  \\\n",
              "0         AI Engineering  Completed  29597.5       Bucha  Банківський переказ   \n",
              "1         AI Engineering  Completed  17450.3     Kharkiv           Google Pay   \n",
              "2  Python. Data analysis   Canceled      0.0   Vinnytsia                  NaN   \n",
              "3   Frontend Development   Canceled      0.0  Pervomaisk                  NaN   \n",
              "4         AI Engineering   Canceled      0.0       Smila                  NaN   \n",
              "\n",
              "   payment_delay  \n",
              "0            0.0  \n",
              "1            0.0  \n",
              "2            NaN  \n",
              "3            NaN  \n",
              "4            NaN  "
            ]
          },
          "execution_count": 52,
          "metadata": {},
          "output_type": "execute_result"
        }
      ],
      "source": [
        "df = df.drop(columns=['is_high_value'])\n",
        "df.head()"
      ]
    },
    {
      "cell_type": "markdown",
      "id": "1eef9b4e-c622-4b56-999c-763b5e2272f1",
      "metadata": {
        "id": "1eef9b4e-c622-4b56-999c-763b5e2272f1"
      },
      "source": [
        "**Sorting Data**\n",
        "- Sort by amount (descending)"
      ]
    },
    {
      "cell_type": "code",
      "execution_count": null,
      "id": "5bb35455-d605-4e3e-a009-25edc1cd2b2d",
      "metadata": {
        "id": "5bb35455-d605-4e3e-a009-25edc1cd2b2d",
        "outputId": "4c0e0fbe-da06-462b-ad34-5e5ae46a4198"
      },
      "outputs": [
        {
          "data": {
            "text/html": [
              "<div>\n",
              "<style scoped>\n",
              "    .dataframe tbody tr th:only-of-type {\n",
              "        vertical-align: middle;\n",
              "    }\n",
              "\n",
              "    .dataframe tbody tr th {\n",
              "        vertical-align: top;\n",
              "    }\n",
              "\n",
              "    .dataframe thead th {\n",
              "        text-align: right;\n",
              "    }\n",
              "</style>\n",
              "<table border=\"1\" class=\"dataframe\">\n",
              "  <thead>\n",
              "    <tr style=\"text-align: right;\">\n",
              "      <th></th>\n",
              "      <th>transaction_id</th>\n",
              "      <th>creation_date</th>\n",
              "      <th>payment_date</th>\n",
              "      <th>course_title</th>\n",
              "      <th>status</th>\n",
              "      <th>amount</th>\n",
              "      <th>city</th>\n",
              "      <th>payment_method</th>\n",
              "      <th>payment_delay</th>\n",
              "    </tr>\n",
              "  </thead>\n",
              "  <tbody>\n",
              "    <tr>\n",
              "      <th>37</th>\n",
              "      <td>1063251</td>\n",
              "      <td>2024-12-14 14:34:00</td>\n",
              "      <td>2024-12-18 13:11:00</td>\n",
              "      <td>AI Engineering</td>\n",
              "      <td>Completed</td>\n",
              "      <td>42750.0</td>\n",
              "      <td>Kharkiv</td>\n",
              "      <td>WayForPay</td>\n",
              "      <td>3.0</td>\n",
              "    </tr>\n",
              "    <tr>\n",
              "      <th>46</th>\n",
              "      <td>1063333</td>\n",
              "      <td>2024-12-16 11:11:00</td>\n",
              "      <td>2024-12-17 13:42:00</td>\n",
              "      <td>Python. Data analysis</td>\n",
              "      <td>Completed</td>\n",
              "      <td>29695.7</td>\n",
              "      <td>Lviv</td>\n",
              "      <td>Google Pay</td>\n",
              "      <td>1.0</td>\n",
              "    </tr>\n",
              "    <tr>\n",
              "      <th>270</th>\n",
              "      <td>1064553</td>\n",
              "      <td>2024-12-27 18:06:00</td>\n",
              "      <td>2024-12-27 18:09:00</td>\n",
              "      <td>Python. Data analysis</td>\n",
              "      <td>Completed</td>\n",
              "      <td>29695.7</td>\n",
              "      <td>zAPORIZHZHIA</td>\n",
              "      <td>Google Pay</td>\n",
              "      <td>0.0</td>\n",
              "    </tr>\n",
              "    <tr>\n",
              "      <th>234</th>\n",
              "      <td>1064053</td>\n",
              "      <td>2024-12-23 00:38:00</td>\n",
              "      <td>2024-12-23 00:42:00</td>\n",
              "      <td>Python. Data analysis</td>\n",
              "      <td>Completed</td>\n",
              "      <td>29695.7</td>\n",
              "      <td>ZAPORIZHZHIA</td>\n",
              "      <td>Монобанк</td>\n",
              "      <td>0.0</td>\n",
              "    </tr>\n",
              "    <tr>\n",
              "      <th>50</th>\n",
              "      <td>1063391</td>\n",
              "      <td>2024-12-17 09:59:00</td>\n",
              "      <td>2024-12-17 10:01:00</td>\n",
              "      <td>Python. Data analysis</td>\n",
              "      <td>Completed</td>\n",
              "      <td>29695.7</td>\n",
              "      <td>Kherson</td>\n",
              "      <td>LiqPay</td>\n",
              "      <td>0.0</td>\n",
              "    </tr>\n",
              "  </tbody>\n",
              "</table>\n",
              "</div>"
            ],
            "text/plain": [
              "     transaction_id       creation_date        payment_date  \\\n",
              "37          1063251 2024-12-14 14:34:00 2024-12-18 13:11:00   \n",
              "46          1063333 2024-12-16 11:11:00 2024-12-17 13:42:00   \n",
              "270         1064553 2024-12-27 18:06:00 2024-12-27 18:09:00   \n",
              "234         1064053 2024-12-23 00:38:00 2024-12-23 00:42:00   \n",
              "50          1063391 2024-12-17 09:59:00 2024-12-17 10:01:00   \n",
              "\n",
              "              course_title     status   amount          city payment_method  \\\n",
              "37          AI Engineering  Completed  42750.0       Kharkiv      WayForPay   \n",
              "46   Python. Data analysis  Completed  29695.7          Lviv     Google Pay   \n",
              "270  Python. Data analysis  Completed  29695.7  zAPORIZHZHIA     Google Pay   \n",
              "234  Python. Data analysis  Completed  29695.7  ZAPORIZHZHIA       Монобанк   \n",
              "50   Python. Data analysis  Completed  29695.7       Kherson         LiqPay   \n",
              "\n",
              "     payment_delay  \n",
              "37             3.0  \n",
              "46             1.0  \n",
              "270            0.0  \n",
              "234            0.0  \n",
              "50             0.0  "
            ]
          },
          "execution_count": 54,
          "metadata": {},
          "output_type": "execute_result"
        }
      ],
      "source": [
        "df_sorted = df.sort_values('amount', ascending=False)\n",
        "df_sorted.head()"
      ]
    },
    {
      "cell_type": "markdown",
      "id": "26b333af-9a8e-4e09-9540-0e023454b959",
      "metadata": {
        "id": "26b333af-9a8e-4e09-9540-0e023454b959"
      },
      "source": [
        "- Multi-column sort"
      ]
    },
    {
      "cell_type": "code",
      "execution_count": null,
      "id": "03a8a9f0-279f-4e85-a671-7e3ca4bca16f",
      "metadata": {
        "id": "03a8a9f0-279f-4e85-a671-7e3ca4bca16f",
        "outputId": "8aebba2a-8935-498e-ff9b-7ce3e9df1142"
      },
      "outputs": [
        {
          "data": {
            "text/html": [
              "<div>\n",
              "<style scoped>\n",
              "    .dataframe tbody tr th:only-of-type {\n",
              "        vertical-align: middle;\n",
              "    }\n",
              "\n",
              "    .dataframe tbody tr th {\n",
              "        vertical-align: top;\n",
              "    }\n",
              "\n",
              "    .dataframe thead th {\n",
              "        text-align: right;\n",
              "    }\n",
              "</style>\n",
              "<table border=\"1\" class=\"dataframe\">\n",
              "  <thead>\n",
              "    <tr style=\"text-align: right;\">\n",
              "      <th></th>\n",
              "      <th>transaction_id</th>\n",
              "      <th>creation_date</th>\n",
              "      <th>payment_date</th>\n",
              "      <th>course_title</th>\n",
              "      <th>status</th>\n",
              "      <th>amount</th>\n",
              "      <th>city</th>\n",
              "      <th>payment_method</th>\n",
              "      <th>payment_delay</th>\n",
              "    </tr>\n",
              "  </thead>\n",
              "  <tbody>\n",
              "    <tr>\n",
              "      <th>2</th>\n",
              "      <td>1062856</td>\n",
              "      <td>2024-12-01 21:43:00</td>\n",
              "      <td>NaT</td>\n",
              "      <td>Python. Data analysis</td>\n",
              "      <td>Canceled</td>\n",
              "      <td>0.0</td>\n",
              "      <td>Vinnytsia</td>\n",
              "      <td>NaN</td>\n",
              "      <td>NaN</td>\n",
              "    </tr>\n",
              "    <tr>\n",
              "      <th>3</th>\n",
              "      <td>1062880</td>\n",
              "      <td>2024-12-03 00:18:00</td>\n",
              "      <td>NaT</td>\n",
              "      <td>Frontend Development</td>\n",
              "      <td>Canceled</td>\n",
              "      <td>0.0</td>\n",
              "      <td>Pervomaisk</td>\n",
              "      <td>NaN</td>\n",
              "      <td>NaN</td>\n",
              "    </tr>\n",
              "    <tr>\n",
              "      <th>4</th>\n",
              "      <td>1062899</td>\n",
              "      <td>2024-12-03 21:43:00</td>\n",
              "      <td>NaT</td>\n",
              "      <td>AI Engineering</td>\n",
              "      <td>Canceled</td>\n",
              "      <td>0.0</td>\n",
              "      <td>Smila</td>\n",
              "      <td>NaN</td>\n",
              "      <td>NaN</td>\n",
              "    </tr>\n",
              "    <tr>\n",
              "      <th>5</th>\n",
              "      <td>1062900</td>\n",
              "      <td>2024-12-03 21:49:00</td>\n",
              "      <td>NaT</td>\n",
              "      <td>Frontend Development</td>\n",
              "      <td>Canceled</td>\n",
              "      <td>0.0</td>\n",
              "      <td>TERNOPIL</td>\n",
              "      <td>NaN</td>\n",
              "      <td>NaN</td>\n",
              "    </tr>\n",
              "    <tr>\n",
              "      <th>6</th>\n",
              "      <td>1062911</td>\n",
              "      <td>2024-12-04 13:12:00</td>\n",
              "      <td>NaT</td>\n",
              "      <td>Frontend Development</td>\n",
              "      <td>Canceled</td>\n",
              "      <td>0.0</td>\n",
              "      <td>Vinnytsia</td>\n",
              "      <td>NaN</td>\n",
              "      <td>NaN</td>\n",
              "    </tr>\n",
              "  </tbody>\n",
              "</table>\n",
              "</div>"
            ],
            "text/plain": [
              "   transaction_id       creation_date payment_date           course_title  \\\n",
              "2         1062856 2024-12-01 21:43:00          NaT  Python. Data analysis   \n",
              "3         1062880 2024-12-03 00:18:00          NaT   Frontend Development   \n",
              "4         1062899 2024-12-03 21:43:00          NaT         AI Engineering   \n",
              "5         1062900 2024-12-03 21:49:00          NaT   Frontend Development   \n",
              "6         1062911 2024-12-04 13:12:00          NaT   Frontend Development   \n",
              "\n",
              "     status  amount        city payment_method  payment_delay  \n",
              "2  Canceled     0.0   Vinnytsia            NaN            NaN  \n",
              "3  Canceled     0.0  Pervomaisk            NaN            NaN  \n",
              "4  Canceled     0.0       Smila            NaN            NaN  \n",
              "5  Canceled     0.0    TERNOPIL            NaN            NaN  \n",
              "6  Canceled     0.0   Vinnytsia            NaN            NaN  "
            ]
          },
          "execution_count": 55,
          "metadata": {},
          "output_type": "execute_result"
        }
      ],
      "source": [
        "df_sorted_multi = df.sort_values(['status', 'amount'], ascending=[True, False])\n",
        "df_sorted_multi.head()"
      ]
    },
    {
      "cell_type": "markdown",
      "id": "3c11aa46-eb60-40a7-8c81-b42b0b620639",
      "metadata": {
        "id": "3c11aa46-eb60-40a7-8c81-b42b0b620639"
      },
      "source": [
        "### Additional Important Initial Analysis Steps\n",
        "**Checking for Missing Values**"
      ]
    },
    {
      "cell_type": "code",
      "execution_count": null,
      "id": "b443ea34-4f95-4858-a758-68aec3e27e5e",
      "metadata": {
        "id": "b443ea34-4f95-4858-a758-68aec3e27e5e",
        "outputId": "e7ef35a9-0ed1-41fb-d55b-f06b6ec22859"
      },
      "outputs": [
        {
          "name": "stdout",
          "output_type": "stream",
          "text": [
            "\n",
            "Missing values per column:\n",
            "transaction_id      0\n",
            "creation_date       0\n",
            "payment_date      112\n",
            "course_title        0\n",
            "status              1\n",
            "amount              0\n",
            "city               26\n",
            "payment_method    112\n",
            "payment_delay     112\n",
            "dtype: int64\n"
          ]
        }
      ],
      "source": [
        "print(\"\\nMissing values per column:\")\n",
        "print(df.isnull().sum())"
      ]
    },
    {
      "cell_type": "markdown",
      "id": "f841cd98-4da9-4900-bfa8-c3ac07c5704b",
      "metadata": {
        "id": "f841cd98-4da9-4900-bfa8-c3ac07c5704b"
      },
      "source": [
        "**Examining Unique Values**"
      ]
    },
    {
      "cell_type": "code",
      "execution_count": null,
      "id": "4dba5fc4-71d7-4f2b-9af6-2501680c69ec",
      "metadata": {
        "id": "4dba5fc4-71d7-4f2b-9af6-2501680c69ec",
        "outputId": "d02c3841-e378-45ed-e51c-29ac2a41a3e6"
      },
      "outputs": [
        {
          "name": "stdout",
          "output_type": "stream",
          "text": [
            "\n",
            "Unique status values: ['Completed' 'Canceled' 'Pending payment' nan 'Partially paid']\n",
            "Unique course titles: ['AI Engineering' 'Python. Data analysis' 'Frontend Development'\n",
            " 'Machine Learning' 'Python. Web-developer ' 'Java Developer']\n"
          ]
        }
      ],
      "source": [
        "print(\"\\nUnique status values:\", df['status'].unique())\n",
        "print(\"Unique course titles:\", df['course_title'].unique())"
      ]
    },
    {
      "cell_type": "markdown",
      "id": "9091778f-8d04-4fec-9594-86e98aa56a6e",
      "metadata": {
        "id": "9091778f-8d04-4fec-9594-86e98aa56a6e"
      },
      "source": [
        "**Data Quality Checks**\n",
        "- Check for inconsistent city names (case sensitivity, whitespace)"
      ]
    },
    {
      "cell_type": "code",
      "execution_count": null,
      "id": "ff150fc0-cbe5-4818-b991-a64a4646539d",
      "metadata": {
        "id": "ff150fc0-cbe5-4818-b991-a64a4646539d",
        "outputId": "5b535004-59cd-4b98-92ae-e30f55d145c5"
      },
      "outputs": [
        {
          "name": "stdout",
          "output_type": "stream",
          "text": [
            "\n",
            "Sample city names: ['Bucha' 'Kharkiv' 'Vinnytsia' 'Pervomaisk' 'Smila' 'TERNOPIL' 'Kovel' nan\n",
            " 'Lviv' 'Sumy']\n"
          ]
        }
      ],
      "source": [
        "print(\"\\nSample city names:\", df['city'].str.strip().unique()[:10])"
      ]
    },
    {
      "cell_type": "markdown",
      "id": "8a90b5ce-2bf6-4a9e-b402-dca4757f3a05",
      "metadata": {
        "id": "8a90b5ce-2bf6-4a9e-b402-dca4757f3a05"
      },
      "source": [
        "- Value Counts (useful for categorical data)"
      ]
    },
    {
      "cell_type": "code",
      "execution_count": null,
      "id": "fe3ff958-863e-4d91-8198-94cf9b2c0262",
      "metadata": {
        "id": "fe3ff958-863e-4d91-8198-94cf9b2c0262",
        "outputId": "3ca045c2-262e-49ee-9efc-a6b8ccb5abd9"
      },
      "outputs": [
        {
          "name": "stdout",
          "output_type": "stream",
          "text": [
            "\n",
            "Payment method distribution:\n",
            "payment_method\n",
            "PayPal                 29\n",
            "Монобанк               21\n",
            "Apple Pay              21\n",
            "Google Pay             20\n",
            "Банківський переказ    19\n",
            "WayForPay              19\n",
            "LiqPay                 17\n",
            "ПриватБанк             13\n",
            "Готівка                11\n",
            "Portmone               10\n",
            "Name: count, dtype: int64\n"
          ]
        }
      ],
      "source": [
        "print(\"\\nPayment method distribution:\")\n",
        "print(df['payment_method'].value_counts())"
      ]
    },
    {
      "cell_type": "markdown",
      "id": "6d0f363b-eb8f-45d5-81c7-01c3a99de77b",
      "metadata": {
        "id": "6d0f363b-eb8f-45d5-81c7-01c3a99de77b"
      },
      "source": [
        "- Cross-tabulation (relationship between two categorical variables)"
      ]
    },
    {
      "cell_type": "code",
      "execution_count": null,
      "id": "6ae0dd1c-48b3-4f3a-8039-17a87af286f1",
      "metadata": {
        "id": "6ae0dd1c-48b3-4f3a-8039-17a87af286f1",
        "outputId": "3c803489-a174-4421-fed6-1976962d06d4"
      },
      "outputs": [
        {
          "name": "stdout",
          "output_type": "stream",
          "text": [
            "\n",
            "Course vs Status:\n",
            "status                  Canceled  Completed  Partially paid  Pending payment\n",
            "course_title                                                                \n",
            "AI Engineering                17          5               0                0\n",
            "Frontend Development          21         31               0                0\n",
            "Java Developer                55        125               0                1\n",
            "Machine Learning               5          3               1                0\n",
            "Python. Data analysis          5          7               0                0\n",
            "Python. Web-developer          5          9               1                0\n"
          ]
        }
      ],
      "source": [
        "print(\"\\nCourse vs Status:\")\n",
        "print(pd.crosstab(df['course_title'], df['status']))"
      ]
    },
    {
      "cell_type": "markdown",
      "id": "425a7c2c-43c6-44ba-b126-33085de2ae4a",
      "metadata": {
        "id": "425a7c2c-43c6-44ba-b126-33085de2ae4a"
      },
      "source": [
        "**Handling Text Data**\n",
        "- Clean city names (remove extra spaces, standardize case)"
      ]
    },
    {
      "cell_type": "code",
      "execution_count": null,
      "id": "45f3b27e-f120-43e7-9e06-15de9edb6dfe",
      "metadata": {
        "id": "45f3b27e-f120-43e7-9e06-15de9edb6dfe"
      },
      "outputs": [],
      "source": [
        "df['city'] = df['city'].str.strip().str.title()"
      ]
    },
    {
      "cell_type": "markdown",
      "id": "31fa132f-259e-4b38-bb6c-6ccfc07a8b2f",
      "metadata": {
        "id": "31fa132f-259e-4b38-bb6c-6ccfc07a8b2f"
      },
      "source": [
        "- Extract year/month from dates for temporal analysis"
      ]
    },
    {
      "cell_type": "code",
      "execution_count": null,
      "id": "9a9e7d6c-2cbb-4bf9-b378-81f0ac340d8c",
      "metadata": {
        "id": "9a9e7d6c-2cbb-4bf9-b378-81f0ac340d8c"
      },
      "outputs": [],
      "source": [
        "df['creation_year'] = df['creation_date'].dt.year\n",
        "df['creation_month'] = df['creation_date'].dt.month"
      ]
    },
    {
      "cell_type": "markdown",
      "id": "94ce6fc6-fb5e-4241-ae26-2e114478cfe0",
      "metadata": {
        "id": "94ce6fc6-fb5e-4241-ae26-2e114478cfe0"
      },
      "source": [
        "### Initial Observations:\n",
        "\n",
        "1. **Data Structure Preview**:\n",
        "   - The dataset contains transaction records with columns like `Number`, `Creation Date`, `Payment Date`, `Title`, `Status`, `Money Amount`, `City`, and `Payment System`.\n",
        "   - Mixed data types are visible at a glance (dates, numbers, text).\n",
        "\n",
        "2. **Missing Values**:\n",
        "   - `Date when pay` is empty for canceled transactions (e.g., rows 3-7 in head).\n",
        "   - `Money amount` shows `0` for canceled transactions.\n",
        "   - Some `City` and `Payment System` fields are empty (e.g., row 11 in head).\n",
        "\n",
        "3. **Status Patterns**:\n",
        "   - `Completed` status correlates with:\n",
        "     - Filled payment dates\n",
        "     - Positive money amounts\n",
        "     - Specified payment methods\n",
        "   - `Canceled` status shows:\n",
        "     - Empty payment dates\n",
        "     - Zero amounts\n",
        "     - Often missing payment methods\n",
        "\n",
        "4. **Data Quality Indicators**:\n",
        "   - Inconsistent city name formatting:\n",
        "     - Mixed case (e.g., \"TERNOPIL\" vs \"Vinnytsia\")\n",
        "     - Trailing spaces (e.g., \" Lviv\" vs \"Lviv\")\n",
        "     - Combined city names (\"OdesaDnipro\")\n",
        "   - Payment method names use different languages (Ukrainian and English)\n",
        "\n",
        "5. **Temporal Patterns**:\n",
        "   - Transactions span December 2024 (based on creation dates)\n",
        "   - Payment delays vary (e.g., row 1 shows 2-minute delay, while row 14 shows 17-day delay)\n",
        "\n",
        "6. **Business Context Clues**:\n",
        "   - Course titles suggest an educational platform (\"AI Engineering\", \"Frontend Development\", etc.)\n",
        "   - Payment amounts vary significantly (from 1.0 to 42750.0)\n",
        "   - Multiple payment systems are supported (Google Pay, PayPal, bank transfers)\n",
        "\n",
        "7. **Potential Anomalies**:\n",
        "   - Very small payments (1.0) in rows 28-34 might represent test transactions\n",
        "   - Some payment dates (e.g., \"01.01.2020\" in last row) appear inconsistent with creation dates\n",
        "\n",
        "**Key Questions for Further Investigation**:\n",
        "- Why do some completed transactions have payment dates before creation dates?\n",
        "- Should city names be standardized (case, spacing)?\n",
        "- Are the 1.0 payments valid or system artifacts?\n",
        "- What explains the extreme payment amount range?\n",
        "\n",
        "This initial inspection reveals both the dataset's structure and immediate data quality considerations that would need addressing before deeper analysis."
      ]
    },
    {
      "cell_type": "code",
      "execution_count": null,
      "id": "817578da-9ed3-49fa-b725-b2583de213e1",
      "metadata": {
        "id": "817578da-9ed3-49fa-b725-b2583de213e1"
      },
      "outputs": [],
      "source": []
    }
  ],
  "metadata": {
    "kernelspec": {
      "display_name": "Python 3 (ipykernel)",
      "language": "python",
      "name": "python3"
    },
    "language_info": {
      "codemirror_mode": {
        "name": "ipython",
        "version": 3
      },
      "file_extension": ".py",
      "mimetype": "text/x-python",
      "name": "python",
      "nbconvert_exporter": "python",
      "pygments_lexer": "ipython3",
      "version": "3.13.2"
    },
    "colab": {
      "provenance": [],
      "include_colab_link": true
    }
  },
  "nbformat": 4,
  "nbformat_minor": 5
}