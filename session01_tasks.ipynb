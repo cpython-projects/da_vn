{
  "nbformat": 4,
  "nbformat_minor": 0,
  "metadata": {
    "colab": {
      "provenance": [],
      "authorship_tag": "ABX9TyMSIZW4RDDZBeM7p0qbxFcY",
      "include_colab_link": true
    },
    "kernelspec": {
      "name": "python3",
      "display_name": "Python 3"
    },
    "language_info": {
      "name": "python"
    }
  },
  "cells": [
    {
      "cell_type": "markdown",
      "metadata": {
        "id": "view-in-github",
        "colab_type": "text"
      },
      "source": [
        "<a href=\"https://colab.research.google.com/github/cpython-projects/da_vn/blob/main/session01_tasks.ipynb\" target=\"_parent\"><img src=\"https://colab.research.google.com/assets/colab-badge.svg\" alt=\"Open In Colab\"/></a>"
      ]
    },
    {
      "cell_type": "markdown",
      "source": [
        "1. **Average Salary:**\n",
        "   Given a list of employee salaries for 12 months. Determine the average annual salary and print all months where the salary was above the average.\n",
        "\n",
        "   *Input*:\n",
        "   ```python\n",
        "   salaries = [3000, 3200, 3100, 3300, 3500, 3400, 3600, 3800, 3700, 3900, 4000, 4200]\n",
        "   ```\n",
        "\n",
        "   *Output Example:*\n",
        "   ```\n",
        "   Average Salary: 3600\n",
        "   Months with above-average salary: 8, 9, 10, 11, 12\n",
        "   ```"
      ],
      "metadata": {
        "id": "Zu9bL_4NBrEp"
      }
    },
    {
      "cell_type": "code",
      "execution_count": null,
      "metadata": {
        "id": "wvmUwGYQ_IYX"
      },
      "outputs": [],
      "source": []
    },
    {
      "cell_type": "markdown",
      "source": [
        "2. **Month with Identical Salary:**\n",
        "   Given a list of employee salaries for 12 months. Find all months with identical salaries.\n",
        "\n",
        "   *Input:*\n",
        "   ```python\n",
        "   salaries = [3000, 3200, 3100, 3200, 3500, 3400, 3600, 3800, 3700, 3200, 4000, 4200]\n",
        "   ```\n",
        "\n",
        "   *Output Example:*\n",
        "   ```\n",
        "   Identical salary months: 2, 4, 10\n",
        "   ```"
      ],
      "metadata": {
        "id": "crnEcKihB3as"
      }
    },
    {
      "cell_type": "code",
      "source": [],
      "metadata": {
        "id": "NG2khiE5CFYr"
      },
      "execution_count": null,
      "outputs": []
    },
    {
      "cell_type": "markdown",
      "source": [
        "3. **Salary Growth Rate:**\n",
        "   Given a list of employee salaries for 12 months. Find the month with the highest salary growth rate compared to the previous month.\n",
        "\n",
        "   *Input:*\n",
        "   ```python\n",
        "   salaries = [3000, 3200, 3100, 3300, 3500, 3400, 3600, 3800, 3700, 3900, 4000, 4200]\n",
        "   ```\n",
        "\n",
        "   *Output Example:*\n",
        "   ```\n",
        "   Month with the highest salary growth rate: 2 (Growth Rate: 6.67%)\n",
        "   ```"
      ],
      "metadata": {
        "id": "mlQwv8kACF_9"
      }
    },
    {
      "cell_type": "code",
      "source": [],
      "metadata": {
        "id": "xGyqDKc1CNVI"
      },
      "execution_count": null,
      "outputs": []
    },
    {
      "cell_type": "markdown",
      "source": [
        "4. **Online Sales Analysis**\n",
        "   A company conducts online sales. You are provided with transaction data as a list of tuples:\n",
        "\n",
        "   ```python\n",
        "   transactions = [\n",
        "       (1001, \"2025-03-01\", \"Laptop\", 1200.00, \"USD\"),\n",
        "       (1002, \"2025-03-02\", \"Mouse\", 25.50, \"USD\"),\n",
        "       (1003, \"2025-03-02\", \"Keyboard\", 45.00, \"USD\"),\n",
        "       (1004, \"2025-03-03\", \"Monitor\", 300.00, \"USD\"),\n",
        "       (1005, \"2025-03-04\", \"Desk Chair\", 150.00, \"USD\")\n",
        "   ]\n",
        "   ```\n",
        "\n",
        "   Each transaction is represented as a tuple:\n",
        "   (Order ID, Date, Product Name, Amount, Currency)\n",
        "\n",
        "   Implement the following tasks:\n",
        "\n",
        "   1. Calculate the total sales amount.\n",
        "   2. Determine the number of sales on a specific day (e.g., March 2, 2025).\n",
        "   3. Filter transactions with amounts greater than 100 USD.\n",
        "   4. Add a new transaction: a Graphics Card purchase worth 500 USD on March 5, 2025.\n",
        "   5. Delete the transaction with ID 1003.\n",
        "   6. Convert the currency from USD to EUR (1 USD = 0.92 EUR).\n",
        "   7. Find the most expensive product.\n",
        "   8. Calculate the average transaction amount.\n",
        "   9. Generate a transaction list with an additional column for VAT (20%).\n",
        "   10. Merge transactions with customer data.\n",
        "\n",
        "   ```python\n",
        "   customer_ids = [501, 502, 503, 504, 505]\n",
        "   ```"
      ],
      "metadata": {
        "id": "ZY-IuoH5CN9B"
      }
    },
    {
      "cell_type": "code",
      "source": [],
      "metadata": {
        "id": "Pu41ur9OCUUj"
      },
      "execution_count": null,
      "outputs": []
    },
    {
      "cell_type": "markdown",
      "source": [
        "5. **User Reviews Analysis**\n",
        "   You are given a list of product reviews from an e-commerce store:\n",
        "\n",
        "   ```python\n",
        "   reviews = [\n",
        "       \"Excellent product! Buying for the second time.   \",\n",
        "       \"Terrible quality. Broke within a week!\",\n",
        "       \"Decent product, but delivery was slow.\",\n",
        "       \"Very satisfied with the purchase, recommend!   \",\n",
        "       \"Would not recommend. Waste of money.  \",\n",
        "       \"Great value for money!  \",\n",
        "       \"Good product, but the packaging was damaged. \",\n",
        "       \"Bought as a gift. The recipient was satisfied.   \",\n",
        "   ]\n",
        "   ```\n",
        "\n",
        "   Perform the following tasks:\n",
        "\n",
        "   1. Remove unnecessary spaces from the reviews.\n",
        "   2. Count how many reviews contain keywords like \"good\", \"excellent\", \"great\", or \"satisfied\".\n",
        "   3. Sort the reviews by their length.\n",
        "   4. Combine all reviews into a single text.\n",
        "   5. Create a new list excluding reviews with negative keywords like \"terrible\", \"would not recommend\", or \"waste of money\"."
      ],
      "metadata": {
        "id": "OchHdNOECUo9"
      }
    },
    {
      "cell_type": "code",
      "source": [],
      "metadata": {
        "id": "x1RtsnQuCs2L"
      },
      "execution_count": null,
      "outputs": []
    }
  ]
}