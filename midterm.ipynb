{
  "nbformat": 4,
  "nbformat_minor": 0,
  "metadata": {
    "colab": {
      "provenance": [],
      "toc_visible": true,
      "authorship_tag": "ABX9TyOiC7PjRfBZgJ6Az3LuGDoE",
      "include_colab_link": true
    },
    "kernelspec": {
      "name": "python3",
      "display_name": "Python 3"
    },
    "language_info": {
      "name": "python"
    }
  },
  "cells": [
    {
      "cell_type": "markdown",
      "metadata": {
        "id": "view-in-github",
        "colab_type": "text"
      },
      "source": [
        "<a href=\"https://colab.research.google.com/github/cpython-projects/da_vn/blob/main/midterm.ipynb\" target=\"_parent\"><img src=\"https://colab.research.google.com/assets/colab-badge.svg\" alt=\"Open In Colab\"/></a>"
      ]
    },
    {
      "cell_type": "markdown",
      "source": [
        "### **Dataset Description: Client Loan Data**\n",
        "\n",
        "Dataset (client_data.csv) contains synthetic data representing client details for loan applications. It includes demographic information, employment details, financial indicators, and loan-related attributes.\n",
        "\n",
        "\n",
        "---\n",
        "\n",
        "\n",
        "**Legend (Column Descriptions):**\n",
        "\n",
        "1. **Num of Childs** – Number of children in the family (Numeric, may contain missing values).\n",
        "2. **TotalWorkExp_days** – Total work experience of the client in days (Numeric stored as a string, may contain missing values).\n",
        "3. **Client age Yrs** – Age of the client in years (Numeric stored as a string, may contain missing values).\n",
        "4. **Educat.Level** – Highest level of education attained by the client (Categorical, may contain missing values).\n",
        "5. **Ed ID** – Identifier for the education level (Numeric stored as a string, may contain missing values).\n",
        "6. **Marital stat** – Marital status of the client (Categorical, may contain missing values).\n",
        "7. **Marital_ID** – Identifier for marital status (Numeric stored as a string, may contain missing values).\n",
        "8. **Clnt Gender** – Gender of the client (Categorical: Male/Female, no missing values).\n",
        "9. **Emp.Type** – Employment type of the client (Categorical: Full-time, Part-time, Self-employed, Unemployed).\n",
        "10. **Loan Def?** – Whether the client has a history of loan default (Categorical: Yes/No, may contain missing values).\n",
        "11. **Income $** – Monthly income of the client in USD (Numeric stored as a string, may contain missing values).\n",
        "12. **Loan_purpose** – The purpose for which the client is applying for a loan (Categorical: Car, Education, Home, Business, Medical, Other).\n",
        "13. **Reg_Date** – Date when the client registered in the system (Stored as a string, requires conversion to datetime format).\n",
        "\n",
        "\n",
        "---\n",
        "\n",
        "\n",
        "**Data Problems**\n",
        "- Column names contain inconsistencies (spaces, mixed capitalization) and should be standardized.\n",
        "- Numeric columns are stored as strings and need conversion to appropriate data types.\n",
        "- Missing values exist in multiple columns and should be handled appropriately.\n",
        "- Date column requires transformation to a datetime format.\n",
        "- Additional feature engineering can be applied based on work experience and age segmentation."
      ],
      "metadata": {
        "id": "cNyrD9D3jwkr"
      }
    },
    {
      "cell_type": "markdown",
      "source": [
        "### **Tasks**"
      ],
      "metadata": {
        "id": "NuKWEbxbklSs"
      }
    },
    {
      "cell_type": "markdown",
      "source": [
        "#### **Initial Data Exploration**"
      ],
      "metadata": {
        "id": "ismLzBsvlLyX"
      }
    },
    {
      "cell_type": "markdown",
      "source": [
        "**Task 1.1** Import the Pandas library as `pd` and load the dataset."
      ],
      "metadata": {
        "id": "QnzXN9DPlU2u"
      }
    },
    {
      "cell_type": "code",
      "source": [],
      "metadata": {
        "id": "DZXu3EpgljHX"
      },
      "execution_count": null,
      "outputs": []
    },
    {
      "cell_type": "markdown",
      "source": [
        "**Task 1.2** Display the first and last five rows of the dataset."
      ],
      "metadata": {
        "id": "yn6e8nfBljoC"
      }
    },
    {
      "cell_type": "code",
      "source": [],
      "metadata": {
        "id": "CIqI6yWZlnCQ"
      },
      "execution_count": null,
      "outputs": []
    },
    {
      "cell_type": "markdown",
      "source": [
        "**Task 1.3** Check the shape (number of rows and columns) of the dataset."
      ],
      "metadata": {
        "id": "_82nKyy6lnN8"
      }
    },
    {
      "cell_type": "code",
      "source": [],
      "metadata": {
        "id": "TXpzSrZQlqKI"
      },
      "execution_count": null,
      "outputs": []
    },
    {
      "cell_type": "markdown",
      "source": [
        "**Task 1.4** Get an overview of the column names and their data types."
      ],
      "metadata": {
        "id": "ri-xsed6lqVB"
      }
    },
    {
      "cell_type": "code",
      "source": [],
      "metadata": {
        "id": "UX5avSk4lsSP"
      },
      "execution_count": null,
      "outputs": []
    },
    {
      "cell_type": "markdown",
      "source": [
        "**Task 1.5** Identify columns containing missing values and count the number of missing values in each."
      ],
      "metadata": {
        "id": "luVNcw9glseX"
      }
    },
    {
      "cell_type": "code",
      "source": [],
      "metadata": {
        "id": "rJTs31QnlutL"
      },
      "execution_count": null,
      "outputs": []
    },
    {
      "cell_type": "markdown",
      "source": [
        "✍️ **Short summary of the dataset's structure and missing values:**"
      ],
      "metadata": {
        "id": "-u6q8Ws1mFXT"
      }
    },
    {
      "cell_type": "markdown",
      "source": [
        "#### **Cleaning Column Names**"
      ],
      "metadata": {
        "id": "gBBEHDnhmNma"
      }
    },
    {
      "cell_type": "markdown",
      "source": [
        "**Task 2.1** Convert all column names to lowercase."
      ],
      "metadata": {
        "id": "nRwfWa6xmdqD"
      }
    },
    {
      "cell_type": "code",
      "source": [],
      "metadata": {
        "id": "aQwPWk6jmlBj"
      },
      "execution_count": null,
      "outputs": []
    },
    {
      "cell_type": "markdown",
      "source": [
        "**Task 2.2** Replace spaces in column names with underscores (_)."
      ],
      "metadata": {
        "id": "8vCOe6vSmhzc"
      }
    },
    {
      "cell_type": "code",
      "source": [],
      "metadata": {
        "id": "orEB3g2sml4S"
      },
      "execution_count": null,
      "outputs": []
    },
    {
      "cell_type": "markdown",
      "source": [
        "**Task 2.3** Print the updated column names."
      ],
      "metadata": {
        "id": "VqJt7M7jmjpX"
      }
    },
    {
      "cell_type": "code",
      "source": [],
      "metadata": {
        "id": "i7TciU13mmeN"
      },
      "execution_count": null,
      "outputs": []
    },
    {
      "cell_type": "markdown",
      "source": [
        "#### **Handling Missing Values**"
      ],
      "metadata": {
        "id": "tYgqXovLmuqV"
      }
    },
    {
      "cell_type": "markdown",
      "source": [
        "**Task 3.1** Decide on a strategy to handle missing values (drop, fill with mean/median/mode, or other approaches) and apply it."
      ],
      "metadata": {
        "id": "0hxaciUHm3OD"
      }
    },
    {
      "cell_type": "code",
      "source": [],
      "metadata": {
        "id": "WO1OVqYbm5ez"
      },
      "execution_count": null,
      "outputs": []
    },
    {
      "cell_type": "markdown",
      "source": [
        "**Task 3.2** Verify that no missing values remain in the dataset."
      ],
      "metadata": {
        "id": "-vY0EXn2m5rB"
      }
    },
    {
      "cell_type": "code",
      "source": [],
      "metadata": {
        "id": "6qzGfI_gm7Ot"
      },
      "execution_count": null,
      "outputs": []
    },
    {
      "cell_type": "markdown",
      "source": [
        "\n",
        "✍️ **Justify your choice of missing value treatment for different columns:**"
      ],
      "metadata": {
        "id": "MYYUc_I0m7Yr"
      }
    },
    {
      "cell_type": "markdown",
      "source": [
        "#### **Converting Data Types**"
      ],
      "metadata": {
        "id": "FZcMImTqm9kc"
      }
    },
    {
      "cell_type": "markdown",
      "source": [
        "**Task 4.1** Convert numeric columns stored as strings (`num_of_childs`, `totalworkexp_days`, `client_age_yrs`, `ed_id`, `marital_id`, `income_$`) into appropriate numeric types."
      ],
      "metadata": {
        "id": "8WL4yEcBnd-F"
      }
    },
    {
      "cell_type": "code",
      "source": [],
      "metadata": {
        "id": "QPKd4YyzngAu"
      },
      "execution_count": null,
      "outputs": []
    },
    {
      "cell_type": "markdown",
      "source": [
        "**Task 4.2** Convert `reg_date` into a datetime format."
      ],
      "metadata": {
        "id": "KKOecGEangKC"
      }
    },
    {
      "cell_type": "code",
      "source": [],
      "metadata": {
        "id": "DIqvHYvxnhx3"
      },
      "execution_count": null,
      "outputs": []
    },
    {
      "cell_type": "markdown",
      "source": [
        "**Task 4.3** Verify that all conversions were successful."
      ],
      "metadata": {
        "id": "ZC0m1jb6nh-p"
      }
    },
    {
      "cell_type": "code",
      "source": [],
      "metadata": {
        "id": "g7dfZlHXnjt1"
      },
      "execution_count": null,
      "outputs": []
    },
    {
      "cell_type": "markdown",
      "source": [
        "#### **Basic Statistical Analysis**"
      ],
      "metadata": {
        "id": "XSTFTlbFnj8d"
      }
    },
    {
      "cell_type": "markdown",
      "source": [
        "**Task 5.1** Calculate the average age of clients."
      ],
      "metadata": {
        "id": "bDJo2SmEnmkx"
      }
    },
    {
      "cell_type": "code",
      "source": [],
      "metadata": {
        "id": "XuN3QyZwnq8Z"
      },
      "execution_count": null,
      "outputs": []
    },
    {
      "cell_type": "markdown",
      "source": [
        "**Task 5.2** Find the proportion of clients who have defaulted on a loan."
      ],
      "metadata": {
        "id": "v2P2-RyQnrFT"
      }
    },
    {
      "cell_type": "code",
      "source": [],
      "metadata": {
        "id": "KRAuk4oLnuoa"
      },
      "execution_count": null,
      "outputs": []
    },
    {
      "cell_type": "markdown",
      "source": [
        "**Task 5.3** Identify the most common loan purpose."
      ],
      "metadata": {
        "id": "eXGxKReHnuxv"
      }
    },
    {
      "cell_type": "code",
      "source": [],
      "metadata": {
        "id": "2zCHmxThnwJw"
      },
      "execution_count": null,
      "outputs": []
    },
    {
      "cell_type": "markdown",
      "source": [
        "✍️ **Summarize key insights from the dataset after cleaning and transformation:**"
      ],
      "metadata": {
        "id": "lGPQ8Z7SnwTM"
      }
    }
  ]
}