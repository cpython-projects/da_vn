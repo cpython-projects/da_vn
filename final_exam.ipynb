{
  "nbformat": 4,
  "nbformat_minor": 0,
  "metadata": {
    "colab": {
      "provenance": [],
      "authorship_tag": "ABX9TyMpOwHNqJUnpJshR783ynJx",
      "include_colab_link": true
    },
    "kernelspec": {
      "name": "python3",
      "display_name": "Python 3"
    },
    "language_info": {
      "name": "python"
    }
  },
  "cells": [
    {
      "cell_type": "markdown",
      "metadata": {
        "id": "view-in-github",
        "colab_type": "text"
      },
      "source": [
        "<a href=\"https://colab.research.google.com/github/cpython-projects/da_vn/blob/main/final_exam.ipynb\" target=\"_parent\"><img src=\"https://colab.research.google.com/assets/colab-badge.svg\" alt=\"Open In Colab\"/></a>"
      ]
    },
    {
      "cell_type": "markdown",
      "source": [
        "### **Legend**\n",
        "Dataset ([ecommerce_orders_exam.csv](https://github.com/cpython-projects/da_vn/blob/main/ecommerce_orders_exam.csv)) simulates raw ecommerce order data.  \n",
        "\n",
        "---\n",
        "\n",
        "| Column Name in CSV      | Description                                                                 |\n",
        "|-------------------------|-----------------------------------------------------------------------------|\n",
        "| `order iD`              | Unique order identifier (has duplicates)                                    |\n",
        "| `user id`               | Customer ID (some missing, some duplicated)                                 |\n",
        "| `order Date`            | Date of order, stored as string in various formats (e.g., \"2023/01/12\", \"12-01-2023\") |\n",
        "| `deliveryDate`          | Delivery date (also string, some earlier than order date)                   |\n",
        "| `product`               | Product name (some contain typos or extra whitespace)                       |\n",
        "| `category`              | Product category (inconsistent casing: \"Electronics\", \"electronics\", etc.)  |\n",
        "| `pr1ce`                 | Price as string (e.g., \"$19.99\", \"19,99\", \"USD 19.99\")                       |\n",
        "| `quantity`              | Quantity purchased (some stored as float, some as text, some missing)       |\n",
        "| `total amnt`            | Total price (should be price × quantity, but has outliers and errors)       |\n",
        "| `payment`               | Payment method (some misspelled: \"Creddit Card\", \"paypal \", etc.)           |\n",
        "| `Status`                | Order status (e.g., \"completed\", \"Complete\", \"cancelled\", \"Returned\")       |\n",
        "| `city`                  | Shipping city (inconsistent casing, some misspelled)                        |\n",
        "| `Country`               | Country of the customer (some nulls, some lowercase, some abbreviations)    |\n",
        "| `Customer Name`         | Full name (some all lowercase, some all caps)                               |\n",
        "| `email`                 | Email address (some malformed: missing @, etc.)                             |\n",
        "| `phone_num`             | Phone number (varied formats: \"+1-xxx\", \"123456\", etc.)                     |\n",
        "| `used_coupon`           | Whether a coupon was used (\"yes\", \"no\", \"Yes \", \" NO\")                      |\n",
        "| `discount_applied`      | Discount in % as string (\"10%\", \"0.1\", \"five percent\")                      |\n",
        "| `is_first_Order`        | Yes/No field with values like \"Y\", \"N\", \"yes\", \"no\", \"TRUE\", \"False\"         |\n",
        "| `review_rating`         | Rating from 1 to 5 (some missing, some out of range like 7 or -1)            |\n",
        "\n",
        "---"
      ],
      "metadata": {
        "id": "P0ocHdAtY2MA"
      }
    },
    {
      "cell_type": "markdown",
      "source": [
        "### **Installation and Imports**\n",
        "\n",
        "**Task**  \n",
        "Install the required libraries and import them. You will use `pandas`, `plotly.express`, and `ydata_profiling` for data analysis and visualization."
      ],
      "metadata": {
        "id": "2M_R4zAFUgSd"
      }
    },
    {
      "cell_type": "code",
      "source": [],
      "metadata": {
        "id": "euPsKIuxVVf3"
      },
      "execution_count": null,
      "outputs": []
    },
    {
      "cell_type": "markdown",
      "source": [
        "### **Load the Dataset**\n",
        "\n",
        "**Task**  \n",
        "Upload the dataset file ([ecommerce_orders_exam.csv](https://github.com/cpython-projects/da_vn/blob/main/ecommerce_orders_exam.csv)) using the Google Colab file system and load it into a pandas DataFrame."
      ],
      "metadata": {
        "id": "gsRAJkW4Uj2i"
      }
    },
    {
      "cell_type": "code",
      "source": [],
      "metadata": {
        "id": "dIl8f2HCVoKK"
      },
      "execution_count": null,
      "outputs": []
    },
    {
      "cell_type": "markdown",
      "source": [
        "### **Initial Exploration**"
      ],
      "metadata": {
        "id": "naDvATj5Ujy6"
      }
    },
    {
      "cell_type": "markdown",
      "source": [
        "**Display the first and last few rows of the dataset.**"
      ],
      "metadata": {
        "id": "fSLhbrnBVz9N"
      }
    },
    {
      "cell_type": "code",
      "source": [],
      "metadata": {
        "id": "NGo0TssQWDaY"
      },
      "execution_count": null,
      "outputs": []
    },
    {
      "cell_type": "markdown",
      "source": [
        "**Print the number of rows and columns in dataset.**"
      ],
      "metadata": {
        "id": "Xa_IVfUqV-_1"
      }
    },
    {
      "cell_type": "code",
      "source": [],
      "metadata": {
        "id": "tHkgRpKCWD8a"
      },
      "execution_count": null,
      "outputs": []
    },
    {
      "cell_type": "markdown",
      "source": [
        "**Display data types and number of missing values.**"
      ],
      "metadata": {
        "id": "ukYLkIM_WAxY"
      }
    },
    {
      "cell_type": "code",
      "source": [],
      "metadata": {
        "id": "vbu3YQiBWEjT"
      },
      "execution_count": null,
      "outputs": []
    },
    {
      "cell_type": "markdown",
      "source": [
        "**Generate descriptive statistics for numerical and categorical columns.**"
      ],
      "metadata": {
        "id": "M1-tHqKZWCGc"
      }
    },
    {
      "cell_type": "code",
      "source": [],
      "metadata": {
        "id": "BssY3xDyWFHN"
      },
      "execution_count": null,
      "outputs": []
    },
    {
      "cell_type": "markdown",
      "source": [
        "**Insights (1-3 sentences):**"
      ],
      "metadata": {
        "id": "h9q-mMYoWFnH"
      }
    },
    {
      "cell_type": "markdown",
      "source": [
        "### **Preprocessing**"
      ],
      "metadata": {
        "id": "WWGGggnBUjvD"
      }
    },
    {
      "cell_type": "markdown",
      "source": [
        "**Remove any unnecessary or unnamed index columns.**"
      ],
      "metadata": {
        "id": "peNiY2GrUjrI"
      }
    },
    {
      "cell_type": "code",
      "source": [],
      "metadata": {
        "id": "ZU-0dRlkWwv-"
      },
      "execution_count": null,
      "outputs": []
    },
    {
      "cell_type": "markdown",
      "source": [
        "**Rename all column names to `snake_case`, lowercase format with underscores.**"
      ],
      "metadata": {
        "id": "fK0lEsuUUjjR"
      }
    },
    {
      "cell_type": "code",
      "source": [],
      "metadata": {
        "id": "5-uwGKlvWwLo"
      },
      "execution_count": null,
      "outputs": []
    },
    {
      "cell_type": "markdown",
      "source": [
        "**Check for duplicate rows and remove them if present.**"
      ],
      "metadata": {
        "id": "Jzqf1KIaUjf9"
      }
    },
    {
      "cell_type": "code",
      "source": [],
      "metadata": {
        "id": "09WTruzwWveD"
      },
      "execution_count": null,
      "outputs": []
    },
    {
      "cell_type": "markdown",
      "source": [
        "**Insights (1-3 sentences):**"
      ],
      "metadata": {
        "id": "SUL3D6DeUjcx"
      }
    },
    {
      "cell_type": "markdown",
      "source": [
        "### **Data Cleaning & Handling Missing Values**"
      ],
      "metadata": {
        "id": "8YuhmW4FUjZK"
      }
    },
    {
      "cell_type": "markdown",
      "source": [
        "**Convert columns with incorrect data types to appropriate types (e.g., `datetime`, `numeric`, `boolean`).**"
      ],
      "metadata": {
        "id": "3xJbFSm_UjVW"
      }
    },
    {
      "cell_type": "code",
      "source": [],
      "metadata": {
        "id": "Ipenu85KXR1K"
      },
      "execution_count": null,
      "outputs": []
    },
    {
      "cell_type": "markdown",
      "source": [
        "**Normalize string columns (e.g., remove extra spaces, fix casing).**"
      ],
      "metadata": {
        "id": "h7O38t32UjMH"
      }
    },
    {
      "cell_type": "code",
      "source": [],
      "metadata": {
        "id": "pwMhKeYcXRSh"
      },
      "execution_count": null,
      "outputs": []
    },
    {
      "cell_type": "markdown",
      "source": [
        "**Identify and visualize outliers in numeric columns.**"
      ],
      "metadata": {
        "id": "Sa-3mYXMUjDL"
      }
    },
    {
      "cell_type": "code",
      "source": [],
      "metadata": {
        "id": "7DWh3HOEXQyZ"
      },
      "execution_count": null,
      "outputs": []
    },
    {
      "cell_type": "markdown",
      "source": [
        "**Handle missing values (drop or fill depending on the context).**"
      ],
      "metadata": {
        "id": "CoxKtwjpXM2Z"
      }
    },
    {
      "cell_type": "code",
      "source": [],
      "metadata": {
        "id": "P9A377_dXQLm"
      },
      "execution_count": null,
      "outputs": []
    },
    {
      "cell_type": "markdown",
      "source": [
        "**Fix invalid or inconsistent data (e.g., typos in `payment`, `status`, etc.).**"
      ],
      "metadata": {
        "id": "137rqJl_XO6j"
      }
    },
    {
      "cell_type": "code",
      "source": [],
      "metadata": {
        "id": "1kllp1DhXPmO"
      },
      "execution_count": null,
      "outputs": []
    },
    {
      "cell_type": "markdown",
      "source": [
        "**Insights (1-3 sentences):**"
      ],
      "metadata": {
        "id": "HIPVgW-MXTMA"
      }
    },
    {
      "cell_type": "markdown",
      "source": [
        "### **Exploratory Data Analysis (EDA)**\n",
        "\n",
        "**Task**  \n",
        "1. Generate an automated profiling report of the dataset using `ydata_profiling` and save it in the file\n",
        "2. Identify interesting trends, anomalies, or distributions.\n"
      ],
      "metadata": {
        "id": "phXjb-cfXbOF"
      }
    },
    {
      "cell_type": "code",
      "source": [],
      "metadata": {
        "id": "jmbAemP2Xsex"
      },
      "execution_count": null,
      "outputs": []
    },
    {
      "cell_type": "markdown",
      "source": [
        "**Insights (1-3 sentences):**"
      ],
      "metadata": {
        "id": "M_P9spGVXtCI"
      }
    },
    {
      "cell_type": "markdown",
      "source": [
        "### **Grouping, Aggregation & Visualization**"
      ],
      "metadata": {
        "id": "RCaECMSEXz2v"
      }
    },
    {
      "cell_type": "markdown",
      "source": [
        "**Group data by product category and calculate total revenue.**"
      ],
      "metadata": {
        "id": "znYi9dd5X_O_"
      }
    },
    {
      "cell_type": "code",
      "source": [],
      "metadata": {
        "id": "CvVYMv5CYt9p"
      },
      "execution_count": null,
      "outputs": []
    },
    {
      "cell_type": "markdown",
      "source": [
        "**Find the top 10 products by total revenue.**"
      ],
      "metadata": {
        "id": "G7qZvIBoYCMn"
      }
    },
    {
      "cell_type": "code",
      "source": [],
      "metadata": {
        "id": "2kMDestYYulM"
      },
      "execution_count": null,
      "outputs": []
    },
    {
      "cell_type": "markdown",
      "source": [
        "**Group by country and compute:**\n",
        "   - total orders\n",
        "   - average order value\n",
        "   - number of unique users"
      ],
      "metadata": {
        "id": "p0q_OP61YEqY"
      }
    },
    {
      "cell_type": "code",
      "source": [],
      "metadata": {
        "id": "mRpOIDMbYvGy"
      },
      "execution_count": null,
      "outputs": []
    },
    {
      "cell_type": "markdown",
      "source": [
        "**Analyze order counts by month.**"
      ],
      "metadata": {
        "id": "DedOCoStYHn9"
      }
    },
    {
      "cell_type": "code",
      "source": [],
      "metadata": {
        "id": "r45XcmrcYx1H"
      },
      "execution_count": null,
      "outputs": []
    },
    {
      "cell_type": "markdown",
      "source": [
        "**Visualize:**\n",
        "   - Revenue by category (bar chart)\n",
        "   - Orders over time (line chart)\n",
        "   - Average rating per product (scatter or bar)\n",
        "   - Payment method distribution (pie or bar chart)"
      ],
      "metadata": {
        "id": "mC04jpizYJpG"
      }
    },
    {
      "cell_type": "code",
      "source": [],
      "metadata": {
        "id": "7s3eI-7WYyeI"
      },
      "execution_count": null,
      "outputs": []
    },
    {
      "cell_type": "markdown",
      "source": [
        "**Insights (1-3 sentences):**"
      ],
      "metadata": {
        "id": "-fji7fFUYy-O"
      }
    }
  ]
}