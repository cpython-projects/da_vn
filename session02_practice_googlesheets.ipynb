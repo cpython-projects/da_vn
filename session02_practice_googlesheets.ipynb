{
  "nbformat": 4,
  "nbformat_minor": 0,
  "metadata": {
    "colab": {
      "provenance": [],
      "authorship_tag": "ABX9TyNPAny8l4wj91W8PQyi2jDd",
      "include_colab_link": true
    },
    "kernelspec": {
      "name": "python3",
      "display_name": "Python 3"
    },
    "language_info": {
      "name": "python"
    }
  },
  "cells": [
    {
      "cell_type": "markdown",
      "metadata": {
        "id": "view-in-github",
        "colab_type": "text"
      },
      "source": [
        "<a href=\"https://colab.research.google.com/github/cpython-projects/da_vn/blob/main/session02_practice_googlesheets.ipynb\" target=\"_parent\"><img src=\"https://colab.research.google.com/assets/colab-badge.svg\" alt=\"Open In Colab\"/></a>"
      ]
    },
    {
      "cell_type": "markdown",
      "source": [
        "1. Install gspread  \n",
        "**!:**\n",
        "In Jupyter Notebook/Colab, the ! prefix allows you to run shell commands directly from a notebook cell.\n",
        "\n",
        "Without !, Python would treat it as Python code and raise an error.\n",
        "\n",
        "**pip:**\n",
        "\n",
        "pip is Python's package installer. It downloads and installs packages from PyPI (Python Package Index).\n",
        "\n",
        "**install --upgrade:**\n",
        "\n",
        "install: Downloads and installs the package.\n",
        "\n",
        "--upgrade (or -U): Ensures the latest version is installed, even if an older version already exists.\n",
        "\n",
        "**gspread:**\n",
        "\n",
        "The name of the Python library for Google Sheets API interactions."
      ],
      "metadata": {
        "id": "_VsimYCLe_wW"
      }
    },
    {
      "cell_type": "code",
      "execution_count": 2,
      "metadata": {
        "colab": {
          "base_uri": "https://localhost:8080/"
        },
        "id": "xl-_ebW7a-pG",
        "outputId": "7b29adf8-8bdd-409a-e707-77a3f9c4f0ed"
      },
      "outputs": [
        {
          "output_type": "stream",
          "name": "stdout",
          "text": [
            "Requirement already satisfied: gspread in /usr/local/lib/python3.11/dist-packages (6.2.0)\n",
            "Requirement already satisfied: google-auth>=1.12.0 in /usr/local/lib/python3.11/dist-packages (from gspread) (2.38.0)\n",
            "Requirement already satisfied: google-auth-oauthlib>=0.4.1 in /usr/local/lib/python3.11/dist-packages (from gspread) (1.2.1)\n",
            "Requirement already satisfied: cachetools<6.0,>=2.0.0 in /usr/local/lib/python3.11/dist-packages (from google-auth>=1.12.0->gspread) (5.5.2)\n",
            "Requirement already satisfied: pyasn1-modules>=0.2.1 in /usr/local/lib/python3.11/dist-packages (from google-auth>=1.12.0->gspread) (0.4.1)\n",
            "Requirement already satisfied: rsa<5,>=3.1.4 in /usr/local/lib/python3.11/dist-packages (from google-auth>=1.12.0->gspread) (4.9)\n",
            "Requirement already satisfied: requests-oauthlib>=0.7.0 in /usr/local/lib/python3.11/dist-packages (from google-auth-oauthlib>=0.4.1->gspread) (2.0.0)\n",
            "Requirement already satisfied: pyasn1<0.7.0,>=0.4.6 in /usr/local/lib/python3.11/dist-packages (from pyasn1-modules>=0.2.1->google-auth>=1.12.0->gspread) (0.6.1)\n",
            "Requirement already satisfied: oauthlib>=3.0.0 in /usr/local/lib/python3.11/dist-packages (from requests-oauthlib>=0.7.0->google-auth-oauthlib>=0.4.1->gspread) (3.2.2)\n",
            "Requirement already satisfied: requests>=2.0.0 in /usr/local/lib/python3.11/dist-packages (from requests-oauthlib>=0.7.0->google-auth-oauthlib>=0.4.1->gspread) (2.32.3)\n",
            "Requirement already satisfied: charset-normalizer<4,>=2 in /usr/local/lib/python3.11/dist-packages (from requests>=2.0.0->requests-oauthlib>=0.7.0->google-auth-oauthlib>=0.4.1->gspread) (3.4.1)\n",
            "Requirement already satisfied: idna<4,>=2.5 in /usr/local/lib/python3.11/dist-packages (from requests>=2.0.0->requests-oauthlib>=0.7.0->google-auth-oauthlib>=0.4.1->gspread) (3.10)\n",
            "Requirement already satisfied: urllib3<3,>=1.21.1 in /usr/local/lib/python3.11/dist-packages (from requests>=2.0.0->requests-oauthlib>=0.7.0->google-auth-oauthlib>=0.4.1->gspread) (2.3.0)\n",
            "Requirement already satisfied: certifi>=2017.4.17 in /usr/local/lib/python3.11/dist-packages (from requests>=2.0.0->requests-oauthlib>=0.7.0->google-auth-oauthlib>=0.4.1->gspread) (2025.1.31)\n"
          ]
        }
      ],
      "source": [
        "!pip install --upgrade gspread"
      ]
    },
    {
      "cell_type": "markdown",
      "source": [
        "1. Importing Required Libraries  \n",
        "\n",
        "**gspread**: A Python library for interacting with Google Sheets.\n",
        "\n",
        "**google.auth.default()**: A method from the google-auth library that fetches Application Default Credentials (ADC)—Google's recommended way to handle authentication in cloud environments."
      ],
      "metadata": {
        "id": "KYf3VfoifmLg"
      }
    },
    {
      "cell_type": "code",
      "source": [
        "import gspread\n",
        "from google.auth import default"
      ],
      "metadata": {
        "id": "q9Nti2bqcnbE"
      },
      "execution_count": 7,
      "outputs": []
    },
    {
      "cell_type": "markdown",
      "source": [
        "2. Setting Up Authentication\n",
        "\n",
        "**default()** fetches credentials automatically based on the environment:\n",
        "If running on Google Cloud (GCP, Colab, etc.), it uses the service account attached to the environment.\n",
        "\n",
        "**scopes define the permissions:**\n",
        "*  spreadsheets: Read/write access to Google Sheets.\n",
        "*  drive: Access to Google Drive (needed if opening sheets by title/URL)."
      ],
      "metadata": {
        "id": "8c0T6Vevf14f"
      }
    },
    {
      "cell_type": "code",
      "source": [
        "# Get default credentials\n",
        "credentials, project = default(scopes=[\n",
        "    'https://www.googleapis.com/auth/spreadsheets',\n",
        "    'https://www.googleapis.com/auth/drive'\n",
        "])\n",
        "gc = gspread.authorize(credentials)"
      ],
      "metadata": {
        "id": "SvLIQim_f2J6"
      },
      "execution_count": 8,
      "outputs": []
    },
    {
      "cell_type": "markdown",
      "source": [
        "3. Working with data"
      ],
      "metadata": {
        "id": "qU90wrZagTrL"
      }
    },
    {
      "cell_type": "code",
      "source": [
        "# Open a spreadsheet by its title\n",
        "sh = gc.open(\"session_02_practice\")\n",
        "\n",
        "# Select a worksheet by its title\n",
        "worksheet = sh.worksheet(\"sales_data\")\n",
        "\n",
        "# Get all values from the worksheet\n",
        "rows = worksheet.get_all_values()\n",
        "\n",
        "# Print the rows\n",
        "for row in rows:\n",
        "  print(row)"
      ],
      "metadata": {
        "colab": {
          "base_uri": "https://localhost:8080/"
        },
        "id": "oDZgEdgrgT8G",
        "outputId": "b83b478c-5426-4909-ae31-313ce4210bb3"
      },
      "execution_count": 10,
      "outputs": [
        {
          "output_type": "stream",
          "name": "stdout",
          "text": [
            "['Hello', 'Customer_ID', 'Product', 'Category', 'Quantity', 'Price', 'Date']\n",
            "['1001', '5071', 'Sofa', 'Furniture', '3', '1000', '2024-09-27']\n",
            "['1002', '5006', 'Phone', 'Electronics', '2', '500', '2024-10-21']\n",
            "['1003', '5015', 'Desk', 'Furniture', '3', '200', '2024-11-07']\n",
            "['1004', '5051', 'Sofa', 'Furniture', '3', '1000', '2024-10-21']\n",
            "['1005', '5068', 'Tablet', 'Electronics', '2', '300', '2025-03-10']\n",
            "['1006', '5010', 'Phone', 'Electronics', '4', '500', '2024-04-27']\n",
            "['1007', '5015', 'Laptop', 'Electronics', '1', '800', '2024-11-15']\n",
            "['1008', '5095', 'Tablet', 'Electronics', '2', '300', '2024-08-21']\n",
            "['1009', '5086', 'Phone', 'Electronics', '4', '500', '2025-01-22']\n",
            "['1010', '5009', 'Laptop', 'Electronics', '4', '800', '2025-03-03']\n",
            "['1011', '5052', 'Laptop', 'Electronics', '5', '800', '2024-11-21']\n",
            "['1012', '5097', 'Sofa', 'Furniture', '4', '1000', '2024-08-06']\n",
            "['1013', '5021', 'Laptop', 'Electronics', '5', '800', '2024-12-31']\n",
            "['1014', '5075', 'TV', 'Electronics', '5', '700', '2024-10-16']\n",
            "['1015', '5089', 'Phone', 'Electronics', '5', '500', '2024-05-01']\n",
            "['1016', '5068', 'Sofa', 'Furniture', '5', '1000', '2024-05-30']\n",
            "['1017', '5096', 'Phone', 'Electronics', '1', '500', '2024-06-08']\n",
            "['1018', '5095', 'Headphones', 'Electronics', '2', '100', '2024-12-15']\n",
            "['1019', '5081', 'Sofa', 'Furniture', '5', '1000', '2024-11-10']\n",
            "['1020', '5068', 'Refrigerator', 'Home Appliances', '2', '1200', '2025-03-25']\n",
            "['1021', '5071', 'Headphones', 'Electronics', '3', '100', '2025-02-12']\n",
            "['1022', '5001', 'Desk', 'Furniture', '4', '200', '2024-09-30']\n",
            "['1023', '5016', 'Phone', 'Electronics', '4', '500', '2024-04-07']\n",
            "['1024', '5067', 'Headphones', 'Electronics', '1', '100', '2024-09-15']\n",
            "['1025', '5038', 'Phone', 'Electronics', '5', '500', '2025-01-28']\n",
            "['1026', '5074', 'Phone', 'Electronics', '4', '500', '2024-10-14']\n",
            "['1027', '5083', 'Tablet', 'Electronics', '4', '300', '2024-04-21']\n",
            "['1028', '5082', 'Chair', 'Furniture', '1', '150', '2024-06-02']\n",
            "['1029', '5049', 'Tablet', 'Electronics', '1', '300', '2024-06-13']\n",
            "['1030', '5008', 'Microwave', 'Home Appliances', '4', '250', '2024-06-18']\n",
            "['1031', '5048', 'Sofa', 'Furniture', '2', '1000', '2024-05-13']\n",
            "['1032', '5086', 'Laptop', 'Electronics', '5', '800', '2025-02-05']\n",
            "['1033', '5016', 'Refrigerator', 'Home Appliances', '1', '1200', '2025-02-23']\n",
            "['1034', '5015', 'TV', 'Electronics', '5', '700', '2025-02-08']\n",
            "['1035', '5021', 'Refrigerator', 'Home Appliances', '1', '1200', '2024-11-23']\n",
            "['1036', '5036', 'Sofa', 'Furniture', '3', '1000', '2024-05-01']\n",
            "['1037', '5018', 'Laptop', 'Electronics', '3', '800', '2025-02-23']\n",
            "['1038', '5048', 'Chair', 'Furniture', '3', '150', '2025-01-28']\n",
            "['1039', '5096', 'Phone', 'Electronics', '2', '500', '2024-05-05']\n",
            "['1040', '5100', 'Refrigerator', 'Home Appliances', '3', '1200', '2024-09-03']\n",
            "['1041', '5046', 'Sofa', 'Furniture', '5', '1000', '2025-02-14']\n",
            "['1042', '5094', 'TV', 'Electronics', '5', '700', '2024-07-22']\n",
            "['1043', '5068', 'Sofa', 'Furniture', '4', '1000', '2024-04-22']\n",
            "['1044', '5086', 'Chair', 'Furniture', '4', '150', '2025-03-23']\n",
            "['1045', '5025', 'Microwave', 'Home Appliances', '4', '250', '2024-07-23']\n",
            "['1046', '5006', 'Phone', 'Electronics', '4', '500', '2024-10-26']\n",
            "['1047', '5063', 'Tablet', 'Electronics', '5', '300', '2024-05-04']\n",
            "['1048', '5051', 'TV', 'Electronics', '3', '700', '2024-06-08']\n",
            "['1049', '5031', 'Chair', 'Furniture', '4', '150', '2024-08-01']\n",
            "['1050', '5055', 'Tablet', 'Electronics', '2', '300', '2024-05-12']\n",
            "['1051', '5025', 'Phone', 'Electronics', '1', '500', '2025-03-21']\n",
            "['1052', '5078', 'Chair', 'Furniture', '5', '150', '2024-08-13']\n",
            "['1053', '5024', 'Chair', 'Furniture', '4', '150', '2025-03-07']\n",
            "['1054', '5055', 'Chair', 'Furniture', '1', '150', '2024-10-05']\n",
            "['1055', '5065', 'Tablet', 'Electronics', '5', '300', '2025-03-06']\n",
            "['1056', '5037', 'Tablet', 'Electronics', '1', '300', '2024-10-23']\n",
            "['1057', '5014', 'TV', 'Electronics', '5', '700', '2024-08-22']\n",
            "['1058', '5016', 'Refrigerator', 'Home Appliances', '1', '1200', '2024-10-11']\n",
            "['1059', '5068', 'Sofa', 'Furniture', '3', '1000', '2025-03-17']\n",
            "['1060', '5031', 'Tablet', 'Electronics', '5', '300', '2025-01-15']\n",
            "['1061', '5079', 'Refrigerator', 'Home Appliances', '5', '1200', '2024-05-03']\n",
            "['1062', '5014', 'Chair', 'Furniture', '1', '150', '2025-01-02']\n",
            "['1063', '5070', 'Desk', 'Furniture', '5', '200', '2024-11-04']\n",
            "['1064', '5014', 'Desk', 'Furniture', '1', '200', '2024-11-26']\n",
            "['1065', '5011', 'Chair', 'Furniture', '5', '150', '2024-11-20']\n",
            "['1066', '5088', 'Headphones', 'Electronics', '4', '100', '2024-06-30']\n",
            "['1067', '5073', 'Headphones', 'Electronics', '3', '100', '2025-02-03']\n",
            "['1068', '5068', 'Microwave', 'Home Appliances', '4', '250', '2024-09-10']\n",
            "['1069', '5094', 'Tablet', 'Electronics', '4', '300', '2024-04-06']\n",
            "['1070', '5042', 'Tablet', 'Electronics', '5', '300', '2025-01-08']\n",
            "['1071', '5100', 'Tablet', 'Electronics', '4', '300', '2024-11-14']\n",
            "['1072', '5031', 'Headphones', 'Electronics', '4', '100', '2024-04-24']\n",
            "['1073', '5002', 'TV', 'Electronics', '3', '700', '2024-04-23']\n",
            "['1074', '5078', 'Laptop', 'Electronics', '1', '800', '2024-11-26']\n",
            "['1075', '5049', 'Microwave', 'Home Appliances', '1', '250', '2025-02-05']\n",
            "['1076', '5001', 'Microwave', 'Home Appliances', '4', '250', '2024-05-22']\n",
            "['1077', '5063', 'TV', 'Electronics', '5', '700', '2024-11-10']\n",
            "['1078', '5061', 'Headphones', 'Electronics', '2', '100', '2025-01-18']\n",
            "['1079', '5083', 'Desk', 'Furniture', '3', '200', '2024-07-09']\n",
            "['1080', '5048', 'Headphones', 'Electronics', '3', '100', '2025-03-08']\n",
            "['1081', '5018', 'Tablet', 'Electronics', '1', '300', '2024-07-19']\n",
            "['1082', '5029', 'TV', 'Electronics', '1', '700', '2024-05-09']\n",
            "['1083', '5018', 'TV', 'Electronics', '5', '700', '2024-11-06']\n",
            "['1084', '5068', 'Refrigerator', 'Home Appliances', '4', '1200', '2024-10-01']\n",
            "['1085', '5045', 'Chair', 'Furniture', '2', '150', '2025-02-02']\n",
            "['1086', '5034', 'Sofa', 'Furniture', '5', '1000', '2025-02-10']\n",
            "['1087', '5065', 'Desk', 'Furniture', '5', '200', '2024-05-26']\n",
            "['1088', '5021', 'Laptop', 'Electronics', '2', '800', '2024-07-10']\n",
            "['1089', '5050', 'Chair', 'Furniture', '2', '150', '2024-04-20']\n",
            "['1090', '5017', 'Tablet', 'Electronics', '4', '300', '2024-12-30']\n",
            "['1091', '5070', 'TV', 'Electronics', '2', '700', '2024-11-25']\n",
            "['1092', '5044', 'Headphones', 'Electronics', '1', '100', '2024-12-09']\n",
            "['1093', '5044', 'Headphones', 'Electronics', '4', '100', '2024-12-22']\n",
            "['1094', '5091', 'Microwave', 'Home Appliances', '2', '250', '2025-01-23']\n",
            "['1095', '5084', 'Phone', 'Electronics', '2', '500', '2025-02-11']\n",
            "['1096', '5013', 'Microwave', 'Home Appliances', '1', '250', '2024-06-13']\n",
            "['1097', '5042', 'Phone', 'Electronics', '2', '500', '2024-08-09']\n",
            "['1098', '5091', 'Headphones', 'Electronics', '4', '100', '2024-08-22']\n",
            "['1099', '5008', 'Laptop', 'Electronics', '1', '800', '2024-08-10']\n",
            "['1100', '5003', 'Chair', 'Furniture', '5', '150', '2024-07-05']\n",
            "['1101', '5038', 'Microwave', 'Home Appliances', '1', '250', '2024-08-12']\n",
            "['1102', '5012', 'Phone', 'Electronics', '2', '500', '2024-04-26']\n",
            "['1103', '5005', 'Phone', 'Electronics', '3', '500', '2024-07-21']\n",
            "['1104', '5024', 'Tablet', 'Electronics', '3', '300', '2024-11-02']\n",
            "['1105', '5043', 'Headphones', 'Electronics', '3', '100', '2024-06-29']\n",
            "['1106', '5068', 'Laptop', 'Electronics', '3', '800', '2024-12-01']\n",
            "['1107', '5099', 'Tablet', 'Electronics', '1', '300', '2024-06-23']\n",
            "['1108', '5058', 'Chair', 'Furniture', '3', '150', '2024-05-01']\n",
            "['1109', '5029', 'Desk', 'Furniture', '2', '200', '2024-06-20']\n",
            "['1110', '5094', 'Microwave', 'Home Appliances', '4', '250', '2025-01-02']\n",
            "['1111', '5053', 'Desk', 'Furniture', '2', '200', '2024-05-10']\n",
            "['1112', '5079', 'Desk', 'Furniture', '4', '200', '2025-01-08']\n",
            "['1113', '5041', 'Refrigerator', 'Home Appliances', '4', '1200', '2024-10-18']\n",
            "['1114', '5097', 'Refrigerator', 'Home Appliances', '5', '1200', '2024-03-29']\n",
            "['1115', '5020', 'TV', 'Electronics', '2', '700', '2024-08-09']\n",
            "['1116', '5060', 'TV', 'Electronics', '3', '700', '2024-11-22']\n",
            "['1117', '5066', 'Phone', 'Electronics', '2', '500', '2025-02-24']\n",
            "['1118', '5088', 'Sofa', 'Furniture', '5', '1000', '2024-11-24']\n",
            "['1119', '5100', 'Refrigerator', 'Home Appliances', '3', '1200', '2024-11-18']\n",
            "['1120', '5061', 'Desk', 'Furniture', '2', '200', '2024-04-01']\n",
            "['1121', '5029', 'Headphones', 'Electronics', '4', '100', '2025-01-08']\n",
            "['1122', '5033', 'Microwave', 'Home Appliances', '2', '250', '2024-12-04']\n",
            "['1123', '5043', 'TV', 'Electronics', '5', '700', '2024-10-23']\n",
            "['1124', '5062', 'Microwave', 'Home Appliances', '4', '250', '2025-02-20']\n",
            "['1125', '5071', 'Tablet', 'Electronics', '1', '300', '2024-11-18']\n",
            "['1126', '5053', 'Chair', 'Furniture', '5', '150', '2024-07-16']\n",
            "['1127', '5014', 'Desk', 'Furniture', '3', '200', '2024-12-24']\n",
            "['1128', '5043', 'TV', 'Electronics', '3', '700', '2024-10-25']\n",
            "['1129', '5040', 'Desk', 'Furniture', '3', '200', '2024-08-05']\n",
            "['1130', '5023', 'Sofa', 'Furniture', '1', '1000', '2024-07-28']\n",
            "['1131', '5055', 'Microwave', 'Home Appliances', '5', '250', '2025-01-22']\n",
            "['1132', '5070', 'Microwave', 'Home Appliances', '1', '250', '2024-09-22']\n",
            "['1133', '5067', 'Tablet', 'Electronics', '3', '300', '2024-06-21']\n",
            "['1134', '5028', 'TV', 'Electronics', '1', '700', '2024-06-19']\n",
            "['1135', '5091', 'Phone', 'Electronics', '5', '500', '2024-07-29']\n",
            "['1136', '5043', 'Chair', 'Furniture', '3', '150', '2025-01-18']\n",
            "['1137', '5009', 'Desk', 'Furniture', '5', '200', '2024-06-27']\n",
            "['1138', '5097', 'TV', 'Electronics', '1', '700', '2024-12-12']\n",
            "['1139', '5038', 'TV', 'Electronics', '1', '700', '2024-07-11']\n",
            "['1140', '5014', 'Desk', 'Furniture', '4', '200', '2024-07-14']\n",
            "['1141', '5022', 'Refrigerator', 'Home Appliances', '4', '1200', '2025-02-02']\n",
            "['1142', '5097', 'Desk', 'Furniture', '3', '200', '2024-05-15']\n",
            "['1143', '5078', 'Phone', 'Electronics', '3', '500', '2025-02-10']\n",
            "['1144', '5077', 'TV', 'Electronics', '3', '700', '2025-03-12']\n",
            "['1145', '5028', 'Laptop', 'Electronics', '4', '800', '2024-11-07']\n",
            "['1146', '5049', 'Phone', 'Electronics', '5', '500', '2024-06-17']\n",
            "['1147', '5094', 'TV', 'Electronics', '1', '700', '2024-12-23']\n",
            "['1148', '5058', 'Chair', 'Furniture', '5', '150', '2024-08-16']\n",
            "['1149', '5021', 'Laptop', 'Electronics', '5', '800', '2024-10-11']\n",
            "['1150', '5033', 'Chair', 'Furniture', '1', '150', '2024-12-12']\n",
            "['1151', '5012', 'Sofa', 'Furniture', '1', '1000', '2024-11-13']\n",
            "['1152', '5022', 'Phone', 'Electronics', '4', '500', '2025-03-01']\n",
            "['1153', '5070', 'Tablet', 'Electronics', '3', '300', '2025-03-12']\n",
            "['1154', '5089', 'Desk', 'Furniture', '4', '200', '2024-07-16']\n",
            "['1155', '5006', 'Refrigerator', 'Home Appliances', '3', '1200', '2024-11-02']\n",
            "['1156', '5043', 'Sofa', 'Furniture', '5', '1000', '2024-08-11']\n",
            "['1157', '5053', 'Chair', 'Furniture', '3', '150', '2024-10-24']\n",
            "['1158', '5035', 'Microwave', 'Home Appliances', '3', '250', '2025-01-26']\n",
            "['1159', '5012', 'Refrigerator', 'Home Appliances', '1', '1200', '2025-03-25']\n",
            "['1160', '5001', 'Microwave', 'Home Appliances', '5', '250', '2024-04-03']\n",
            "['1161', '5016', 'Refrigerator', 'Home Appliances', '3', '1200', '2025-03-25']\n",
            "['1162', '5025', 'TV', 'Electronics', '1', '700', '2024-11-21']\n",
            "['1163', '5080', 'Laptop', 'Electronics', '3', '800', '2024-05-03']\n",
            "['1164', '5038', 'Phone', 'Electronics', '1', '500', '2024-06-12']\n",
            "['1165', '5092', 'Desk', 'Furniture', '2', '200', '2025-01-24']\n",
            "['1166', '5029', 'Microwave', 'Home Appliances', '2', '250', '2024-03-26']\n",
            "['1167', '5017', 'Phone', 'Electronics', '5', '500', '2024-08-12']\n",
            "['1168', '5095', 'Laptop', 'Electronics', '1', '800', '2024-05-04']\n",
            "['1169', '5023', 'Headphones', 'Electronics', '1', '100', '2024-11-26']\n",
            "['1170', '5095', 'Tablet', 'Electronics', '5', '300', '2024-07-16']\n",
            "['1171', '5062', 'Phone', 'Electronics', '1', '500', '2024-06-01']\n",
            "['1172', '5004', 'Headphones', 'Electronics', '4', '100', '2024-04-12']\n",
            "['1173', '5054', 'Microwave', 'Home Appliances', '4', '250', '2024-04-12']\n",
            "['1174', '5100', 'Microwave', 'Home Appliances', '2', '250', '2024-05-01']\n",
            "['1175', '5010', 'Desk', 'Furniture', '1', '200', '2025-01-19']\n",
            "['1176', '5087', 'Refrigerator', 'Home Appliances', '1', '1200', '2024-04-18']\n",
            "['1177', '5094', 'Laptop', 'Electronics', '2', '800', '2024-12-15']\n",
            "['1178', '5067', 'Microwave', 'Home Appliances', '5', '250', '2024-10-02']\n",
            "['1179', '5080', 'Refrigerator', 'Home Appliances', '3', '1200', '2024-08-07']\n",
            "['1180', '5027', 'Tablet', 'Electronics', '2', '300', '2025-01-17']\n",
            "['1181', '5003', 'Headphones', 'Electronics', '5', '100', '2024-12-16']\n",
            "['1182', '5055', 'Phone', 'Electronics', '1', '500', '2025-01-23']\n",
            "['1183', '5094', 'Sofa', 'Furniture', '1', '1000', '2024-10-30']\n",
            "['1184', '5069', 'Tablet', 'Electronics', '1', '300', '2024-05-23']\n",
            "['1185', '5057', 'Tablet', 'Electronics', '3', '300', '2025-03-03']\n",
            "['1186', '5020', 'Phone', 'Electronics', '3', '500', '2024-05-28']\n",
            "['1187', '5098', 'Microwave', 'Home Appliances', '1', '250', '2024-11-06']\n",
            "['1188', '5043', 'Chair', 'Furniture', '4', '150', '2024-12-10']\n",
            "['1189', '5076', 'Chair', 'Furniture', '1', '150', '2024-10-04']\n",
            "['1190', '5060', 'Desk', 'Furniture', '3', '200', '2024-05-12']\n",
            "['1191', '5073', 'Chair', 'Furniture', '5', '150', '2025-03-15']\n",
            "['1192', '5032', 'Refrigerator', 'Home Appliances', '5', '1200', '2024-05-21']\n",
            "['1193', '5088', 'Desk', 'Furniture', '2', '200', '2025-03-26']\n",
            "['1194', '5046', 'Microwave', 'Home Appliances', '3', '250', '2025-02-28']\n",
            "['1195', '5064', 'Phone', 'Electronics', '4', '500', '2025-01-08']\n",
            "['1196', '5098', 'Headphones', 'Electronics', '4', '100', '2024-03-27']\n",
            "['1197', '5004', 'Tablet', 'Electronics', '5', '300', '2024-10-03']\n",
            "['1198', '5074', 'Tablet', 'Electronics', '4', '300', '2024-12-01']\n",
            "['1199', '5083', 'Chair', 'Furniture', '2', '150', '2024-09-30']\n",
            "['1200', '5085', 'Refrigerator', 'Home Appliances', '4', '1200', '2024-06-01']\n"
          ]
        }
      ]
    }
  ]
}