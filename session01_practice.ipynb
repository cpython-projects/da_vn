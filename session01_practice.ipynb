{
  "nbformat": 4,
  "nbformat_minor": 0,
  "metadata": {
    "colab": {
      "provenance": [],
      "toc_visible": true,
      "authorship_tag": "ABX9TyN+kevF+jlkhY/SFpAG4xMR",
      "include_colab_link": true
    },
    "kernelspec": {
      "name": "python3",
      "display_name": "Python 3"
    },
    "language_info": {
      "name": "python"
    }
  },
  "cells": [
    {
      "cell_type": "markdown",
      "metadata": {
        "id": "view-in-github",
        "colab_type": "text"
      },
      "source": [
        "<a href=\"https://colab.research.google.com/github/cpython-projects/da_vn/blob/main/session01_practice.ipynb\" target=\"_parent\"><img src=\"https://colab.research.google.com/assets/colab-badge.svg\" alt=\"Open In Colab\"/></a>"
      ]
    },
    {
      "cell_type": "markdown",
      "source": [
        "## Purchase Analysis  \n",
        "📌 **Data Description**  \n",
        "You have a list of purchases, where each row contains:  \n",
        "\n",
        "- **№ (int)** — Purchase number  \n",
        "- **Customer Name (str)** — Name of the person who made the purchase  \n",
        "- **Amount (float)** — Purchase amount in dollars  \n",
        "- **Category (str)** — Product category  \n",
        "\n",
        "🔹 **Example Input Data (as a list of tuples):**  \n",
        "```python\n",
        "data = [\n",
        "    '1 Bob Simson 19.58$ decorations',\n",
        "    '2 Mary 66.7$ food',\n",
        "    '3 Mary 98.91$ toys',\n",
        "    '4 Aleksa 72.29$ drinks',\n",
        "    '5 Maria Simson 84.48$ food',\n",
        "    '6 Aleksa 100.41$ accessories',\n",
        "    '7 Mary 19.9$ accessories',\n",
        "    '8 Bob Simson 83.88$ drinks',\n",
        "    '9 Bob Simson 58.21$ instruments',\n",
        "    '10 Maria Simson 20.61$ accessories',\n",
        "]\n",
        "```"
      ],
      "metadata": {
        "id": "9fdiDa1tOTRm"
      }
    },
    {
      "cell_type": "markdown",
      "source": [
        "### **Task 1: Calculate the Total Purchase Amount**  \n",
        "*Expected Output:*\n",
        "```\n",
        "Total expenses: 604.99$\n",
        "```"
      ],
      "metadata": {
        "id": "Y4PeRCW1Pfmy"
      }
    },
    {
      "cell_type": "code",
      "execution_count": null,
      "metadata": {
        "id": "pQ3d88PYOSBc"
      },
      "outputs": [],
      "source": []
    },
    {
      "cell_type": "markdown",
      "source": [
        "### **Task 2: Group Expenses by Category**  \n",
        "*Expected Output:*\n",
        "```\n",
        "decorations: 19.58 USD  \n",
        "food: 151.18 USD  \n",
        "toys: 98.91 USD  \n",
        "drinks: 156.17 USD  \n",
        "accessories: 140.92 USD  \n",
        "instruments: 58.21 USD  \n",
        "```"
      ],
      "metadata": {
        "id": "IiaYb9mAOVkB"
      }
    },
    {
      "cell_type": "code",
      "source": [],
      "metadata": {
        "id": "IGrsUaAYOVy5"
      },
      "execution_count": null,
      "outputs": []
    },
    {
      "cell_type": "markdown",
      "source": [
        "\n",
        "### **Task 3: Calculate Total Expenses for Each Customer**  \n",
        "*Expected Output:*  \n",
        "```\n",
        "Bob Simson: 161.67 USD  \n",
        "Mary: 185.51 USD  \n",
        "Aleksa: 172.70 USD  \n",
        "Maria Simson: 105.09 USD  \n",
        "Total: 604.99 USD  \n",
        "```"
      ],
      "metadata": {
        "id": "3Xsv1geyPRlb"
      }
    },
    {
      "cell_type": "code",
      "source": [],
      "metadata": {
        "id": "YX4mMH9LPVAa"
      },
      "execution_count": null,
      "outputs": []
    },
    {
      "cell_type": "markdown",
      "source": [
        "## Data Preprocessing Task\n",
        "\n",
        "Each row in the dataset represents an individual purchase and contains the following information:\n",
        "\n",
        "- **InvoiceNo** — Order number (integer)\n",
        "- **StockCode** — Product code (string)\n",
        "- **Description** — Product description (string)\n",
        "- **Quantity** — Number of units sold (integer)\n",
        "- **InvoiceDate** — Date and time of the purchase (string)\n",
        "- **UnitPrice** — Price per unit (float)\n",
        "- **CustomerID** — Customer identifier (integer)\n",
        "- **Country** — Country from which the order was placed (string)"
      ],
      "metadata": {
        "id": "vYwT_1KoPsj6"
      }
    },
    {
      "cell_type": "markdown",
      "source": [
        "### Tasks\n",
        "\n",
        "1. **Split Each Row by Comma:**\n",
        "   - Convert `InvoiceNo`, `Quantity`, and `CustomerID` to integers.\n",
        "   - Convert `UnitPrice` to a floating-point number.\n",
        "   - If conversion fails, remove the row.\n",
        "   - Represent the data as a tuple.\n",
        "\n",
        "2. **Trim Whitespace:**\n",
        "   - Remove leading and trailing spaces from `Description` and `Country` fields.\n",
        "\n",
        "3. **Handle Missing or Null Values:**\n",
        "   - If `Description` is empty or equals \"null\", replace it with \"Unknown Product\".\n",
        "   - If `CustomerID` is missing or equals \"null\", replace it with `0`.\n",
        "\n",
        "4. **Remove Negative Values:**\n",
        "   - If `Quantity` or `UnitPrice` are negative, remove the row.\n",
        "\n",
        "7. **Normalize Description:**\n",
        "   - Convert `Description` to lowercase.\n",
        "   - Remove special characters (e.g., @, #, $) from the description.\n",
        "\n",
        "8. **Detect and Fix Anomalies:**\n",
        "   - If `Quantity` or `UnitPrice` are `0`, replace them with `1`, assuming a minimum order.\n",
        "\n",
        "10. **Handle Invalid Countries:**\n",
        "    - If `Country` is empty or contains invalid characters, replace it with \"Unknown Country\"."
      ],
      "metadata": {
        "id": "RGo0x9FZRQXz"
      }
    },
    {
      "cell_type": "code",
      "source": [
        "data = [\n",
        "    '572330,85014B,RED RETROSPOT UMBRELLA,1,10/24/2011 10:17,5.95,16426,United Kingdom',\n",
        "    '553747,23112,PARISIENNE CURIO CABINET,2,5/19/2011 9:47,7.5,13627,United Kingdom',\n",
        "    '539016,22655,VINTAGE RED KITCHEN CABINET,2,12/15/2010 13:49,125,13418,United Kingdom',\n",
        "    '566581,22695,WICKER WREATH SMALL,3,9/13/2011 13:47,1.45,16081,United Kingdom',\n",
        "    '577171,22138,BAKING SET 9 PIECE RETROSPOT ,3,11/18/2011 10:52,4.95,17159,United Kingdom',\n",
        "    '573036,22580,ADVENT CALENDAR GINGHAM SACK,6,10/27/2011 13:44,5.95,12437,France',\n",
        "    '567552,21731,RED TOADSTOOL LED NIGHT LIGHT,12,9/21/2011 10:40,1.65,12583,France',\n",
        "    '558862,22147,FELTCRAFT BUTTERFLY HEARTS,12,7/4/2011 12:25,1.45,13901,United Kingdom',\n",
        "    '566976,22109,FULL ENGLISH BREAKFAST PLATE,8,9/16/2011 9:27,3.75,15382,United Kingdom',\n",
        "    '551995,21555,CERAMIC STRAWBERRY TRINKET TRAY,2,5/5/2011 15:42,2.46,,United Kingdom',\n",
        "    '556219,23008,DOLLY GIRL BABY GIFT SET,2,6/9/2011 14:19,16.95,17731,United Kingdom',\n",
        "    '578332,21804,WHITE CHRISTMAS GARLAND STARS TREES,1,11/24/2011 8:50,3.75,,United Kingdom',\n",
        "    '560024,51014L,FEATHER PEN,LIGHT PINK,12,7/14/2011 13:00,0.39,15005,United Kingdom',\n",
        "    '573137,23654,SET 10 CARD SNOWMAN 16965,1,10/27/2011 17:15,2.49,,United Kingdom',\n",
        "    '549012,23004,TRAVEL CARD WALLET PANTRY,48,4/5/2011 14:51,0.42,16394,United Kingdom',\n",
        "    '565366,22384,LUNCH BAG PINK POLKADOT,10,9/2/2011 14:56,1.65,17091,United Kingdom',\n",
        "    '573315,22992,REVOLVER WOODEN RULER ,7,10/28/2011 17:27,1.95,17839,United Kingdom',\n",
        "    '540247,21415,CLAM SHELL SMALL ,2,1/5/2011 15:56,2.1,15464,United Kingdom',\n",
        "    '568040,POST,POSTAGE,4,9/23/2011 12:09,18,12681,France',\n",
        "    '578347,22074,6 RIBBONS SHIMMERING PINKS ,1,11/24/2011 9:26,1.25,,United Kingdom',\n",
        "    '580296,23546,WRAP PAISLEY PARK ,25,12/2/2011 13:49,0.42,13780,United Kingdom',\n",
        "    '565994,84969,BOX OF 6 ASSORTED COLOUR TEASPOONS,1,9/8/2011 11:46,4.25,13244,United Kingdom',\n",
        "    '559107,23205,CHARLOTTE BAG VINTAGE ALPHABET ,5,7/6/2011 11:22,0.85,15334,United Kingdom',\n",
        "    '562106,84247N,PACK/12 BLUE FOLKART CARDS,1,8/2/2011 15:19,2.95,14076,United Kingdom',\n",
        "    '556056,84378,SET OF 3 HEART COOKIE CUTTERS,1,6/8/2011 13:35,1.25,17841,United Kingdom',\n",
        "    '569523,23533,WALL ART GARDEN HAVEN ,1,10/4/2011 14:41,5.95,16033,United Kingdom',\n",
        "    '560106,22096,PINK PAISLEY SQUARE TISSUE BOX ,1,7/14/2011 20:01,0.39,17554,United Kingdom',\n",
        "    '555284,23214,JINGLE BELL HEART ANTIQUE GOLD,12,6/2/2011 9:37,1.79,14298,United Kingdom',\n",
        "    '549738,22418,10 COLOUR SPACEBOY PEN,48,4/12/2011 9:28,0.85,,Hong Kong',\n",
        "    '574856,22621,TRADITIONAL KNITTING NANCY,1,11/7/2011 12:06,3.29,,United Kingdom',\n",
        "    '557064,22921,HERB MARKER CHIVES ,2,6/16/2011 15:07,0.65,13263,United Kingdom',\n",
        "    '548545,90026D,GLASS BEAD HOOP NECKLACE AMETHYST,1,3/31/2011 19:12,8.5,13118,United Kingdom',\n",
        "    '543250,21986,PACK OF 12 PINK POLKADOT TISSUES,24,2/4/2011 14:46,0.29,13911,United Kingdom',\n",
        "    '562417,21916,SET 12 RETRO WHITE CHALK STICKS,2,8/4/2011 16:32,0.83,,United Kingdom',\n",
        "    '547362,35095B,RED VICTORIAN FABRIC OVAL BOX,360,3/22/2011 12:33,0.29,13694,United Kingdom',\n",
        "    '578074,21790,VINTAGE SNAP CARDS,1,11/22/2011 16:06,0.85,17590,United Kingdom',\n",
        "    '567818,85049C,ROMANTIC PINKS RIBBONS ,3,9/22/2011 12:41,1.25,14395,United Kingdom',\n",
        "    '566605,84596G,SMALL CHOCOLATES PINK BOWL,2,9/13/2011 16:27,0.42,13263,United Kingdom',\n",
        "    '547548,47593A,CAROUSEL PONIES BABY BIB,2,3/23/2011 15:37,0.29,15644,United Kingdom',\n",
        "    '573584,22456,NATURAL SLATE CHALKBOARD LARGE ,18,10/31/2011 14:36,4.25,16705,United Kingdom',\n",
        "    '551714,22500,SET OF 2 TINS JARDIN DE PROVENCE,2,5/3/2011 15:15,4.95,16806,United Kingdom',\n",
        "    '548152,22064,PINK DOUGHNUT TRINKET POT ,12,3/29/2011 13:04,1.65,17398,United Kingdom',\n",
        "    '537794,82486,WOOD S/3 CABINET ANT WHITE FINISH,2,12/8/2010 13:01,7.95,16713,United Kingdom',\n",
        "    '565429,22507,MEMO BOARD RETROSPOT  DESIGN,4,9/4/2011 12:54,4.95,16434,United Kingdom',\n",
        "    '541696,84912B,GREEN ROSE WASHBAG,2,1/20/2011 18:08,3.29,,United Kingdom',\n",
        "    '580092,23559,WOODLAND BUNNIES LOLLY MAKERS,6,12/1/2011 14:38,2.08,13969,United Kingdom',\n",
        "    '554808,22386,JUMBO BAG PINK POLKADOT,2,5/26/2011 13:01,2.08,17059,United Kingdom',\n",
        "    '569249,23356,LOVE HOT WATER BOTTLE,3,10/3/2011 10:15,5.95,14092,United Kingdom',\n",
        "    '539434,20961,STRAWBERRY BATH SPONGE ,1,12/17/2010 14:41,2.51,,United Kingdom',\n",
        "    '544928,22501,PICNIC BASKET WICKER LARGE,1,2/24/2011 18:07,20.79,,United Kingdom',\n",
        "    '550525,21609,SET 12 LAVENDER  BOTANICAL T-LIGHTS,4,4/19/2011 10:19,2.95,14672,United Kingdom',\n",
        "    '558123,23108,SET OF 10 LED DOLLY LIGHTS,2,6/27/2011 10:16,6.25,15834,United Kingdom',\n",
        "    '548353,22291,HANGING CHICK CREAM DECORATION,24,3/30/2011 15:05,1.45,15980,United Kingdom',\n",
        "    '568392,23205,CHARLOTTE BAG VINTAGE ALPHABET ,10,9/27/2011 10:08,0.85,14272,United Kingdom',\n",
        "    '576837,79321,CHILLI LIGHTS,2,11/16/2011 15:16,12.46,,United Kingdom',\n",
        "    '545166,22912,YELLOW COAT RACK PARIS FASHION,1,2/28/2011 14:03,4.95,17027,United Kingdom',\n",
        "    '579408,23263,SET OF 3 WOODEN HEART DECORATIONS,4,11/29/2011 12:34,1.25,14701,United Kingdom',\n",
        "    '562593,23138,SINGLE WIRE HOOK IVORY HEART,12,8/7/2011 15:43,1.45,16549,United Kingdom',\n",
        "    '566194,82583,HOT BATHS METAL SIGN,1,9/9/2011 13:42,2.1,14711,United Kingdom',\n",
        "    '569014,22302,COFFEE MUG PEARS  DESIGN,12,9/30/2011 9:05,2.55,18053,United Kingdom',\n",
        "    '552662,21944,KITTENS DESIGN FLANNEL,1,5/10/2011 15:04,1.63,,United Kingdom',\n",
        "    '572272,82486,3 DRAWER ANTIQUE WHITE WOOD CABINET,2,10/21/2011 16:18,8.95,13171,United Kingdom',\n",
        "    '577609,47504H,ENGLISH ROSE SPIRIT LEVEL ,12,11/21/2011 9:51,0.79,12349,Italy',\n",
        "    '575972,22795,SWEETHEART RECIPE BOOK STAND,1,11/13/2011 13:01,6.75,14499,United Kingdom',\n",
        "    '537351,22467,GUMBALL COAT RACK,2,12/6/2010 12:23,2.55,16898,United Kingdom',\n",
        "    '571713,90086,CRYSTAL FROG PHONE CHARM,1,10/18/2011 16:58,1.63,,United Kingdom',\n",
        "    '538071,22600,CHRISTMAS RETROSPOT STAR WOOD,2,12/9/2010 14:09,1.66,,United Kingdom',\n",
        "    '572901,23264,SET OF 3 WOODEN SLEIGH DECORATIONS,6,10/26/2011 14:54,1.25,16332,United Kingdom',\n",
        "    '544201,21181,PLEASE ONE PERSON METAL SIGN,2,2/17/2011 10:11,4.13,,United Kingdom',\n",
        "    '578225,21813,GARLAND WITH STARS AND BELLS,6,11/23/2011 11:51,4.95,17700,United Kingdom',\n",
        "    '574262,22560,TRADITIONAL MODELLING CLAY,24,11/3/2011 14:05,1.25,13721,United Kingdom',\n",
        "    '551158,22197,SMALL POPCORN HOLDER,10,4/26/2011 15:00,0.85,16823,United Kingdom',\n",
        "    '564995,23217,LAUREL HEART ANTIQUE SILVER,3,8/31/2011 16:09,1.25,16780,United Kingdom',\n",
        "    '536592,37450,CERAMIC CAKE BOWL + HANGING CAKES,1,12/1/2010 17:06,5.91,,United Kingdom',\n",
        "    '576075,20725,LUNCH BAG RED RETROSPOT,4,11/13/2011 16:16,1.65,15861,United Kingdom',\n",
        "    '541711,47599A,PINK PARTY BAGS,24,1/21/2011 11:18,2.1,14646,Netherlands',\n",
        "    '550542,84673B,BLUE FLY SWAT,1,4/19/2011 11:37,1.25,,United Kingdom',\n",
        "    '566783,21890,S/6 WOODEN SKITTLES IN COTTON BAG,6,9/15/2011 10:18,3.25,13539,United Kingdom',\n",
        "    '575656,23292,SPACEBOY CHILDRENS CUP,8,11/10/2011 14:29,1.25,13319,United Kingdom',\n",
        "    '572227,23382,BOX OF 6 CHRISTMAS CAKE DECORATIONS,1,10/21/2011 14:01,3.75,15051,United Kingdom',\n",
        "    '550318,21380,WOODEN HAPPY BIRTHDAY GARLAND,3,4/17/2011 12:25,2.95,16085,United Kingdom',\n",
        "    '548309,21722,SWEET PUDDING STICKER SHEET,2,3/30/2011 12:02,0.85,16657,United Kingdom',\n",
        "    '577768,90205C,LARGE CRYSTAL DIAMANTE HAIRSLIDE,1,11/21/2011 15:18,1.65,,United Kingdom',\n",
        "    '539955,21524,DOORMAT SPOTTY HOME SWEET HOME,2,12/23/2010 12:13,16.98,,United Kingdom',\n",
        "    '581219,23358,HOT STUFF HOT WATER BOTTLE,2,12/8/2011 9:28,7.46,,United Kingdom',\n",
        "    '560225,22457,NATURAL SLATE HEART CHALKBOARD ,2,7/15/2011 16:27,5.79,,United Kingdom',\n",
        "    '566275,23355,HOT WATER BOTTLE KEEP CALM,2,9/11/2011 13:58,4.95,16549,United Kingdom',\n",
        "    '561706,23203,JUMBO BAG DOILEY PATTERNS,10,7/29/2011 11:25,2.08,14735,United Kingdom',\n",
        "    '581126,22666,RECIPE BOX PANTRY YELLOW DESIGN,6,12/7/2011 12:43,2.95,18272,United Kingdom',\n",
        "    '577835,22090,PAPER BUNTING RETROSPOT,6,11/22/2011 10:24,2.95,16607,United Kingdom',\n",
        "    '550767,23002,TRAVEL CARD WALLET SKULLS,24,4/20/2011 12:32,0.42,14776,United Kingdom',\n",
        "    '559123,22558,CLOTHES PEGS RETROSPOT PACK 24 ,1,7/6/2011 12:26,1.65,17341,United Kingdom',\n",
        "    '571107,21754,HOME BUILDING BLOCK WORD,3,10/13/2011 16:17,6.25,13858,United Kingdom',\n",
        "    '558441,84971S,SMALL HEART FLOWERS HOOK ,1,6/29/2011 12:59,0.85,14606,United Kingdom',\n",
        "    '563213,22620,4 TRADITIONAL SPINNING TOPS,1,8/14/2011 12:55,1.45,16115,United Kingdom',\n",
        "    '563771,22727,ALARM CLOCK BAKELIKE RED ,5,8/19/2011 11:17,3.75,17841,United Kingdom',\n",
        "    '551994,21452,TOADSTOOL MONEY BOX,6,5/5/2011 15:42,2.95,12868,United Kingdom',\n",
        "    '579179,23552,BICYCLE PUNCTURE REPAIR KIT ,1,11/28/2011 15:02,2.08,17237,United Kingdom',\n",
        "    '557502,DOT,DOTCOM POSTAGE,1,6/20/2011 15:32,173.3,,United Kingdom',\n",
        "]"
      ],
      "metadata": {
        "id": "Y8E7c7pZRXrP"
      },
      "execution_count": 2,
      "outputs": []
    }
  ]
}