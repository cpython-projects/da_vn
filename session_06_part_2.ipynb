{
  "nbformat": 4,
  "nbformat_minor": 0,
  "metadata": {
    "colab": {
      "provenance": [],
      "toc_visible": true,
      "authorship_tag": "ABX9TyNbg+HDRjXHyWW1JlZ7Zbaj",
      "include_colab_link": true
    },
    "kernelspec": {
      "name": "python3",
      "display_name": "Python 3"
    },
    "language_info": {
      "name": "python"
    }
  },
  "cells": [
    {
      "cell_type": "markdown",
      "metadata": {
        "id": "view-in-github",
        "colab_type": "text"
      },
      "source": [
        "<a href=\"https://colab.research.google.com/github/cpython-projects/da_vn/blob/main/session_06_part_2.ipynb\" target=\"_parent\"><img src=\"https://colab.research.google.com/assets/colab-badge.svg\" alt=\"Open In Colab\"/></a>"
      ]
    },
    {
      "cell_type": "markdown",
      "source": [
        "### Data Visualization with Plotly\n",
        "\n",
        "You are given an e-commerce dataset (`ecommerce_data.csv`).\n",
        "Your task is to explore this dataset using **different types of visualizations** and interpret the business or analytical value of each.\n",
        "For each visualization type below, describe:\n",
        "\n",
        "- What the plot shows\n",
        "- What kind of insights or patterns we might expect to find\n",
        "\n",
        "---"
      ],
      "metadata": {
        "id": "XyL-ODRMMoFM"
      }
    },
    {
      "cell_type": "markdown",
      "source": [
        "### E-commerce Legend\n",
        "\n",
        "\n",
        "| Column Name         | Description |\n",
        "|---------------------|-------------|\n",
        "| `order_id`          | Unique identifier for each order |\n",
        "| `customer_id`       | Unique identifier for the customer |\n",
        "| `order_date`        | Date when the order was placed |\n",
        "| `product_id`        | Unique identifier for the product |\n",
        "| `product_name`      | Name of the purchased product |\n",
        "| `category`          | Product category (e.g. Electronics, Fashion) |\n",
        "| `price`             | Unit price of the product (in USD) |\n",
        "| `quantity`          | Quantity of the product ordered |\n",
        "| `weight`            | Weight of the product (e.g., \"0.5kg\") |\n",
        "| `discount`          | Discount applied on the product (in decimal, e.g. 0.15 = 15%) |\n",
        "| `shipping_cost`     | Cost to ship the product |\n",
        "| `payment_method`    | Method used for payment (e.g., Credit Card, PayPal, Debit) |\n",
        "| `delivery_status`   | Status of delivery (e.g., Delivered, Shipped, Processing) |\n",
        "| `customer_city`     | Customer's city |\n",
        "| `customer_state`    | Customer's state |\n",
        "| `customer_country`  | Customer's country |\n",
        "| `return_requested`  | 1 if a return was requested, 0 otherwise |\n",
        "| `review_score`      | Customer review rating (1 to 5) |\n",
        "| `days_to_deliver`   | Number of days it took to deliver the product |\n",
        "\n",
        "---"
      ],
      "metadata": {
        "id": "29TNAzSxNG6F"
      }
    },
    {
      "cell_type": "markdown",
      "source": [
        "### Data Reading"
      ],
      "metadata": {
        "id": "ySGbKViANR-p"
      }
    },
    {
      "cell_type": "code",
      "source": [],
      "metadata": {
        "id": "Mfn6BW_BNU9V"
      },
      "execution_count": null,
      "outputs": []
    },
    {
      "cell_type": "markdown",
      "source": [
        "### Histograms  \n",
        "- Visualize the distribution of `price`, `quantity`, `discount`, `shipping_cost`, or `review_score`\n",
        "- Look for skewed distributions, price clusters, or popular discount levels."
      ],
      "metadata": {
        "id": "q8WbAK1nKuyU"
      }
    },
    {
      "cell_type": "code",
      "source": [],
      "metadata": {
        "id": "978rOVtBK799"
      },
      "execution_count": null,
      "outputs": []
    },
    {
      "cell_type": "markdown",
      "source": [
        "*insight (write 1–3 sentences):*"
      ],
      "metadata": {
        "id": "e4M9Ql57LG6m"
      }
    },
    {
      "cell_type": "markdown",
      "source": [
        "### Boxplot  \n",
        "- Compare price or review scores across different `category` values.\n",
        "- Spot outliers, detect variability in product pricing or customer feedback by product type."
      ],
      "metadata": {
        "id": "8Bm29Lm6LdYg"
      }
    },
    {
      "cell_type": "code",
      "source": [],
      "metadata": {
        "id": "PlVDk2qPLr8y"
      },
      "execution_count": null,
      "outputs": []
    },
    {
      "cell_type": "markdown",
      "source": [
        "*insight (write 1–3 sentences):*"
      ],
      "metadata": {
        "id": "BXcD3MrzLb2C"
      }
    },
    {
      "cell_type": "markdown",
      "source": [
        "### KDE Plot (Density Plot)\n",
        "- Show the smoothed distribution of `price` or `days_to_deliver`.\n",
        "- Useful for identifying where most values are concentrated."
      ],
      "metadata": {
        "id": "S6o4rnNOLs-j"
      }
    },
    {
      "cell_type": "code",
      "source": [],
      "metadata": {
        "id": "T2iD3KmsL0J_"
      },
      "execution_count": null,
      "outputs": []
    },
    {
      "cell_type": "markdown",
      "source": [
        "*insight (write 1–3 sentences):*"
      ],
      "metadata": {
        "id": "t3x3VR5WLcDu"
      }
    },
    {
      "cell_type": "markdown",
      "source": [
        "### Scatter Plot  \n",
        "- Plot relationships such as `price` vs. `review_score`, or `shipping_cost` vs. `days_to_deliver`.\n",
        "- Identify trends, e.g., whether more expensive items get better reviews.\n"
      ],
      "metadata": {
        "id": "5FEAJB5fL02M"
      }
    },
    {
      "cell_type": "code",
      "source": [],
      "metadata": {
        "id": "6ENAVFnKL7b_"
      },
      "execution_count": null,
      "outputs": []
    },
    {
      "cell_type": "markdown",
      "source": [
        "*insight (write 1–3 sentences):*"
      ],
      "metadata": {
        "id": "yIpdpLjALcJ2"
      }
    },
    {
      "cell_type": "markdown",
      "source": [
        "### Line Plot\n",
        "- Track total sales or number of orders over time using `order_date`.\n",
        "- Reveal seasonal trends, growth, or drops in sales volume."
      ],
      "metadata": {
        "id": "r7d-59xrL80N"
      }
    },
    {
      "cell_type": "code",
      "source": [],
      "metadata": {
        "id": "MCIU8KyyMC6F"
      },
      "execution_count": null,
      "outputs": []
    },
    {
      "cell_type": "markdown",
      "source": [
        "*insight (write 1–3 sentences):*"
      ],
      "metadata": {
        "id": "HJD5rIsGLcNx"
      }
    },
    {
      "cell_type": "markdown",
      "source": [
        "### Bar Plot  \n",
        "- Show totals or averages grouped by categories, such as:\n",
        "     - Average `review_score` per `category`\n",
        "     - Total `price × quantity` per `customer_state`\n",
        "- Useful for comparing performance across groups."
      ],
      "metadata": {
        "id": "O-ydUXidMEcQ"
      }
    },
    {
      "cell_type": "code",
      "source": [],
      "metadata": {
        "id": "WBjEzqlQMKHJ"
      },
      "execution_count": null,
      "outputs": []
    },
    {
      "cell_type": "markdown",
      "source": [
        "*insight (write 1–3 sentences):*"
      ],
      "metadata": {
        "id": "XXhZyk6VLcRy"
      }
    },
    {
      "cell_type": "markdown",
      "source": [
        "### Heatmap\n",
        "- Display correlations between numeric variables like `price`, `discount`, `review_score`, `days_to_deliver`, `shipping_cost`.\n",
        "- Spot which features are closely related."
      ],
      "metadata": {
        "id": "B6drgip4MLTC"
      }
    },
    {
      "cell_type": "code",
      "source": [],
      "metadata": {
        "id": "HHRUJe1ZMS0h"
      },
      "execution_count": null,
      "outputs": []
    },
    {
      "cell_type": "markdown",
      "source": [
        "*insight (write 1–3 sentences):*"
      ],
      "metadata": {
        "id": "RnqVdrLtLcVs"
      }
    }
  ]
}