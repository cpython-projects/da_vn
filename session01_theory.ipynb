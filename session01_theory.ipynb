{
  "nbformat": 4,
  "nbformat_minor": 0,
  "metadata": {
    "colab": {
      "provenance": [],
      "authorship_tag": "ABX9TyN+2oRlD/pSoebMa50NqFC0",
      "include_colab_link": true
    },
    "kernelspec": {
      "name": "python3",
      "display_name": "Python 3"
    },
    "language_info": {
      "name": "python"
    }
  },
  "cells": [
    {
      "cell_type": "markdown",
      "metadata": {
        "id": "view-in-github",
        "colab_type": "text"
      },
      "source": [
        "<a href=\"https://colab.research.google.com/github/cpython-projects/da_vn/blob/main/session01_theory.ipynb\" target=\"_parent\"><img src=\"https://colab.research.google.com/assets/colab-badge.svg\" alt=\"Open In Colab\"/></a>"
      ]
    },
    {
      "cell_type": "markdown",
      "source": [
        "## How to execute Python code in cell\n",
        "* Click the **Play icon** in the left gutter of the cell;\n",
        "* Type **Cmd/Ctrl+Enter** to run the cell in place;\n",
        "* Type **Shift+Enter** to run the cell and move focus to the next cell (adding one if none exists); or\n",
        "* Type **Alt+Enter** to run the cell and insert a new code cell immediately below it."
      ],
      "metadata": {
        "id": "F_xEnvqEKZuu"
      }
    },
    {
      "cell_type": "markdown",
      "source": [
        "## Examples of Number Literals"
      ],
      "metadata": {
        "id": "BM0atiB8NkT3"
      }
    },
    {
      "cell_type": "code",
      "source": [
        "# Integer literals\n",
        "integer_number = 42                     # Integer\n",
        "integer_big_number = 1_000_000          # Integer\n",
        "\n",
        "# Floating-point literals\n",
        "float_decimal = 3.14          # Decimal float\n",
        "float_scientific = 1.23e4     # Scientific notation (12300.0)\n",
        "float_lt_zero = .14           # Decimal float"
      ],
      "metadata": {
        "id": "kYnJBYSQNfXq"
      },
      "execution_count": null,
      "outputs": []
    },
    {
      "cell_type": "markdown",
      "source": [
        "## Basic Arithmetic"
      ],
      "metadata": {
        "id": "pY5AGF5fKYTe"
      }
    },
    {
      "cell_type": "code",
      "source": [
        "# Addition\n",
        "2 + 3"
      ],
      "metadata": {
        "colab": {
          "base_uri": "https://localhost:8080/"
        },
        "id": "-vt3dXtaMfmM",
        "outputId": "bd7673d2-080a-480e-eb57-65447c377777"
      },
      "execution_count": null,
      "outputs": [
        {
          "output_type": "execute_result",
          "data": {
            "text/plain": [
              "5"
            ]
          },
          "metadata": {},
          "execution_count": 4
        }
      ]
    },
    {
      "cell_type": "code",
      "source": [
        "# subtraction\n",
        "3 - 2"
      ],
      "metadata": {
        "colab": {
          "base_uri": "https://localhost:8080/"
        },
        "id": "etq8_5YAOgon",
        "outputId": "608fcf1e-f66f-48c1-aed4-80f0e6e2e5b2"
      },
      "execution_count": null,
      "outputs": [
        {
          "output_type": "execute_result",
          "data": {
            "text/plain": [
              "1"
            ]
          },
          "metadata": {},
          "execution_count": 13
        }
      ]
    },
    {
      "cell_type": "code",
      "source": [
        "# Multiplication\n",
        "4 * 7"
      ],
      "metadata": {
        "colab": {
          "base_uri": "https://localhost:8080/"
        },
        "id": "PyFmPFbhOH3D",
        "outputId": "89ede402-1153-4f82-968d-13000b304aa4"
      },
      "execution_count": null,
      "outputs": [
        {
          "output_type": "execute_result",
          "data": {
            "text/plain": [
              "28"
            ]
          },
          "metadata": {},
          "execution_count": 9
        }
      ]
    },
    {
      "cell_type": "code",
      "source": [
        "# Division (float result)\n",
        "5 / 2"
      ],
      "metadata": {
        "colab": {
          "base_uri": "https://localhost:8080/"
        },
        "id": "0_L9n6vkMlV5",
        "outputId": "7ec3281a-2042-4b96-e5ce-91a75cd3cc90"
      },
      "execution_count": null,
      "outputs": [
        {
          "output_type": "execute_result",
          "data": {
            "text/plain": [
              "2.5"
            ]
          },
          "metadata": {},
          "execution_count": 10
        }
      ]
    },
    {
      "cell_type": "code",
      "source": [
        "# Integer Division (floor division)\n",
        "5 // 2"
      ],
      "metadata": {
        "colab": {
          "base_uri": "https://localhost:8080/"
        },
        "id": "DF74sqarOSEO",
        "outputId": "ce317120-aca3-4241-9d4a-c7d529fb420c"
      },
      "execution_count": null,
      "outputs": [
        {
          "output_type": "execute_result",
          "data": {
            "text/plain": [
              "2"
            ]
          },
          "metadata": {},
          "execution_count": 11
        }
      ]
    },
    {
      "cell_type": "code",
      "source": [
        "# Modulus (remainder of division)\n",
        "5 % 2"
      ],
      "metadata": {
        "colab": {
          "base_uri": "https://localhost:8080/"
        },
        "id": "AQyFSs46OYxc",
        "outputId": "6c658098-d8c2-4c29-80ae-e533bb3be84a"
      },
      "execution_count": null,
      "outputs": [
        {
          "output_type": "execute_result",
          "data": {
            "text/plain": [
              "1"
            ]
          },
          "metadata": {},
          "execution_count": 12
        }
      ]
    },
    {
      "cell_type": "code",
      "source": [
        "# Exponentiation (power)\n",
        "2 ** 8"
      ],
      "metadata": {
        "colab": {
          "base_uri": "https://localhost:8080/"
        },
        "id": "T2O2EZpBMtQH",
        "outputId": "ce6ed383-a869-4d27-a13a-cd9cb36d3509"
      },
      "execution_count": null,
      "outputs": [
        {
          "output_type": "execute_result",
          "data": {
            "text/plain": [
              "256"
            ]
          },
          "metadata": {},
          "execution_count": 14
        }
      ]
    },
    {
      "cell_type": "markdown",
      "source": [
        "## Variables and Assignment Operators"
      ],
      "metadata": {
        "id": "xDiwVEIGOqY7"
      }
    },
    {
      "cell_type": "code",
      "source": [
        "# Simple Assignment\n",
        "a = 10\n",
        "print(a)"
      ],
      "metadata": {
        "colab": {
          "base_uri": "https://localhost:8080/"
        },
        "id": "6Kf83x3NPBrI",
        "outputId": "f6b72836-a08b-4420-f66f-bc84d57af280"
      },
      "execution_count": null,
      "outputs": [
        {
          "output_type": "stream",
          "name": "stdout",
          "text": [
            "10\n"
          ]
        }
      ]
    },
    {
      "cell_type": "code",
      "source": [
        "# Chained Assignment\n",
        "a = b = c = 10  # All variables a, b, and c are assigned the value 10\n",
        "print(f\"Chained assignment: a = {a}, b = {b}, c = {c}\")"
      ],
      "metadata": {
        "colab": {
          "base_uri": "https://localhost:8080/"
        },
        "id": "vTq6g5Z6Myfj",
        "outputId": "ad5b00d1-5fba-4be0-adb1-3b53561ccc1b"
      },
      "execution_count": null,
      "outputs": [
        {
          "output_type": "stream",
          "name": "stdout",
          "text": [
            "Chained assignment: a = 10, b = 10, c = 10\n"
          ]
        }
      ]
    },
    {
      "cell_type": "code",
      "source": [
        "# Multiple Assignment\n",
        "a, b = 10, 20  # Assigning 10 to a and 20 to b\n",
        "print(f\"Multiple assignment: a = {a}, b = {b}\")"
      ],
      "metadata": {
        "colab": {
          "base_uri": "https://localhost:8080/"
        },
        "id": "xb-YT4nLPQBc",
        "outputId": "bc96098f-0a10-4524-9c76-c3a49ddec3dc"
      },
      "execution_count": null,
      "outputs": [
        {
          "output_type": "stream",
          "name": "stdout",
          "text": [
            "Multiple assignment: a = 10, b = 20\n"
          ]
        }
      ]
    },
    {
      "cell_type": "code",
      "source": [
        "# Augmented Assignment\n",
        "a = 1\n",
        "a += 1  # This is equivalent to: a = a + 1\n",
        "print(f\"Augmented assignment: a += 1 -> a = {a}\")"
      ],
      "metadata": {
        "colab": {
          "base_uri": "https://localhost:8080/"
        },
        "id": "wZQqeF5lPTyA",
        "outputId": "1a7417d4-2674-4b7d-e468-f11b0d297e22"
      },
      "execution_count": null,
      "outputs": [
        {
          "output_type": "stream",
          "name": "stdout",
          "text": [
            "Augmented assignment: a += 1 -> a = 2\n"
          ]
        }
      ]
    },
    {
      "cell_type": "markdown",
      "source": [
        "## Strings and String Manipulation"
      ],
      "metadata": {
        "id": "wMUNbet8PYqX"
      }
    },
    {
      "cell_type": "code",
      "source": [
        "# Example of working with strings\n",
        "\n",
        "# Example string\n",
        "text = \"python is great\"\n",
        "\n",
        "# String concatenation\n",
        "first_name = \"John\"\n",
        "last_name = \"Doe\"\n",
        "full_name = first_name + \" \" + last_name\n",
        "print(f\"Full name: {full_name}\")\n",
        "\n",
        "# String formatting\n",
        "greeting = f\"Hello, {first_name} {last_name}!\"\n",
        "print(greeting)\n",
        "\n",
        "# String indexing example\n",
        "text = \"Python is great\"\n",
        "# Accessing characters by index\n",
        "first_char = text[0]  # 'P'\n",
        "last_char = text[-1]  # 't'\n",
        "\n",
        "print(f\"First character: {first_char}\")\n",
        "print(f\"Last character: {last_char}\")\n",
        "\n",
        "\n",
        "# Slicing a string\n",
        "sentence = \"Python is great\"\n",
        "substring = sentence[0:6]\n",
        "print(f\"Substring: {substring}\")\n",
        "\n",
        "# 1. split() - Splits the string into a list based on a delimiter (default is space)\n",
        "split_text = text.split()  # Split by spaces\n",
        "print(f\"Split text: {split_text}\")\n",
        "\n",
        "# 2. join() - Joins a list of strings into one string, using the specified separator\n",
        "joined_text = \"-\".join(split_text)\n",
        "print(f\"Joined text: {joined_text}\")\n",
        "\n",
        "# 3. replace() - Replaces occurrences of a substring with another substring\n",
        "replaced_text = text.replace(\"python\", \"Python\")\n",
        "print(f\"Replaced text: {replaced_text}\")\n",
        "\n",
        "# 4. lower() - Converts all characters in the string to lowercase\n",
        "lower_text = text.lower()\n",
        "print(f\"Lowercase text: {lower_text}\")\n",
        "\n",
        "# 5. upper() - Converts all characters in the string to uppercase\n",
        "upper_text = text.upper()\n",
        "print(f\"Uppercase text: {upper_text}\")\n",
        "\n",
        "# 6. title() - Capitalizes the first letter of each word in the string\n",
        "title_text = text.title()\n",
        "print(f\"Title case text: {title_text}\")\n",
        "\n",
        "# 7. islower() - Returns True if all characters are lowercase\n",
        "is_lower = text.islower()\n",
        "print(f\"Is text all lowercase? {is_lower}\")\n",
        "\n",
        "# 8. isupper() - Returns True if all characters are uppercase\n",
        "is_upper = text.isupper()\n",
        "print(f\"Is text all uppercase? {is_upper}\")\n",
        "\n",
        "# 9. istitle() - Returns True if the string is in title case\n",
        "is_title = text.istitle()\n",
        "print(f\"Is text in title case? {is_title}\")\n",
        "\n",
        "# 10. isalpha() - Returns True if all characters are alphabetic (no spaces, numbers, or symbols)\n",
        "is_alpha = text.replace(\" \", \"\").isalpha()  # Remove spaces first to check\n",
        "print(f\"Is text alphabetic? {is_alpha}\")\n",
        "\n",
        "# 11. isdigit() - Returns True if all characters are digits (useful for numeric strings)\n",
        "numeric_text = \"12345\"\n",
        "is_digit = numeric_text.isdigit()\n",
        "print(f\"Is numeric text all digits? {is_digit}\")"
      ],
      "metadata": {
        "colab": {
          "base_uri": "https://localhost:8080/"
        },
        "id": "B5sCeWx0Qz52",
        "outputId": "d0c24c80-25fd-4f4e-c953-f99c06c17b40"
      },
      "execution_count": null,
      "outputs": [
        {
          "output_type": "stream",
          "name": "stdout",
          "text": [
            "Full name: John Doe\n",
            "Hello, John Doe!\n",
            "First character: P\n",
            "Last character: t\n",
            "Substring: Python\n",
            "Split text: ['Python', 'is', 'great']\n",
            "Joined text: Python-is-great\n",
            "Replaced text: Python is great\n",
            "Lowercase text: python is great\n",
            "Uppercase text: PYTHON IS GREAT\n",
            "Title case text: Python Is Great\n",
            "Is text all lowercase? False\n",
            "Is text all uppercase? False\n",
            "Is text in title case? False\n",
            "Is text alphabetic? True\n",
            "Is numeric text all digits? True\n"
          ]
        }
      ]
    },
    {
      "cell_type": "markdown",
      "source": [
        "## Conditions"
      ],
      "metadata": {
        "id": "brCm3-BERnBf"
      }
    },
    {
      "cell_type": "code",
      "source": [
        "# If-else statement\n",
        "age = 30\n",
        "if age > 18:\n",
        "    print(\"Adult\")\n",
        "else:\n",
        "    print(\"Minor\")\n",
        "\n",
        "# Using 'and' and 'or' conditions\n",
        "has_license = True\n",
        "has_car = False\n",
        "if has_license and has_car:\n",
        "    print(\"Ready to drive\")\n",
        "elif has_license or has_car:\n",
        "    print(\"You are close, but need both\")\n",
        "else:\n",
        "    print(\"You need both a license and a car\")"
      ],
      "metadata": {
        "colab": {
          "base_uri": "https://localhost:8080/"
        },
        "id": "kMvJc0AqR04o",
        "outputId": "a6b5b3a1-e447-4c16-96fc-22afc541c5af"
      },
      "execution_count": null,
      "outputs": [
        {
          "output_type": "stream",
          "name": "stdout",
          "text": [
            "Adult\n",
            "You are close, but need both\n"
          ]
        }
      ]
    },
    {
      "cell_type": "markdown",
      "source": [
        "## Lists and List Operations"
      ],
      "metadata": {
        "id": "M9UZtYoTR8b_"
      }
    },
    {
      "cell_type": "code",
      "source": [
        "# List example\n",
        "numbers = [1, 2, 3, 4, 5]\n",
        "\n",
        "# Indexing: Access elements by index\n",
        "first_element = numbers[0]  # First element\n",
        "last_element = numbers[-1]  # Last element\n",
        "\n",
        "# Slicing: Get a sublist by specifying the start and end indices\n",
        "sublist = numbers[1:4]  # Elements from index 1 to 3 (inclusive)\n",
        "print(f\"First element: {first_element}\")\n",
        "print(f\"Last element: {last_element}\")\n",
        "print(f\"Sublist: {sublist}\")"
      ],
      "metadata": {
        "colab": {
          "base_uri": "https://localhost:8080/"
        },
        "id": "zr00b2YiSGJq",
        "outputId": "2fdc6421-fb6c-492b-d329-42d6b6d07653"
      },
      "execution_count": null,
      "outputs": [
        {
          "output_type": "stream",
          "name": "stdout",
          "text": [
            "First element: 1\n",
            "Last element: 5\n",
            "Sublist: [2, 3, 4]\n"
          ]
        }
      ]
    },
    {
      "cell_type": "code",
      "source": [
        "# 1. append() - Adds an element to the end of the list\n",
        "numbers.append(6)\n",
        "print(f\"After append: {numbers}\")\n",
        "\n",
        "# 2. extend() - Adds multiple elements (from another list) to the end of the current list\n",
        "numbers.extend([7, 8])\n",
        "print(f\"After extend: {numbers}\")\n",
        "\n",
        "# 3. insert() - Inserts an element at a specified index\n",
        "numbers.insert(2, 99)  # Insert 99 at index 2\n",
        "print(f\"After insert: {numbers}\")\n",
        "\n",
        "# 4. remove() - Removes the first occurrence of a specified element\n",
        "numbers.remove(99)  # Removes the first occurrence of 99\n",
        "print(f\"After remove: {numbers}\")\n",
        "\n",
        "# 5. pop() - Removes and returns the element at the specified index (default is the last element)\n",
        "popped_element = numbers.pop(1)  # Remove and return the element at index 1\n",
        "print(f\"After pop: {numbers}\")\n",
        "print(f\"Popped element: {popped_element}\")\n",
        "\n",
        "# 6. sort() - Sorts the list in ascending order\n",
        "numbers.sort()\n",
        "print(f\"After sort: {numbers}\")\n",
        "\n",
        "# 7. reverse() - Reverses the order of the elements in the list\n",
        "numbers.reverse()\n",
        "print(f\"After reverse: {numbers}\")\n",
        "\n",
        "# 8. clear() - Removes all elements from the list\n",
        "numbers.clear()\n",
        "print(f\"After clear: {numbers}\")"
      ],
      "metadata": {
        "colab": {
          "base_uri": "https://localhost:8080/"
        },
        "id": "9hFhoBUzSLkc",
        "outputId": "0ffb3165-d47b-4e68-9b43-c0ea2e0ab53c"
      },
      "execution_count": null,
      "outputs": [
        {
          "output_type": "stream",
          "name": "stdout",
          "text": [
            "After append: [1, 2, 3, 4, 5, 6]\n",
            "After extend: [1, 2, 3, 4, 5, 6, 7, 8]\n",
            "After insert: [1, 2, 99, 3, 4, 5, 6, 7, 8]\n",
            "After remove: [1, 2, 3, 4, 5, 6, 7, 8]\n",
            "After pop: [1, 3, 4, 5, 6, 7, 8]\n",
            "Popped element: 2\n",
            "After sort: [1, 3, 4, 5, 6, 7, 8]\n",
            "After reverse: [8, 7, 6, 5, 4, 3, 1]\n",
            "After clear: []\n"
          ]
        }
      ]
    },
    {
      "cell_type": "markdown",
      "source": [
        "## Loops"
      ],
      "metadata": {
        "id": "QwbMIx6HSgN_"
      }
    },
    {
      "cell_type": "code",
      "source": [
        "# Example of working with loops\n",
        "\n",
        "# For loop\n",
        "for i in range(1, 6):\n",
        "    print(f\"Number {i}\")\n",
        "\n",
        "# While loop\n",
        "counter = 0\n",
        "while counter < 5:\n",
        "    print(f\"Counter: {counter}\")\n",
        "    counter += 1\n",
        "\n",
        "# List iteration\n",
        "numbers = [10, 20, 30, 40]\n",
        "for num in numbers:\n",
        "    print(f\"Number: {num}\")\n"
      ],
      "metadata": {
        "colab": {
          "base_uri": "https://localhost:8080/"
        },
        "id": "UTsRY0zHJlrd",
        "outputId": "46f43b01-a70b-49ba-cbf0-69946104c9d2"
      },
      "execution_count": null,
      "outputs": [
        {
          "output_type": "stream",
          "name": "stdout",
          "text": [
            "Number 1\n",
            "Number 2\n",
            "Number 3\n",
            "Number 4\n",
            "Number 5\n",
            "Counter: 0\n",
            "Counter: 1\n",
            "Counter: 2\n",
            "Counter: 3\n",
            "Counter: 4\n",
            "Number: 10\n",
            "Number: 20\n",
            "Number: 30\n",
            "Number: 40\n"
          ]
        }
      ]
    },
    {
      "cell_type": "markdown",
      "source": [
        "## Dictionaries"
      ],
      "metadata": {
        "id": "Bf_99u0lSo2L"
      }
    },
    {
      "cell_type": "code",
      "source": [
        "# Example of working with dictionaries\n",
        "\n",
        "# Creating a dictionary\n",
        "person = {\"name\": \"John\", \"age\": 30, \"city\": \"New York\"}\n",
        "print(f\"Person dictionary: {person}\")\n",
        "\n",
        "# Accessing values\n",
        "name = person[\"name\"]\n",
        "age = person[\"age\"]\n",
        "print(f\"Name: {name}, Age: {age}\")\n",
        "\n",
        "# Updating a value\n",
        "person[\"age\"] = 31\n",
        "print(f\"Updated person dictionary: {person}\")\n",
        "\n",
        "# Iterating over keys and values\n",
        "for key, value in person.items():\n",
        "    print(f\"{key}: {value}\")"
      ],
      "metadata": {
        "colab": {
          "base_uri": "https://localhost:8080/"
        },
        "id": "_go0rMXvSsfh",
        "outputId": "a46ead25-1b80-4516-ba73-85bc3dddf984"
      },
      "execution_count": null,
      "outputs": [
        {
          "output_type": "stream",
          "name": "stdout",
          "text": [
            "Person dictionary: {'name': 'John', 'age': 30, 'city': 'New York'}\n",
            "Name: John, Age: 30\n",
            "Updated person dictionary: {'name': 'John', 'age': 31, 'city': 'New York'}\n",
            "name: John\n",
            "age: 31\n",
            "city: New York\n"
          ]
        }
      ]
    }
  ]
}