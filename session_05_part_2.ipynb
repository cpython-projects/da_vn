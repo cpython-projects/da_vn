{
  "cells": [
    {
      "cell_type": "markdown",
      "metadata": {
        "id": "view-in-github",
        "colab_type": "text"
      },
      "source": [
        "<a href=\"https://colab.research.google.com/github/cpython-projects/da_vn/blob/main/session_05_part_2.ipynb\" target=\"_parent\"><img src=\"https://colab.research.google.com/assets/colab-badge.svg\" alt=\"Open In Colab\"/></a>"
      ]
    },
    {
      "cell_type": "markdown",
      "metadata": {
        "id": "eIrI9IoarEAx"
      },
      "source": [
        "### Ecommerce data\n",
        "| Column Name         | Description |\n",
        "|---------------------|-------------|\n",
        "| `order_id`          | Unique identifier for each order |\n",
        "| `customer_id`       | Unique identifier for the customer |\n",
        "| `order_date`        | Date when the order was placed |\n",
        "| `product_id`        | Unique identifier for the product |\n",
        "| `product_name`      | Name of the purchased product |\n",
        "| `category`          | Product category (e.g. Electronics, Fashion) |\n",
        "| `price`             | Unit price of the product (in USD) |\n",
        "| `quantity`          | Quantity of the product ordered |\n",
        "| `weight`            | Weight of the product (e.g., \"0.5kg\") |\n",
        "| `discount`          | Discount applied on the product (in decimal, e.g. 0.15 = 15%) |\n",
        "| `shipping_cost`     | Cost to ship the product |\n",
        "| `payment_method`    | Method used for payment (e.g., Credit Card, PayPal, Debit) |\n",
        "| `delivery_status`   | Status of delivery (e.g., Delivered, Shipped, Processing) |\n",
        "| `customer_city`     | Customer's city |\n",
        "| `customer_state`    | Customer's state |\n",
        "| `customer_country`  | Customer's country |\n",
        "| `return_requested`  | 1 if a return was requested, 0 otherwise |\n",
        "| `review_score`      | Customer review rating (1 to 5) |\n",
        "| `days_to_deliver`   | Number of days it took to deliver the product |\n",
        "\n",
        "---\n"
      ]
    },
    {
      "cell_type": "markdown",
      "metadata": {
        "id": "nFzy6XDjrEAy"
      },
      "source": [
        "### Data Reading"
      ]
    },
    {
      "cell_type": "code",
      "execution_count": null,
      "metadata": {
        "id": "xec5w65PrEAy"
      },
      "outputs": [],
      "source": []
    },
    {
      "cell_type": "markdown",
      "metadata": {
        "id": "1SjlUWLBrEAz"
      },
      "source": [
        "### Data Cleaning and Preparation"
      ]
    },
    {
      "cell_type": "code",
      "execution_count": null,
      "metadata": {
        "id": "CoBRLy8erEAz"
      },
      "outputs": [],
      "source": []
    },
    {
      "cell_type": "markdown",
      "metadata": {
        "id": "4Y3O7S_JrEA0"
      },
      "source": [
        "### Central Tendency: Mean, Median, Moda"
      ]
    },
    {
      "cell_type": "markdown",
      "metadata": {
        "id": "HG9TAFGsrEA0"
      },
      "source": [
        "#### price"
      ]
    },
    {
      "cell_type": "code",
      "execution_count": null,
      "metadata": {
        "id": "Z7aSIgonrEA0"
      },
      "outputs": [],
      "source": []
    },
    {
      "cell_type": "markdown",
      "metadata": {
        "id": "1NVSl6W7rEA1"
      },
      "source": [
        "**Insights:**"
      ]
    },
    {
      "cell_type": "markdown",
      "metadata": {
        "id": "MXYmJ5U_rEA1"
      },
      "source": [
        "#### review_score"
      ]
    },
    {
      "cell_type": "code",
      "execution_count": null,
      "metadata": {
        "id": "NAtFA0warEA1"
      },
      "outputs": [],
      "source": []
    },
    {
      "cell_type": "markdown",
      "metadata": {
        "id": "_vc7SXqCrEA2"
      },
      "source": [
        "**Insights:**"
      ]
    },
    {
      "cell_type": "markdown",
      "metadata": {
        "id": "NRfmqUt_rEA2"
      },
      "source": [
        "### Measures of Spread. Range, STD, IQR"
      ]
    },
    {
      "cell_type": "markdown",
      "metadata": {
        "id": "SxopoCO8rEA2"
      },
      "source": [
        "#### price"
      ]
    },
    {
      "cell_type": "code",
      "execution_count": null,
      "metadata": {
        "id": "TsoiVqi9rEA2"
      },
      "outputs": [],
      "source": []
    },
    {
      "cell_type": "markdown",
      "metadata": {
        "id": "qwEU8AL8rEA2"
      },
      "source": [
        "**Insights:**"
      ]
    },
    {
      "cell_type": "markdown",
      "metadata": {
        "id": "DT1ZmGF3rEA3"
      },
      "source": [
        "#### review_score"
      ]
    },
    {
      "cell_type": "code",
      "execution_count": null,
      "metadata": {
        "id": "Rc40V6SWrEA3"
      },
      "outputs": [],
      "source": []
    },
    {
      "cell_type": "markdown",
      "metadata": {
        "id": "vCZyenoprEA3"
      },
      "source": [
        "**Insights:**"
      ]
    },
    {
      "cell_type": "markdown",
      "metadata": {
        "id": "vR3gIZRwrEA3"
      },
      "source": [
        "### Measures of Shape. Skewness / Kurtosis"
      ]
    },
    {
      "cell_type": "markdown",
      "metadata": {
        "id": "oO0zxs0srEA3"
      },
      "source": [
        "#### price"
      ]
    },
    {
      "cell_type": "code",
      "execution_count": null,
      "metadata": {
        "id": "zuR4iBTBrEA4"
      },
      "outputs": [],
      "source": []
    },
    {
      "cell_type": "markdown",
      "metadata": {
        "id": "4X7C24rTrEA4"
      },
      "source": [
        "**Insights:**"
      ]
    },
    {
      "cell_type": "markdown",
      "metadata": {
        "id": "sdm7iiNdrEA4"
      },
      "source": [
        "#### review_score"
      ]
    },
    {
      "cell_type": "code",
      "execution_count": null,
      "metadata": {
        "id": "IVhSPAZsrEA4"
      },
      "outputs": [],
      "source": []
    },
    {
      "cell_type": "markdown",
      "metadata": {
        "id": "XaBsLs9NrEA4"
      },
      "source": [
        "**Insights:**"
      ]
    },
    {
      "cell_type": "markdown",
      "metadata": {
        "id": "jPTnyt2vrEA4"
      },
      "source": [
        "### Basic Insights"
      ]
    },
    {
      "cell_type": "markdown",
      "metadata": {
        "id": "J7OSMcb_rEA5"
      },
      "source": []
    }
  ],
  "metadata": {
    "colab": {
      "provenance": [],
      "include_colab_link": true
    },
    "kernelspec": {
      "display_name": "Python 3 (ipykernel)",
      "language": "python",
      "name": "python3"
    },
    "language_info": {
      "codemirror_mode": {
        "name": "ipython",
        "version": 3
      },
      "file_extension": ".py",
      "mimetype": "text/x-python",
      "name": "python",
      "nbconvert_exporter": "python",
      "pygments_lexer": "ipython3",
      "version": "3.13.2"
    }
  },
  "nbformat": 4,
  "nbformat_minor": 0
}