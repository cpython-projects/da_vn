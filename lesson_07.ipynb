{
  "nbformat": 4,
  "nbformat_minor": 0,
  "metadata": {
    "colab": {
      "provenance": [],
      "authorship_tag": "ABX9TyMtlNkbbvy8LTRoSi31enw7",
      "include_colab_link": true
    },
    "kernelspec": {
      "name": "python3",
      "display_name": "Python 3"
    },
    "language_info": {
      "name": "python"
    }
  },
  "cells": [
    {
      "cell_type": "markdown",
      "metadata": {
        "id": "view-in-github",
        "colab_type": "text"
      },
      "source": [
        "<a href=\"https://colab.research.google.com/github/cpython-projects/da_vn/blob/main/lesson_07.ipynb\" target=\"_parent\"><img src=\"https://colab.research.google.com/assets/colab-badge.svg\" alt=\"Open In Colab\"/></a>"
      ]
    },
    {
      "cell_type": "code",
      "source": [
        "x = [1, 2, 3, 4, 5]\n",
        "\n",
        "a, b, c, d, e = x\n",
        "print(a, b, c, d, e)\n",
        "print(x)"
      ],
      "metadata": {
        "colab": {
          "base_uri": "https://localhost:8080/"
        },
        "id": "wsu5xdDTW1SF",
        "outputId": "a6831c43-8079-43ca-d47d-44236fc981dd"
      },
      "execution_count": 2,
      "outputs": [
        {
          "output_type": "stream",
          "name": "stdout",
          "text": [
            "1 2 3 4 5\n",
            "[1, 2, 3, 4, 5]\n"
          ]
        }
      ]
    },
    {
      "cell_type": "code",
      "source": [
        "a, b, c = 'Hey'\n",
        "print(a, b, c)"
      ],
      "metadata": {
        "colab": {
          "base_uri": "https://localhost:8080/"
        },
        "id": "wz5y2T4MXcuR",
        "outputId": "10dd304e-288b-440f-fe9d-86a276f796ac"
      },
      "execution_count": 3,
      "outputs": [
        {
          "output_type": "stream",
          "name": "stdout",
          "text": [
            "H e y\n"
          ]
        }
      ]
    },
    {
      "cell_type": "code",
      "source": [
        "a, b, c, d = 1, 2, 3, 4\n",
        "\n",
        "x = a, b, c, d\n",
        "\n",
        "print(x)"
      ],
      "metadata": {
        "colab": {
          "base_uri": "https://localhost:8080/"
        },
        "id": "kRxLkCQHXl2J",
        "outputId": "5f4c4c3a-bc26-44fd-ced3-5e27e3c70e99"
      },
      "execution_count": 4,
      "outputs": [
        {
          "output_type": "stream",
          "name": "stdout",
          "text": [
            "(1, 2, 3, 4)\n"
          ]
        }
      ]
    },
    {
      "cell_type": "code",
      "source": [
        "x = [10, 20, 30, 40]\n",
        "\n",
        "for index, item in enumerate(x):\n",
        "  print(index, item)\n"
      ],
      "metadata": {
        "colab": {
          "base_uri": "https://localhost:8080/"
        },
        "id": "lR4sCiVdX7yN",
        "outputId": "dc93aecd-2e5b-4126-c4b7-6a9b286b6f2f"
      },
      "execution_count": 6,
      "outputs": [
        {
          "output_type": "stream",
          "name": "stdout",
          "text": [
            "0 10\n",
            "1 20\n",
            "2 30\n",
            "3 40\n"
          ]
        }
      ]
    },
    {
      "cell_type": "code",
      "source": [
        "x = [10, 20, 30, 40]\n",
        "print(*x, sep='***')"
      ],
      "metadata": {
        "colab": {
          "base_uri": "https://localhost:8080/"
        },
        "id": "V2kMUV89YaeR",
        "outputId": "fd7224b9-db6e-4836-b6d2-f69ae0ea5556"
      },
      "execution_count": 9,
      "outputs": [
        {
          "output_type": "stream",
          "name": "stdout",
          "text": [
            "10***20***30***40\n"
          ]
        }
      ]
    },
    {
      "cell_type": "code",
      "source": [
        "x = [1, 2, 3, 4, 5, 6, 7, 8, 9]\n",
        "\n",
        "a, b, *c = x\n",
        "\n",
        "print(a)\n",
        "print(b)\n",
        "print(c)"
      ],
      "metadata": {
        "colab": {
          "base_uri": "https://localhost:8080/"
        },
        "id": "LZejuPqEY8k-",
        "outputId": "7b144de3-ba6b-459a-8912-73496a22ebf1"
      },
      "execution_count": 13,
      "outputs": [
        {
          "output_type": "stream",
          "name": "stdout",
          "text": [
            "1\n",
            "2\n",
            "[3, 4, 5, 6, 7, 8, 9]\n"
          ]
        }
      ]
    },
    {
      "cell_type": "code",
      "source": [
        "text = 'Hello, world!'\n",
        "a, b, *c = text\n",
        "print(a)\n",
        "print(b)\n",
        "print(c)"
      ],
      "metadata": {
        "colab": {
          "base_uri": "https://localhost:8080/"
        },
        "id": "Frhbs9MmZVJZ",
        "outputId": "d85f91fe-98a4-4b7a-c8dd-c4e3d56a61b8"
      },
      "execution_count": 14,
      "outputs": [
        {
          "output_type": "stream",
          "name": "stdout",
          "text": [
            "H\n",
            "e\n",
            "['l', 'l', 'o', ',', ' ', 'w', 'o', 'r', 'l', 'd', '!']\n"
          ]
        }
      ]
    },
    {
      "cell_type": "code",
      "source": [
        "x = [1, 2]\n",
        "a, b, *c = x\n",
        "print(a)\n",
        "print(b)\n",
        "print(c)"
      ],
      "metadata": {
        "colab": {
          "base_uri": "https://localhost:8080/"
        },
        "id": "rayC794GZl2W",
        "outputId": "1418b9d3-04ae-4cd2-bc5c-e4a9b8616b67"
      },
      "execution_count": 15,
      "outputs": [
        {
          "output_type": "stream",
          "name": "stdout",
          "text": [
            "1\n",
            "2\n",
            "[]\n"
          ]
        }
      ]
    },
    {
      "cell_type": "code",
      "execution_count": 17,
      "metadata": {
        "id": "1rEthLhqVUZf"
      },
      "outputs": [],
      "source": [
        "data = [\n",
        "    '1 Bob Simson 19.58$ decorations',\n",
        "    '2 Mary 66.7$ food',\n",
        "    '3 Mary 98.91$ toys',\n",
        "    '4 Aleksa 72.29$ drinks',\n",
        "    '5 Maria Simson 84.48$ food',\n",
        "    '6 Aleksa 100.41$ accessories',\n",
        "    '7 Mary 19.9$ accessories',\n",
        "    '8 Bob Simson 83.88$ drinks',\n",
        "    '9 Bob Simson 58.21$ instruments',\n",
        "    '10 Maria Simson 20.61$ accessories',\n",
        "]"
      ]
    },
    {
      "cell_type": "code",
      "source": [
        "# total expenses\n",
        "\n",
        "total = 0\n",
        "for line in data:\n",
        "  tmp = line.split()[-2].strip('$') #replace('$', '')\n",
        "  total += float(tmp)\n",
        "\n",
        "print(f'Toal: {total:.2f}$')"
      ],
      "metadata": {
        "colab": {
          "base_uri": "https://localhost:8080/"
        },
        "id": "2T5aNKYIZ_WU",
        "outputId": "f5e639d3-54db-4985-cef2-f94116df57be"
      },
      "execution_count": 28,
      "outputs": [
        {
          "output_type": "stream",
          "name": "stdout",
          "text": [
            "Toal: 624.97$\n"
          ]
        }
      ]
    },
    {
      "cell_type": "code",
      "source": [
        "'H' != 'h'"
      ],
      "metadata": {
        "id": "hal0wkO6czpe"
      },
      "execution_count": null,
      "outputs": []
    },
    {
      "cell_type": "code",
      "source": [
        "name = input('name>>').strip().lower()\n",
        "name = ' '.join(name.split())\n",
        "\n",
        "total = 0\n",
        "for line in data:\n",
        "  line = ' '.join(line.split())\n",
        "  if name in line.lower():\n",
        "    tmp = line.split()[-2].strip('$')\n",
        "    total += float(tmp)\n",
        "\n",
        "print(f'Toal: {total:.2f}$')"
      ],
      "metadata": {
        "colab": {
          "base_uri": "https://localhost:8080/"
        },
        "id": "l2TM2Aj9bWzU",
        "outputId": "aa12500d-9bc3-4815-9993-5e5acf66bb22"
      },
      "execution_count": 29,
      "outputs": [
        {
          "output_type": "stream",
          "name": "stdout",
          "text": [
            "name>>Mary\n",
            "Toal: 185.51$\n"
          ]
        }
      ]
    },
    {
      "cell_type": "code",
      "source": [
        "name = input('name>>').strip().lower()\n",
        "name = ' '.join(name.split())\n",
        "\n",
        "total = 0\n",
        "for line in data:\n",
        "  _, *user_name, amount, category = line.split()\n",
        "  user_name = ' '.join(user_name).lower()\n",
        "  if user_name == name:\n",
        "    total += float(amount.strip('$'))\n",
        "\n",
        "print(f'Toal: {total:.2f}$')"
      ],
      "metadata": {
        "colab": {
          "base_uri": "https://localhost:8080/"
        },
        "id": "6nm7G46re4r9",
        "outputId": "212b7cee-4b0b-4a68-e25c-319fd83836e0"
      },
      "execution_count": 30,
      "outputs": [
        {
          "output_type": "stream",
          "name": "stdout",
          "text": [
            "name>>Mary\n",
            "Toal: 185.51$\n"
          ]
        }
      ]
    },
    {
      "cell_type": "code",
      "source": [
        "days_of_week = {1: 'Monday', 2: 'Tuesday', 3: 'Wednesday', 4: 'Thursday', 5: 'Friday', 6: 'Saturday', 7: 'Sunday'}\n",
        "\n",
        "print(len(days_of_week))\n",
        "print(days_of_week)"
      ],
      "metadata": {
        "colab": {
          "base_uri": "https://localhost:8080/"
        },
        "id": "Qkj-tYwWg3IQ",
        "outputId": "c43c9c21-a335-45b4-c646-6412161e6ca8"
      },
      "execution_count": 35,
      "outputs": [
        {
          "output_type": "stream",
          "name": "stdout",
          "text": [
            "7\n",
            "{1: 'Monday', 2: 'Tuesday', 3: 'Wednesday', 4: 'Thursday', 5: 'Friday', 6: 'Saturday', 7: 'Error'}\n"
          ]
        }
      ]
    },
    {
      "cell_type": "code",
      "source": [
        "x = [10, 20, 30]\n",
        "print(x[0])"
      ],
      "metadata": {
        "colab": {
          "base_uri": "https://localhost:8080/"
        },
        "id": "kmt7AoaNhNXf",
        "outputId": "6ed66acb-5427-4d1b-f3aa-fd025bfcfa03"
      },
      "execution_count": 33,
      "outputs": [
        {
          "output_type": "stream",
          "name": "stdout",
          "text": [
            "10\n"
          ]
        }
      ]
    },
    {
      "cell_type": "code",
      "source": [
        "x = {1: 'one', 'two': 2}\n",
        "\n",
        "print(x[1])\n",
        "print(x['two'])\n",
        "#"
      ],
      "metadata": {
        "colab": {
          "base_uri": "https://localhost:8080/"
        },
        "id": "IHaJfC2uhRyE",
        "outputId": "d0c14188-cfda-4fc1-db8c-8df36bf35d91"
      },
      "execution_count": 36,
      "outputs": [
        {
          "output_type": "stream",
          "name": "stdout",
          "text": [
            "one\n",
            "2\n"
          ]
        }
      ]
    },
    {
      "cell_type": "code",
      "source": [
        "x = [1, 2, 3, 4]\n",
        "hash(x)"
      ],
      "metadata": {
        "colab": {
          "base_uri": "https://localhost:8080/",
          "height": 158
        },
        "id": "h0BEE-lFh8R3",
        "outputId": "2cc01e59-1f60-4b0d-8daa-7e745a97ff98"
      },
      "execution_count": 37,
      "outputs": [
        {
          "output_type": "error",
          "ename": "TypeError",
          "evalue": "unhashable type: 'list'",
          "traceback": [
            "\u001b[0;31m---------------------------------------------------------------------------\u001b[0m",
            "\u001b[0;31mTypeError\u001b[0m                                 Traceback (most recent call last)",
            "\u001b[0;32m<ipython-input-37-cb8e0da85616>\u001b[0m in \u001b[0;36m<cell line: 0>\u001b[0;34m()\u001b[0m\n\u001b[1;32m      1\u001b[0m \u001b[0mx\u001b[0m \u001b[0;34m=\u001b[0m \u001b[0;34m[\u001b[0m\u001b[0;36m1\u001b[0m\u001b[0;34m,\u001b[0m \u001b[0;36m2\u001b[0m\u001b[0;34m,\u001b[0m \u001b[0;36m3\u001b[0m\u001b[0;34m,\u001b[0m \u001b[0;36m4\u001b[0m\u001b[0;34m]\u001b[0m\u001b[0;34m\u001b[0m\u001b[0;34m\u001b[0m\u001b[0m\n\u001b[0;32m----> 2\u001b[0;31m \u001b[0mhash\u001b[0m\u001b[0;34m(\u001b[0m\u001b[0mx\u001b[0m\u001b[0;34m)\u001b[0m\u001b[0;34m\u001b[0m\u001b[0;34m\u001b[0m\u001b[0m\n\u001b[0m",
            "\u001b[0;31mTypeError\u001b[0m: unhashable type: 'list'"
          ]
        }
      ]
    },
    {
      "cell_type": "code",
      "source": [
        "x = (1, 2, 3, 4)\n",
        "hash(x)"
      ],
      "metadata": {
        "colab": {
          "base_uri": "https://localhost:8080/"
        },
        "id": "MoJXcCNMiBRE",
        "outputId": "28ecfcda-e4dc-413b-c810-19553a70576e"
      },
      "execution_count": 38,
      "outputs": [
        {
          "output_type": "execute_result",
          "data": {
            "text/plain": [
              "590899387183067792"
            ]
          },
          "metadata": {},
          "execution_count": 38
        }
      ]
    },
    {
      "cell_type": "code",
      "source": [
        "x = [1, 2, 3, 4]\n",
        "y = (x, 10)\n",
        "\n",
        "print(y)\n",
        "\n",
        "x.append(5)\n",
        "print(y)\n",
        "\n",
        "print(hash(y))"
      ],
      "metadata": {
        "colab": {
          "base_uri": "https://localhost:8080/",
          "height": 211
        },
        "id": "S2qBo3Phiino",
        "outputId": "b4e7e807-9d6d-4a71-bd57-d65052c8477c"
      },
      "execution_count": 41,
      "outputs": [
        {
          "output_type": "stream",
          "name": "stdout",
          "text": [
            "([1, 2, 3, 4], 10)\n",
            "([1, 2, 3, 4, 5], 10)\n"
          ]
        },
        {
          "output_type": "error",
          "ename": "TypeError",
          "evalue": "unhashable type: 'list'",
          "traceback": [
            "\u001b[0;31m---------------------------------------------------------------------------\u001b[0m",
            "\u001b[0;31mTypeError\u001b[0m                                 Traceback (most recent call last)",
            "\u001b[0;32m<ipython-input-41-5c46465659b0>\u001b[0m in \u001b[0;36m<cell line: 0>\u001b[0;34m()\u001b[0m\n\u001b[1;32m      7\u001b[0m \u001b[0mprint\u001b[0m\u001b[0;34m(\u001b[0m\u001b[0my\u001b[0m\u001b[0;34m)\u001b[0m\u001b[0;34m\u001b[0m\u001b[0;34m\u001b[0m\u001b[0m\n\u001b[1;32m      8\u001b[0m \u001b[0;34m\u001b[0m\u001b[0m\n\u001b[0;32m----> 9\u001b[0;31m \u001b[0mprint\u001b[0m\u001b[0;34m(\u001b[0m\u001b[0mhash\u001b[0m\u001b[0;34m(\u001b[0m\u001b[0my\u001b[0m\u001b[0;34m)\u001b[0m\u001b[0;34m)\u001b[0m\u001b[0;34m\u001b[0m\u001b[0;34m\u001b[0m\u001b[0m\n\u001b[0m",
            "\u001b[0;31mTypeError\u001b[0m: unhashable type: 'list'"
          ]
        }
      ]
    },
    {
      "cell_type": "code",
      "source": [
        "# key = int, str, tuple(int, str)\n",
        "\n",
        "x = {1: 'one', 2: 'two', 3: 'three'}\n",
        "\n",
        "print(x[1])\n",
        "x[1] = 'uno'\n",
        "print(x)\n",
        "x[4] = 'four'\n",
        "print(x)\n",
        "del x[1]\n",
        "print(x)"
      ],
      "metadata": {
        "colab": {
          "base_uri": "https://localhost:8080/"
        },
        "id": "cY-I6xbWi8F9",
        "outputId": "8eb07151-0676-4112-f0c6-1aeed347789c"
      },
      "execution_count": 45,
      "outputs": [
        {
          "output_type": "stream",
          "name": "stdout",
          "text": [
            "one\n",
            "{1: 'uno', 2: 'two', 3: 'three'}\n",
            "{1: 'uno', 2: 'two', 3: 'three', 4: 'four'}\n",
            "{2: 'two', 3: 'three', 4: 'four'}\n"
          ]
        }
      ]
    },
    {
      "cell_type": "code",
      "source": [
        "if 10 in x:\n",
        "  print(x[10])"
      ],
      "metadata": {
        "id": "6nhgbi5Zjqcm"
      },
      "execution_count": 47,
      "outputs": []
    },
    {
      "cell_type": "code",
      "source": [
        "for item in x:\n",
        "  print(item, x[item])"
      ],
      "metadata": {
        "colab": {
          "base_uri": "https://localhost:8080/"
        },
        "id": "F8PgUH8sj23-",
        "outputId": "2d4b568c-459e-4107-ff01-d4dc7f14fa40"
      },
      "execution_count": 49,
      "outputs": [
        {
          "output_type": "stream",
          "name": "stdout",
          "text": [
            "2 two\n",
            "3 three\n",
            "4 four\n"
          ]
        }
      ]
    },
    {
      "cell_type": "code",
      "source": [
        "x.values()"
      ],
      "metadata": {
        "colab": {
          "base_uri": "https://localhost:8080/"
        },
        "id": "gosklQGdkD5L",
        "outputId": "57b79ff4-283b-489f-ccb1-75d5c7a99afc"
      },
      "execution_count": 50,
      "outputs": [
        {
          "output_type": "execute_result",
          "data": {
            "text/plain": [
              "dict_values(['two', 'three', 'four'])"
            ]
          },
          "metadata": {},
          "execution_count": 50
        }
      ]
    },
    {
      "cell_type": "code",
      "source": [
        "for value in x.values():\n",
        "  print(value)"
      ],
      "metadata": {
        "colab": {
          "base_uri": "https://localhost:8080/"
        },
        "id": "3gfdFr-WkGsZ",
        "outputId": "1854100e-a3ad-4f19-b3e0-a53ee0c1e079"
      },
      "execution_count": 51,
      "outputs": [
        {
          "output_type": "stream",
          "name": "stdout",
          "text": [
            "two\n",
            "three\n",
            "four\n"
          ]
        }
      ]
    },
    {
      "cell_type": "code",
      "source": [
        "x.keys()"
      ],
      "metadata": {
        "colab": {
          "base_uri": "https://localhost:8080/"
        },
        "id": "1PLN8NQckMCM",
        "outputId": "4bbe35e7-9715-49ba-bb23-3e856f345e40"
      },
      "execution_count": 52,
      "outputs": [
        {
          "output_type": "execute_result",
          "data": {
            "text/plain": [
              "dict_keys([2, 3, 4])"
            ]
          },
          "metadata": {},
          "execution_count": 52
        }
      ]
    },
    {
      "cell_type": "code",
      "source": [
        "x.items()"
      ],
      "metadata": {
        "colab": {
          "base_uri": "https://localhost:8080/"
        },
        "id": "o4DYUMoqkOa2",
        "outputId": "24c26acf-ce0d-401c-c1f9-eb8a74162ce5"
      },
      "execution_count": 53,
      "outputs": [
        {
          "output_type": "execute_result",
          "data": {
            "text/plain": [
              "dict_items([(2, 'two'), (3, 'three'), (4, 'four')])"
            ]
          },
          "metadata": {},
          "execution_count": 53
        }
      ]
    },
    {
      "cell_type": "code",
      "source": [
        "for key, value in x.items():\n",
        "  print(key, value)"
      ],
      "metadata": {
        "colab": {
          "base_uri": "https://localhost:8080/"
        },
        "id": "rnjSxugmkUzH",
        "outputId": "5d389cce-f7c8-4f2c-8912-1652b86a3a9d"
      },
      "execution_count": 54,
      "outputs": [
        {
          "output_type": "stream",
          "name": "stdout",
          "text": [
            "2 two\n",
            "3 three\n",
            "4 four\n"
          ]
        }
      ]
    },
    {
      "cell_type": "code",
      "source": [
        "text = input('text>>').lower() # Hello, hello, HELLO\n",
        "\n",
        "import string\n",
        "for item in string.punctuation:\n",
        "  text = text.replace(item, ' ')\n",
        "\n",
        "words = text.split()\n",
        "print(words)\n",
        "\n",
        "res = {}\n",
        "for word in words:\n",
        "  if word in res:\n",
        "    res[word] += 1\n",
        "  else:\n",
        "    res[word] = 1\n",
        "\n",
        "\n",
        "print(res)"
      ],
      "metadata": {
        "colab": {
          "base_uri": "https://localhost:8080/"
        },
        "id": "gUC6Mv8Okez_",
        "outputId": "9682b335-e9d7-4359-c2b5-3b18559d5b06"
      },
      "execution_count": 56,
      "outputs": [
        {
          "output_type": "stream",
          "name": "stdout",
          "text": [
            "text>>aaa aaa aaa bbbb bbbb\n",
            "['aaa', 'aaa', 'aaa', 'bbbb', 'bbbb']\n",
            "{'aaa': 3, 'bbbb': 2}\n"
          ]
        }
      ]
    },
    {
      "cell_type": "code",
      "source": [
        "text = input('text>>').lower() # Hello, hello, HELLO\n",
        "\n",
        "import string\n",
        "for item in string.punctuation:\n",
        "  text = text.replace(item, ' ')\n",
        "\n",
        "words = text.split()\n",
        "print(words)\n",
        "\n",
        "res = {}\n",
        "for word in words:\n",
        "  if word not in res:\n",
        "    res[word] = words.count(word)\n",
        "\n",
        "print(res)"
      ],
      "metadata": {
        "id": "Y5GDdc_jmIGw"
      },
      "execution_count": null,
      "outputs": []
    },
    {
      "cell_type": "code",
      "source": [
        "x = {1: 'one', 2: 'two', 3: 'three'}\n",
        "print(x.get(1))"
      ],
      "metadata": {
        "colab": {
          "base_uri": "https://localhost:8080/"
        },
        "id": "D0qLCewgmXTg",
        "outputId": "f2d04a45-d7c4-4efc-eec8-196b34070616"
      },
      "execution_count": 57,
      "outputs": [
        {
          "output_type": "stream",
          "name": "stdout",
          "text": [
            "one\n"
          ]
        }
      ]
    },
    {
      "cell_type": "code",
      "source": [
        "x.get(10, 'Error')"
      ],
      "metadata": {
        "colab": {
          "base_uri": "https://localhost:8080/",
          "height": 36
        },
        "id": "paRErAdnmhgb",
        "outputId": "6ed91cfa-cac7-49b0-95fd-b7eb8c726bde"
      },
      "execution_count": 59,
      "outputs": [
        {
          "output_type": "execute_result",
          "data": {
            "text/plain": [
              "'Error'"
            ],
            "application/vnd.google.colaboratory.intrinsic+json": {
              "type": "string"
            }
          },
          "metadata": {},
          "execution_count": 59
        }
      ]
    },
    {
      "cell_type": "code",
      "source": [
        "text = input('text>>').lower() # Hello, hello, HELLO\n",
        "\n",
        "import string\n",
        "for item in string.punctuation:\n",
        "  text = text.replace(item, ' ')\n",
        "\n",
        "words = text.split()\n",
        "print(words)\n",
        "\n",
        "res = {}\n",
        "for word in words:\n",
        "  res[word] = res.get(word, 0) + 1\n",
        "print(res)"
      ],
      "metadata": {
        "id": "OMc3M_L0muXy"
      },
      "execution_count": null,
      "outputs": []
    },
    {
      "cell_type": "code",
      "source": [
        "from collections import defaultdict\n",
        "\n",
        "text = 'Hello hello HELLO world! WORLD!'.lower()\n",
        "\n",
        "import string\n",
        "for item in string.punctuation:\n",
        "  text = text.replace(item, ' ')\n",
        "\n",
        "words = text.split()\n",
        "print(words)\n",
        "\n",
        "res = defaultdict(int)\n",
        "for word in words:\n",
        "  res[word] += 1\n",
        "print(res)"
      ],
      "metadata": {
        "colab": {
          "base_uri": "https://localhost:8080/"
        },
        "id": "dsdsQQ-gnCZc",
        "outputId": "8e600133-a9fd-437b-81d8-050b5f197e07"
      },
      "execution_count": 61,
      "outputs": [
        {
          "output_type": "stream",
          "name": "stdout",
          "text": [
            "['hello', 'hello', 'hello', 'world', 'world']\n",
            "defaultdict(<class 'int'>, {'hello': 3, 'world': 2})\n"
          ]
        }
      ]
    },
    {
      "cell_type": "code",
      "source": [
        "import string\n",
        "students = {}\n",
        "\n",
        "while True:\n",
        "  name = ' '.join(input().title().split())\n",
        "  points = input('points>>')\n",
        "\n",
        "\n",
        "  for item in string.punctuation:\n",
        "    points = points.replace(item, ' ')\n",
        "\n",
        "  points = list(map(int, points.split()))\n",
        "\n",
        "  students[name] = points\n",
        "\n",
        "  ans = input('Exit? Y/N').lower().strip()\n",
        "  if ans == 'y':\n",
        "    break\n",
        "\n",
        "print(students)"
      ],
      "metadata": {
        "colab": {
          "base_uri": "https://localhost:8080/"
        },
        "id": "88nj7QSAn42J",
        "outputId": "c5c2cbd2-bc16-47f1-bc9d-cca87a7fa5c4"
      },
      "execution_count": 62,
      "outputs": [
        {
          "output_type": "stream",
          "name": "stdout",
          "text": [
            "Alice\n",
            "points>>12, 34, 45, 34, 23, 23\n",
            "Exit? Y/Nn\n",
            "Bob\n",
            "points>>45, 100, 1, 2, 3\n",
            "Exit? Y/Ny\n",
            "{'Alice': [12, 34, 45, 34, 23, 23], 'Bob': [45, 100, 1, 2, 3]}\n"
          ]
        }
      ]
    },
    {
      "cell_type": "code",
      "source": [
        "from collections import defaultdict\n",
        "\n",
        "data = [\n",
        "    '1 Bob Simson 19.58$ decorations',\n",
        "    '2 Mary 66.7$ food',\n",
        "    '3 Mary 98.91$ toys',\n",
        "    '4 Aleksa 72.29$ drinks',\n",
        "    '5 Maria Simson 84.48$ food',\n",
        "    '6 Aleksa 100.41$ accessories',\n",
        "    '7 Mary 19.9$ accessories',\n",
        "    '8 Bob Simson 83.88$ drinks',\n",
        "    '9 Bob Simson 58.21$ instruments',\n",
        "    '10 Maria Simson 20.61$ accessories',\n",
        "]\n",
        "\n",
        "res = defaultdict(float)\n",
        "\n",
        "for line in data:\n",
        "  *_, amount, category = line.split()\n",
        "  amount = float(amount.replace('$', ''))\n",
        "  category = category.lower()\n",
        "\n",
        "  res[category] += amount\n",
        "\n",
        "for key, value in res.items():\n",
        "  print(f'{key}: {value:.2f}$')\n"
      ],
      "metadata": {
        "colab": {
          "base_uri": "https://localhost:8080/"
        },
        "id": "fKcWB2GutqUv",
        "outputId": "d45589e3-fc22-4664-e5ed-2ab9d174c111"
      },
      "execution_count": 63,
      "outputs": [
        {
          "output_type": "stream",
          "name": "stdout",
          "text": [
            "decorations: 19.58$\n",
            "food: 151.18$\n",
            "toys: 98.91$\n",
            "drinks: 156.17$\n",
            "accessories: 140.92$\n",
            "instruments: 58.21$\n"
          ]
        }
      ]
    },
    {
      "cell_type": "code",
      "source": [
        "x = 'Hrtjrkjdklfj elkfjdklejfklej dkljkljfkljr wekjededfk flktlrkgkfl'\n",
        "\n",
        "res = {}\n",
        "\n",
        "for item in x:\n",
        "  if item in res:\n",
        "    res[item] += 1\n",
        "  else:\n",
        "    res[item] = 1\n",
        "\n",
        "print(res)"
      ],
      "metadata": {
        "colab": {
          "base_uri": "https://localhost:8080/"
        },
        "id": "CMevrfK_uQ-L",
        "outputId": "7e295d72-ee36-4f97-9d87-64e9146398d9"
      },
      "execution_count": 65,
      "outputs": [
        {
          "output_type": "stream",
          "name": "stdout",
          "text": [
            "{'H': 1, 'r': 4, 't': 2, 'j': 10, 'k': 13, 'd': 5, 'l': 10, 'f': 7, ' ': 4, 'e': 6, 'w': 1, 'g': 1}\n"
          ]
        }
      ]
    },
    {
      "cell_type": "code",
      "source": [
        "from collections import defaultdict\n",
        "x = 'Hrtjrkjdklfj elkfjdklejfklej dkljkljfkljr wekjededfk flktlrkgkfl'\n",
        "\n",
        "res = defaultdict(int)\n",
        "\n",
        "for item in x:\n",
        "  res[item] += 1\n",
        "\n",
        "print(res)"
      ],
      "metadata": {
        "colab": {
          "base_uri": "https://localhost:8080/"
        },
        "id": "8OpcJve1us4p",
        "outputId": "0cf84866-303f-45e7-9703-a14f5ee9e9ff"
      },
      "execution_count": 66,
      "outputs": [
        {
          "output_type": "stream",
          "name": "stdout",
          "text": [
            "defaultdict(<class 'int'>, {'H': 1, 'r': 4, 't': 2, 'j': 10, 'k': 13, 'd': 5, 'l': 10, 'f': 7, ' ': 4, 'e': 6, 'w': 1, 'g': 1})\n"
          ]
        }
      ]
    },
    {
      "cell_type": "code",
      "source": [
        "from collections import Counter\n",
        "\n",
        "x = 'Hrtjrkjdklfj elkfjdklejfklej dkljkljfkljr wekjededfk flktlrkgkfl'\n",
        "res = Counter(x)\n",
        "print(res)"
      ],
      "metadata": {
        "colab": {
          "base_uri": "https://localhost:8080/"
        },
        "id": "ZSTcHVo2u7gq",
        "outputId": "a9b04d27-2c25-42dc-d6d9-2ced6b05d2a5"
      },
      "execution_count": 67,
      "outputs": [
        {
          "output_type": "stream",
          "name": "stdout",
          "text": [
            "Counter({'k': 13, 'j': 10, 'l': 10, 'f': 7, 'e': 6, 'd': 5, 'r': 4, ' ': 4, 't': 2, 'H': 1, 'w': 1, 'g': 1})\n"
          ]
        }
      ]
    },
    {
      "cell_type": "code",
      "source": [
        "x = [12, 23, 34, 234, 1,2, 2,3, 3, 1, 1, 1, 1, 1, 1, 2, 2, 2, 2, 2,3 ,3 ,3 ,3, 3]\n",
        "y = Counter(x)\n",
        "print(y.most_common(5))\n"
      ],
      "metadata": {
        "colab": {
          "base_uri": "https://localhost:8080/"
        },
        "id": "OPoUgpsNvTYN",
        "outputId": "d01c2cc0-6c37-4c91-ca59-0638611acebe"
      },
      "execution_count": 72,
      "outputs": [
        {
          "output_type": "stream",
          "name": "stdout",
          "text": [
            "[(1, 7), (2, 7), (3, 7), (12, 1), (23, 1)]\n"
          ]
        }
      ]
    }
  ]
}