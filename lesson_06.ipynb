{
  "nbformat": 4,
  "nbformat_minor": 0,
  "metadata": {
    "colab": {
      "provenance": [],
      "authorship_tag": "ABX9TyMe5+jP6WTBriEGxVm+EXVR",
      "include_colab_link": true
    },
    "kernelspec": {
      "name": "python3",
      "display_name": "Python 3"
    },
    "language_info": {
      "name": "python"
    }
  },
  "cells": [
    {
      "cell_type": "markdown",
      "metadata": {
        "id": "view-in-github",
        "colab_type": "text"
      },
      "source": [
        "<a href=\"https://colab.research.google.com/github/cpython-projects/da_vn/blob/main/lesson_06.ipynb\" target=\"_parent\"><img src=\"https://colab.research.google.com/assets/colab-badge.svg\" alt=\"Open In Colab\"/></a>"
      ]
    },
    {
      "cell_type": "code",
      "execution_count": 2,
      "metadata": {
        "colab": {
          "base_uri": "https://localhost:8080/"
        },
        "id": "edp1cfn_Q-Sf",
        "outputId": "f7ae51ca-5562-425b-c0b3-2f10ca205241"
      },
      "outputs": [
        {
          "output_type": "execute_result",
          "data": {
            "text/plain": [
              "97"
            ]
          },
          "metadata": {},
          "execution_count": 2
        }
      ],
      "source": [
        "ord('a')"
      ]
    },
    {
      "cell_type": "code",
      "source": [
        "ord('z')"
      ],
      "metadata": {
        "colab": {
          "base_uri": "https://localhost:8080/"
        },
        "id": "NfSSdLFfSI3_",
        "outputId": "4c759cf5-1523-4375-b1a8-8a8afbbf2717"
      },
      "execution_count": 3,
      "outputs": [
        {
          "output_type": "execute_result",
          "data": {
            "text/plain": [
              "122"
            ]
          },
          "metadata": {},
          "execution_count": 3
        }
      ]
    },
    {
      "cell_type": "code",
      "source": [
        "chr(122)"
      ],
      "metadata": {
        "colab": {
          "base_uri": "https://localhost:8080/",
          "height": 36
        },
        "id": "HtMlN6o8SL3s",
        "outputId": "128121bf-f929-47c0-abf5-1d4c35e03a1d"
      },
      "execution_count": 4,
      "outputs": [
        {
          "output_type": "execute_result",
          "data": {
            "text/plain": [
              "'z'"
            ],
            "application/vnd.google.colaboratory.intrinsic+json": {
              "type": "string"
            }
          },
          "metadata": {},
          "execution_count": 4
        }
      ]
    },
    {
      "cell_type": "code",
      "source": [
        "chr(97)"
      ],
      "metadata": {
        "colab": {
          "base_uri": "https://localhost:8080/",
          "height": 36
        },
        "id": "MrGWCAJkSOTm",
        "outputId": "fc81ad06-ad6a-45b3-ab32-2c9403c3b4ec"
      },
      "execution_count": 5,
      "outputs": [
        {
          "output_type": "execute_result",
          "data": {
            "text/plain": [
              "'a'"
            ],
            "application/vnd.google.colaboratory.intrinsic+json": {
              "type": "string"
            }
          },
          "metadata": {},
          "execution_count": 5
        }
      ]
    },
    {
      "cell_type": "code",
      "source": [
        "for i in range(97, 123):\n",
        "  print(i, chr(i))"
      ],
      "metadata": {
        "colab": {
          "base_uri": "https://localhost:8080/"
        },
        "id": "UKPiCVQYSSLl",
        "outputId": "aab556cb-c76d-49f3-fa16-f6ac51e397ac"
      },
      "execution_count": 6,
      "outputs": [
        {
          "output_type": "stream",
          "name": "stdout",
          "text": [
            "97 a\n",
            "98 b\n",
            "99 c\n",
            "100 d\n",
            "101 e\n",
            "102 f\n",
            "103 g\n",
            "104 h\n",
            "105 i\n",
            "106 j\n",
            "107 k\n",
            "108 l\n",
            "109 m\n",
            "110 n\n",
            "111 o\n",
            "112 p\n",
            "113 q\n",
            "114 r\n",
            "115 s\n",
            "116 t\n",
            "117 u\n",
            "118 v\n",
            "119 w\n",
            "120 x\n",
            "121 y\n",
            "122 z\n"
          ]
        }
      ]
    },
    {
      "cell_type": "code",
      "source": [
        "# ASCII\n",
        "\n",
        "# 1 символ = 1 byte\n",
        "\n",
        "for i in range(256):\n",
        "  print(i, chr(i))"
      ],
      "metadata": {
        "colab": {
          "base_uri": "https://localhost:8080/"
        },
        "id": "swgIRmQ2SgZa",
        "outputId": "96f65c69-d892-47f3-fb80-3444785f87e7"
      },
      "execution_count": 7,
      "outputs": [
        {
          "output_type": "stream",
          "name": "stdout",
          "text": [
            "0 \u0000\n",
            "1 \u0001\n",
            "2 \u0002\n",
            "3 \u0003\n",
            "4 \u0004\n",
            "5 \u0005\n",
            "6 \u0006\n",
            "7 \u0007\n",
            "8 \b\n",
            "9 \t\n",
            "10 \n",
            "\n",
            "11 \u000b\n",
            "12 \f\n",
            "13 \r\n",
            "14 \u000e\n",
            "15 \u000f\n",
            "16 \u0010\n",
            "17 \u0011\n",
            "18 \u0012\n",
            "19 \u0013\n",
            "20 \u0014\n",
            "21 \u0015\n",
            "22 \u0016\n",
            "23 \u0017\n",
            "24 \u0018\n",
            "25 \u0019\n",
            "26 \u001a\n",
            "27 \u001b\n",
            "28 \u001c\n",
            "29 \u001d\n",
            "30 \u001e\n",
            "31 \u001f\n",
            "32  \n",
            "33 !\n",
            "34 \"\n",
            "35 #\n",
            "36 $\n",
            "37 %\n",
            "38 &\n",
            "39 '\n",
            "40 (\n",
            "41 )\n",
            "42 *\n",
            "43 +\n",
            "44 ,\n",
            "45 -\n",
            "46 .\n",
            "47 /\n",
            "48 0\n",
            "49 1\n",
            "50 2\n",
            "51 3\n",
            "52 4\n",
            "53 5\n",
            "54 6\n",
            "55 7\n",
            "56 8\n",
            "57 9\n",
            "58 :\n",
            "59 ;\n",
            "60 <\n",
            "61 =\n",
            "62 >\n",
            "63 ?\n",
            "64 @\n",
            "65 A\n",
            "66 B\n",
            "67 C\n",
            "68 D\n",
            "69 E\n",
            "70 F\n",
            "71 G\n",
            "72 H\n",
            "73 I\n",
            "74 J\n",
            "75 K\n",
            "76 L\n",
            "77 M\n",
            "78 N\n",
            "79 O\n",
            "80 P\n",
            "81 Q\n",
            "82 R\n",
            "83 S\n",
            "84 T\n",
            "85 U\n",
            "86 V\n",
            "87 W\n",
            "88 X\n",
            "89 Y\n",
            "90 Z\n",
            "91 [\n",
            "92 \\\n",
            "93 ]\n",
            "94 ^\n",
            "95 _\n",
            "96 `\n",
            "97 a\n",
            "98 b\n",
            "99 c\n",
            "100 d\n",
            "101 e\n",
            "102 f\n",
            "103 g\n",
            "104 h\n",
            "105 i\n",
            "106 j\n",
            "107 k\n",
            "108 l\n",
            "109 m\n",
            "110 n\n",
            "111 o\n",
            "112 p\n",
            "113 q\n",
            "114 r\n",
            "115 s\n",
            "116 t\n",
            "117 u\n",
            "118 v\n",
            "119 w\n",
            "120 x\n",
            "121 y\n",
            "122 z\n",
            "123 {\n",
            "124 |\n",
            "125 }\n",
            "126 ~\n",
            "127 \n",
            "128 \n",
            "129 \n",
            "130 \n",
            "131 \n",
            "132 \n",
            "133 \n",
            "134 \n",
            "135 \n",
            "136 \n",
            "137 \n",
            "138 \n",
            "139 \n",
            "140 \n",
            "141 \n",
            "142 \n",
            "143 \n",
            "144 \n",
            "145 \n",
            "146 \n",
            "147 \n",
            "148 \n",
            "149 \n",
            "150 \n",
            "151 \n",
            "152 \n",
            "153 \n",
            "154 \n",
            "155 \n",
            "156 \n",
            "157 \n",
            "158 \n",
            "159 \n",
            "160  \n",
            "161 ¡\n",
            "162 ¢\n",
            "163 £\n",
            "164 ¤\n",
            "165 ¥\n",
            "166 ¦\n",
            "167 §\n",
            "168 ¨\n",
            "169 ©\n",
            "170 ª\n",
            "171 «\n",
            "172 ¬\n",
            "173 ­\n",
            "174 ®\n",
            "175 ¯\n",
            "176 °\n",
            "177 ±\n",
            "178 ²\n",
            "179 ³\n",
            "180 ´\n",
            "181 µ\n",
            "182 ¶\n",
            "183 ·\n",
            "184 ¸\n",
            "185 ¹\n",
            "186 º\n",
            "187 »\n",
            "188 ¼\n",
            "189 ½\n",
            "190 ¾\n",
            "191 ¿\n",
            "192 À\n",
            "193 Á\n",
            "194 Â\n",
            "195 Ã\n",
            "196 Ä\n",
            "197 Å\n",
            "198 Æ\n",
            "199 Ç\n",
            "200 È\n",
            "201 É\n",
            "202 Ê\n",
            "203 Ë\n",
            "204 Ì\n",
            "205 Í\n",
            "206 Î\n",
            "207 Ï\n",
            "208 Ð\n",
            "209 Ñ\n",
            "210 Ò\n",
            "211 Ó\n",
            "212 Ô\n",
            "213 Õ\n",
            "214 Ö\n",
            "215 ×\n",
            "216 Ø\n",
            "217 Ù\n",
            "218 Ú\n",
            "219 Û\n",
            "220 Ü\n",
            "221 Ý\n",
            "222 Þ\n",
            "223 ß\n",
            "224 à\n",
            "225 á\n",
            "226 â\n",
            "227 ã\n",
            "228 ä\n",
            "229 å\n",
            "230 æ\n",
            "231 ç\n",
            "232 è\n",
            "233 é\n",
            "234 ê\n",
            "235 ë\n",
            "236 ì\n",
            "237 í\n",
            "238 î\n",
            "239 ï\n",
            "240 ð\n",
            "241 ñ\n",
            "242 ò\n",
            "243 ó\n",
            "244 ô\n",
            "245 õ\n",
            "246 ö\n",
            "247 ÷\n",
            "248 ø\n",
            "249 ù\n",
            "250 ú\n",
            "251 û\n",
            "252 ü\n",
            "253 ý\n",
            "254 þ\n",
            "255 ÿ\n"
          ]
        }
      ]
    },
    {
      "cell_type": "code",
      "source": [
        "2 ** 32"
      ],
      "metadata": {
        "colab": {
          "base_uri": "https://localhost:8080/"
        },
        "id": "mzNAGKpSTbIx",
        "outputId": "d84390ba-820b-453f-d36d-77cfbddb6c9f"
      },
      "execution_count": 8,
      "outputs": [
        {
          "output_type": "execute_result",
          "data": {
            "text/plain": [
              "4294967296"
            ]
          },
          "metadata": {},
          "execution_count": 8
        }
      ]
    },
    {
      "cell_type": "code",
      "source": [
        "x = 'Hello'\n",
        "y = \"world\"\n",
        "\n",
        "print(x + y)\n",
        "print(x * 10)\n",
        "print('ol' in x)\n",
        "print('or' in y)\n",
        "print('ol' not in x)\n",
        "print('or' not in y)"
      ],
      "metadata": {
        "colab": {
          "base_uri": "https://localhost:8080/"
        },
        "id": "SOuCPbfzUAPF",
        "outputId": "2f7b90f5-9e98-4657-e5c7-c82a6dbcd0d1"
      },
      "execution_count": 14,
      "outputs": [
        {
          "output_type": "stream",
          "name": "stdout",
          "text": [
            "Helloworld\n",
            "HelloHelloHelloHelloHelloHelloHelloHelloHelloHello\n",
            "False\n",
            "True\n",
            "True\n",
            "False\n"
          ]
        }
      ]
    },
    {
      "cell_type": "code",
      "source": [
        "x = 'Hello, world!'\n",
        "\n",
        "print(x[0])\n",
        "print(x[-1])\n"
      ],
      "metadata": {
        "colab": {
          "base_uri": "https://localhost:8080/"
        },
        "id": "c9DhwSqMUlTL",
        "outputId": "97192251-ffb6-4a67-a528-7ef42ac67e46"
      },
      "execution_count": 15,
      "outputs": [
        {
          "output_type": "stream",
          "name": "stdout",
          "text": [
            "H\n",
            "!\n"
          ]
        }
      ]
    },
    {
      "cell_type": "code",
      "source": [
        "x[0] = 'h'"
      ],
      "metadata": {
        "colab": {
          "base_uri": "https://localhost:8080/",
          "height": 141
        },
        "id": "dlFTNgTOUuaI",
        "outputId": "2ab9a2f1-6d2d-4d69-944e-9e118f8f0b94"
      },
      "execution_count": 16,
      "outputs": [
        {
          "output_type": "error",
          "ename": "TypeError",
          "evalue": "'str' object does not support item assignment",
          "traceback": [
            "\u001b[0;31m---------------------------------------------------------------------------\u001b[0m",
            "\u001b[0;31mTypeError\u001b[0m                                 Traceback (most recent call last)",
            "\u001b[0;32m<ipython-input-16-749a68d98a9c>\u001b[0m in \u001b[0;36m<cell line: 0>\u001b[0;34m()\u001b[0m\n\u001b[0;32m----> 1\u001b[0;31m \u001b[0mx\u001b[0m\u001b[0;34m[\u001b[0m\u001b[0;36m0\u001b[0m\u001b[0;34m]\u001b[0m \u001b[0;34m=\u001b[0m \u001b[0;34m'h'\u001b[0m\u001b[0;34m\u001b[0m\u001b[0;34m\u001b[0m\u001b[0m\n\u001b[0m",
            "\u001b[0;31mTypeError\u001b[0m: 'str' object does not support item assignment"
          ]
        }
      ]
    },
    {
      "cell_type": "code",
      "source": [
        "x[::2]"
      ],
      "metadata": {
        "colab": {
          "base_uri": "https://localhost:8080/",
          "height": 36
        },
        "id": "tqadr3FkU9SA",
        "outputId": "63c72412-c964-48af-8317-1dc6dcb8cfa0"
      },
      "execution_count": 17,
      "outputs": [
        {
          "output_type": "execute_result",
          "data": {
            "text/plain": [
              "'Hlo ol!'"
            ],
            "application/vnd.google.colaboratory.intrinsic+json": {
              "type": "string"
            }
          },
          "metadata": {},
          "execution_count": 17
        }
      ]
    },
    {
      "cell_type": "code",
      "source": [
        "x[1:-1]"
      ],
      "metadata": {
        "colab": {
          "base_uri": "https://localhost:8080/",
          "height": 36
        },
        "id": "2LJmx2K_VApG",
        "outputId": "412001c5-5610-477e-ff4d-c2663f993a02"
      },
      "execution_count": 18,
      "outputs": [
        {
          "output_type": "execute_result",
          "data": {
            "text/plain": [
              "'ello, world'"
            ],
            "application/vnd.google.colaboratory.intrinsic+json": {
              "type": "string"
            }
          },
          "metadata": {},
          "execution_count": 18
        }
      ]
    },
    {
      "cell_type": "code",
      "source": [
        "x"
      ],
      "metadata": {
        "colab": {
          "base_uri": "https://localhost:8080/",
          "height": 36
        },
        "id": "G-X6HM4vVDJL",
        "outputId": "f8bffab9-84f0-4327-d9bf-a461e486325a"
      },
      "execution_count": 19,
      "outputs": [
        {
          "output_type": "execute_result",
          "data": {
            "text/plain": [
              "'Hello, world!'"
            ],
            "application/vnd.google.colaboratory.intrinsic+json": {
              "type": "string"
            }
          },
          "metadata": {},
          "execution_count": 19
        }
      ]
    },
    {
      "cell_type": "code",
      "source": [
        "x = 'Hello, 1132, sdeeee, www, wewe, 23234'\n",
        "for i in '0123456789':\n",
        "  x = x.replace(i, '**')\n",
        "print(x)"
      ],
      "metadata": {
        "colab": {
          "base_uri": "https://localhost:8080/"
        },
        "id": "gf8UHwp_VNar",
        "outputId": "6c7c22af-fd91-4265-b6c4-bc5ff866ef06"
      },
      "execution_count": 23,
      "outputs": [
        {
          "output_type": "stream",
          "name": "stdout",
          "text": [
            "Hello, ********, sdeeee, www, wewe, **********\n"
          ]
        }
      ]
    },
    {
      "cell_type": "code",
      "source": [
        "x = 'aaaa  \\t  bbbb cccc dddd,dddd    rrrr'\n",
        "\n",
        "y = x.split()\n",
        "print(y)"
      ],
      "metadata": {
        "colab": {
          "base_uri": "https://localhost:8080/"
        },
        "id": "_GfbKtvoWQ0B",
        "outputId": "ce7c0919-1cbc-41f3-a4c2-5b7de4caf92a"
      },
      "execution_count": 27,
      "outputs": [
        {
          "output_type": "stream",
          "name": "stdout",
          "text": [
            "['aaaa', 'bbbb', 'cccc', 'dddd,dddd', 'rrrr']\n"
          ]
        }
      ]
    },
    {
      "cell_type": "code",
      "source": [
        "text='hello,world!     Python is         awesome!'"
      ],
      "metadata": {
        "id": "B0Zmzoq8Xo0U"
      },
      "execution_count": 28,
      "outputs": []
    },
    {
      "cell_type": "code",
      "source": [
        "import string\n",
        "print(string.ascii_letters)\n",
        "print(string.ascii_lowercase)\n",
        "print(string.ascii_uppercase)\n",
        "print(string.digits)\n",
        "print(string.punctuation)"
      ],
      "metadata": {
        "colab": {
          "base_uri": "https://localhost:8080/"
        },
        "id": "SPjBJbeAbQvD",
        "outputId": "a65aea58-8e68-4dc3-e841-1a097d4bd1ed"
      },
      "execution_count": 30,
      "outputs": [
        {
          "output_type": "stream",
          "name": "stdout",
          "text": [
            "abcdefghijklmnopqrstuvwxyzABCDEFGHIJKLMNOPQRSTUVWXYZ\n",
            "abcdefghijklmnopqrstuvwxyz\n",
            "ABCDEFGHIJKLMNOPQRSTUVWXYZ\n",
            "0123456789\n",
            "!\"#$%&'()*+,-./:;<=>?@[\\]^_`{|}~\n"
          ]
        }
      ]
    },
    {
      "cell_type": "code",
      "source": [
        "for item in string.punctuation:\n",
        "  text = text.replace(item, ' ')\n",
        "print(text)\n",
        "\n",
        "print(text.split())"
      ],
      "metadata": {
        "colab": {
          "base_uri": "https://localhost:8080/"
        },
        "id": "EYpb_QC1bcgQ",
        "outputId": "a500e21b-11ae-47be-9d7c-b08715602ce7"
      },
      "execution_count": 31,
      "outputs": [
        {
          "output_type": "stream",
          "name": "stdout",
          "text": [
            "hello world      Python is         awesome \n",
            "['hello', 'world', 'Python', 'is', 'awesome']\n"
          ]
        }
      ]
    },
    {
      "cell_type": "code",
      "source": [
        "x = ['hello', 'world', 'Python', 'is', 'awesome']\n",
        "\n",
        "\n",
        "s = '\\n'.join(x)\n",
        "print(s)"
      ],
      "metadata": {
        "colab": {
          "base_uri": "https://localhost:8080/"
        },
        "id": "sL-1NxEjbqbi",
        "outputId": "fb9d9a07-c831-4c88-c104-33e4e6e1ab57"
      },
      "execution_count": 35,
      "outputs": [
        {
          "output_type": "stream",
          "name": "stdout",
          "text": [
            "hello\n",
            "world\n",
            "Python\n",
            "is\n",
            "awesome\n"
          ]
        }
      ]
    },
    {
      "cell_type": "code",
      "source": [
        "x = '  hello   '\n",
        "x = x.strip()\n",
        "print(x)"
      ],
      "metadata": {
        "colab": {
          "base_uri": "https://localhost:8080/"
        },
        "id": "jUQvS4vTcX-L",
        "outputId": "082a2cf9-0419-4a42-e4ac-aad66974f98c"
      },
      "execution_count": 40,
      "outputs": [
        {
          "output_type": "stream",
          "name": "stdout",
          "text": [
            "hello\n"
          ]
        }
      ]
    },
    {
      "cell_type": "code",
      "source": [
        "x = 'oleh tymchuk'\n",
        "\n",
        "x = x.upper()\n",
        "print(x)\n",
        "\n",
        "x = x.title()\n",
        "print(x)\n",
        "\n",
        "x = 'TRUlalala'\n",
        "x = x.lower()\n",
        "print(x)"
      ],
      "metadata": {
        "colab": {
          "base_uri": "https://localhost:8080/"
        },
        "id": "27U5Z_jLcxW7",
        "outputId": "5e348d6a-fcf6-4a36-a992-9908d98ec90d"
      },
      "execution_count": 43,
      "outputs": [
        {
          "output_type": "stream",
          "name": "stdout",
          "text": [
            "OLEH TYMCHUK\n",
            "Oleh Tymchuk\n",
            "trulalala\n"
          ]
        }
      ]
    },
    {
      "cell_type": "code",
      "source": [
        "x = 'eWrwer324324fwefr'\n",
        "print(x.islower())\n",
        "print(x.isupper())\n",
        "print(x.isalpha())\n",
        "print(x.isdigit())\n",
        "print(x.isalnum())"
      ],
      "metadata": {
        "colab": {
          "base_uri": "https://localhost:8080/"
        },
        "id": "H4OgqiLmdLSg",
        "outputId": "dd0c15ea-1b6d-4804-ea01-ef7f2320ad02"
      },
      "execution_count": 45,
      "outputs": [
        {
          "output_type": "stream",
          "name": "stdout",
          "text": [
            "False\n",
            "False\n",
            "False\n",
            "False\n",
            "True\n"
          ]
        }
      ]
    },
    {
      "cell_type": "code",
      "source": [
        "x = '+38087897'\n",
        "\n",
        "print(x.startswith('+380'))\n",
        "print(x.endswith('7'))\n",
        "\n",
        "\n",
        "x."
      ],
      "metadata": {
        "colab": {
          "base_uri": "https://localhost:8080/"
        },
        "id": "12LSObN6de5U",
        "outputId": "ab6475fc-3e82-447d-fa7f-bc2746690dbe"
      },
      "execution_count": 46,
      "outputs": [
        {
          "output_type": "stream",
          "name": "stdout",
          "text": [
            "True\n",
            "True\n"
          ]
        }
      ]
    }
  ]
}