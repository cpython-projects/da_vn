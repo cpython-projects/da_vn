{
  "nbformat": 4,
  "nbformat_minor": 0,
  "metadata": {
    "colab": {
      "provenance": [],
      "authorship_tag": "ABX9TyN7MVbVnGqueUue8QHNKnYJ",
      "include_colab_link": true
    },
    "kernelspec": {
      "name": "python3",
      "display_name": "Python 3"
    },
    "language_info": {
      "name": "python"
    }
  },
  "cells": [
    {
      "cell_type": "markdown",
      "metadata": {
        "id": "view-in-github",
        "colab_type": "text"
      },
      "source": [
        "<a href=\"https://colab.research.google.com/github/cpython-projects/da_vn/blob/main/session02_tasks.ipynb\" target=\"_parent\"><img src=\"https://colab.research.google.com/assets/colab-badge.svg\" alt=\"Open In Colab\"/></a>"
      ]
    },
    {
      "cell_type": "markdown",
      "source": [
        "Here are two hotel-related datasets for analysis:  \n",
        "\n",
        "### **1. Hotel Bookings Dataset (hotel_bookings.csv)**  \n",
        "This dataset contains information about hotel reservations, including check-in dates, room types, total prices, and booking statuses.  \n",
        "\n",
        "#### **Columns:**  \n",
        "- `BookingID` – Unique ID for each booking  \n",
        "- `HotelName` – Name of the hotel  \n",
        "- `RoomType` – Type of room (Single, Double, Suite, Family)  \n",
        "- `CheckInDate` – Date of check-in  \n",
        "- `Nights` – Number of nights booked  \n",
        "- `TotalPrice` – Total price for the stay (in USD)  \n",
        "- `BookingStatus` – Status of the booking (Confirmed, Cancelled, No Show)  \n",
        "- `CustomerID` – Unique ID for the customer  \n",
        "\n",
        "#### **Example Data:**  \n",
        "\n",
        "| BookingID | HotelName       | RoomType | CheckInDate | Nights | TotalPrice | BookingStatus | CustomerID |\n",
        "|-----------|----------------|----------|------------|--------|------------|---------------|------------|\n",
        "| 1         | Grand Plaza    | Double   | 2024-01-01 | 3      | 250.50     | Confirmed     | 1234       |\n",
        "| 2         | Ocean View     | Suite    | 2024-01-02 | 5      | 480.75     | Cancelled     | 1456       |\n",
        "| 3         | Mountain Retreat | Single  | 2024-01-03 | 2      | 150.00     | No Show       | 1678       |\n",
        "\n",
        "---\n",
        "\n",
        "### **2. Hotel Reviews Dataset (hotel_reviews.csv)**  \n",
        "This dataset contains customer reviews of hotels, including ratings, review texts, and review dates.  \n",
        "\n",
        "#### **Columns:**  \n",
        "- `ReviewID` – Unique ID for each review  \n",
        "- `HotelName` – Name of the hotel  \n",
        "- `Rating` – Customer rating (1 to 5)  \n",
        "- `ReviewText` – Text of the review  \n",
        "- `CustomerID` – Unique ID for the customer  \n",
        "- `ReviewDate` – Date of the review  \n",
        "\n",
        "#### **Example Data:**  \n",
        "\n",
        "| ReviewID | HotelName       | Rating | ReviewText         | CustomerID | ReviewDate |\n",
        "|----------|----------------|--------|--------------------|------------|------------|\n",
        "| 1        | Grand Plaza    | 5      | Amazing stay!     | 1234       | 2024-01-01 |\n",
        "| 2        | Ocean View     | 3      | Could be better   | 1456       | 2024-01-02 |\n",
        "| 3        | Mountain Retreat | 4    | Loved the view!   | 1678       | 2024-01-03 |"
      ],
      "metadata": {
        "id": "pnVzlcxDifVN"
      }
    },
    {
      "cell_type": "markdown",
      "source": [
        "**Hotel and Booking Data Analysis Tasks**\n",
        "\n",
        "### **Task 1: Read and Display Data**\n",
        "1. Open the `hotels_data.csv` file and print the first 5 rows.\n",
        "2. Open the `bookings_data.csv` file and print the first 5 rows.\n",
        "\n",
        "### **Task 2: Count the Total Number of Hotels**\n",
        "Write a program that counts the total number of hotels available in the dataset.\n",
        "\n",
        "### **Task 3: Count Bookings for Each Hotel**\n",
        "1. Count how many bookings exist for each hotel.\n",
        "2. Print the Hotel_ID along with the number of bookings.\n",
        "\n",
        "### **Task 4: Find the Most Popular Room Type**\n",
        "Determine which room type (`Single`, `Double`, or `Suite`) has been booked the most times.\n",
        "\n",
        "### **Task 5: Identify Cancelled Bookings**\n",
        "Find and count how many bookings have the status `Cancelled`.\n",
        "\n",
        "### **Task 6: Calculate Total Nights Stayed per Hotel**\n",
        "For each hotel, sum up the total number of nights booked.\n",
        "\n",
        "### **Task 7: Find the Hotel with the Most Confirmed Bookings**\n",
        "Identify the hotel with the highest number of `Confirmed` bookings and print its `Hotel_ID`.\n",
        "\n",
        "### **Task 8: Count Bookings per City**\n",
        "Using the `hotels_data.csv`, count how many bookings were made for each city.\n",
        "\n",
        "### **Task 9: Find the Most Recent Booking**\n",
        "Determine the most recent booking date from the `bookings_data.csv`.\n",
        "\n",
        "### **Task 10: Find Hotels with More Than 200 Rooms**\n",
        "List all hotels that have more than 200 rooms.\n",
        "\n",
        "Each task should be solved using the `csv` module in Python without using `pandas`. Good luck!\n",
        "\n"
      ],
      "metadata": {
        "id": "waYmIMP9n9XX"
      }
    },
    {
      "cell_type": "code",
      "source": [],
      "metadata": {
        "id": "VEqoKD8UoDS0"
      },
      "execution_count": null,
      "outputs": []
    },
    {
      "cell_type": "markdown",
      "source": [
        "Count the number of bookings per hotel\n",
        "Use a dictionary to store the count of bookings for each hotel."
      ],
      "metadata": {
        "id": "7UO6fOGai_rY"
      }
    },
    {
      "cell_type": "code",
      "source": [],
      "metadata": {
        "id": "Ju3WLaSkjkhR"
      },
      "execution_count": null,
      "outputs": []
    },
    {
      "cell_type": "markdown",
      "source": [
        "Calculate the total revenue per hotel  \n",
        "Sum up the TotalPrice for each hotel using a loop."
      ],
      "metadata": {
        "id": "f5Y9GR_VjJXW"
      }
    },
    {
      "cell_type": "code",
      "source": [],
      "metadata": {
        "id": "ni5mkwkdjjUV"
      },
      "execution_count": null,
      "outputs": []
    },
    {
      "cell_type": "markdown",
      "source": [
        "Find the average stay duration per hotel  \n",
        "Compute the average value of Nights for each hotel."
      ],
      "metadata": {
        "id": "rsY0hFqOjQrX"
      }
    },
    {
      "cell_type": "code",
      "source": [],
      "metadata": {
        "id": "A5JQDJFiji4f"
      },
      "execution_count": null,
      "outputs": []
    },
    {
      "cell_type": "markdown",
      "source": [
        "Determine the most common room type booked  \n",
        "Use a dictionary to count occurrences of each RoomType."
      ],
      "metadata": {
        "id": "9OGomx22jUwi"
      }
    },
    {
      "cell_type": "code",
      "source": [],
      "metadata": {
        "id": "HhoyJZNljiY0"
      },
      "execution_count": null,
      "outputs": []
    },
    {
      "cell_type": "markdown",
      "source": [
        "Count the number of confirmed bookings  \n",
        "Iterate through BookingStatus and count occurrences of \"Confirmed\"."
      ],
      "metadata": {
        "id": "k7OvvH3tjbLQ"
      }
    },
    {
      "cell_type": "code",
      "source": [],
      "metadata": {
        "id": "gofEPrORjh6w"
      },
      "execution_count": null,
      "outputs": []
    },
    {
      "cell_type": "markdown",
      "source": [
        "Calculate the average rating per hotel  \n",
        "Sum ratings and divide by the number of reviews for each hotel."
      ],
      "metadata": {
        "id": "XUjL6SvhjdS7"
      }
    },
    {
      "cell_type": "code",
      "source": [],
      "metadata": {
        "id": "NExMmTUYjhWh"
      },
      "execution_count": null,
      "outputs": []
    },
    {
      "cell_type": "markdown",
      "source": [
        "Find the hotel with the most reviews  \n",
        "Use a dictionary to count reviews per hotel and find the maximum."
      ],
      "metadata": {
        "id": "25gAdioVjfP5"
      }
    },
    {
      "cell_type": "code",
      "source": [],
      "metadata": {
        "id": "SIz9yu6Wjgg3"
      },
      "execution_count": null,
      "outputs": []
    }
  ]
}