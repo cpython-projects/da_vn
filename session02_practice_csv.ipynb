{
  "nbformat": 4,
  "nbformat_minor": 0,
  "metadata": {
    "colab": {
      "provenance": [],
      "authorship_tag": "ABX9TyPNzyR7VgtY6y6g5GA/5PRf",
      "include_colab_link": true
    },
    "kernelspec": {
      "name": "python3",
      "display_name": "Python 3"
    },
    "language_info": {
      "name": "python"
    }
  },
  "cells": [
    {
      "cell_type": "markdown",
      "metadata": {
        "id": "view-in-github",
        "colab_type": "text"
      },
      "source": [
        "<a href=\"https://colab.research.google.com/github/cpython-projects/da_vn/blob/main/session02_practice_csv.ipynb\" target=\"_parent\"><img src=\"https://colab.research.google.com/assets/colab-badge.svg\" alt=\"Open In Colab\"/></a>"
      ]
    },
    {
      "cell_type": "markdown",
      "source": [
        "1. Upload files from your local computer to the Colab runtime environment"
      ],
      "metadata": {
        "id": "-NND3oRVWxaG"
      }
    },
    {
      "cell_type": "code",
      "execution_count": 1,
      "metadata": {
        "colab": {
          "base_uri": "https://localhost:8080/"
        },
        "id": "bMpB9On-eJEl",
        "outputId": "6a88c640-e08f-49bf-fd71-6753f0de0e6f"
      },
      "outputs": [
        {
          "output_type": "stream",
          "name": "stdout",
          "text": [
            "Mounted at /content/drive\n"
          ]
        }
      ],
      "source": [
        "from google.colab import files\n",
        "uploaded = files.upload()"
      ]
    },
    {
      "cell_type": "markdown",
      "source": [
        "2. Import csv module. The csv module in Python is used for reading and writing Comma-Separated Values (CSV) files, which are commonly used for storing tabular data (like spreadsheets or databases)."
      ],
      "metadata": {
        "id": "HZjavZViYKJH"
      }
    },
    {
      "cell_type": "code",
      "source": [
        "import csv"
      ],
      "metadata": {
        "id": "CyxpdXkaYaii"
      },
      "execution_count": null,
      "outputs": []
    },
    {
      "cell_type": "markdown",
      "source": [
        "1. **session_02_sales_data.csv** – sales data\n",
        "2. **session_02_customers_data.csv** – customer data  \n",
        "\n",
        "### session_02_sales_data.csv\n",
        "| Sale_ID | Customer_ID | Product | Category | Quantity | Price | Date       |\n",
        "|---------|------------|---------|----------|----------|-------|------------|\n",
        "| 1001    | 5001       | Laptop  | Electronics | 1      | 800   | 2024-01-15 |\n",
        "| 1002    | 5002       | Phone   | Electronics | 2      | 500   | 2024-01-16 |\n",
        "| 1003    | 5003       | Chair   | Furniture   | 4      | 150   | 2024-01-17 |\n",
        "\n",
        "### session_02_customers_data.csv (данные о клиентах)\n",
        "| Customer_ID | Name       | Age | Gender | City         | Country  |\n",
        "|-------------|-----------|-----|--------|-------------|----------|\n",
        "| 5001        | John Doe  | 34  | Male   | New York    | USA      |\n",
        "| 5002        | Jane Smith| 28  | Female | London      | UK       |\n",
        "| 5003        | Carlos Ruiz | 41 | Male   | Madrid      | Spain    |"
      ],
      "metadata": {
        "id": "UVURnZCeYbNC"
      }
    },
    {
      "cell_type": "markdown",
      "source": [
        "**Task 1.** Count the Number of Sales\n",
        "Write a script that reads session_02_sales_data.csv and prints the total number of sales (rows in the file, excluding the header)."
      ],
      "metadata": {
        "id": "X5kiQtDeYZ2S"
      }
    },
    {
      "cell_type": "code",
      "source": [],
      "metadata": {
        "id": "89Hn21P9ZaiC"
      },
      "execution_count": null,
      "outputs": []
    },
    {
      "cell_type": "markdown",
      "source": [
        "**Task 2.** Count Unique Customers\n",
        "Read session_02_sales_data.csv and find how many unique customers made purchases. The Customer_ID column identifies customers."
      ],
      "metadata": {
        "id": "SJ_rYADSZayi"
      }
    },
    {
      "cell_type": "code",
      "source": [],
      "metadata": {
        "id": "n-vRjN53ZgCw"
      },
      "execution_count": null,
      "outputs": []
    },
    {
      "cell_type": "markdown",
      "source": [
        "**Task 3.** Find the Total Revenue\n",
        "Calculate the total revenue from all sales. Revenue is calculated as:\n",
        "Revenue = Quantity × Price\n",
        "\n",
        "Print the total revenue."
      ],
      "metadata": {
        "id": "7o1-gql2ZgZS"
      }
    },
    {
      "cell_type": "code",
      "source": [],
      "metadata": {
        "id": "v8qxUZn_Zpfr"
      },
      "execution_count": null,
      "outputs": []
    },
    {
      "cell_type": "markdown",
      "source": [
        "**Task 4.** Find the Most Sold Product\n",
        "Identify which product was sold the most (based on total quantity)."
      ],
      "metadata": {
        "id": "QobyWKcrZpzb"
      }
    },
    {
      "cell_type": "code",
      "source": [],
      "metadata": {
        "id": "IrdIB779ZzKG"
      },
      "execution_count": null,
      "outputs": []
    },
    {
      "cell_type": "markdown",
      "source": [
        "**Task 5.** Find the Oldest Customer\n",
        "Read session_02_customers_data.csv and find the oldest customer. Print their name and age."
      ],
      "metadata": {
        "id": "kgBcBYvFZzXq"
      }
    },
    {
      "cell_type": "code",
      "source": [],
      "metadata": {
        "id": "FhqxtgHuZ33a"
      },
      "execution_count": null,
      "outputs": []
    },
    {
      "cell_type": "markdown",
      "source": [
        "**Task 6.** Sales Count per Category\n",
        "Read session_02_sales_data.csv and count how many sales were made for each product category (column Category). Print the category and the number of sales."
      ],
      "metadata": {
        "id": "9KETIpUAZ4B9"
      }
    },
    {
      "cell_type": "code",
      "source": [],
      "metadata": {
        "id": "I5ELzkU6Z9kT"
      },
      "execution_count": null,
      "outputs": []
    },
    {
      "cell_type": "markdown",
      "source": [
        "**Task 7.** Find Sales on a Specific Date\n",
        "Ask the user to enter a date in YYYY-MM-DD format. Print all sales from session_02_sales_data.csv that happened on that date."
      ],
      "metadata": {
        "id": "xaym4k-qZ9zm"
      }
    },
    {
      "cell_type": "code",
      "source": [],
      "metadata": {
        "id": "SHzIwo_aZ-pJ"
      },
      "execution_count": null,
      "outputs": []
    }
  ]
}