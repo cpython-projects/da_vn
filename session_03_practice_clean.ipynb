{
 "cells": [
  {
   "cell_type": "code",
   "execution_count": 1,
   "id": "81829e75-0d37-4f7a-a924-c2f0bbf6c0a1",
   "metadata": {},
   "outputs": [],
   "source": [
    "!pip install --upgrade pandas\n",
    "import pandas as pd\n",
    "from google.colab import files\n",
    "uploaded = files.upload()"
   ]
  },
  {
   "cell_type": "markdown",
   "id": "2e1a932d-0127-4244-b354-54f47d0383e6",
   "metadata": {},
   "source": [
    "### 1. Reading Data from CSV with Specific Features\n",
    "When reading CSV files, we often need to handle special cases:\n",
    "- Different delimiters (here we use ';')\n",
    "- Potential encoding issues\n",
    "- Handling of missing values\n",
    "- Parsing dates correctly"
   ]
  },
  {
   "cell_type": "code",
   "execution_count": 13,
   "id": "7116fb06-4285-4f25-91f0-d959e60c51f0",
   "metadata": {},
   "outputs": [],
   "source": [
    "df = pd.read_csv('session_03_data_practice.csv', delimiter=';', parse_dates=['Creation Date', 'Date when pay'])"
   ]
  },
  {
   "cell_type": "markdown",
   "id": "b06ef571-b74f-46f2-84d0-b1768a6e614c",
   "metadata": {},
   "source": [
    "**Note: The parse_dates parameter attempts to convert specified columns to datetime objects**  \n",
    "This is especially useful for time series analysis"
   ]
  },
  {
   "cell_type": "markdown",
   "id": "9338cb59-8345-4e8e-95ec-37577530947e",
   "metadata": {},
   "source": [
    "### 2. Initial Data Exploration\n",
    "Understanding your data is the first critical step in any analysis"
   ]
  },
  {
   "cell_type": "markdown",
   "id": "ee43bd9c-2733-4c79-a0f6-d1ab738dc188",
   "metadata": {},
   "source": [
    "**View first 5 rows to get a quick look at the data structure**"
   ]
  },
  {
   "cell_type": "code",
   "execution_count": null,
   "id": "f0e97b11-6f08-4a49-b879-32b48a97cea0",
   "metadata": {},
   "outputs": [],
   "source": []
  },
  {
   "cell_type": "markdown",
   "id": "bcee20bc-9b7c-4aa2-a3b7-feae6d15c64f",
   "metadata": {},
   "source": [
    "**View last 5 rows to check if data is consistent throughout**"
   ]
  },
  {
   "cell_type": "code",
   "execution_count": null,
   "id": "7e4e1179-1adc-4b6e-919d-44e1ba923d01",
   "metadata": {},
   "outputs": [],
   "source": []
  },
  {
   "cell_type": "markdown",
   "id": "1114d7b2-1859-45cf-a8ba-d43847881adf",
   "metadata": {},
   "source": [
    "**Get basic information about the DataFrame:**\n",
    "- Number of non-null entries per column\n",
    "- Data types of each column\n",
    "- Memory usage"
   ]
  },
  {
   "cell_type": "code",
   "execution_count": null,
   "id": "93956bc0-0fbe-43eb-8d28-52853091762b",
   "metadata": {},
   "outputs": [],
   "source": []
  },
  {
   "cell_type": "markdown",
   "id": "9632ab52-8d41-47fd-ac50-865dd084c138",
   "metadata": {},
   "source": [
    "**Generate descriptive statistics for numeric columns:**\n",
    "- Count, mean, std, min, quartiles, max"
   ]
  },
  {
   "cell_type": "code",
   "execution_count": null,
   "id": "3ef5e891-a355-4b00-b7bb-599dc2e48bf2",
   "metadata": {},
   "outputs": [],
   "source": []
  },
  {
   "cell_type": "markdown",
   "id": "28a5bc33-dc84-4531-9d1c-f4f4489c8ff5",
   "metadata": {},
   "source": [
    "**Get DataFrame dimensions (rows, columns)**"
   ]
  },
  {
   "cell_type": "code",
   "execution_count": null,
   "id": "fd07f16a-e41d-4906-9a33-c65849ff4e34",
   "metadata": {},
   "outputs": [],
   "source": []
  },
  {
   "cell_type": "markdown",
   "id": "89568866-f800-4db1-bfc6-bd11dbe95131",
   "metadata": {},
   "source": [
    "**View column names (important for referencing columns correctly)**"
   ]
  },
  {
   "cell_type": "code",
   "execution_count": null,
   "id": "e61167e6-4592-4d3d-a17a-421e56c93b15",
   "metadata": {},
   "outputs": [],
   "source": []
  },
  {
   "cell_type": "code",
   "execution_count": null,
   "id": "9f20b3b0-fbcb-4a68-a59d-20ef8f2adc4b",
   "metadata": {},
   "outputs": [],
   "source": []
  },
  {
   "cell_type": "markdown",
   "id": "b4bf8e1a-f2c5-4c77-8e91-5c5767356641",
   "metadata": {},
   "source": [
    "**Initial observations we might make:**\n",
    "- Mixed data types (numeric, text, dates)\n",
    "- Some columns have missing values (like 'Date when pay')\n",
    "- Potential data quality issues (spaces in city names, inconsistent capitalization)\n",
    "- Numeric columns like 'Money amount' have wide ranges"
   ]
  },
  {
   "cell_type": "markdown",
   "id": "f5cab097-c6e3-4996-9561-46e044ccfea5",
   "metadata": {},
   "source": [
    "### 3. Renaming Columns\n",
    "**Column renaming is important for:**\n",
    "- Consistency (standard naming conventions)\n",
    "- Readability (clear, descriptive names)\n",
    "- Ease of use (avoid spaces/special characters in names)"
   ]
  },
  {
   "cell_type": "code",
   "execution_count": null,
   "id": "d47ae0c0-21bf-48c6-936a-5303830e213a",
   "metadata": {},
   "outputs": [],
   "source": []
  },
  {
   "cell_type": "markdown",
   "id": "1e94de9a-d9d6-475e-bfeb-a344521d316b",
   "metadata": {},
   "source": [
    "**Verify the changes**"
   ]
  },
  {
   "cell_type": "code",
   "execution_count": null,
   "id": "65e6aeb6-55e8-4f32-abc1-4a683ca70b07",
   "metadata": {},
   "outputs": [],
   "source": []
  },
  {
   "cell_type": "markdown",
   "id": "1c64d563-c2ae-413c-9cb9-ac01f8987f43",
   "metadata": {},
   "source": [
    "### 4. Working with Columns and Rows\n",
    "\n",
    "**Selecting Columns**\n",
    "- Single column (returns Series)"
   ]
  },
  {
   "cell_type": "code",
   "execution_count": null,
   "id": "f6179e82-ac13-47e5-a04e-ddf0ef1b40fd",
   "metadata": {},
   "outputs": [],
   "source": []
  },
  {
   "cell_type": "markdown",
   "id": "fd855f71-9c37-4000-8fe3-1edfd1a41331",
   "metadata": {},
   "source": [
    "**Multiple columns (returns DataFrame)**"
   ]
  },
  {
   "cell_type": "code",
   "execution_count": null,
   "id": "f6a5c32d-2212-4b07-aff5-4ab36f27e099",
   "metadata": {},
   "outputs": [],
   "source": []
  },
  {
   "cell_type": "markdown",
   "id": "a998845e-0210-4305-b851-e78cc5f7cd1f",
   "metadata": {},
   "source": [
    "**Selecting Rows**\n",
    "- By index"
   ]
  },
  {
   "cell_type": "code",
   "execution_count": null,
   "id": "554a2f2e-e530-456a-a68e-cc9c4334a17e",
   "metadata": {},
   "outputs": [],
   "source": []
  },
  {
   "cell_type": "markdown",
   "id": "2b09b292-147f-432a-a2a4-a066c679b0a7",
   "metadata": {},
   "source": [
    "- By position (iloc)"
   ]
  },
  {
   "cell_type": "code",
   "execution_count": null,
   "id": "97192207-4bb1-4341-a6ae-daf653e3a4f4",
   "metadata": {},
   "outputs": [],
   "source": []
  },
  {
   "cell_type": "markdown",
   "id": "086e75c1-a0bc-4b70-980e-debbab977d9f",
   "metadata": {},
   "source": [
    "**Filtering Data**\n",
    "- Completed transactions only"
   ]
  },
  {
   "cell_type": "code",
   "execution_count": null,
   "id": "095b4c5c-cf60-403a-a3f1-8bd7c9563242",
   "metadata": {},
   "outputs": [],
   "source": []
  },
  {
   "cell_type": "markdown",
   "id": "39c4ed7c-4d96-4977-9f62-b43c9e965ce5",
   "metadata": {},
   "source": [
    "- High-value transactions (> 20,000)"
   ]
  },
  {
   "cell_type": "code",
   "execution_count": null,
   "id": "a53d1c34-1093-4584-9cac-48ee121ec798",
   "metadata": {},
   "outputs": [],
   "source": []
  },
  {
   "cell_type": "markdown",
   "id": "6ccfdaeb-364a-43ad-ad2e-d70296883af6",
   "metadata": {},
   "source": [
    "- Multiple conditions (use & for AND, | for OR)"
   ]
  },
  {
   "cell_type": "code",
   "execution_count": null,
   "id": "203ef1cd-8169-4b65-8f8c-12849baf01d9",
   "metadata": {},
   "outputs": [],
   "source": []
  },
  {
   "cell_type": "markdown",
   "id": "9cec237f-c8f9-4bfa-b35e-d39f20918010",
   "metadata": {},
   "source": [
    "- Filter by string contains (case sensitive)"
   ]
  },
  {
   "cell_type": "code",
   "execution_count": null,
   "id": "6e0185f2-6fb5-41c7-985c-ee1b3e3386cb",
   "metadata": {},
   "outputs": [],
   "source": []
  },
  {
   "cell_type": "markdown",
   "id": "874c3a46-8923-48a2-acbf-3cd228b1b6ac",
   "metadata": {},
   "source": [
    "### 5. Basic Data Operations\n",
    "\n",
    "**Adding Columns**\n",
    "- Calculate payment delay in days (for completed transactions)"
   ]
  },
  {
   "cell_type": "code",
   "execution_count": null,
   "id": "4acd2ea0-a557-4d15-ba35-13d6a4096add",
   "metadata": {},
   "outputs": [],
   "source": []
  },
  {
   "cell_type": "markdown",
   "id": "68a4f2c3-d08c-4995-bba6-cd9667b74b79",
   "metadata": {},
   "source": [
    "**Create a binary column indicating high-value transactions**"
   ]
  },
  {
   "cell_type": "code",
   "execution_count": null,
   "id": "0bc09963-08bc-4cf0-919f-7da73f86235f",
   "metadata": {},
   "outputs": [],
   "source": []
  },
  {
   "cell_type": "markdown",
   "id": "44ff109b-8f79-48a5-9c0c-1731ea8e0314",
   "metadata": {},
   "source": [
    "**Removing Columns**\n",
    "- Drop the temporary column we created"
   ]
  },
  {
   "cell_type": "code",
   "execution_count": null,
   "id": "bad879ce-7da5-46c5-9a45-5ad600216351",
   "metadata": {},
   "outputs": [],
   "source": []
  },
  {
   "cell_type": "markdown",
   "id": "1eef9b4e-c622-4b56-999c-763b5e2272f1",
   "metadata": {},
   "source": [
    "**Sorting Data**\n",
    "- Sort by amount (descending)"
   ]
  },
  {
   "cell_type": "code",
   "execution_count": null,
   "id": "5bb35455-d605-4e3e-a009-25edc1cd2b2d",
   "metadata": {},
   "outputs": [],
   "source": []
  },
  {
   "cell_type": "markdown",
   "id": "26b333af-9a8e-4e09-9540-0e023454b959",
   "metadata": {},
   "source": [
    "- Multi-column sort"
   ]
  },
  {
   "cell_type": "code",
   "execution_count": null,
   "id": "03a8a9f0-279f-4e85-a671-7e3ca4bca16f",
   "metadata": {},
   "outputs": [],
   "source": []
  },
  {
   "cell_type": "markdown",
   "id": "3c11aa46-eb60-40a7-8c81-b42b0b620639",
   "metadata": {},
   "source": [
    "### Additional Important Initial Analysis Steps\n",
    "**Checking for Missing Values**"
   ]
  },
  {
   "cell_type": "code",
   "execution_count": null,
   "id": "b443ea34-4f95-4858-a758-68aec3e27e5e",
   "metadata": {},
   "outputs": [],
   "source": []
  },
  {
   "cell_type": "markdown",
   "id": "f841cd98-4da9-4900-bfa8-c3ac07c5704b",
   "metadata": {},
   "source": [
    "**Examining Unique Values**"
   ]
  },
  {
   "cell_type": "code",
   "execution_count": null,
   "id": "4dba5fc4-71d7-4f2b-9af6-2501680c69ec",
   "metadata": {},
   "outputs": [],
   "source": []
  },
  {
   "cell_type": "markdown",
   "id": "9091778f-8d04-4fec-9594-86e98aa56a6e",
   "metadata": {},
   "source": [
    "**Data Quality Checks**\n",
    "- Check for inconsistent city names (case sensitivity, whitespace)"
   ]
  },
  {
   "cell_type": "code",
   "execution_count": null,
   "id": "ff150fc0-cbe5-4818-b991-a64a4646539d",
   "metadata": {},
   "outputs": [],
   "source": []
  },
  {
   "cell_type": "markdown",
   "id": "8a90b5ce-2bf6-4a9e-b402-dca4757f3a05",
   "metadata": {},
   "source": [
    "- Value Counts (useful for categorical data)"
   ]
  },
  {
   "cell_type": "code",
   "execution_count": null,
   "id": "fe3ff958-863e-4d91-8198-94cf9b2c0262",
   "metadata": {},
   "outputs": [],
   "source": []
  },
  {
   "cell_type": "markdown",
   "id": "94ce6fc6-fb5e-4241-ae26-2e114478cfe0",
   "metadata": {},
   "source": [
    "### Initial Observations:\n",
    "\n",
    "1. **Data Structure Preview**:\n",
    "   - The dataset contains transaction records with columns like `Number`, `Creation Date`, `Payment Date`, `Title`, `Status`, `Money Amount`, `City`, and `Payment System`.\n",
    "   - Mixed data types are visible at a glance (dates, numbers, text).\n",
    "\n",
    "2. **Missing Values**:\n",
    "   - `Date when pay` is empty for canceled transactions (e.g., rows 3-7 in head).\n",
    "   - `Money amount` shows `0` for canceled transactions.\n",
    "   - Some `City` and `Payment System` fields are empty (e.g., row 11 in head).\n",
    "\n",
    "3. **Status Patterns**:\n",
    "   - `Completed` status correlates with:\n",
    "     - Filled payment dates\n",
    "     - Positive money amounts\n",
    "     - Specified payment methods\n",
    "   - `Canceled` status shows:\n",
    "     - Empty payment dates\n",
    "     - Zero amounts\n",
    "     - Often missing payment methods\n",
    "\n",
    "4. **Data Quality Indicators**:\n",
    "   - Inconsistent city name formatting:\n",
    "     - Mixed case (e.g., \"TERNOPIL\" vs \"Vinnytsia\")\n",
    "     - Trailing spaces (e.g., \" Lviv\" vs \"Lviv\")\n",
    "     - Combined city names (\"OdesaDnipro\")\n",
    "   - Payment method names use different languages (Ukrainian and English)\n",
    "\n",
    "5. **Temporal Patterns**:\n",
    "   - Transactions span December 2024 (based on creation dates)\n",
    "   - Payment delays vary (e.g., row 1 shows 2-minute delay, while row 14 shows 17-day delay)\n",
    "\n",
    "6. **Business Context Clues**:\n",
    "   - Course titles suggest an educational platform (\"AI Engineering\", \"Frontend Development\", etc.)\n",
    "   - Payment amounts vary significantly (from 1.0 to 42750.0)\n",
    "   - Multiple payment systems are supported (Google Pay, PayPal, bank transfers)\n",
    "\n",
    "7. **Potential Anomalies**:\n",
    "   - Very small payments (1.0) in rows 28-34 might represent test transactions\n",
    "   - Some payment dates (e.g., \"01.01.2020\" in last row) appear inconsistent with creation dates\n",
    "\n",
    "**Key Questions for Further Investigation**:\n",
    "- Why do some completed transactions have payment dates before creation dates?\n",
    "- Should city names be standardized (case, spacing)?\n",
    "- Are the 1.0 payments valid or system artifacts?\n",
    "- What explains the extreme payment amount range?\n",
    "\n",
    "This initial inspection reveals both the dataset's structure and immediate data quality considerations that would need addressing before deeper analysis."
   ]
  },
  {
   "cell_type": "code",
   "execution_count": null,
   "id": "817578da-9ed3-49fa-b725-b2583de213e1",
   "metadata": {},
   "outputs": [],
   "source": []
  }
 ],
 "metadata": {
  "kernelspec": {
   "display_name": "Python 3 (ipykernel)",
   "language": "python",
   "name": "python3"
  },
  "language_info": {
   "codemirror_mode": {
    "name": "ipython",
    "version": 3
   },
   "file_extension": ".py",
   "mimetype": "text/x-python",
   "name": "python",
   "nbconvert_exporter": "python",
   "pygments_lexer": "ipython3",
   "version": "3.13.2"
  }
 },
 "nbformat": 4,
 "nbformat_minor": 5
}
