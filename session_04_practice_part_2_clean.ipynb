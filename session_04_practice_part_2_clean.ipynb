{
  "nbformat": 4,
  "nbformat_minor": 0,
  "metadata": {
    "colab": {
      "provenance": [],
      "authorship_tag": "ABX9TyOpC4e9hd4z2M+mn/vdguXB",
      "include_colab_link": true
    },
    "kernelspec": {
      "name": "python3",
      "display_name": "Python 3"
    },
    "language_info": {
      "name": "python"
    }
  },
  "cells": [
    {
      "cell_type": "markdown",
      "metadata": {
        "id": "view-in-github",
        "colab_type": "text"
      },
      "source": [
        "<a href=\"https://colab.research.google.com/github/cpython-projects/da_vn/blob/main/session_04_practice_part_2_clean.ipynb\" target=\"_parent\"><img src=\"https://colab.research.google.com/assets/colab-badge.svg\" alt=\"Open In Colab\"/></a>"
      ]
    },
    {
      "cell_type": "markdown",
      "source": [
        "### **Dataset Description and Legend**\n",
        "\n",
        "Dataset (ecommerce_data.csv) contains **40 rows** and **19 columns**, representing e-commerce transactions. Below is a breakdown of each column:\n",
        "\n",
        "| Column Name         | Description |\n",
        "|--------------------|-------------|\n",
        "| `order_id`        | Unique identifier for each order. |\n",
        "| `customer_id`     | Unique identifier for the customer. |\n",
        "| `order_date`      | Date when the order was placed (YYYY-MM-DD format). |\n",
        "| `product_id`      | Unique identifier for the purchased product. |\n",
        "| `product_name`    | Name of the product. |\n",
        "| `category`        | Product category (e.g., Electronics, Clothing, etc.). |\n",
        "| `price`           | Price of a single unit of the product. |\n",
        "| `quantity`        | Number of units purchased. |\n",
        "| `weight`          | Weight of the product (in kg, but stored as a string). |\n",
        "| `discount`        | Discount applied (as a decimal, e.g., 0.10 for 10%). |\n",
        "| `shipping_cost`   | Cost of shipping the product (missing values exist). |\n",
        "| `payment_method`  | Method of payment (e.g., Credit Card, PayPal, Debit). |\n",
        "| `delivery_status` | Status of the delivery (Delivered, Shipped, Processing, etc.). |\n",
        "| `customer_city`   | City of the customer. |\n",
        "| `customer_state`  | State of the customer. |\n",
        "| `customer_country`| Country of the customer. |\n",
        "| `return_requested`| Whether a return was requested (1 = Yes, 0 = No). |\n",
        "| `review_score`    | Customer review score (out of 5, some missing values). |\n",
        "| `days_to_deliver` | Number of days taken to deliver the product (some missing values). |"
      ],
      "metadata": {
        "id": "fdkSBoK6-K6l"
      }
    },
    {
      "cell_type": "markdown",
      "source": [
        "### **1. Identifying the Most Profitable Products**  \n",
        "**Required Features:** `product_name`, `price`, `quantity`, `discount`  \n",
        "\n",
        "#### **Solution:**  \n",
        "- Calculate total revenue per product:  \n",
        "- After cleaning, the results will accurately show the top 5 most profitable products.  \n",
        "\n",
        "### **2. Analyzing Average Delivery Time by Country**  \n",
        "**Required Features:** `customer_country`, `days_to_deliver`  \n",
        "\n",
        "#### **Solution:**  \n",
        "- Calculate the average delivery time per country:  \n",
        "- This provides accurate estimates of delivery times across different countries."
      ],
      "metadata": {
        "id": "qOaoA4jvANuG"
      }
    },
    {
      "cell_type": "code",
      "execution_count": null,
      "metadata": {
        "colab": {
          "base_uri": "https://localhost:8080/",
          "height": 38
        },
        "id": "yzxJlqwWx6SC",
        "outputId": "eeca028d-1dc2-4da6-b994-b87f7055fc20"
      },
      "outputs": [
        {
          "output_type": "display_data",
          "data": {
            "text/plain": [
              "<IPython.core.display.HTML object>"
            ],
            "text/html": [
              "\n",
              "     <input type=\"file\" id=\"files-960800a2-becc-4714-90f6-59ba9144e286\" name=\"files[]\" multiple disabled\n",
              "        style=\"border:none\" />\n",
              "     <output id=\"result-960800a2-becc-4714-90f6-59ba9144e286\">\n",
              "      Upload widget is only available when the cell has been executed in the\n",
              "      current browser session. Please rerun this cell to enable.\n",
              "      </output>\n",
              "      <script>// Copyright 2017 Google LLC\n",
              "//\n",
              "// Licensed under the Apache License, Version 2.0 (the \"License\");\n",
              "// you may not use this file except in compliance with the License.\n",
              "// You may obtain a copy of the License at\n",
              "//\n",
              "//      http://www.apache.org/licenses/LICENSE-2.0\n",
              "//\n",
              "// Unless required by applicable law or agreed to in writing, software\n",
              "// distributed under the License is distributed on an \"AS IS\" BASIS,\n",
              "// WITHOUT WARRANTIES OR CONDITIONS OF ANY KIND, either express or implied.\n",
              "// See the License for the specific language governing permissions and\n",
              "// limitations under the License.\n",
              "\n",
              "/**\n",
              " * @fileoverview Helpers for google.colab Python module.\n",
              " */\n",
              "(function(scope) {\n",
              "function span(text, styleAttributes = {}) {\n",
              "  const element = document.createElement('span');\n",
              "  element.textContent = text;\n",
              "  for (const key of Object.keys(styleAttributes)) {\n",
              "    element.style[key] = styleAttributes[key];\n",
              "  }\n",
              "  return element;\n",
              "}\n",
              "\n",
              "// Max number of bytes which will be uploaded at a time.\n",
              "const MAX_PAYLOAD_SIZE = 100 * 1024;\n",
              "\n",
              "function _uploadFiles(inputId, outputId) {\n",
              "  const steps = uploadFilesStep(inputId, outputId);\n",
              "  const outputElement = document.getElementById(outputId);\n",
              "  // Cache steps on the outputElement to make it available for the next call\n",
              "  // to uploadFilesContinue from Python.\n",
              "  outputElement.steps = steps;\n",
              "\n",
              "  return _uploadFilesContinue(outputId);\n",
              "}\n",
              "\n",
              "// This is roughly an async generator (not supported in the browser yet),\n",
              "// where there are multiple asynchronous steps and the Python side is going\n",
              "// to poll for completion of each step.\n",
              "// This uses a Promise to block the python side on completion of each step,\n",
              "// then passes the result of the previous step as the input to the next step.\n",
              "function _uploadFilesContinue(outputId) {\n",
              "  const outputElement = document.getElementById(outputId);\n",
              "  const steps = outputElement.steps;\n",
              "\n",
              "  const next = steps.next(outputElement.lastPromiseValue);\n",
              "  return Promise.resolve(next.value.promise).then((value) => {\n",
              "    // Cache the last promise value to make it available to the next\n",
              "    // step of the generator.\n",
              "    outputElement.lastPromiseValue = value;\n",
              "    return next.value.response;\n",
              "  });\n",
              "}\n",
              "\n",
              "/**\n",
              " * Generator function which is called between each async step of the upload\n",
              " * process.\n",
              " * @param {string} inputId Element ID of the input file picker element.\n",
              " * @param {string} outputId Element ID of the output display.\n",
              " * @return {!Iterable<!Object>} Iterable of next steps.\n",
              " */\n",
              "function* uploadFilesStep(inputId, outputId) {\n",
              "  const inputElement = document.getElementById(inputId);\n",
              "  inputElement.disabled = false;\n",
              "\n",
              "  const outputElement = document.getElementById(outputId);\n",
              "  outputElement.innerHTML = '';\n",
              "\n",
              "  const pickedPromise = new Promise((resolve) => {\n",
              "    inputElement.addEventListener('change', (e) => {\n",
              "      resolve(e.target.files);\n",
              "    });\n",
              "  });\n",
              "\n",
              "  const cancel = document.createElement('button');\n",
              "  inputElement.parentElement.appendChild(cancel);\n",
              "  cancel.textContent = 'Cancel upload';\n",
              "  const cancelPromise = new Promise((resolve) => {\n",
              "    cancel.onclick = () => {\n",
              "      resolve(null);\n",
              "    };\n",
              "  });\n",
              "\n",
              "  // Wait for the user to pick the files.\n",
              "  const files = yield {\n",
              "    promise: Promise.race([pickedPromise, cancelPromise]),\n",
              "    response: {\n",
              "      action: 'starting',\n",
              "    }\n",
              "  };\n",
              "\n",
              "  cancel.remove();\n",
              "\n",
              "  // Disable the input element since further picks are not allowed.\n",
              "  inputElement.disabled = true;\n",
              "\n",
              "  if (!files) {\n",
              "    return {\n",
              "      response: {\n",
              "        action: 'complete',\n",
              "      }\n",
              "    };\n",
              "  }\n",
              "\n",
              "  for (const file of files) {\n",
              "    const li = document.createElement('li');\n",
              "    li.append(span(file.name, {fontWeight: 'bold'}));\n",
              "    li.append(span(\n",
              "        `(${file.type || 'n/a'}) - ${file.size} bytes, ` +\n",
              "        `last modified: ${\n",
              "            file.lastModifiedDate ? file.lastModifiedDate.toLocaleDateString() :\n",
              "                                    'n/a'} - `));\n",
              "    const percent = span('0% done');\n",
              "    li.appendChild(percent);\n",
              "\n",
              "    outputElement.appendChild(li);\n",
              "\n",
              "    const fileDataPromise = new Promise((resolve) => {\n",
              "      const reader = new FileReader();\n",
              "      reader.onload = (e) => {\n",
              "        resolve(e.target.result);\n",
              "      };\n",
              "      reader.readAsArrayBuffer(file);\n",
              "    });\n",
              "    // Wait for the data to be ready.\n",
              "    let fileData = yield {\n",
              "      promise: fileDataPromise,\n",
              "      response: {\n",
              "        action: 'continue',\n",
              "      }\n",
              "    };\n",
              "\n",
              "    // Use a chunked sending to avoid message size limits. See b/62115660.\n",
              "    let position = 0;\n",
              "    do {\n",
              "      const length = Math.min(fileData.byteLength - position, MAX_PAYLOAD_SIZE);\n",
              "      const chunk = new Uint8Array(fileData, position, length);\n",
              "      position += length;\n",
              "\n",
              "      const base64 = btoa(String.fromCharCode.apply(null, chunk));\n",
              "      yield {\n",
              "        response: {\n",
              "          action: 'append',\n",
              "          file: file.name,\n",
              "          data: base64,\n",
              "        },\n",
              "      };\n",
              "\n",
              "      let percentDone = fileData.byteLength === 0 ?\n",
              "          100 :\n",
              "          Math.round((position / fileData.byteLength) * 100);\n",
              "      percent.textContent = `${percentDone}% done`;\n",
              "\n",
              "    } while (position < fileData.byteLength);\n",
              "  }\n",
              "\n",
              "  // All done.\n",
              "  yield {\n",
              "    response: {\n",
              "      action: 'complete',\n",
              "    }\n",
              "  };\n",
              "}\n",
              "\n",
              "scope.google = scope.google || {};\n",
              "scope.google.colab = scope.google.colab || {};\n",
              "scope.google.colab._files = {\n",
              "  _uploadFiles,\n",
              "  _uploadFilesContinue,\n",
              "};\n",
              "})(self);\n",
              "</script> "
            ]
          },
          "metadata": {}
        }
      ],
      "source": [
        "from google.colab import files\n",
        "uploaded = files.upload()"
      ]
    },
    {
      "cell_type": "markdown",
      "source": [
        "### Handle Duplicates"
      ],
      "metadata": {
        "id": "hA08gS1vGMBb"
      }
    },
    {
      "cell_type": "markdown",
      "source": [
        "**Checking for Exact Duplicates**"
      ],
      "metadata": {
        "id": "xjy0b7b1GZNy"
      }
    },
    {
      "cell_type": "code",
      "source": [],
      "metadata": {
        "id": "mBN3RvN0CnqU"
      },
      "execution_count": null,
      "outputs": []
    },
    {
      "cell_type": "markdown",
      "source": [
        "**df.drop_duplicates()**"
      ],
      "metadata": {
        "id": "dE0xOUtbIvPD"
      }
    },
    {
      "cell_type": "code",
      "source": [],
      "metadata": {
        "id": "aJ3mHykYCoUG"
      },
      "execution_count": null,
      "outputs": []
    },
    {
      "cell_type": "markdown",
      "source": [
        "### Handling Incorrect Formats"
      ],
      "metadata": {
        "id": "yKApQYsM_ZxS"
      }
    },
    {
      "cell_type": "markdown",
      "source": [
        "**Numeric data stored as strings**"
      ],
      "metadata": {
        "id": "xxpI33rQ_eUN"
      }
    },
    {
      "cell_type": "code",
      "source": [],
      "metadata": {
        "id": "u6H56ccpDCXZ"
      },
      "execution_count": null,
      "outputs": []
    },
    {
      "cell_type": "markdown",
      "source": [
        "**Dates stored as strings**"
      ],
      "metadata": {
        "id": "HDRkTehbBJAA"
      }
    },
    {
      "cell_type": "code",
      "source": [],
      "metadata": {
        "id": "ZRTS_z0jDDAW"
      },
      "execution_count": null,
      "outputs": []
    },
    {
      "cell_type": "markdown",
      "source": [
        "**Categorical data stored as strings/numbers**"
      ],
      "metadata": {
        "id": "aG-6JEpLC6eQ"
      }
    },
    {
      "cell_type": "code",
      "source": [],
      "metadata": {
        "id": "tZFLxmBBDDkY"
      },
      "execution_count": null,
      "outputs": []
    },
    {
      "cell_type": "markdown",
      "source": [
        "### Handling Common Inconsistencies"
      ],
      "metadata": {
        "id": "jPbKSnpODLLV"
      }
    },
    {
      "cell_type": "markdown",
      "source": [
        "**Text: Mixed cases and extra spaces**"
      ],
      "metadata": {
        "id": "S5EbX3lmDNaM"
      }
    },
    {
      "cell_type": "code",
      "source": [],
      "metadata": {
        "id": "vcwydjgiDJro"
      },
      "execution_count": null,
      "outputs": []
    },
    {
      "cell_type": "markdown",
      "source": [
        "**Units: Inconsistent measurements**"
      ],
      "metadata": {
        "id": "B7W_G5chDc8g"
      }
    },
    {
      "cell_type": "code",
      "source": [],
      "metadata": {
        "id": "tIrxRjxiDKVZ"
      },
      "execution_count": null,
      "outputs": []
    },
    {
      "cell_type": "markdown",
      "source": [
        "**Categories: Different spellings**"
      ],
      "metadata": {
        "id": "Rcil3nKgEznn"
      }
    },
    {
      "cell_type": "code",
      "source": [],
      "metadata": {
        "id": "kbn_PvS9DK59"
      },
      "execution_count": null,
      "outputs": []
    },
    {
      "cell_type": "markdown",
      "source": [
        "### Handling Missing Values"
      ],
      "metadata": {
        "id": "k7PDeQ1t8p4l"
      }
    },
    {
      "cell_type": "code",
      "source": [],
      "metadata": {
        "id": "80IdZR4DTAH6"
      },
      "execution_count": null,
      "outputs": []
    },
    {
      "cell_type": "markdown",
      "source": [
        "### Handling Outliers"
      ],
      "metadata": {
        "id": "cjRaO05xF--i"
      }
    },
    {
      "cell_type": "code",
      "source": [],
      "metadata": {
        "id": "2hKr2nNlVMyU"
      },
      "execution_count": null,
      "outputs": []
    },
    {
      "cell_type": "markdown",
      "source": [
        "**Detecting outliers using Interquartile Range (IQR)**"
      ],
      "metadata": {
        "id": "EQ1dq2rMJ0XS"
      }
    },
    {
      "cell_type": "markdown",
      "source": [
        "### Task 1"
      ],
      "metadata": {
        "id": "eLrfX6mQMLjs"
      }
    },
    {
      "cell_type": "code",
      "source": [],
      "metadata": {
        "id": "Sw-1ZjdsVKbO"
      },
      "execution_count": null,
      "outputs": []
    },
    {
      "cell_type": "markdown",
      "source": [
        "### Task 2"
      ],
      "metadata": {
        "id": "oVHhq8dASVra"
      }
    },
    {
      "cell_type": "code",
      "source": [],
      "metadata": {
        "id": "pgGfsWnbVLOJ"
      },
      "execution_count": null,
      "outputs": []
    }
  ]
}