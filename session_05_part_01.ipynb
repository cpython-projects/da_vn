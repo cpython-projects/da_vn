{
  "cells": [
    {
      "cell_type": "markdown",
      "metadata": {
        "id": "view-in-github",
        "colab_type": "text"
      },
      "source": [
        "<a href=\"https://colab.research.google.com/github/cpython-projects/da_vn/blob/main/session_05_part_01.ipynb\" target=\"_parent\"><img src=\"https://colab.research.google.com/assets/colab-badge.svg\" alt=\"Open In Colab\"/></a>"
      ]
    },
    {
      "cell_type": "markdown",
      "id": "d7801f5d-cd9b-4f52-9ff7-dcf30b3791a4",
      "metadata": {
        "id": "d7801f5d-cd9b-4f52-9ff7-dcf30b3791a4"
      },
      "source": [
        "### Real estate dataset (real_estate_data.csv)\n",
        "\n",
        "---\n",
        "| Column Name             | Description |\n",
        "|-------------------------|-------------|\n",
        "| `last_price`            | Final listing price of the property (in local currency)                     |\n",
        "| `total_area`            | Total area of the property in square meters                                 |\n",
        "| `first_day_exposition`  | Date when the listing first appeared                                        |\n",
        "| `rooms`                 | Number of rooms in the property                                              |\n",
        "| `ceiling_height`        | Height of the ceilings (in meters)                                          |\n",
        "| `floors_total`          | Total number of floors in the building                                      |\n",
        "| `living_area`           | Size of the living space in square meters                                   |\n",
        "| `floor`                 | Floor on which the apartment is located                                     |\n",
        "| `is_apartment`          | Boolean indicating whether it’s officially considered an apartment          |\n",
        "| `studio`                | Boolean indicating whether it’s a studio (one-room open layout)             |\n",
        "| `open_plan`             | Boolean indicating whether the apartment has an open floor plan             |\n",
        "| `kitchen_area`          | Size of the kitchen in square meters                                        |\n",
        "| `balcony`               | Number of balconies (can be 0 or more)                                      |\n",
        "| `locality_name`         | Name of the locality or neighborhood                                        |\n",
        "| `parks_around3000`      | Number of parks within 3000 meters                                          |\n",
        "| `parks_nearest`         | Distance to the nearest park (in meters)                                    |\n",
        "| `ponds_around3000`      | Number of ponds within 3000 meters                                          |\n",
        "| `ponds_nearest`         | Distance to the nearest pond (in meters)                                    |\n",
        "| `days_exposition`       | Number of days the property remained on the market                          |\n",
        "---"
      ]
    },
    {
      "cell_type": "markdown",
      "id": "a31078c2-e2b1-463d-a1fe-b9f7510ab82c",
      "metadata": {
        "id": "a31078c2-e2b1-463d-a1fe-b9f7510ab82c"
      },
      "source": [
        "### Data Reading"
      ]
    },
    {
      "cell_type": "code",
      "source": [
        "from google.colab import files\n",
        "uploaded = files.upload()"
      ],
      "metadata": {
        "colab": {
          "base_uri": "https://localhost:8080/",
          "height": 73
        },
        "id": "szZ3ZkMO2w3p",
        "outputId": "1c2ced21-2a5e-4ff5-8fca-75c1edee5b8d"
      },
      "id": "szZ3ZkMO2w3p",
      "execution_count": 1,
      "outputs": [
        {
          "output_type": "display_data",
          "data": {
            "text/plain": [
              "<IPython.core.display.HTML object>"
            ],
            "text/html": [
              "\n",
              "     <input type=\"file\" id=\"files-3efe733c-2296-4795-a6e7-99f1d1afa108\" name=\"files[]\" multiple disabled\n",
              "        style=\"border:none\" />\n",
              "     <output id=\"result-3efe733c-2296-4795-a6e7-99f1d1afa108\">\n",
              "      Upload widget is only available when the cell has been executed in the\n",
              "      current browser session. Please rerun this cell to enable.\n",
              "      </output>\n",
              "      <script>// Copyright 2017 Google LLC\n",
              "//\n",
              "// Licensed under the Apache License, Version 2.0 (the \"License\");\n",
              "// you may not use this file except in compliance with the License.\n",
              "// You may obtain a copy of the License at\n",
              "//\n",
              "//      http://www.apache.org/licenses/LICENSE-2.0\n",
              "//\n",
              "// Unless required by applicable law or agreed to in writing, software\n",
              "// distributed under the License is distributed on an \"AS IS\" BASIS,\n",
              "// WITHOUT WARRANTIES OR CONDITIONS OF ANY KIND, either express or implied.\n",
              "// See the License for the specific language governing permissions and\n",
              "// limitations under the License.\n",
              "\n",
              "/**\n",
              " * @fileoverview Helpers for google.colab Python module.\n",
              " */\n",
              "(function(scope) {\n",
              "function span(text, styleAttributes = {}) {\n",
              "  const element = document.createElement('span');\n",
              "  element.textContent = text;\n",
              "  for (const key of Object.keys(styleAttributes)) {\n",
              "    element.style[key] = styleAttributes[key];\n",
              "  }\n",
              "  return element;\n",
              "}\n",
              "\n",
              "// Max number of bytes which will be uploaded at a time.\n",
              "const MAX_PAYLOAD_SIZE = 100 * 1024;\n",
              "\n",
              "function _uploadFiles(inputId, outputId) {\n",
              "  const steps = uploadFilesStep(inputId, outputId);\n",
              "  const outputElement = document.getElementById(outputId);\n",
              "  // Cache steps on the outputElement to make it available for the next call\n",
              "  // to uploadFilesContinue from Python.\n",
              "  outputElement.steps = steps;\n",
              "\n",
              "  return _uploadFilesContinue(outputId);\n",
              "}\n",
              "\n",
              "// This is roughly an async generator (not supported in the browser yet),\n",
              "// where there are multiple asynchronous steps and the Python side is going\n",
              "// to poll for completion of each step.\n",
              "// This uses a Promise to block the python side on completion of each step,\n",
              "// then passes the result of the previous step as the input to the next step.\n",
              "function _uploadFilesContinue(outputId) {\n",
              "  const outputElement = document.getElementById(outputId);\n",
              "  const steps = outputElement.steps;\n",
              "\n",
              "  const next = steps.next(outputElement.lastPromiseValue);\n",
              "  return Promise.resolve(next.value.promise).then((value) => {\n",
              "    // Cache the last promise value to make it available to the next\n",
              "    // step of the generator.\n",
              "    outputElement.lastPromiseValue = value;\n",
              "    return next.value.response;\n",
              "  });\n",
              "}\n",
              "\n",
              "/**\n",
              " * Generator function which is called between each async step of the upload\n",
              " * process.\n",
              " * @param {string} inputId Element ID of the input file picker element.\n",
              " * @param {string} outputId Element ID of the output display.\n",
              " * @return {!Iterable<!Object>} Iterable of next steps.\n",
              " */\n",
              "function* uploadFilesStep(inputId, outputId) {\n",
              "  const inputElement = document.getElementById(inputId);\n",
              "  inputElement.disabled = false;\n",
              "\n",
              "  const outputElement = document.getElementById(outputId);\n",
              "  outputElement.innerHTML = '';\n",
              "\n",
              "  const pickedPromise = new Promise((resolve) => {\n",
              "    inputElement.addEventListener('change', (e) => {\n",
              "      resolve(e.target.files);\n",
              "    });\n",
              "  });\n",
              "\n",
              "  const cancel = document.createElement('button');\n",
              "  inputElement.parentElement.appendChild(cancel);\n",
              "  cancel.textContent = 'Cancel upload';\n",
              "  const cancelPromise = new Promise((resolve) => {\n",
              "    cancel.onclick = () => {\n",
              "      resolve(null);\n",
              "    };\n",
              "  });\n",
              "\n",
              "  // Wait for the user to pick the files.\n",
              "  const files = yield {\n",
              "    promise: Promise.race([pickedPromise, cancelPromise]),\n",
              "    response: {\n",
              "      action: 'starting',\n",
              "    }\n",
              "  };\n",
              "\n",
              "  cancel.remove();\n",
              "\n",
              "  // Disable the input element since further picks are not allowed.\n",
              "  inputElement.disabled = true;\n",
              "\n",
              "  if (!files) {\n",
              "    return {\n",
              "      response: {\n",
              "        action: 'complete',\n",
              "      }\n",
              "    };\n",
              "  }\n",
              "\n",
              "  for (const file of files) {\n",
              "    const li = document.createElement('li');\n",
              "    li.append(span(file.name, {fontWeight: 'bold'}));\n",
              "    li.append(span(\n",
              "        `(${file.type || 'n/a'}) - ${file.size} bytes, ` +\n",
              "        `last modified: ${\n",
              "            file.lastModifiedDate ? file.lastModifiedDate.toLocaleDateString() :\n",
              "                                    'n/a'} - `));\n",
              "    const percent = span('0% done');\n",
              "    li.appendChild(percent);\n",
              "\n",
              "    outputElement.appendChild(li);\n",
              "\n",
              "    const fileDataPromise = new Promise((resolve) => {\n",
              "      const reader = new FileReader();\n",
              "      reader.onload = (e) => {\n",
              "        resolve(e.target.result);\n",
              "      };\n",
              "      reader.readAsArrayBuffer(file);\n",
              "    });\n",
              "    // Wait for the data to be ready.\n",
              "    let fileData = yield {\n",
              "      promise: fileDataPromise,\n",
              "      response: {\n",
              "        action: 'continue',\n",
              "      }\n",
              "    };\n",
              "\n",
              "    // Use a chunked sending to avoid message size limits. See b/62115660.\n",
              "    let position = 0;\n",
              "    do {\n",
              "      const length = Math.min(fileData.byteLength - position, MAX_PAYLOAD_SIZE);\n",
              "      const chunk = new Uint8Array(fileData, position, length);\n",
              "      position += length;\n",
              "\n",
              "      const base64 = btoa(String.fromCharCode.apply(null, chunk));\n",
              "      yield {\n",
              "        response: {\n",
              "          action: 'append',\n",
              "          file: file.name,\n",
              "          data: base64,\n",
              "        },\n",
              "      };\n",
              "\n",
              "      let percentDone = fileData.byteLength === 0 ?\n",
              "          100 :\n",
              "          Math.round((position / fileData.byteLength) * 100);\n",
              "      percent.textContent = `${percentDone}% done`;\n",
              "\n",
              "    } while (position < fileData.byteLength);\n",
              "  }\n",
              "\n",
              "  // All done.\n",
              "  yield {\n",
              "    response: {\n",
              "      action: 'complete',\n",
              "    }\n",
              "  };\n",
              "}\n",
              "\n",
              "scope.google = scope.google || {};\n",
              "scope.google.colab = scope.google.colab || {};\n",
              "scope.google.colab._files = {\n",
              "  _uploadFiles,\n",
              "  _uploadFilesContinue,\n",
              "};\n",
              "})(self);\n",
              "</script> "
            ]
          },
          "metadata": {}
        },
        {
          "output_type": "stream",
          "name": "stdout",
          "text": [
            "Saving real_estate_data.csv to real_estate_data.csv\n"
          ]
        }
      ]
    },
    {
      "cell_type": "code",
      "source": [
        "import pandas as pd\n",
        "df = pd.read_csv('real_estate_data.csv', encoding='utf-8')"
      ],
      "metadata": {
        "id": "Kx1PH77624yB"
      },
      "id": "Kx1PH77624yB",
      "execution_count": 2,
      "outputs": []
    },
    {
      "cell_type": "code",
      "source": [
        "df.head()"
      ],
      "metadata": {
        "colab": {
          "base_uri": "https://localhost:8080/",
          "height": 243
        },
        "id": "UH4bvvcp3BV7",
        "outputId": "375b6071-794e-4c59-8eb9-59ee8ff94159"
      },
      "id": "UH4bvvcp3BV7",
      "execution_count": 3,
      "outputs": [
        {
          "output_type": "execute_result",
          "data": {
            "text/plain": [
              "   Unnamed: 0  last_price  total_area first_day_exposition  rooms  \\\n",
              "0           0  13000000.0       108.0  2019-03-07T00:00:00      3   \n",
              "1           1   3350000.0        40.4  2018-12-04T00:00:00      1   \n",
              "2           2   5196000.0        56.0  2015-08-20T00:00:00      2   \n",
              "3           3  64900000.0       159.0  2015-07-24T00:00:00      3   \n",
              "4           4  10000000.0       100.0  2018-06-19T00:00:00      2   \n",
              "\n",
              "   ceiling_height  floors_total  living_area  floor is_apartment  studio  \\\n",
              "0            2.70          16.0         51.0      8          NaN   False   \n",
              "1             NaN          11.0         18.6      1          NaN   False   \n",
              "2             NaN           5.0         34.3      4          NaN   False   \n",
              "3             NaN          14.0          NaN      9          NaN   False   \n",
              "4            3.03          14.0         32.0     13          NaN   False   \n",
              "\n",
              "   open_plan  kitchen_area  balcony locality_name  parks_around3000  \\\n",
              "0      False          25.0      NaN          Kyiv               1.0   \n",
              "1      False          11.0      2.0       Brovary               0.0   \n",
              "2      False           8.3      0.0          Kyiv               1.0   \n",
              "3      False           NaN      0.0          Kyiv               2.0   \n",
              "4      False          41.0      NaN          Kyiv               2.0   \n",
              "\n",
              "   parks_nearest  ponds_around3000  ponds_nearest  days_exposition  \n",
              "0          482.0               2.0          755.0              NaN  \n",
              "1            NaN               0.0            NaN             81.0  \n",
              "2           90.0               2.0          574.0            558.0  \n",
              "3           84.0               3.0          234.0            424.0  \n",
              "4          112.0               1.0           48.0            121.0  "
            ],
            "text/html": [
              "\n",
              "  <div id=\"df-cad2d890-1193-40be-bfe6-a9401756941e\" class=\"colab-df-container\">\n",
              "    <div>\n",
              "<style scoped>\n",
              "    .dataframe tbody tr th:only-of-type {\n",
              "        vertical-align: middle;\n",
              "    }\n",
              "\n",
              "    .dataframe tbody tr th {\n",
              "        vertical-align: top;\n",
              "    }\n",
              "\n",
              "    .dataframe thead th {\n",
              "        text-align: right;\n",
              "    }\n",
              "</style>\n",
              "<table border=\"1\" class=\"dataframe\">\n",
              "  <thead>\n",
              "    <tr style=\"text-align: right;\">\n",
              "      <th></th>\n",
              "      <th>Unnamed: 0</th>\n",
              "      <th>last_price</th>\n",
              "      <th>total_area</th>\n",
              "      <th>first_day_exposition</th>\n",
              "      <th>rooms</th>\n",
              "      <th>ceiling_height</th>\n",
              "      <th>floors_total</th>\n",
              "      <th>living_area</th>\n",
              "      <th>floor</th>\n",
              "      <th>is_apartment</th>\n",
              "      <th>studio</th>\n",
              "      <th>open_plan</th>\n",
              "      <th>kitchen_area</th>\n",
              "      <th>balcony</th>\n",
              "      <th>locality_name</th>\n",
              "      <th>parks_around3000</th>\n",
              "      <th>parks_nearest</th>\n",
              "      <th>ponds_around3000</th>\n",
              "      <th>ponds_nearest</th>\n",
              "      <th>days_exposition</th>\n",
              "    </tr>\n",
              "  </thead>\n",
              "  <tbody>\n",
              "    <tr>\n",
              "      <th>0</th>\n",
              "      <td>0</td>\n",
              "      <td>13000000.0</td>\n",
              "      <td>108.0</td>\n",
              "      <td>2019-03-07T00:00:00</td>\n",
              "      <td>3</td>\n",
              "      <td>2.70</td>\n",
              "      <td>16.0</td>\n",
              "      <td>51.0</td>\n",
              "      <td>8</td>\n",
              "      <td>NaN</td>\n",
              "      <td>False</td>\n",
              "      <td>False</td>\n",
              "      <td>25.0</td>\n",
              "      <td>NaN</td>\n",
              "      <td>Kyiv</td>\n",
              "      <td>1.0</td>\n",
              "      <td>482.0</td>\n",
              "      <td>2.0</td>\n",
              "      <td>755.0</td>\n",
              "      <td>NaN</td>\n",
              "    </tr>\n",
              "    <tr>\n",
              "      <th>1</th>\n",
              "      <td>1</td>\n",
              "      <td>3350000.0</td>\n",
              "      <td>40.4</td>\n",
              "      <td>2018-12-04T00:00:00</td>\n",
              "      <td>1</td>\n",
              "      <td>NaN</td>\n",
              "      <td>11.0</td>\n",
              "      <td>18.6</td>\n",
              "      <td>1</td>\n",
              "      <td>NaN</td>\n",
              "      <td>False</td>\n",
              "      <td>False</td>\n",
              "      <td>11.0</td>\n",
              "      <td>2.0</td>\n",
              "      <td>Brovary</td>\n",
              "      <td>0.0</td>\n",
              "      <td>NaN</td>\n",
              "      <td>0.0</td>\n",
              "      <td>NaN</td>\n",
              "      <td>81.0</td>\n",
              "    </tr>\n",
              "    <tr>\n",
              "      <th>2</th>\n",
              "      <td>2</td>\n",
              "      <td>5196000.0</td>\n",
              "      <td>56.0</td>\n",
              "      <td>2015-08-20T00:00:00</td>\n",
              "      <td>2</td>\n",
              "      <td>NaN</td>\n",
              "      <td>5.0</td>\n",
              "      <td>34.3</td>\n",
              "      <td>4</td>\n",
              "      <td>NaN</td>\n",
              "      <td>False</td>\n",
              "      <td>False</td>\n",
              "      <td>8.3</td>\n",
              "      <td>0.0</td>\n",
              "      <td>Kyiv</td>\n",
              "      <td>1.0</td>\n",
              "      <td>90.0</td>\n",
              "      <td>2.0</td>\n",
              "      <td>574.0</td>\n",
              "      <td>558.0</td>\n",
              "    </tr>\n",
              "    <tr>\n",
              "      <th>3</th>\n",
              "      <td>3</td>\n",
              "      <td>64900000.0</td>\n",
              "      <td>159.0</td>\n",
              "      <td>2015-07-24T00:00:00</td>\n",
              "      <td>3</td>\n",
              "      <td>NaN</td>\n",
              "      <td>14.0</td>\n",
              "      <td>NaN</td>\n",
              "      <td>9</td>\n",
              "      <td>NaN</td>\n",
              "      <td>False</td>\n",
              "      <td>False</td>\n",
              "      <td>NaN</td>\n",
              "      <td>0.0</td>\n",
              "      <td>Kyiv</td>\n",
              "      <td>2.0</td>\n",
              "      <td>84.0</td>\n",
              "      <td>3.0</td>\n",
              "      <td>234.0</td>\n",
              "      <td>424.0</td>\n",
              "    </tr>\n",
              "    <tr>\n",
              "      <th>4</th>\n",
              "      <td>4</td>\n",
              "      <td>10000000.0</td>\n",
              "      <td>100.0</td>\n",
              "      <td>2018-06-19T00:00:00</td>\n",
              "      <td>2</td>\n",
              "      <td>3.03</td>\n",
              "      <td>14.0</td>\n",
              "      <td>32.0</td>\n",
              "      <td>13</td>\n",
              "      <td>NaN</td>\n",
              "      <td>False</td>\n",
              "      <td>False</td>\n",
              "      <td>41.0</td>\n",
              "      <td>NaN</td>\n",
              "      <td>Kyiv</td>\n",
              "      <td>2.0</td>\n",
              "      <td>112.0</td>\n",
              "      <td>1.0</td>\n",
              "      <td>48.0</td>\n",
              "      <td>121.0</td>\n",
              "    </tr>\n",
              "  </tbody>\n",
              "</table>\n",
              "</div>\n",
              "    <div class=\"colab-df-buttons\">\n",
              "\n",
              "  <div class=\"colab-df-container\">\n",
              "    <button class=\"colab-df-convert\" onclick=\"convertToInteractive('df-cad2d890-1193-40be-bfe6-a9401756941e')\"\n",
              "            title=\"Convert this dataframe to an interactive table.\"\n",
              "            style=\"display:none;\">\n",
              "\n",
              "  <svg xmlns=\"http://www.w3.org/2000/svg\" height=\"24px\" viewBox=\"0 -960 960 960\">\n",
              "    <path d=\"M120-120v-720h720v720H120Zm60-500h600v-160H180v160Zm220 220h160v-160H400v160Zm0 220h160v-160H400v160ZM180-400h160v-160H180v160Zm440 0h160v-160H620v160ZM180-180h160v-160H180v160Zm440 0h160v-160H620v160Z\"/>\n",
              "  </svg>\n",
              "    </button>\n",
              "\n",
              "  <style>\n",
              "    .colab-df-container {\n",
              "      display:flex;\n",
              "      gap: 12px;\n",
              "    }\n",
              "\n",
              "    .colab-df-convert {\n",
              "      background-color: #E8F0FE;\n",
              "      border: none;\n",
              "      border-radius: 50%;\n",
              "      cursor: pointer;\n",
              "      display: none;\n",
              "      fill: #1967D2;\n",
              "      height: 32px;\n",
              "      padding: 0 0 0 0;\n",
              "      width: 32px;\n",
              "    }\n",
              "\n",
              "    .colab-df-convert:hover {\n",
              "      background-color: #E2EBFA;\n",
              "      box-shadow: 0px 1px 2px rgba(60, 64, 67, 0.3), 0px 1px 3px 1px rgba(60, 64, 67, 0.15);\n",
              "      fill: #174EA6;\n",
              "    }\n",
              "\n",
              "    .colab-df-buttons div {\n",
              "      margin-bottom: 4px;\n",
              "    }\n",
              "\n",
              "    [theme=dark] .colab-df-convert {\n",
              "      background-color: #3B4455;\n",
              "      fill: #D2E3FC;\n",
              "    }\n",
              "\n",
              "    [theme=dark] .colab-df-convert:hover {\n",
              "      background-color: #434B5C;\n",
              "      box-shadow: 0px 1px 3px 1px rgba(0, 0, 0, 0.15);\n",
              "      filter: drop-shadow(0px 1px 2px rgba(0, 0, 0, 0.3));\n",
              "      fill: #FFFFFF;\n",
              "    }\n",
              "  </style>\n",
              "\n",
              "    <script>\n",
              "      const buttonEl =\n",
              "        document.querySelector('#df-cad2d890-1193-40be-bfe6-a9401756941e button.colab-df-convert');\n",
              "      buttonEl.style.display =\n",
              "        google.colab.kernel.accessAllowed ? 'block' : 'none';\n",
              "\n",
              "      async function convertToInteractive(key) {\n",
              "        const element = document.querySelector('#df-cad2d890-1193-40be-bfe6-a9401756941e');\n",
              "        const dataTable =\n",
              "          await google.colab.kernel.invokeFunction('convertToInteractive',\n",
              "                                                    [key], {});\n",
              "        if (!dataTable) return;\n",
              "\n",
              "        const docLinkHtml = 'Like what you see? Visit the ' +\n",
              "          '<a target=\"_blank\" href=https://colab.research.google.com/notebooks/data_table.ipynb>data table notebook</a>'\n",
              "          + ' to learn more about interactive tables.';\n",
              "        element.innerHTML = '';\n",
              "        dataTable['output_type'] = 'display_data';\n",
              "        await google.colab.output.renderOutput(dataTable, element);\n",
              "        const docLink = document.createElement('div');\n",
              "        docLink.innerHTML = docLinkHtml;\n",
              "        element.appendChild(docLink);\n",
              "      }\n",
              "    </script>\n",
              "  </div>\n",
              "\n",
              "\n",
              "<div id=\"df-4b706644-5f68-4ebe-8d25-7ecc02bd1a34\">\n",
              "  <button class=\"colab-df-quickchart\" onclick=\"quickchart('df-4b706644-5f68-4ebe-8d25-7ecc02bd1a34')\"\n",
              "            title=\"Suggest charts\"\n",
              "            style=\"display:none;\">\n",
              "\n",
              "<svg xmlns=\"http://www.w3.org/2000/svg\" height=\"24px\"viewBox=\"0 0 24 24\"\n",
              "     width=\"24px\">\n",
              "    <g>\n",
              "        <path d=\"M19 3H5c-1.1 0-2 .9-2 2v14c0 1.1.9 2 2 2h14c1.1 0 2-.9 2-2V5c0-1.1-.9-2-2-2zM9 17H7v-7h2v7zm4 0h-2V7h2v10zm4 0h-2v-4h2v4z\"/>\n",
              "    </g>\n",
              "</svg>\n",
              "  </button>\n",
              "\n",
              "<style>\n",
              "  .colab-df-quickchart {\n",
              "      --bg-color: #E8F0FE;\n",
              "      --fill-color: #1967D2;\n",
              "      --hover-bg-color: #E2EBFA;\n",
              "      --hover-fill-color: #174EA6;\n",
              "      --disabled-fill-color: #AAA;\n",
              "      --disabled-bg-color: #DDD;\n",
              "  }\n",
              "\n",
              "  [theme=dark] .colab-df-quickchart {\n",
              "      --bg-color: #3B4455;\n",
              "      --fill-color: #D2E3FC;\n",
              "      --hover-bg-color: #434B5C;\n",
              "      --hover-fill-color: #FFFFFF;\n",
              "      --disabled-bg-color: #3B4455;\n",
              "      --disabled-fill-color: #666;\n",
              "  }\n",
              "\n",
              "  .colab-df-quickchart {\n",
              "    background-color: var(--bg-color);\n",
              "    border: none;\n",
              "    border-radius: 50%;\n",
              "    cursor: pointer;\n",
              "    display: none;\n",
              "    fill: var(--fill-color);\n",
              "    height: 32px;\n",
              "    padding: 0;\n",
              "    width: 32px;\n",
              "  }\n",
              "\n",
              "  .colab-df-quickchart:hover {\n",
              "    background-color: var(--hover-bg-color);\n",
              "    box-shadow: 0 1px 2px rgba(60, 64, 67, 0.3), 0 1px 3px 1px rgba(60, 64, 67, 0.15);\n",
              "    fill: var(--button-hover-fill-color);\n",
              "  }\n",
              "\n",
              "  .colab-df-quickchart-complete:disabled,\n",
              "  .colab-df-quickchart-complete:disabled:hover {\n",
              "    background-color: var(--disabled-bg-color);\n",
              "    fill: var(--disabled-fill-color);\n",
              "    box-shadow: none;\n",
              "  }\n",
              "\n",
              "  .colab-df-spinner {\n",
              "    border: 2px solid var(--fill-color);\n",
              "    border-color: transparent;\n",
              "    border-bottom-color: var(--fill-color);\n",
              "    animation:\n",
              "      spin 1s steps(1) infinite;\n",
              "  }\n",
              "\n",
              "  @keyframes spin {\n",
              "    0% {\n",
              "      border-color: transparent;\n",
              "      border-bottom-color: var(--fill-color);\n",
              "      border-left-color: var(--fill-color);\n",
              "    }\n",
              "    20% {\n",
              "      border-color: transparent;\n",
              "      border-left-color: var(--fill-color);\n",
              "      border-top-color: var(--fill-color);\n",
              "    }\n",
              "    30% {\n",
              "      border-color: transparent;\n",
              "      border-left-color: var(--fill-color);\n",
              "      border-top-color: var(--fill-color);\n",
              "      border-right-color: var(--fill-color);\n",
              "    }\n",
              "    40% {\n",
              "      border-color: transparent;\n",
              "      border-right-color: var(--fill-color);\n",
              "      border-top-color: var(--fill-color);\n",
              "    }\n",
              "    60% {\n",
              "      border-color: transparent;\n",
              "      border-right-color: var(--fill-color);\n",
              "    }\n",
              "    80% {\n",
              "      border-color: transparent;\n",
              "      border-right-color: var(--fill-color);\n",
              "      border-bottom-color: var(--fill-color);\n",
              "    }\n",
              "    90% {\n",
              "      border-color: transparent;\n",
              "      border-bottom-color: var(--fill-color);\n",
              "    }\n",
              "  }\n",
              "</style>\n",
              "\n",
              "  <script>\n",
              "    async function quickchart(key) {\n",
              "      const quickchartButtonEl =\n",
              "        document.querySelector('#' + key + ' button');\n",
              "      quickchartButtonEl.disabled = true;  // To prevent multiple clicks.\n",
              "      quickchartButtonEl.classList.add('colab-df-spinner');\n",
              "      try {\n",
              "        const charts = await google.colab.kernel.invokeFunction(\n",
              "            'suggestCharts', [key], {});\n",
              "      } catch (error) {\n",
              "        console.error('Error during call to suggestCharts:', error);\n",
              "      }\n",
              "      quickchartButtonEl.classList.remove('colab-df-spinner');\n",
              "      quickchartButtonEl.classList.add('colab-df-quickchart-complete');\n",
              "    }\n",
              "    (() => {\n",
              "      let quickchartButtonEl =\n",
              "        document.querySelector('#df-4b706644-5f68-4ebe-8d25-7ecc02bd1a34 button');\n",
              "      quickchartButtonEl.style.display =\n",
              "        google.colab.kernel.accessAllowed ? 'block' : 'none';\n",
              "    })();\n",
              "  </script>\n",
              "</div>\n",
              "\n",
              "    </div>\n",
              "  </div>\n"
            ],
            "application/vnd.google.colaboratory.intrinsic+json": {
              "type": "dataframe",
              "variable_name": "df",
              "summary": "{\n  \"name\": \"df\",\n  \"rows\": 23699,\n  \"fields\": [\n    {\n      \"column\": \"Unnamed: 0\",\n      \"properties\": {\n        \"dtype\": \"number\",\n        \"std\": 6841,\n        \"min\": 0,\n        \"max\": 23698,\n        \"num_unique_values\": 23699,\n        \"samples\": [\n          7944,\n          7539,\n          9889\n        ],\n        \"semantic_type\": \"\",\n        \"description\": \"\"\n      }\n    },\n    {\n      \"column\": \"last_price\",\n      \"properties\": {\n        \"dtype\": \"number\",\n        \"std\": 10887013.267544659,\n        \"min\": 12190.0,\n        \"max\": 763000000.0,\n        \"num_unique_values\": 2978,\n        \"samples\": [\n          4157100.0,\n          4658410.0,\n          8577905.0\n        ],\n        \"semantic_type\": \"\",\n        \"description\": \"\"\n      }\n    },\n    {\n      \"column\": \"total_area\",\n      \"properties\": {\n        \"dtype\": \"number\",\n        \"std\": 35.65408290337163,\n        \"min\": 12.0,\n        \"max\": 900.0,\n        \"num_unique_values\": 2182,\n        \"samples\": [\n          69.0,\n          41.7,\n          99.9\n        ],\n        \"semantic_type\": \"\",\n        \"description\": \"\"\n      }\n    },\n    {\n      \"column\": \"first_day_exposition\",\n      \"properties\": {\n        \"dtype\": \"object\",\n        \"num_unique_values\": 1491,\n        \"samples\": [\n          \"2016-10-24T00:00:00\",\n          \"2018-08-31T00:00:00\",\n          \"2018-08-23T00:00:00\"\n        ],\n        \"semantic_type\": \"\",\n        \"description\": \"\"\n      }\n    },\n    {\n      \"column\": \"rooms\",\n      \"properties\": {\n        \"dtype\": \"number\",\n        \"std\": 1,\n        \"min\": 0,\n        \"max\": 19,\n        \"num_unique_values\": 17,\n        \"samples\": [\n          3,\n          1,\n          6\n        ],\n        \"semantic_type\": \"\",\n        \"description\": \"\"\n      }\n    },\n    {\n      \"column\": \"ceiling_height\",\n      \"properties\": {\n        \"dtype\": \"number\",\n        \"std\": 1.261055830986799,\n        \"min\": 1.0,\n        \"max\": 100.0,\n        \"num_unique_values\": 183,\n        \"samples\": [\n          2.64,\n          5.2,\n          3.93\n        ],\n        \"semantic_type\": \"\",\n        \"description\": \"\"\n      }\n    },\n    {\n      \"column\": \"floors_total\",\n      \"properties\": {\n        \"dtype\": \"number\",\n        \"std\": 6.597172989041479,\n        \"min\": 1.0,\n        \"max\": 60.0,\n        \"num_unique_values\": 36,\n        \"samples\": [\n          37.0,\n          23.0,\n          36.0\n        ],\n        \"semantic_type\": \"\",\n        \"description\": \"\"\n      }\n    },\n    {\n      \"column\": \"living_area\",\n      \"properties\": {\n        \"dtype\": \"number\",\n        \"std\": 22.030445215166257,\n        \"min\": 2.0,\n        \"max\": 409.7,\n        \"num_unique_values\": 1782,\n        \"samples\": [\n          43.46,\n          27.29,\n          41.8\n        ],\n        \"semantic_type\": \"\",\n        \"description\": \"\"\n      }\n    },\n    {\n      \"column\": \"floor\",\n      \"properties\": {\n        \"dtype\": \"number\",\n        \"std\": 4,\n        \"min\": 1,\n        \"max\": 33,\n        \"num_unique_values\": 33,\n        \"samples\": [\n          33,\n          10,\n          24\n        ],\n        \"semantic_type\": \"\",\n        \"description\": \"\"\n      }\n    },\n    {\n      \"column\": \"is_apartment\",\n      \"properties\": {\n        \"dtype\": \"category\",\n        \"num_unique_values\": 2,\n        \"samples\": [\n          true,\n          false\n        ],\n        \"semantic_type\": \"\",\n        \"description\": \"\"\n      }\n    },\n    {\n      \"column\": \"studio\",\n      \"properties\": {\n        \"dtype\": \"boolean\",\n        \"num_unique_values\": 2,\n        \"samples\": [\n          true,\n          false\n        ],\n        \"semantic_type\": \"\",\n        \"description\": \"\"\n      }\n    },\n    {\n      \"column\": \"open_plan\",\n      \"properties\": {\n        \"dtype\": \"boolean\",\n        \"num_unique_values\": 2,\n        \"samples\": [\n          true,\n          false\n        ],\n        \"semantic_type\": \"\",\n        \"description\": \"\"\n      }\n    },\n    {\n      \"column\": \"kitchen_area\",\n      \"properties\": {\n        \"dtype\": \"number\",\n        \"std\": 5.90543793417423,\n        \"min\": 1.3,\n        \"max\": 112.0,\n        \"num_unique_values\": 971,\n        \"samples\": [\n          12.24,\n          9.42\n        ],\n        \"semantic_type\": \"\",\n        \"description\": \"\"\n      }\n    },\n    {\n      \"column\": \"balcony\",\n      \"properties\": {\n        \"dtype\": \"number\",\n        \"std\": 1.0713003930828429,\n        \"min\": 0.0,\n        \"max\": 5.0,\n        \"num_unique_values\": 6,\n        \"samples\": [\n          2.0,\n          0.0\n        ],\n        \"semantic_type\": \"\",\n        \"description\": \"\"\n      }\n    },\n    {\n      \"column\": \"locality_name\",\n      \"properties\": {\n        \"dtype\": \"category\",\n        \"num_unique_values\": 9,\n        \"samples\": [\n          \"Vyshneve\",\n          \"Brovary\"\n        ],\n        \"semantic_type\": \"\",\n        \"description\": \"\"\n      }\n    },\n    {\n      \"column\": \"parks_around3000\",\n      \"properties\": {\n        \"dtype\": \"number\",\n        \"std\": 0.8020735668852295,\n        \"min\": 0.0,\n        \"max\": 3.0,\n        \"num_unique_values\": 4,\n        \"samples\": [\n          0.0,\n          3.0\n        ],\n        \"semantic_type\": \"\",\n        \"description\": \"\"\n      }\n    },\n    {\n      \"column\": \"parks_nearest\",\n      \"properties\": {\n        \"dtype\": \"number\",\n        \"std\": 342.31799486061857,\n        \"min\": 1.0,\n        \"max\": 3190.0,\n        \"num_unique_values\": 995,\n        \"samples\": [\n          28.0,\n          766.0\n        ],\n        \"semantic_type\": \"\",\n        \"description\": \"\"\n      }\n    },\n    {\n      \"column\": \"ponds_around3000\",\n      \"properties\": {\n        \"dtype\": \"number\",\n        \"std\": 0.9383456207073967,\n        \"min\": 0.0,\n        \"max\": 3.0,\n        \"num_unique_values\": 4,\n        \"samples\": [\n          0.0,\n          1.0\n        ],\n        \"semantic_type\": \"\",\n        \"description\": \"\"\n      }\n    },\n    {\n      \"column\": \"ponds_nearest\",\n      \"properties\": {\n        \"dtype\": \"number\",\n        \"std\": 277.7206426811644,\n        \"min\": 13.0,\n        \"max\": 1344.0,\n        \"num_unique_values\": 1096,\n        \"samples\": [\n          1097.0,\n          496.0\n        ],\n        \"semantic_type\": \"\",\n        \"description\": \"\"\n      }\n    },\n    {\n      \"column\": \"days_exposition\",\n      \"properties\": {\n        \"dtype\": \"number\",\n        \"std\": 219.72798815035102,\n        \"min\": 1.0,\n        \"max\": 1580.0,\n        \"num_unique_values\": 1141,\n        \"samples\": [\n          1202.0,\n          1553.0000000000002\n        ],\n        \"semantic_type\": \"\",\n        \"description\": \"\"\n      }\n    }\n  ]\n}"
            }
          },
          "metadata": {},
          "execution_count": 3
        }
      ]
    },
    {
      "cell_type": "code",
      "source": [
        "df = df.drop('Unnamed: 0', axis=1)\n",
        "df.head()"
      ],
      "metadata": {
        "colab": {
          "base_uri": "https://localhost:8080/",
          "height": 226
        },
        "id": "0JQlBhVO3LPG",
        "outputId": "fe52dd20-048b-4b75-f25f-e01989b53076"
      },
      "id": "0JQlBhVO3LPG",
      "execution_count": 4,
      "outputs": [
        {
          "output_type": "execute_result",
          "data": {
            "text/plain": [
              "   last_price  total_area first_day_exposition  rooms  ceiling_height  \\\n",
              "0  13000000.0       108.0  2019-03-07T00:00:00      3            2.70   \n",
              "1   3350000.0        40.4  2018-12-04T00:00:00      1             NaN   \n",
              "2   5196000.0        56.0  2015-08-20T00:00:00      2             NaN   \n",
              "3  64900000.0       159.0  2015-07-24T00:00:00      3             NaN   \n",
              "4  10000000.0       100.0  2018-06-19T00:00:00      2            3.03   \n",
              "\n",
              "   floors_total  living_area  floor is_apartment  studio  open_plan  \\\n",
              "0          16.0         51.0      8          NaN   False      False   \n",
              "1          11.0         18.6      1          NaN   False      False   \n",
              "2           5.0         34.3      4          NaN   False      False   \n",
              "3          14.0          NaN      9          NaN   False      False   \n",
              "4          14.0         32.0     13          NaN   False      False   \n",
              "\n",
              "   kitchen_area  balcony locality_name  parks_around3000  parks_nearest  \\\n",
              "0          25.0      NaN          Kyiv               1.0          482.0   \n",
              "1          11.0      2.0       Brovary               0.0            NaN   \n",
              "2           8.3      0.0          Kyiv               1.0           90.0   \n",
              "3           NaN      0.0          Kyiv               2.0           84.0   \n",
              "4          41.0      NaN          Kyiv               2.0          112.0   \n",
              "\n",
              "   ponds_around3000  ponds_nearest  days_exposition  \n",
              "0               2.0          755.0              NaN  \n",
              "1               0.0            NaN             81.0  \n",
              "2               2.0          574.0            558.0  \n",
              "3               3.0          234.0            424.0  \n",
              "4               1.0           48.0            121.0  "
            ],
            "text/html": [
              "\n",
              "  <div id=\"df-43fc206f-1bd0-451d-b86d-b83417fa2799\" class=\"colab-df-container\">\n",
              "    <div>\n",
              "<style scoped>\n",
              "    .dataframe tbody tr th:only-of-type {\n",
              "        vertical-align: middle;\n",
              "    }\n",
              "\n",
              "    .dataframe tbody tr th {\n",
              "        vertical-align: top;\n",
              "    }\n",
              "\n",
              "    .dataframe thead th {\n",
              "        text-align: right;\n",
              "    }\n",
              "</style>\n",
              "<table border=\"1\" class=\"dataframe\">\n",
              "  <thead>\n",
              "    <tr style=\"text-align: right;\">\n",
              "      <th></th>\n",
              "      <th>last_price</th>\n",
              "      <th>total_area</th>\n",
              "      <th>first_day_exposition</th>\n",
              "      <th>rooms</th>\n",
              "      <th>ceiling_height</th>\n",
              "      <th>floors_total</th>\n",
              "      <th>living_area</th>\n",
              "      <th>floor</th>\n",
              "      <th>is_apartment</th>\n",
              "      <th>studio</th>\n",
              "      <th>open_plan</th>\n",
              "      <th>kitchen_area</th>\n",
              "      <th>balcony</th>\n",
              "      <th>locality_name</th>\n",
              "      <th>parks_around3000</th>\n",
              "      <th>parks_nearest</th>\n",
              "      <th>ponds_around3000</th>\n",
              "      <th>ponds_nearest</th>\n",
              "      <th>days_exposition</th>\n",
              "    </tr>\n",
              "  </thead>\n",
              "  <tbody>\n",
              "    <tr>\n",
              "      <th>0</th>\n",
              "      <td>13000000.0</td>\n",
              "      <td>108.0</td>\n",
              "      <td>2019-03-07T00:00:00</td>\n",
              "      <td>3</td>\n",
              "      <td>2.70</td>\n",
              "      <td>16.0</td>\n",
              "      <td>51.0</td>\n",
              "      <td>8</td>\n",
              "      <td>NaN</td>\n",
              "      <td>False</td>\n",
              "      <td>False</td>\n",
              "      <td>25.0</td>\n",
              "      <td>NaN</td>\n",
              "      <td>Kyiv</td>\n",
              "      <td>1.0</td>\n",
              "      <td>482.0</td>\n",
              "      <td>2.0</td>\n",
              "      <td>755.0</td>\n",
              "      <td>NaN</td>\n",
              "    </tr>\n",
              "    <tr>\n",
              "      <th>1</th>\n",
              "      <td>3350000.0</td>\n",
              "      <td>40.4</td>\n",
              "      <td>2018-12-04T00:00:00</td>\n",
              "      <td>1</td>\n",
              "      <td>NaN</td>\n",
              "      <td>11.0</td>\n",
              "      <td>18.6</td>\n",
              "      <td>1</td>\n",
              "      <td>NaN</td>\n",
              "      <td>False</td>\n",
              "      <td>False</td>\n",
              "      <td>11.0</td>\n",
              "      <td>2.0</td>\n",
              "      <td>Brovary</td>\n",
              "      <td>0.0</td>\n",
              "      <td>NaN</td>\n",
              "      <td>0.0</td>\n",
              "      <td>NaN</td>\n",
              "      <td>81.0</td>\n",
              "    </tr>\n",
              "    <tr>\n",
              "      <th>2</th>\n",
              "      <td>5196000.0</td>\n",
              "      <td>56.0</td>\n",
              "      <td>2015-08-20T00:00:00</td>\n",
              "      <td>2</td>\n",
              "      <td>NaN</td>\n",
              "      <td>5.0</td>\n",
              "      <td>34.3</td>\n",
              "      <td>4</td>\n",
              "      <td>NaN</td>\n",
              "      <td>False</td>\n",
              "      <td>False</td>\n",
              "      <td>8.3</td>\n",
              "      <td>0.0</td>\n",
              "      <td>Kyiv</td>\n",
              "      <td>1.0</td>\n",
              "      <td>90.0</td>\n",
              "      <td>2.0</td>\n",
              "      <td>574.0</td>\n",
              "      <td>558.0</td>\n",
              "    </tr>\n",
              "    <tr>\n",
              "      <th>3</th>\n",
              "      <td>64900000.0</td>\n",
              "      <td>159.0</td>\n",
              "      <td>2015-07-24T00:00:00</td>\n",
              "      <td>3</td>\n",
              "      <td>NaN</td>\n",
              "      <td>14.0</td>\n",
              "      <td>NaN</td>\n",
              "      <td>9</td>\n",
              "      <td>NaN</td>\n",
              "      <td>False</td>\n",
              "      <td>False</td>\n",
              "      <td>NaN</td>\n",
              "      <td>0.0</td>\n",
              "      <td>Kyiv</td>\n",
              "      <td>2.0</td>\n",
              "      <td>84.0</td>\n",
              "      <td>3.0</td>\n",
              "      <td>234.0</td>\n",
              "      <td>424.0</td>\n",
              "    </tr>\n",
              "    <tr>\n",
              "      <th>4</th>\n",
              "      <td>10000000.0</td>\n",
              "      <td>100.0</td>\n",
              "      <td>2018-06-19T00:00:00</td>\n",
              "      <td>2</td>\n",
              "      <td>3.03</td>\n",
              "      <td>14.0</td>\n",
              "      <td>32.0</td>\n",
              "      <td>13</td>\n",
              "      <td>NaN</td>\n",
              "      <td>False</td>\n",
              "      <td>False</td>\n",
              "      <td>41.0</td>\n",
              "      <td>NaN</td>\n",
              "      <td>Kyiv</td>\n",
              "      <td>2.0</td>\n",
              "      <td>112.0</td>\n",
              "      <td>1.0</td>\n",
              "      <td>48.0</td>\n",
              "      <td>121.0</td>\n",
              "    </tr>\n",
              "  </tbody>\n",
              "</table>\n",
              "</div>\n",
              "    <div class=\"colab-df-buttons\">\n",
              "\n",
              "  <div class=\"colab-df-container\">\n",
              "    <button class=\"colab-df-convert\" onclick=\"convertToInteractive('df-43fc206f-1bd0-451d-b86d-b83417fa2799')\"\n",
              "            title=\"Convert this dataframe to an interactive table.\"\n",
              "            style=\"display:none;\">\n",
              "\n",
              "  <svg xmlns=\"http://www.w3.org/2000/svg\" height=\"24px\" viewBox=\"0 -960 960 960\">\n",
              "    <path d=\"M120-120v-720h720v720H120Zm60-500h600v-160H180v160Zm220 220h160v-160H400v160Zm0 220h160v-160H400v160ZM180-400h160v-160H180v160Zm440 0h160v-160H620v160ZM180-180h160v-160H180v160Zm440 0h160v-160H620v160Z\"/>\n",
              "  </svg>\n",
              "    </button>\n",
              "\n",
              "  <style>\n",
              "    .colab-df-container {\n",
              "      display:flex;\n",
              "      gap: 12px;\n",
              "    }\n",
              "\n",
              "    .colab-df-convert {\n",
              "      background-color: #E8F0FE;\n",
              "      border: none;\n",
              "      border-radius: 50%;\n",
              "      cursor: pointer;\n",
              "      display: none;\n",
              "      fill: #1967D2;\n",
              "      height: 32px;\n",
              "      padding: 0 0 0 0;\n",
              "      width: 32px;\n",
              "    }\n",
              "\n",
              "    .colab-df-convert:hover {\n",
              "      background-color: #E2EBFA;\n",
              "      box-shadow: 0px 1px 2px rgba(60, 64, 67, 0.3), 0px 1px 3px 1px rgba(60, 64, 67, 0.15);\n",
              "      fill: #174EA6;\n",
              "    }\n",
              "\n",
              "    .colab-df-buttons div {\n",
              "      margin-bottom: 4px;\n",
              "    }\n",
              "\n",
              "    [theme=dark] .colab-df-convert {\n",
              "      background-color: #3B4455;\n",
              "      fill: #D2E3FC;\n",
              "    }\n",
              "\n",
              "    [theme=dark] .colab-df-convert:hover {\n",
              "      background-color: #434B5C;\n",
              "      box-shadow: 0px 1px 3px 1px rgba(0, 0, 0, 0.15);\n",
              "      filter: drop-shadow(0px 1px 2px rgba(0, 0, 0, 0.3));\n",
              "      fill: #FFFFFF;\n",
              "    }\n",
              "  </style>\n",
              "\n",
              "    <script>\n",
              "      const buttonEl =\n",
              "        document.querySelector('#df-43fc206f-1bd0-451d-b86d-b83417fa2799 button.colab-df-convert');\n",
              "      buttonEl.style.display =\n",
              "        google.colab.kernel.accessAllowed ? 'block' : 'none';\n",
              "\n",
              "      async function convertToInteractive(key) {\n",
              "        const element = document.querySelector('#df-43fc206f-1bd0-451d-b86d-b83417fa2799');\n",
              "        const dataTable =\n",
              "          await google.colab.kernel.invokeFunction('convertToInteractive',\n",
              "                                                    [key], {});\n",
              "        if (!dataTable) return;\n",
              "\n",
              "        const docLinkHtml = 'Like what you see? Visit the ' +\n",
              "          '<a target=\"_blank\" href=https://colab.research.google.com/notebooks/data_table.ipynb>data table notebook</a>'\n",
              "          + ' to learn more about interactive tables.';\n",
              "        element.innerHTML = '';\n",
              "        dataTable['output_type'] = 'display_data';\n",
              "        await google.colab.output.renderOutput(dataTable, element);\n",
              "        const docLink = document.createElement('div');\n",
              "        docLink.innerHTML = docLinkHtml;\n",
              "        element.appendChild(docLink);\n",
              "      }\n",
              "    </script>\n",
              "  </div>\n",
              "\n",
              "\n",
              "<div id=\"df-ec27469f-065f-4961-92eb-e14076e37d27\">\n",
              "  <button class=\"colab-df-quickchart\" onclick=\"quickchart('df-ec27469f-065f-4961-92eb-e14076e37d27')\"\n",
              "            title=\"Suggest charts\"\n",
              "            style=\"display:none;\">\n",
              "\n",
              "<svg xmlns=\"http://www.w3.org/2000/svg\" height=\"24px\"viewBox=\"0 0 24 24\"\n",
              "     width=\"24px\">\n",
              "    <g>\n",
              "        <path d=\"M19 3H5c-1.1 0-2 .9-2 2v14c0 1.1.9 2 2 2h14c1.1 0 2-.9 2-2V5c0-1.1-.9-2-2-2zM9 17H7v-7h2v7zm4 0h-2V7h2v10zm4 0h-2v-4h2v4z\"/>\n",
              "    </g>\n",
              "</svg>\n",
              "  </button>\n",
              "\n",
              "<style>\n",
              "  .colab-df-quickchart {\n",
              "      --bg-color: #E8F0FE;\n",
              "      --fill-color: #1967D2;\n",
              "      --hover-bg-color: #E2EBFA;\n",
              "      --hover-fill-color: #174EA6;\n",
              "      --disabled-fill-color: #AAA;\n",
              "      --disabled-bg-color: #DDD;\n",
              "  }\n",
              "\n",
              "  [theme=dark] .colab-df-quickchart {\n",
              "      --bg-color: #3B4455;\n",
              "      --fill-color: #D2E3FC;\n",
              "      --hover-bg-color: #434B5C;\n",
              "      --hover-fill-color: #FFFFFF;\n",
              "      --disabled-bg-color: #3B4455;\n",
              "      --disabled-fill-color: #666;\n",
              "  }\n",
              "\n",
              "  .colab-df-quickchart {\n",
              "    background-color: var(--bg-color);\n",
              "    border: none;\n",
              "    border-radius: 50%;\n",
              "    cursor: pointer;\n",
              "    display: none;\n",
              "    fill: var(--fill-color);\n",
              "    height: 32px;\n",
              "    padding: 0;\n",
              "    width: 32px;\n",
              "  }\n",
              "\n",
              "  .colab-df-quickchart:hover {\n",
              "    background-color: var(--hover-bg-color);\n",
              "    box-shadow: 0 1px 2px rgba(60, 64, 67, 0.3), 0 1px 3px 1px rgba(60, 64, 67, 0.15);\n",
              "    fill: var(--button-hover-fill-color);\n",
              "  }\n",
              "\n",
              "  .colab-df-quickchart-complete:disabled,\n",
              "  .colab-df-quickchart-complete:disabled:hover {\n",
              "    background-color: var(--disabled-bg-color);\n",
              "    fill: var(--disabled-fill-color);\n",
              "    box-shadow: none;\n",
              "  }\n",
              "\n",
              "  .colab-df-spinner {\n",
              "    border: 2px solid var(--fill-color);\n",
              "    border-color: transparent;\n",
              "    border-bottom-color: var(--fill-color);\n",
              "    animation:\n",
              "      spin 1s steps(1) infinite;\n",
              "  }\n",
              "\n",
              "  @keyframes spin {\n",
              "    0% {\n",
              "      border-color: transparent;\n",
              "      border-bottom-color: var(--fill-color);\n",
              "      border-left-color: var(--fill-color);\n",
              "    }\n",
              "    20% {\n",
              "      border-color: transparent;\n",
              "      border-left-color: var(--fill-color);\n",
              "      border-top-color: var(--fill-color);\n",
              "    }\n",
              "    30% {\n",
              "      border-color: transparent;\n",
              "      border-left-color: var(--fill-color);\n",
              "      border-top-color: var(--fill-color);\n",
              "      border-right-color: var(--fill-color);\n",
              "    }\n",
              "    40% {\n",
              "      border-color: transparent;\n",
              "      border-right-color: var(--fill-color);\n",
              "      border-top-color: var(--fill-color);\n",
              "    }\n",
              "    60% {\n",
              "      border-color: transparent;\n",
              "      border-right-color: var(--fill-color);\n",
              "    }\n",
              "    80% {\n",
              "      border-color: transparent;\n",
              "      border-right-color: var(--fill-color);\n",
              "      border-bottom-color: var(--fill-color);\n",
              "    }\n",
              "    90% {\n",
              "      border-color: transparent;\n",
              "      border-bottom-color: var(--fill-color);\n",
              "    }\n",
              "  }\n",
              "</style>\n",
              "\n",
              "  <script>\n",
              "    async function quickchart(key) {\n",
              "      const quickchartButtonEl =\n",
              "        document.querySelector('#' + key + ' button');\n",
              "      quickchartButtonEl.disabled = true;  // To prevent multiple clicks.\n",
              "      quickchartButtonEl.classList.add('colab-df-spinner');\n",
              "      try {\n",
              "        const charts = await google.colab.kernel.invokeFunction(\n",
              "            'suggestCharts', [key], {});\n",
              "      } catch (error) {\n",
              "        console.error('Error during call to suggestCharts:', error);\n",
              "      }\n",
              "      quickchartButtonEl.classList.remove('colab-df-spinner');\n",
              "      quickchartButtonEl.classList.add('colab-df-quickchart-complete');\n",
              "    }\n",
              "    (() => {\n",
              "      let quickchartButtonEl =\n",
              "        document.querySelector('#df-ec27469f-065f-4961-92eb-e14076e37d27 button');\n",
              "      quickchartButtonEl.style.display =\n",
              "        google.colab.kernel.accessAllowed ? 'block' : 'none';\n",
              "    })();\n",
              "  </script>\n",
              "</div>\n",
              "\n",
              "    </div>\n",
              "  </div>\n"
            ],
            "application/vnd.google.colaboratory.intrinsic+json": {
              "type": "dataframe",
              "variable_name": "df",
              "summary": "{\n  \"name\": \"df\",\n  \"rows\": 23699,\n  \"fields\": [\n    {\n      \"column\": \"last_price\",\n      \"properties\": {\n        \"dtype\": \"number\",\n        \"std\": 10887013.267544659,\n        \"min\": 12190.0,\n        \"max\": 763000000.0,\n        \"num_unique_values\": 2978,\n        \"samples\": [\n          4157100.0,\n          4658410.0,\n          8577905.0\n        ],\n        \"semantic_type\": \"\",\n        \"description\": \"\"\n      }\n    },\n    {\n      \"column\": \"total_area\",\n      \"properties\": {\n        \"dtype\": \"number\",\n        \"std\": 35.65408290337163,\n        \"min\": 12.0,\n        \"max\": 900.0,\n        \"num_unique_values\": 2182,\n        \"samples\": [\n          69.0,\n          41.7,\n          99.9\n        ],\n        \"semantic_type\": \"\",\n        \"description\": \"\"\n      }\n    },\n    {\n      \"column\": \"first_day_exposition\",\n      \"properties\": {\n        \"dtype\": \"object\",\n        \"num_unique_values\": 1491,\n        \"samples\": [\n          \"2016-10-24T00:00:00\",\n          \"2018-08-31T00:00:00\",\n          \"2018-08-23T00:00:00\"\n        ],\n        \"semantic_type\": \"\",\n        \"description\": \"\"\n      }\n    },\n    {\n      \"column\": \"rooms\",\n      \"properties\": {\n        \"dtype\": \"number\",\n        \"std\": 1,\n        \"min\": 0,\n        \"max\": 19,\n        \"num_unique_values\": 17,\n        \"samples\": [\n          3,\n          1,\n          6\n        ],\n        \"semantic_type\": \"\",\n        \"description\": \"\"\n      }\n    },\n    {\n      \"column\": \"ceiling_height\",\n      \"properties\": {\n        \"dtype\": \"number\",\n        \"std\": 1.261055830986799,\n        \"min\": 1.0,\n        \"max\": 100.0,\n        \"num_unique_values\": 183,\n        \"samples\": [\n          2.64,\n          5.2,\n          3.93\n        ],\n        \"semantic_type\": \"\",\n        \"description\": \"\"\n      }\n    },\n    {\n      \"column\": \"floors_total\",\n      \"properties\": {\n        \"dtype\": \"number\",\n        \"std\": 6.597172989041479,\n        \"min\": 1.0,\n        \"max\": 60.0,\n        \"num_unique_values\": 36,\n        \"samples\": [\n          37.0,\n          23.0,\n          36.0\n        ],\n        \"semantic_type\": \"\",\n        \"description\": \"\"\n      }\n    },\n    {\n      \"column\": \"living_area\",\n      \"properties\": {\n        \"dtype\": \"number\",\n        \"std\": 22.030445215166257,\n        \"min\": 2.0,\n        \"max\": 409.7,\n        \"num_unique_values\": 1782,\n        \"samples\": [\n          43.46,\n          27.29,\n          41.8\n        ],\n        \"semantic_type\": \"\",\n        \"description\": \"\"\n      }\n    },\n    {\n      \"column\": \"floor\",\n      \"properties\": {\n        \"dtype\": \"number\",\n        \"std\": 4,\n        \"min\": 1,\n        \"max\": 33,\n        \"num_unique_values\": 33,\n        \"samples\": [\n          33,\n          10,\n          24\n        ],\n        \"semantic_type\": \"\",\n        \"description\": \"\"\n      }\n    },\n    {\n      \"column\": \"is_apartment\",\n      \"properties\": {\n        \"dtype\": \"category\",\n        \"num_unique_values\": 2,\n        \"samples\": [\n          true,\n          false\n        ],\n        \"semantic_type\": \"\",\n        \"description\": \"\"\n      }\n    },\n    {\n      \"column\": \"studio\",\n      \"properties\": {\n        \"dtype\": \"boolean\",\n        \"num_unique_values\": 2,\n        \"samples\": [\n          true,\n          false\n        ],\n        \"semantic_type\": \"\",\n        \"description\": \"\"\n      }\n    },\n    {\n      \"column\": \"open_plan\",\n      \"properties\": {\n        \"dtype\": \"boolean\",\n        \"num_unique_values\": 2,\n        \"samples\": [\n          true,\n          false\n        ],\n        \"semantic_type\": \"\",\n        \"description\": \"\"\n      }\n    },\n    {\n      \"column\": \"kitchen_area\",\n      \"properties\": {\n        \"dtype\": \"number\",\n        \"std\": 5.90543793417423,\n        \"min\": 1.3,\n        \"max\": 112.0,\n        \"num_unique_values\": 971,\n        \"samples\": [\n          12.24,\n          9.42\n        ],\n        \"semantic_type\": \"\",\n        \"description\": \"\"\n      }\n    },\n    {\n      \"column\": \"balcony\",\n      \"properties\": {\n        \"dtype\": \"number\",\n        \"std\": 1.0713003930828429,\n        \"min\": 0.0,\n        \"max\": 5.0,\n        \"num_unique_values\": 6,\n        \"samples\": [\n          2.0,\n          0.0\n        ],\n        \"semantic_type\": \"\",\n        \"description\": \"\"\n      }\n    },\n    {\n      \"column\": \"locality_name\",\n      \"properties\": {\n        \"dtype\": \"category\",\n        \"num_unique_values\": 9,\n        \"samples\": [\n          \"Vyshneve\",\n          \"Brovary\"\n        ],\n        \"semantic_type\": \"\",\n        \"description\": \"\"\n      }\n    },\n    {\n      \"column\": \"parks_around3000\",\n      \"properties\": {\n        \"dtype\": \"number\",\n        \"std\": 0.8020735668852295,\n        \"min\": 0.0,\n        \"max\": 3.0,\n        \"num_unique_values\": 4,\n        \"samples\": [\n          0.0,\n          3.0\n        ],\n        \"semantic_type\": \"\",\n        \"description\": \"\"\n      }\n    },\n    {\n      \"column\": \"parks_nearest\",\n      \"properties\": {\n        \"dtype\": \"number\",\n        \"std\": 342.31799486061857,\n        \"min\": 1.0,\n        \"max\": 3190.0,\n        \"num_unique_values\": 995,\n        \"samples\": [\n          28.0,\n          766.0\n        ],\n        \"semantic_type\": \"\",\n        \"description\": \"\"\n      }\n    },\n    {\n      \"column\": \"ponds_around3000\",\n      \"properties\": {\n        \"dtype\": \"number\",\n        \"std\": 0.9383456207073967,\n        \"min\": 0.0,\n        \"max\": 3.0,\n        \"num_unique_values\": 4,\n        \"samples\": [\n          0.0,\n          1.0\n        ],\n        \"semantic_type\": \"\",\n        \"description\": \"\"\n      }\n    },\n    {\n      \"column\": \"ponds_nearest\",\n      \"properties\": {\n        \"dtype\": \"number\",\n        \"std\": 277.7206426811644,\n        \"min\": 13.0,\n        \"max\": 1344.0,\n        \"num_unique_values\": 1096,\n        \"samples\": [\n          1097.0,\n          496.0\n        ],\n        \"semantic_type\": \"\",\n        \"description\": \"\"\n      }\n    },\n    {\n      \"column\": \"days_exposition\",\n      \"properties\": {\n        \"dtype\": \"number\",\n        \"std\": 219.72798815035102,\n        \"min\": 1.0,\n        \"max\": 1580.0,\n        \"num_unique_values\": 1141,\n        \"samples\": [\n          1202.0,\n          1553.0000000000002\n        ],\n        \"semantic_type\": \"\",\n        \"description\": \"\"\n      }\n    }\n  ]\n}"
            }
          },
          "metadata": {},
          "execution_count": 4
        }
      ]
    },
    {
      "cell_type": "code",
      "source": [
        "df.info()"
      ],
      "metadata": {
        "colab": {
          "base_uri": "https://localhost:8080/"
        },
        "id": "6GK-jz7C4RWY",
        "outputId": "b9c853da-11f9-49f4-8009-a17f17ecc005"
      },
      "id": "6GK-jz7C4RWY",
      "execution_count": 5,
      "outputs": [
        {
          "output_type": "stream",
          "name": "stdout",
          "text": [
            "<class 'pandas.core.frame.DataFrame'>\n",
            "RangeIndex: 23699 entries, 0 to 23698\n",
            "Data columns (total 19 columns):\n",
            " #   Column                Non-Null Count  Dtype  \n",
            "---  ------                --------------  -----  \n",
            " 0   last_price            23699 non-null  float64\n",
            " 1   total_area            23699 non-null  float64\n",
            " 2   first_day_exposition  23699 non-null  object \n",
            " 3   rooms                 23699 non-null  int64  \n",
            " 4   ceiling_height        14504 non-null  float64\n",
            " 5   floors_total          23613 non-null  float64\n",
            " 6   living_area           21796 non-null  float64\n",
            " 7   floor                 23699 non-null  int64  \n",
            " 8   is_apartment          2775 non-null   object \n",
            " 9   studio                23699 non-null  bool   \n",
            " 10  open_plan             23699 non-null  bool   \n",
            " 11  kitchen_area          21421 non-null  float64\n",
            " 12  balcony               12180 non-null  float64\n",
            " 13  locality_name         23699 non-null  object \n",
            " 14  parks_around3000      18181 non-null  float64\n",
            " 15  parks_nearest         8079 non-null   float64\n",
            " 16  ponds_around3000      18181 non-null  float64\n",
            " 17  ponds_nearest         9110 non-null   float64\n",
            " 18  days_exposition       20518 non-null  float64\n",
            "dtypes: bool(2), float64(12), int64(2), object(3)\n",
            "memory usage: 3.1+ MB\n"
          ]
        }
      ]
    },
    {
      "cell_type": "code",
      "source": [
        "df.isnull().sum()"
      ],
      "metadata": {
        "colab": {
          "base_uri": "https://localhost:8080/",
          "height": 679
        },
        "id": "e2yUz17O4xDh",
        "outputId": "7390d005-3ec8-449f-c9d5-3d6a35221856"
      },
      "id": "e2yUz17O4xDh",
      "execution_count": 6,
      "outputs": [
        {
          "output_type": "execute_result",
          "data": {
            "text/plain": [
              "last_price                  0\n",
              "total_area                  0\n",
              "first_day_exposition        0\n",
              "rooms                       0\n",
              "ceiling_height           9195\n",
              "floors_total               86\n",
              "living_area              1903\n",
              "floor                       0\n",
              "is_apartment            20924\n",
              "studio                      0\n",
              "open_plan                   0\n",
              "kitchen_area             2278\n",
              "balcony                 11519\n",
              "locality_name               0\n",
              "parks_around3000         5518\n",
              "parks_nearest           15620\n",
              "ponds_around3000         5518\n",
              "ponds_nearest           14589\n",
              "days_exposition          3181\n",
              "dtype: int64"
            ],
            "text/html": [
              "<div>\n",
              "<style scoped>\n",
              "    .dataframe tbody tr th:only-of-type {\n",
              "        vertical-align: middle;\n",
              "    }\n",
              "\n",
              "    .dataframe tbody tr th {\n",
              "        vertical-align: top;\n",
              "    }\n",
              "\n",
              "    .dataframe thead th {\n",
              "        text-align: right;\n",
              "    }\n",
              "</style>\n",
              "<table border=\"1\" class=\"dataframe\">\n",
              "  <thead>\n",
              "    <tr style=\"text-align: right;\">\n",
              "      <th></th>\n",
              "      <th>0</th>\n",
              "    </tr>\n",
              "  </thead>\n",
              "  <tbody>\n",
              "    <tr>\n",
              "      <th>last_price</th>\n",
              "      <td>0</td>\n",
              "    </tr>\n",
              "    <tr>\n",
              "      <th>total_area</th>\n",
              "      <td>0</td>\n",
              "    </tr>\n",
              "    <tr>\n",
              "      <th>first_day_exposition</th>\n",
              "      <td>0</td>\n",
              "    </tr>\n",
              "    <tr>\n",
              "      <th>rooms</th>\n",
              "      <td>0</td>\n",
              "    </tr>\n",
              "    <tr>\n",
              "      <th>ceiling_height</th>\n",
              "      <td>9195</td>\n",
              "    </tr>\n",
              "    <tr>\n",
              "      <th>floors_total</th>\n",
              "      <td>86</td>\n",
              "    </tr>\n",
              "    <tr>\n",
              "      <th>living_area</th>\n",
              "      <td>1903</td>\n",
              "    </tr>\n",
              "    <tr>\n",
              "      <th>floor</th>\n",
              "      <td>0</td>\n",
              "    </tr>\n",
              "    <tr>\n",
              "      <th>is_apartment</th>\n",
              "      <td>20924</td>\n",
              "    </tr>\n",
              "    <tr>\n",
              "      <th>studio</th>\n",
              "      <td>0</td>\n",
              "    </tr>\n",
              "    <tr>\n",
              "      <th>open_plan</th>\n",
              "      <td>0</td>\n",
              "    </tr>\n",
              "    <tr>\n",
              "      <th>kitchen_area</th>\n",
              "      <td>2278</td>\n",
              "    </tr>\n",
              "    <tr>\n",
              "      <th>balcony</th>\n",
              "      <td>11519</td>\n",
              "    </tr>\n",
              "    <tr>\n",
              "      <th>locality_name</th>\n",
              "      <td>0</td>\n",
              "    </tr>\n",
              "    <tr>\n",
              "      <th>parks_around3000</th>\n",
              "      <td>5518</td>\n",
              "    </tr>\n",
              "    <tr>\n",
              "      <th>parks_nearest</th>\n",
              "      <td>15620</td>\n",
              "    </tr>\n",
              "    <tr>\n",
              "      <th>ponds_around3000</th>\n",
              "      <td>5518</td>\n",
              "    </tr>\n",
              "    <tr>\n",
              "      <th>ponds_nearest</th>\n",
              "      <td>14589</td>\n",
              "    </tr>\n",
              "    <tr>\n",
              "      <th>days_exposition</th>\n",
              "      <td>3181</td>\n",
              "    </tr>\n",
              "  </tbody>\n",
              "</table>\n",
              "</div><br><label><b>dtype:</b> int64</label>"
            ]
          },
          "metadata": {},
          "execution_count": 6
        }
      ]
    },
    {
      "cell_type": "markdown",
      "id": "166f0d86-d651-4d1c-859f-3ba871601379",
      "metadata": {
        "id": "166f0d86-d651-4d1c-859f-3ba871601379"
      },
      "source": [
        "### Data Cleaning and Preparation"
      ]
    },
    {
      "cell_type": "markdown",
      "source": [
        "#### **Incorrect Formats**"
      ],
      "metadata": {
        "id": "gpnFkFal5OLm"
      },
      "id": "gpnFkFal5OLm"
    },
    {
      "cell_type": "code",
      "source": [
        "df.first_day_exposition = pd.to_datetime(df.first_day_exposition)\n",
        "df.head()"
      ],
      "metadata": {
        "colab": {
          "base_uri": "https://localhost:8080/",
          "height": 226
        },
        "id": "ZL7JYfCQ5HVa",
        "outputId": "7154ea93-7ca7-405d-b612-02d0c82c4bc0"
      },
      "id": "ZL7JYfCQ5HVa",
      "execution_count": 7,
      "outputs": [
        {
          "output_type": "execute_result",
          "data": {
            "text/plain": [
              "   last_price  total_area first_day_exposition  rooms  ceiling_height  \\\n",
              "0  13000000.0       108.0           2019-03-07      3            2.70   \n",
              "1   3350000.0        40.4           2018-12-04      1             NaN   \n",
              "2   5196000.0        56.0           2015-08-20      2             NaN   \n",
              "3  64900000.0       159.0           2015-07-24      3             NaN   \n",
              "4  10000000.0       100.0           2018-06-19      2            3.03   \n",
              "\n",
              "   floors_total  living_area  floor is_apartment  studio  open_plan  \\\n",
              "0          16.0         51.0      8          NaN   False      False   \n",
              "1          11.0         18.6      1          NaN   False      False   \n",
              "2           5.0         34.3      4          NaN   False      False   \n",
              "3          14.0          NaN      9          NaN   False      False   \n",
              "4          14.0         32.0     13          NaN   False      False   \n",
              "\n",
              "   kitchen_area  balcony locality_name  parks_around3000  parks_nearest  \\\n",
              "0          25.0      NaN          Kyiv               1.0          482.0   \n",
              "1          11.0      2.0       Brovary               0.0            NaN   \n",
              "2           8.3      0.0          Kyiv               1.0           90.0   \n",
              "3           NaN      0.0          Kyiv               2.0           84.0   \n",
              "4          41.0      NaN          Kyiv               2.0          112.0   \n",
              "\n",
              "   ponds_around3000  ponds_nearest  days_exposition  \n",
              "0               2.0          755.0              NaN  \n",
              "1               0.0            NaN             81.0  \n",
              "2               2.0          574.0            558.0  \n",
              "3               3.0          234.0            424.0  \n",
              "4               1.0           48.0            121.0  "
            ],
            "text/html": [
              "\n",
              "  <div id=\"df-6d9988ef-2956-4d75-9fb1-473ada97b70b\" class=\"colab-df-container\">\n",
              "    <div>\n",
              "<style scoped>\n",
              "    .dataframe tbody tr th:only-of-type {\n",
              "        vertical-align: middle;\n",
              "    }\n",
              "\n",
              "    .dataframe tbody tr th {\n",
              "        vertical-align: top;\n",
              "    }\n",
              "\n",
              "    .dataframe thead th {\n",
              "        text-align: right;\n",
              "    }\n",
              "</style>\n",
              "<table border=\"1\" class=\"dataframe\">\n",
              "  <thead>\n",
              "    <tr style=\"text-align: right;\">\n",
              "      <th></th>\n",
              "      <th>last_price</th>\n",
              "      <th>total_area</th>\n",
              "      <th>first_day_exposition</th>\n",
              "      <th>rooms</th>\n",
              "      <th>ceiling_height</th>\n",
              "      <th>floors_total</th>\n",
              "      <th>living_area</th>\n",
              "      <th>floor</th>\n",
              "      <th>is_apartment</th>\n",
              "      <th>studio</th>\n",
              "      <th>open_plan</th>\n",
              "      <th>kitchen_area</th>\n",
              "      <th>balcony</th>\n",
              "      <th>locality_name</th>\n",
              "      <th>parks_around3000</th>\n",
              "      <th>parks_nearest</th>\n",
              "      <th>ponds_around3000</th>\n",
              "      <th>ponds_nearest</th>\n",
              "      <th>days_exposition</th>\n",
              "    </tr>\n",
              "  </thead>\n",
              "  <tbody>\n",
              "    <tr>\n",
              "      <th>0</th>\n",
              "      <td>13000000.0</td>\n",
              "      <td>108.0</td>\n",
              "      <td>2019-03-07</td>\n",
              "      <td>3</td>\n",
              "      <td>2.70</td>\n",
              "      <td>16.0</td>\n",
              "      <td>51.0</td>\n",
              "      <td>8</td>\n",
              "      <td>NaN</td>\n",
              "      <td>False</td>\n",
              "      <td>False</td>\n",
              "      <td>25.0</td>\n",
              "      <td>NaN</td>\n",
              "      <td>Kyiv</td>\n",
              "      <td>1.0</td>\n",
              "      <td>482.0</td>\n",
              "      <td>2.0</td>\n",
              "      <td>755.0</td>\n",
              "      <td>NaN</td>\n",
              "    </tr>\n",
              "    <tr>\n",
              "      <th>1</th>\n",
              "      <td>3350000.0</td>\n",
              "      <td>40.4</td>\n",
              "      <td>2018-12-04</td>\n",
              "      <td>1</td>\n",
              "      <td>NaN</td>\n",
              "      <td>11.0</td>\n",
              "      <td>18.6</td>\n",
              "      <td>1</td>\n",
              "      <td>NaN</td>\n",
              "      <td>False</td>\n",
              "      <td>False</td>\n",
              "      <td>11.0</td>\n",
              "      <td>2.0</td>\n",
              "      <td>Brovary</td>\n",
              "      <td>0.0</td>\n",
              "      <td>NaN</td>\n",
              "      <td>0.0</td>\n",
              "      <td>NaN</td>\n",
              "      <td>81.0</td>\n",
              "    </tr>\n",
              "    <tr>\n",
              "      <th>2</th>\n",
              "      <td>5196000.0</td>\n",
              "      <td>56.0</td>\n",
              "      <td>2015-08-20</td>\n",
              "      <td>2</td>\n",
              "      <td>NaN</td>\n",
              "      <td>5.0</td>\n",
              "      <td>34.3</td>\n",
              "      <td>4</td>\n",
              "      <td>NaN</td>\n",
              "      <td>False</td>\n",
              "      <td>False</td>\n",
              "      <td>8.3</td>\n",
              "      <td>0.0</td>\n",
              "      <td>Kyiv</td>\n",
              "      <td>1.0</td>\n",
              "      <td>90.0</td>\n",
              "      <td>2.0</td>\n",
              "      <td>574.0</td>\n",
              "      <td>558.0</td>\n",
              "    </tr>\n",
              "    <tr>\n",
              "      <th>3</th>\n",
              "      <td>64900000.0</td>\n",
              "      <td>159.0</td>\n",
              "      <td>2015-07-24</td>\n",
              "      <td>3</td>\n",
              "      <td>NaN</td>\n",
              "      <td>14.0</td>\n",
              "      <td>NaN</td>\n",
              "      <td>9</td>\n",
              "      <td>NaN</td>\n",
              "      <td>False</td>\n",
              "      <td>False</td>\n",
              "      <td>NaN</td>\n",
              "      <td>0.0</td>\n",
              "      <td>Kyiv</td>\n",
              "      <td>2.0</td>\n",
              "      <td>84.0</td>\n",
              "      <td>3.0</td>\n",
              "      <td>234.0</td>\n",
              "      <td>424.0</td>\n",
              "    </tr>\n",
              "    <tr>\n",
              "      <th>4</th>\n",
              "      <td>10000000.0</td>\n",
              "      <td>100.0</td>\n",
              "      <td>2018-06-19</td>\n",
              "      <td>2</td>\n",
              "      <td>3.03</td>\n",
              "      <td>14.0</td>\n",
              "      <td>32.0</td>\n",
              "      <td>13</td>\n",
              "      <td>NaN</td>\n",
              "      <td>False</td>\n",
              "      <td>False</td>\n",
              "      <td>41.0</td>\n",
              "      <td>NaN</td>\n",
              "      <td>Kyiv</td>\n",
              "      <td>2.0</td>\n",
              "      <td>112.0</td>\n",
              "      <td>1.0</td>\n",
              "      <td>48.0</td>\n",
              "      <td>121.0</td>\n",
              "    </tr>\n",
              "  </tbody>\n",
              "</table>\n",
              "</div>\n",
              "    <div class=\"colab-df-buttons\">\n",
              "\n",
              "  <div class=\"colab-df-container\">\n",
              "    <button class=\"colab-df-convert\" onclick=\"convertToInteractive('df-6d9988ef-2956-4d75-9fb1-473ada97b70b')\"\n",
              "            title=\"Convert this dataframe to an interactive table.\"\n",
              "            style=\"display:none;\">\n",
              "\n",
              "  <svg xmlns=\"http://www.w3.org/2000/svg\" height=\"24px\" viewBox=\"0 -960 960 960\">\n",
              "    <path d=\"M120-120v-720h720v720H120Zm60-500h600v-160H180v160Zm220 220h160v-160H400v160Zm0 220h160v-160H400v160ZM180-400h160v-160H180v160Zm440 0h160v-160H620v160ZM180-180h160v-160H180v160Zm440 0h160v-160H620v160Z\"/>\n",
              "  </svg>\n",
              "    </button>\n",
              "\n",
              "  <style>\n",
              "    .colab-df-container {\n",
              "      display:flex;\n",
              "      gap: 12px;\n",
              "    }\n",
              "\n",
              "    .colab-df-convert {\n",
              "      background-color: #E8F0FE;\n",
              "      border: none;\n",
              "      border-radius: 50%;\n",
              "      cursor: pointer;\n",
              "      display: none;\n",
              "      fill: #1967D2;\n",
              "      height: 32px;\n",
              "      padding: 0 0 0 0;\n",
              "      width: 32px;\n",
              "    }\n",
              "\n",
              "    .colab-df-convert:hover {\n",
              "      background-color: #E2EBFA;\n",
              "      box-shadow: 0px 1px 2px rgba(60, 64, 67, 0.3), 0px 1px 3px 1px rgba(60, 64, 67, 0.15);\n",
              "      fill: #174EA6;\n",
              "    }\n",
              "\n",
              "    .colab-df-buttons div {\n",
              "      margin-bottom: 4px;\n",
              "    }\n",
              "\n",
              "    [theme=dark] .colab-df-convert {\n",
              "      background-color: #3B4455;\n",
              "      fill: #D2E3FC;\n",
              "    }\n",
              "\n",
              "    [theme=dark] .colab-df-convert:hover {\n",
              "      background-color: #434B5C;\n",
              "      box-shadow: 0px 1px 3px 1px rgba(0, 0, 0, 0.15);\n",
              "      filter: drop-shadow(0px 1px 2px rgba(0, 0, 0, 0.3));\n",
              "      fill: #FFFFFF;\n",
              "    }\n",
              "  </style>\n",
              "\n",
              "    <script>\n",
              "      const buttonEl =\n",
              "        document.querySelector('#df-6d9988ef-2956-4d75-9fb1-473ada97b70b button.colab-df-convert');\n",
              "      buttonEl.style.display =\n",
              "        google.colab.kernel.accessAllowed ? 'block' : 'none';\n",
              "\n",
              "      async function convertToInteractive(key) {\n",
              "        const element = document.querySelector('#df-6d9988ef-2956-4d75-9fb1-473ada97b70b');\n",
              "        const dataTable =\n",
              "          await google.colab.kernel.invokeFunction('convertToInteractive',\n",
              "                                                    [key], {});\n",
              "        if (!dataTable) return;\n",
              "\n",
              "        const docLinkHtml = 'Like what you see? Visit the ' +\n",
              "          '<a target=\"_blank\" href=https://colab.research.google.com/notebooks/data_table.ipynb>data table notebook</a>'\n",
              "          + ' to learn more about interactive tables.';\n",
              "        element.innerHTML = '';\n",
              "        dataTable['output_type'] = 'display_data';\n",
              "        await google.colab.output.renderOutput(dataTable, element);\n",
              "        const docLink = document.createElement('div');\n",
              "        docLink.innerHTML = docLinkHtml;\n",
              "        element.appendChild(docLink);\n",
              "      }\n",
              "    </script>\n",
              "  </div>\n",
              "\n",
              "\n",
              "<div id=\"df-718c2385-2ec0-4660-bdc2-52ec64487cff\">\n",
              "  <button class=\"colab-df-quickchart\" onclick=\"quickchart('df-718c2385-2ec0-4660-bdc2-52ec64487cff')\"\n",
              "            title=\"Suggest charts\"\n",
              "            style=\"display:none;\">\n",
              "\n",
              "<svg xmlns=\"http://www.w3.org/2000/svg\" height=\"24px\"viewBox=\"0 0 24 24\"\n",
              "     width=\"24px\">\n",
              "    <g>\n",
              "        <path d=\"M19 3H5c-1.1 0-2 .9-2 2v14c0 1.1.9 2 2 2h14c1.1 0 2-.9 2-2V5c0-1.1-.9-2-2-2zM9 17H7v-7h2v7zm4 0h-2V7h2v10zm4 0h-2v-4h2v4z\"/>\n",
              "    </g>\n",
              "</svg>\n",
              "  </button>\n",
              "\n",
              "<style>\n",
              "  .colab-df-quickchart {\n",
              "      --bg-color: #E8F0FE;\n",
              "      --fill-color: #1967D2;\n",
              "      --hover-bg-color: #E2EBFA;\n",
              "      --hover-fill-color: #174EA6;\n",
              "      --disabled-fill-color: #AAA;\n",
              "      --disabled-bg-color: #DDD;\n",
              "  }\n",
              "\n",
              "  [theme=dark] .colab-df-quickchart {\n",
              "      --bg-color: #3B4455;\n",
              "      --fill-color: #D2E3FC;\n",
              "      --hover-bg-color: #434B5C;\n",
              "      --hover-fill-color: #FFFFFF;\n",
              "      --disabled-bg-color: #3B4455;\n",
              "      --disabled-fill-color: #666;\n",
              "  }\n",
              "\n",
              "  .colab-df-quickchart {\n",
              "    background-color: var(--bg-color);\n",
              "    border: none;\n",
              "    border-radius: 50%;\n",
              "    cursor: pointer;\n",
              "    display: none;\n",
              "    fill: var(--fill-color);\n",
              "    height: 32px;\n",
              "    padding: 0;\n",
              "    width: 32px;\n",
              "  }\n",
              "\n",
              "  .colab-df-quickchart:hover {\n",
              "    background-color: var(--hover-bg-color);\n",
              "    box-shadow: 0 1px 2px rgba(60, 64, 67, 0.3), 0 1px 3px 1px rgba(60, 64, 67, 0.15);\n",
              "    fill: var(--button-hover-fill-color);\n",
              "  }\n",
              "\n",
              "  .colab-df-quickchart-complete:disabled,\n",
              "  .colab-df-quickchart-complete:disabled:hover {\n",
              "    background-color: var(--disabled-bg-color);\n",
              "    fill: var(--disabled-fill-color);\n",
              "    box-shadow: none;\n",
              "  }\n",
              "\n",
              "  .colab-df-spinner {\n",
              "    border: 2px solid var(--fill-color);\n",
              "    border-color: transparent;\n",
              "    border-bottom-color: var(--fill-color);\n",
              "    animation:\n",
              "      spin 1s steps(1) infinite;\n",
              "  }\n",
              "\n",
              "  @keyframes spin {\n",
              "    0% {\n",
              "      border-color: transparent;\n",
              "      border-bottom-color: var(--fill-color);\n",
              "      border-left-color: var(--fill-color);\n",
              "    }\n",
              "    20% {\n",
              "      border-color: transparent;\n",
              "      border-left-color: var(--fill-color);\n",
              "      border-top-color: var(--fill-color);\n",
              "    }\n",
              "    30% {\n",
              "      border-color: transparent;\n",
              "      border-left-color: var(--fill-color);\n",
              "      border-top-color: var(--fill-color);\n",
              "      border-right-color: var(--fill-color);\n",
              "    }\n",
              "    40% {\n",
              "      border-color: transparent;\n",
              "      border-right-color: var(--fill-color);\n",
              "      border-top-color: var(--fill-color);\n",
              "    }\n",
              "    60% {\n",
              "      border-color: transparent;\n",
              "      border-right-color: var(--fill-color);\n",
              "    }\n",
              "    80% {\n",
              "      border-color: transparent;\n",
              "      border-right-color: var(--fill-color);\n",
              "      border-bottom-color: var(--fill-color);\n",
              "    }\n",
              "    90% {\n",
              "      border-color: transparent;\n",
              "      border-bottom-color: var(--fill-color);\n",
              "    }\n",
              "  }\n",
              "</style>\n",
              "\n",
              "  <script>\n",
              "    async function quickchart(key) {\n",
              "      const quickchartButtonEl =\n",
              "        document.querySelector('#' + key + ' button');\n",
              "      quickchartButtonEl.disabled = true;  // To prevent multiple clicks.\n",
              "      quickchartButtonEl.classList.add('colab-df-spinner');\n",
              "      try {\n",
              "        const charts = await google.colab.kernel.invokeFunction(\n",
              "            'suggestCharts', [key], {});\n",
              "      } catch (error) {\n",
              "        console.error('Error during call to suggestCharts:', error);\n",
              "      }\n",
              "      quickchartButtonEl.classList.remove('colab-df-spinner');\n",
              "      quickchartButtonEl.classList.add('colab-df-quickchart-complete');\n",
              "    }\n",
              "    (() => {\n",
              "      let quickchartButtonEl =\n",
              "        document.querySelector('#df-718c2385-2ec0-4660-bdc2-52ec64487cff button');\n",
              "      quickchartButtonEl.style.display =\n",
              "        google.colab.kernel.accessAllowed ? 'block' : 'none';\n",
              "    })();\n",
              "  </script>\n",
              "</div>\n",
              "\n",
              "    </div>\n",
              "  </div>\n"
            ],
            "application/vnd.google.colaboratory.intrinsic+json": {
              "type": "dataframe",
              "variable_name": "df",
              "summary": "{\n  \"name\": \"df\",\n  \"rows\": 23699,\n  \"fields\": [\n    {\n      \"column\": \"last_price\",\n      \"properties\": {\n        \"dtype\": \"number\",\n        \"std\": 10887013.267544659,\n        \"min\": 12190.0,\n        \"max\": 763000000.0,\n        \"num_unique_values\": 2978,\n        \"samples\": [\n          4157100.0,\n          4658410.0,\n          8577905.0\n        ],\n        \"semantic_type\": \"\",\n        \"description\": \"\"\n      }\n    },\n    {\n      \"column\": \"total_area\",\n      \"properties\": {\n        \"dtype\": \"number\",\n        \"std\": 35.65408290337163,\n        \"min\": 12.0,\n        \"max\": 900.0,\n        \"num_unique_values\": 2182,\n        \"samples\": [\n          69.0,\n          41.7,\n          99.9\n        ],\n        \"semantic_type\": \"\",\n        \"description\": \"\"\n      }\n    },\n    {\n      \"column\": \"first_day_exposition\",\n      \"properties\": {\n        \"dtype\": \"date\",\n        \"min\": \"2014-11-27 00:00:00\",\n        \"max\": \"2019-05-03 00:00:00\",\n        \"num_unique_values\": 1491,\n        \"samples\": [\n          \"2016-10-24 00:00:00\",\n          \"2018-08-31 00:00:00\",\n          \"2018-08-23 00:00:00\"\n        ],\n        \"semantic_type\": \"\",\n        \"description\": \"\"\n      }\n    },\n    {\n      \"column\": \"rooms\",\n      \"properties\": {\n        \"dtype\": \"number\",\n        \"std\": 1,\n        \"min\": 0,\n        \"max\": 19,\n        \"num_unique_values\": 17,\n        \"samples\": [\n          3,\n          1,\n          6\n        ],\n        \"semantic_type\": \"\",\n        \"description\": \"\"\n      }\n    },\n    {\n      \"column\": \"ceiling_height\",\n      \"properties\": {\n        \"dtype\": \"number\",\n        \"std\": 1.261055830986799,\n        \"min\": 1.0,\n        \"max\": 100.0,\n        \"num_unique_values\": 183,\n        \"samples\": [\n          2.64,\n          5.2,\n          3.93\n        ],\n        \"semantic_type\": \"\",\n        \"description\": \"\"\n      }\n    },\n    {\n      \"column\": \"floors_total\",\n      \"properties\": {\n        \"dtype\": \"number\",\n        \"std\": 6.597172989041479,\n        \"min\": 1.0,\n        \"max\": 60.0,\n        \"num_unique_values\": 36,\n        \"samples\": [\n          37.0,\n          23.0,\n          36.0\n        ],\n        \"semantic_type\": \"\",\n        \"description\": \"\"\n      }\n    },\n    {\n      \"column\": \"living_area\",\n      \"properties\": {\n        \"dtype\": \"number\",\n        \"std\": 22.030445215166257,\n        \"min\": 2.0,\n        \"max\": 409.7,\n        \"num_unique_values\": 1782,\n        \"samples\": [\n          43.46,\n          27.29,\n          41.8\n        ],\n        \"semantic_type\": \"\",\n        \"description\": \"\"\n      }\n    },\n    {\n      \"column\": \"floor\",\n      \"properties\": {\n        \"dtype\": \"number\",\n        \"std\": 4,\n        \"min\": 1,\n        \"max\": 33,\n        \"num_unique_values\": 33,\n        \"samples\": [\n          33,\n          10,\n          24\n        ],\n        \"semantic_type\": \"\",\n        \"description\": \"\"\n      }\n    },\n    {\n      \"column\": \"is_apartment\",\n      \"properties\": {\n        \"dtype\": \"category\",\n        \"num_unique_values\": 2,\n        \"samples\": [\n          true,\n          false\n        ],\n        \"semantic_type\": \"\",\n        \"description\": \"\"\n      }\n    },\n    {\n      \"column\": \"studio\",\n      \"properties\": {\n        \"dtype\": \"boolean\",\n        \"num_unique_values\": 2,\n        \"samples\": [\n          true,\n          false\n        ],\n        \"semantic_type\": \"\",\n        \"description\": \"\"\n      }\n    },\n    {\n      \"column\": \"open_plan\",\n      \"properties\": {\n        \"dtype\": \"boolean\",\n        \"num_unique_values\": 2,\n        \"samples\": [\n          true,\n          false\n        ],\n        \"semantic_type\": \"\",\n        \"description\": \"\"\n      }\n    },\n    {\n      \"column\": \"kitchen_area\",\n      \"properties\": {\n        \"dtype\": \"number\",\n        \"std\": 5.90543793417423,\n        \"min\": 1.3,\n        \"max\": 112.0,\n        \"num_unique_values\": 971,\n        \"samples\": [\n          12.24,\n          9.42\n        ],\n        \"semantic_type\": \"\",\n        \"description\": \"\"\n      }\n    },\n    {\n      \"column\": \"balcony\",\n      \"properties\": {\n        \"dtype\": \"number\",\n        \"std\": 1.0713003930828429,\n        \"min\": 0.0,\n        \"max\": 5.0,\n        \"num_unique_values\": 6,\n        \"samples\": [\n          2.0,\n          0.0\n        ],\n        \"semantic_type\": \"\",\n        \"description\": \"\"\n      }\n    },\n    {\n      \"column\": \"locality_name\",\n      \"properties\": {\n        \"dtype\": \"category\",\n        \"num_unique_values\": 9,\n        \"samples\": [\n          \"Vyshneve\",\n          \"Brovary\"\n        ],\n        \"semantic_type\": \"\",\n        \"description\": \"\"\n      }\n    },\n    {\n      \"column\": \"parks_around3000\",\n      \"properties\": {\n        \"dtype\": \"number\",\n        \"std\": 0.8020735668852295,\n        \"min\": 0.0,\n        \"max\": 3.0,\n        \"num_unique_values\": 4,\n        \"samples\": [\n          0.0,\n          3.0\n        ],\n        \"semantic_type\": \"\",\n        \"description\": \"\"\n      }\n    },\n    {\n      \"column\": \"parks_nearest\",\n      \"properties\": {\n        \"dtype\": \"number\",\n        \"std\": 342.31799486061857,\n        \"min\": 1.0,\n        \"max\": 3190.0,\n        \"num_unique_values\": 995,\n        \"samples\": [\n          28.0,\n          766.0\n        ],\n        \"semantic_type\": \"\",\n        \"description\": \"\"\n      }\n    },\n    {\n      \"column\": \"ponds_around3000\",\n      \"properties\": {\n        \"dtype\": \"number\",\n        \"std\": 0.9383456207073967,\n        \"min\": 0.0,\n        \"max\": 3.0,\n        \"num_unique_values\": 4,\n        \"samples\": [\n          0.0,\n          1.0\n        ],\n        \"semantic_type\": \"\",\n        \"description\": \"\"\n      }\n    },\n    {\n      \"column\": \"ponds_nearest\",\n      \"properties\": {\n        \"dtype\": \"number\",\n        \"std\": 277.7206426811644,\n        \"min\": 13.0,\n        \"max\": 1344.0,\n        \"num_unique_values\": 1096,\n        \"samples\": [\n          1097.0,\n          496.0\n        ],\n        \"semantic_type\": \"\",\n        \"description\": \"\"\n      }\n    },\n    {\n      \"column\": \"days_exposition\",\n      \"properties\": {\n        \"dtype\": \"number\",\n        \"std\": 219.72798815035102,\n        \"min\": 1.0,\n        \"max\": 1580.0,\n        \"num_unique_values\": 1141,\n        \"samples\": [\n          1202.0,\n          1553.0000000000002\n        ],\n        \"semantic_type\": \"\",\n        \"description\": \"\"\n      }\n    }\n  ]\n}"
            }
          },
          "metadata": {},
          "execution_count": 7
        }
      ]
    },
    {
      "cell_type": "code",
      "source": [
        "df.is_apartment.unique()"
      ],
      "metadata": {
        "colab": {
          "base_uri": "https://localhost:8080/"
        },
        "id": "0T2o_dbJ6ozi",
        "outputId": "03ee343e-6e01-4a32-99f7-799511d28148"
      },
      "id": "0T2o_dbJ6ozi",
      "execution_count": 8,
      "outputs": [
        {
          "output_type": "execute_result",
          "data": {
            "text/plain": [
              "array([nan, False, True], dtype=object)"
            ]
          },
          "metadata": {},
          "execution_count": 8
        }
      ]
    },
    {
      "cell_type": "code",
      "source": [
        "df['is_apartment'] = df.is_apartment.fillna(True)\n",
        "df.is_apartment = df.is_apartment.astype(bool)"
      ],
      "metadata": {
        "id": "LXrdYQEh7Yx4"
      },
      "id": "LXrdYQEh7Yx4",
      "execution_count": 10,
      "outputs": []
    },
    {
      "cell_type": "code",
      "source": [
        "df.locality_name.unique()"
      ],
      "metadata": {
        "colab": {
          "base_uri": "https://localhost:8080/"
        },
        "id": "HjTn9d9F6vC_",
        "outputId": "a656be63-06b1-43e6-b810-e0c6c5b556b3"
      },
      "id": "HjTn9d9F6vC_",
      "execution_count": 11,
      "outputs": [
        {
          "output_type": "execute_result",
          "data": {
            "text/plain": [
              "array(['Kyiv', 'Brovary', 'Boyarka', 'Hostomel', 'Bucha', 'Boryspil',\n",
              "       'Irpin', 'Vyshneve', 'Borshchahivka'], dtype=object)"
            ]
          },
          "metadata": {},
          "execution_count": 11
        }
      ]
    },
    {
      "cell_type": "markdown",
      "source": [
        "#### **Identifying Duplicates in the Dataset**"
      ],
      "metadata": {
        "id": "rPYFtuiA9hVZ"
      },
      "id": "rPYFtuiA9hVZ"
    },
    {
      "cell_type": "code",
      "source": [
        "duplicate_rows = df.duplicated().sum()\n",
        "print(duplicate_rows)"
      ],
      "metadata": {
        "colab": {
          "base_uri": "https://localhost:8080/"
        },
        "id": "IcV5QDsq9rOw",
        "outputId": "2f24bbfb-5f4a-4a23-d94d-e41ef7fa5184"
      },
      "id": "IcV5QDsq9rOw",
      "execution_count": 12,
      "outputs": [
        {
          "output_type": "stream",
          "name": "stdout",
          "text": [
            "0\n"
          ]
        }
      ]
    },
    {
      "cell_type": "markdown",
      "source": [],
      "metadata": {
        "id": "yg8kG5tl-AVH"
      },
      "id": "yg8kG5tl-AVH"
    },
    {
      "cell_type": "markdown",
      "source": [
        "#### **Data Cleaning Recommendations for Missing Values**"
      ],
      "metadata": {
        "id": "BsxbbiNG-BuJ"
      },
      "id": "BsxbbiNG-BuJ"
    },
    {
      "cell_type": "code",
      "source": [
        "df.isnull().sum()"
      ],
      "metadata": {
        "colab": {
          "base_uri": "https://localhost:8080/",
          "height": 679
        },
        "id": "TWinx1A_-FGU",
        "outputId": "1f12cfed-ec53-4c4a-e361-d3a1d91d0c2e"
      },
      "id": "TWinx1A_-FGU",
      "execution_count": 14,
      "outputs": [
        {
          "output_type": "execute_result",
          "data": {
            "text/plain": [
              "last_price                  0\n",
              "total_area                  0\n",
              "first_day_exposition        0\n",
              "rooms                       0\n",
              "ceiling_height           9195\n",
              "floors_total               86\n",
              "living_area              1903\n",
              "floor                       0\n",
              "is_apartment                0\n",
              "studio                      0\n",
              "open_plan                   0\n",
              "kitchen_area             2278\n",
              "balcony                 11519\n",
              "locality_name               0\n",
              "parks_around3000         5518\n",
              "parks_nearest           15620\n",
              "ponds_around3000         5518\n",
              "ponds_nearest           14589\n",
              "days_exposition          3181\n",
              "dtype: int64"
            ],
            "text/html": [
              "<div>\n",
              "<style scoped>\n",
              "    .dataframe tbody tr th:only-of-type {\n",
              "        vertical-align: middle;\n",
              "    }\n",
              "\n",
              "    .dataframe tbody tr th {\n",
              "        vertical-align: top;\n",
              "    }\n",
              "\n",
              "    .dataframe thead th {\n",
              "        text-align: right;\n",
              "    }\n",
              "</style>\n",
              "<table border=\"1\" class=\"dataframe\">\n",
              "  <thead>\n",
              "    <tr style=\"text-align: right;\">\n",
              "      <th></th>\n",
              "      <th>0</th>\n",
              "    </tr>\n",
              "  </thead>\n",
              "  <tbody>\n",
              "    <tr>\n",
              "      <th>last_price</th>\n",
              "      <td>0</td>\n",
              "    </tr>\n",
              "    <tr>\n",
              "      <th>total_area</th>\n",
              "      <td>0</td>\n",
              "    </tr>\n",
              "    <tr>\n",
              "      <th>first_day_exposition</th>\n",
              "      <td>0</td>\n",
              "    </tr>\n",
              "    <tr>\n",
              "      <th>rooms</th>\n",
              "      <td>0</td>\n",
              "    </tr>\n",
              "    <tr>\n",
              "      <th>ceiling_height</th>\n",
              "      <td>9195</td>\n",
              "    </tr>\n",
              "    <tr>\n",
              "      <th>floors_total</th>\n",
              "      <td>86</td>\n",
              "    </tr>\n",
              "    <tr>\n",
              "      <th>living_area</th>\n",
              "      <td>1903</td>\n",
              "    </tr>\n",
              "    <tr>\n",
              "      <th>floor</th>\n",
              "      <td>0</td>\n",
              "    </tr>\n",
              "    <tr>\n",
              "      <th>is_apartment</th>\n",
              "      <td>0</td>\n",
              "    </tr>\n",
              "    <tr>\n",
              "      <th>studio</th>\n",
              "      <td>0</td>\n",
              "    </tr>\n",
              "    <tr>\n",
              "      <th>open_plan</th>\n",
              "      <td>0</td>\n",
              "    </tr>\n",
              "    <tr>\n",
              "      <th>kitchen_area</th>\n",
              "      <td>2278</td>\n",
              "    </tr>\n",
              "    <tr>\n",
              "      <th>balcony</th>\n",
              "      <td>11519</td>\n",
              "    </tr>\n",
              "    <tr>\n",
              "      <th>locality_name</th>\n",
              "      <td>0</td>\n",
              "    </tr>\n",
              "    <tr>\n",
              "      <th>parks_around3000</th>\n",
              "      <td>5518</td>\n",
              "    </tr>\n",
              "    <tr>\n",
              "      <th>parks_nearest</th>\n",
              "      <td>15620</td>\n",
              "    </tr>\n",
              "    <tr>\n",
              "      <th>ponds_around3000</th>\n",
              "      <td>5518</td>\n",
              "    </tr>\n",
              "    <tr>\n",
              "      <th>ponds_nearest</th>\n",
              "      <td>14589</td>\n",
              "    </tr>\n",
              "    <tr>\n",
              "      <th>days_exposition</th>\n",
              "      <td>3181</td>\n",
              "    </tr>\n",
              "  </tbody>\n",
              "</table>\n",
              "</div><br><label><b>dtype:</b> int64</label>"
            ]
          },
          "metadata": {},
          "execution_count": 14
        }
      ]
    },
    {
      "cell_type": "code",
      "source": [
        "df.balcony.unique()"
      ],
      "metadata": {
        "colab": {
          "base_uri": "https://localhost:8080/"
        },
        "id": "L7qMsE1VAxUv",
        "outputId": "1daf2fdc-234c-4ea1-aaf7-4ef5bb0ad131"
      },
      "id": "L7qMsE1VAxUv",
      "execution_count": 15,
      "outputs": [
        {
          "output_type": "execute_result",
          "data": {
            "text/plain": [
              "array([nan,  2.,  0.,  1.,  5.,  4.,  3.])"
            ]
          },
          "metadata": {},
          "execution_count": 15
        }
      ]
    },
    {
      "cell_type": "code",
      "source": [
        "df['balcony'] = df.balcony.fillna(0)"
      ],
      "metadata": {
        "id": "_vr9JV47A2zG"
      },
      "id": "_vr9JV47A2zG",
      "execution_count": 16,
      "outputs": []
    },
    {
      "cell_type": "code",
      "source": [
        "studio_missing_kitchen = df[df['studio'] == True]\n",
        "studio_missing_kitchen.shape"
      ],
      "metadata": {
        "colab": {
          "base_uri": "https://localhost:8080/"
        },
        "id": "QVsBI4VFBq_V",
        "outputId": "b89a4ad0-0a6b-4fb4-9bc1-6625fd9aef0b"
      },
      "id": "QVsBI4VFBq_V",
      "execution_count": 17,
      "outputs": [
        {
          "output_type": "execute_result",
          "data": {
            "text/plain": [
              "(149, 19)"
            ]
          },
          "metadata": {},
          "execution_count": 17
        }
      ]
    },
    {
      "cell_type": "code",
      "source": [
        "studio_missing_kitchen = df[(df['studio'] == True) & (df['kitchen_area'].isna())]\n",
        "studio_missing_kitchen.shape"
      ],
      "metadata": {
        "colab": {
          "base_uri": "https://localhost:8080/"
        },
        "id": "-iSXj_-RB5VS",
        "outputId": "345d4aec-10ab-4ad0-91a8-7a6fe63dda70"
      },
      "id": "-iSXj_-RB5VS",
      "execution_count": 19,
      "outputs": [
        {
          "output_type": "execute_result",
          "data": {
            "text/plain": [
              "(149, 19)"
            ]
          },
          "metadata": {},
          "execution_count": 19
        }
      ]
    },
    {
      "cell_type": "code",
      "source": [
        "df.loc[(df['studio'] == True) & (df['kitchen_area'].isna()), 'kitchen_area'] = 0"
      ],
      "metadata": {
        "id": "WjtaTkbQCvZl"
      },
      "id": "WjtaTkbQCvZl",
      "execution_count": 21,
      "outputs": []
    },
    {
      "cell_type": "code",
      "source": [
        "df.isnull().sum()"
      ],
      "metadata": {
        "colab": {
          "base_uri": "https://localhost:8080/",
          "height": 679
        },
        "id": "tr-dT8-MDmVY",
        "outputId": "0290a9fd-24fd-43bd-dfc4-a77071096713"
      },
      "id": "tr-dT8-MDmVY",
      "execution_count": 22,
      "outputs": [
        {
          "output_type": "execute_result",
          "data": {
            "text/plain": [
              "last_price                  0\n",
              "total_area                  0\n",
              "first_day_exposition        0\n",
              "rooms                       0\n",
              "ceiling_height           9195\n",
              "floors_total               86\n",
              "living_area              1903\n",
              "floor                       0\n",
              "is_apartment                0\n",
              "studio                      0\n",
              "open_plan                   0\n",
              "kitchen_area             2129\n",
              "balcony                     0\n",
              "locality_name               0\n",
              "parks_around3000         5518\n",
              "parks_nearest           15620\n",
              "ponds_around3000         5518\n",
              "ponds_nearest           14589\n",
              "days_exposition          3181\n",
              "dtype: int64"
            ],
            "text/html": [
              "<div>\n",
              "<style scoped>\n",
              "    .dataframe tbody tr th:only-of-type {\n",
              "        vertical-align: middle;\n",
              "    }\n",
              "\n",
              "    .dataframe tbody tr th {\n",
              "        vertical-align: top;\n",
              "    }\n",
              "\n",
              "    .dataframe thead th {\n",
              "        text-align: right;\n",
              "    }\n",
              "</style>\n",
              "<table border=\"1\" class=\"dataframe\">\n",
              "  <thead>\n",
              "    <tr style=\"text-align: right;\">\n",
              "      <th></th>\n",
              "      <th>0</th>\n",
              "    </tr>\n",
              "  </thead>\n",
              "  <tbody>\n",
              "    <tr>\n",
              "      <th>last_price</th>\n",
              "      <td>0</td>\n",
              "    </tr>\n",
              "    <tr>\n",
              "      <th>total_area</th>\n",
              "      <td>0</td>\n",
              "    </tr>\n",
              "    <tr>\n",
              "      <th>first_day_exposition</th>\n",
              "      <td>0</td>\n",
              "    </tr>\n",
              "    <tr>\n",
              "      <th>rooms</th>\n",
              "      <td>0</td>\n",
              "    </tr>\n",
              "    <tr>\n",
              "      <th>ceiling_height</th>\n",
              "      <td>9195</td>\n",
              "    </tr>\n",
              "    <tr>\n",
              "      <th>floors_total</th>\n",
              "      <td>86</td>\n",
              "    </tr>\n",
              "    <tr>\n",
              "      <th>living_area</th>\n",
              "      <td>1903</td>\n",
              "    </tr>\n",
              "    <tr>\n",
              "      <th>floor</th>\n",
              "      <td>0</td>\n",
              "    </tr>\n",
              "    <tr>\n",
              "      <th>is_apartment</th>\n",
              "      <td>0</td>\n",
              "    </tr>\n",
              "    <tr>\n",
              "      <th>studio</th>\n",
              "      <td>0</td>\n",
              "    </tr>\n",
              "    <tr>\n",
              "      <th>open_plan</th>\n",
              "      <td>0</td>\n",
              "    </tr>\n",
              "    <tr>\n",
              "      <th>kitchen_area</th>\n",
              "      <td>2129</td>\n",
              "    </tr>\n",
              "    <tr>\n",
              "      <th>balcony</th>\n",
              "      <td>0</td>\n",
              "    </tr>\n",
              "    <tr>\n",
              "      <th>locality_name</th>\n",
              "      <td>0</td>\n",
              "    </tr>\n",
              "    <tr>\n",
              "      <th>parks_around3000</th>\n",
              "      <td>5518</td>\n",
              "    </tr>\n",
              "    <tr>\n",
              "      <th>parks_nearest</th>\n",
              "      <td>15620</td>\n",
              "    </tr>\n",
              "    <tr>\n",
              "      <th>ponds_around3000</th>\n",
              "      <td>5518</td>\n",
              "    </tr>\n",
              "    <tr>\n",
              "      <th>ponds_nearest</th>\n",
              "      <td>14589</td>\n",
              "    </tr>\n",
              "    <tr>\n",
              "      <th>days_exposition</th>\n",
              "      <td>3181</td>\n",
              "    </tr>\n",
              "  </tbody>\n",
              "</table>\n",
              "</div><br><label><b>dtype:</b> int64</label>"
            ]
          },
          "metadata": {},
          "execution_count": 22
        }
      ]
    },
    {
      "cell_type": "markdown",
      "source": [
        "### What about scales?"
      ],
      "metadata": {
        "id": "Q-OVyqhlFXDn"
      },
      "id": "Q-OVyqhlFXDn"
    },
    {
      "cell_type": "markdown",
      "source": [
        "**Nominal Scale**  \n",
        "(No natural order, categorical labels)  \n",
        "\n",
        "| Column                | Description                              |\n",
        "|-----------------------|-------------------------------------------|\n",
        "| `locality_name`       | Name of the location                     |\n",
        "| `first_day_exposition`| Date (object, to be parsed separately)   |\n",
        "\n",
        "\n",
        "---\n",
        "\n"
      ],
      "metadata": {
        "id": "L4c7G_0pFcRM"
      },
      "id": "L4c7G_0pFcRM"
    },
    {
      "cell_type": "markdown",
      "source": [
        "**Ordinal Scale**  \n",
        "(Categorical with order, but not equal spacing)\n",
        "\n",
        "| Column            | Description                                |\n",
        "|-------------------|---------------------------------------------|\n",
        "| `rooms`           | Number of rooms (can also be seen as discrete numeric) |\n",
        "| `floor`           | Floor number in the building               |\n",
        "| `floors_total`    | Total number of floors in the building     |\n",
        "| `balcony`         | Number of balconies                        |\n",
        "| `parks_around3000`| Number of parks within 3km                 |\n",
        "| `ponds_around3000`| Number of ponds within 3km                 |\n",
        "\n",
        "---\n"
      ],
      "metadata": {
        "id": "WGDJJn3zHUFD"
      },
      "id": "WGDJJn3zHUFD"
    },
    {
      "cell_type": "markdown",
      "source": [
        "**Quantitative Scale**  \n",
        "(Continuous or discrete numeric data with meaningful order and equal intervals)\n",
        "\n",
        "| Column           | Description                                   |\n",
        "|------------------|-----------------------------------------------|\n",
        "| `last_price`     | Final sale price                              |\n",
        "| `total_area`     | Total apartment area                          |\n",
        "| `living_area`    | Living space area                             |\n",
        "| `kitchen_area`   | Kitchen area                                  |\n",
        "| `ceiling_height` | Ceiling height                                |\n",
        "| `parks_nearest`  | Distance to the nearest park (in meters)      |\n",
        "| `ponds_nearest`  | Distance to the nearest pond (in meters)      |\n",
        "| `days_exposition`| Number of days the listing was online         |\n",
        "\n",
        "---"
      ],
      "metadata": {
        "id": "rRvQFANJJeXD"
      },
      "id": "rRvQFANJJeXD"
    },
    {
      "cell_type": "markdown",
      "source": [
        "**Boolean (Binary Nominal)**  \n",
        "(Can be treated as nominal categorical variables)\n",
        "\n",
        "| Column        | Description                            |\n",
        "|---------------|-----------------------------------------|\n",
        "| `studio`      | Whether the flat is a studio apartment |\n",
        "| `open_plan`   | Whether the flat has an open-plan design |\n",
        "| `is_apartment`        | Type of property (Yes/No or missing)     |\n",
        "---\n"
      ],
      "metadata": {
        "id": "TiBMN8AqJ0mD"
      },
      "id": "TiBMN8AqJ0mD"
    },
    {
      "cell_type": "markdown",
      "id": "afd692ee-bba9-4be9-93d1-b1d9a5987fb5",
      "metadata": {
        "id": "afd692ee-bba9-4be9-93d1-b1d9a5987fb5"
      },
      "source": [
        "### Central Tendency: Mean, Median, Moda"
      ]
    },
    {
      "cell_type": "markdown",
      "source": [
        "#### last_price"
      ],
      "metadata": {
        "id": "MMWiqk63NThz"
      },
      "id": "MMWiqk63NThz"
    },
    {
      "cell_type": "code",
      "source": [
        "print(f'Avg: {df.last_price.mean():.2f}')\n",
        "print(f'Median: {df.last_price.median():.2f}')"
      ],
      "metadata": {
        "colab": {
          "base_uri": "https://localhost:8080/"
        },
        "id": "VMtTrB2YNX_a",
        "outputId": "b4485c4b-4307-4907-fb11-2f70a78c1221"
      },
      "id": "VMtTrB2YNX_a",
      "execution_count": 28,
      "outputs": [
        {
          "output_type": "stream",
          "name": "stdout",
          "text": [
            "Avg: 6541548.77\n",
            "Median: 4650000.00\n"
          ]
        }
      ]
    },
    {
      "cell_type": "markdown",
      "source": [
        "**Interpretation**\n",
        "\n",
        "**Mean > Median**\n",
        "- This is a clear sign of **right-skewed distribution**.\n",
        "- A few **very expensive properties** are pulling the average (mean) price upward.\n",
        "- **Most listings are priced below the mean**, but a handful of high-priced properties inflate the average.\n",
        "\n",
        "---\n",
        "\n",
        "**What does it mean in practice?**\n",
        "- **For buyers:** Median is more informative — it reflects the “typical” price.\n",
        "- **For analysts:** The mean does not accurately represent the majority of listings. Be cautious when interpreting it.\n",
        "- **For model developers:** Consider **log-transforming** the `last_price` to normalize the distribution and reduce the effect of outliers.\n",
        "\n",
        "---\n",
        "\n",
        "**Summary:**\n",
        "> “The average real estate price is **6.54 million**, while the median is **4.65 million**, indicating a **right-skewed distribution**. Most properties are priced below the mean, and a few high-end listings pull the average upward. For assessing a typical price, the **median provides a more reliable estimate**.”"
      ],
      "metadata": {
        "id": "m9XMYkoVOwzi"
      },
      "id": "m9XMYkoVOwzi"
    },
    {
      "cell_type": "markdown",
      "source": [
        "#### total_area"
      ],
      "metadata": {
        "id": "8QifIb8JOzxE"
      },
      "id": "8QifIb8JOzxE"
    },
    {
      "cell_type": "code",
      "source": [
        "print(f'Avg: {df.total_area.mean():.2f}')\n",
        "print(f'Median: {df.total_area.median():.2f}')"
      ],
      "metadata": {
        "colab": {
          "base_uri": "https://localhost:8080/"
        },
        "id": "RNBtgkv8O5Ld",
        "outputId": "35abedf7-0c07-43d4-b21e-da4b50ab8eb1"
      },
      "id": "RNBtgkv8O5Ld",
      "execution_count": 29,
      "outputs": [
        {
          "output_type": "stream",
          "name": "stdout",
          "text": [
            "Avg: 60.35\n",
            "Median: 52.00\n"
          ]
        }
      ]
    },
    {
      "cell_type": "markdown",
      "source": [
        "**Interpretation**\n",
        "**Mean > Median**\n",
        "- This suggests a **right-skewed distribution**.\n",
        "- There are likely some **very large apartments** that increase the average.\n",
        "- Most properties are **smaller than the average**.\n",
        "\n",
        "---\n",
        "\n",
        "**What does it mean in practice?**\n",
        "- **For market insights:** The **median** is a better reflection of typical apartment sizes.\n",
        "- **For planning supply/demand:** The majority of listings are **under 60 m²**, despite a few large units inflating the mean.\n",
        "- **For developers/investors:** If targeting the median buyer, focus on properties around **50–55 m²**.\n",
        "\n",
        "**Summary:**\n",
        "\n",
        "> “The average total area is **60.35 m²**, while the median is **52.00 m²** — indicating that **most apartments are below average size**, with a few very large listings pulling the mean upward. The **median is more representative of a typical home** size in the dataset.”"
      ],
      "metadata": {
        "id": "MkFEDbobS9h9"
      },
      "id": "MkFEDbobS9h9"
    },
    {
      "cell_type": "markdown",
      "source": [],
      "metadata": {
        "id": "qH-hT2_bTLhh"
      },
      "id": "qH-hT2_bTLhh"
    },
    {
      "cell_type": "markdown",
      "source": [
        "#### rooms"
      ],
      "metadata": {
        "id": "En3CRg3dTR2K"
      },
      "id": "En3CRg3dTR2K"
    },
    {
      "cell_type": "code",
      "source": [
        "print(f'Avg rooms: {df.rooms.mean():.2f}')\n",
        "print(f'Median rooms: {df.rooms.median():.2f}')\n",
        "print(f'Mode rooms: {df.rooms.mode()[0]}')\n"
      ],
      "metadata": {
        "colab": {
          "base_uri": "https://localhost:8080/"
        },
        "id": "AT6vdvr_TT3T",
        "outputId": "9c5e07d3-98d7-49a6-ed82-58def98b2d9e"
      },
      "id": "AT6vdvr_TT3T",
      "execution_count": 47,
      "outputs": [
        {
          "output_type": "stream",
          "name": "stdout",
          "text": [
            "Avg rooms: 2.07\n",
            "Median rooms: 2.00\n",
            "Mode rooms: 1\n"
          ]
        }
      ]
    },
    {
      "cell_type": "markdown",
      "source": [
        "**Interpretation:**\n",
        "- The **mean is slightly higher** than the median. This often suggests that there are some properties with **a larger number of rooms** pulling the average up.\n",
        "- The **mode being 1** shows that **1-room apartments** are the most common, but not representative of the overall trend."
      ],
      "metadata": {
        "id": "SqcOB0ueWeZB"
      },
      "id": "SqcOB0ueWeZB"
    },
    {
      "cell_type": "markdown",
      "id": "8ac31356-e6a5-474d-92df-664bbef1d202",
      "metadata": {
        "id": "8ac31356-e6a5-474d-92df-664bbef1d202"
      },
      "source": [
        "### Measures of Spread. Range, STD, IQR"
      ]
    },
    {
      "cell_type": "markdown",
      "source": [
        "#### last_price"
      ],
      "metadata": {
        "id": "P9jhKEluXPFx"
      },
      "id": "P9jhKEluXPFx"
    },
    {
      "cell_type": "code",
      "source": [
        "print(f'Range: {df.last_price.max() - df.last_price.min():.2f}')\n",
        "print(f'STD: {df.last_price.std():.2f}')\n",
        "print(f'IQR: {df.last_price.quantile(0.75) - df.last_price.quantile(0.25):.2f}')"
      ],
      "metadata": {
        "colab": {
          "base_uri": "https://localhost:8080/"
        },
        "id": "5tin-d8kXXLc",
        "outputId": "58c55fcf-f91f-400a-8bc9-3e4133f83543"
      },
      "id": "5tin-d8kXXLc",
      "execution_count": 36,
      "outputs": [
        {
          "output_type": "stream",
          "name": "stdout",
          "text": [
            "Range: 762987810.00\n",
            "STD: 10887013.27\n",
            "IQR: 3400000.00\n"
          ]
        }
      ]
    },
    {
      "cell_type": "markdown",
      "source": [
        "**last_price**\n",
        "- **Range**: 762,987,810 — huge spread between the cheapest and most expensive property.\n",
        "- **Standard Deviation (STD)**: 10,887,013.27 — very high, indicating extreme variability in prices.\n",
        "- **IQR (Interquartile Range)**: 3,400,000 — 50% of the properties fall within a ₺3.4M range (between Q1 and Q3).\n",
        "\n",
        "**Interpretation**:  \n",
        "The wide **range** and large **STD** suggest **extreme outliers** (e.g., ultra-luxury properties). The smaller **IQR** compared to the total range shows that while most properties are priced within a tighter band, a few **very expensive outliers** skew the distribution."
      ],
      "metadata": {
        "id": "bWb2BHW3YqE0"
      },
      "id": "bWb2BHW3YqE0"
    },
    {
      "cell_type": "markdown",
      "source": [
        "#### total_area"
      ],
      "metadata": {
        "id": "SRoSoP8FXQmX"
      },
      "id": "SRoSoP8FXQmX"
    },
    {
      "cell_type": "code",
      "source": [
        "print(f'Range: {df.total_area.max() - df.total_area.min():.2f}')\n",
        "print(f'STD: {df.total_area.std():.2f}')\n",
        "print(f'IQR: {df.total_area.quantile(0.75) - df.total_area.quantile(0.25):.2f}')"
      ],
      "metadata": {
        "colab": {
          "base_uri": "https://localhost:8080/"
        },
        "id": "NShxz3bHXecV",
        "outputId": "b96c0545-8083-40ba-a5d0-29f736c49643"
      },
      "id": "NShxz3bHXecV",
      "execution_count": 37,
      "outputs": [
        {
          "output_type": "stream",
          "name": "stdout",
          "text": [
            "Range: 888.00\n",
            "STD: 35.65\n",
            "IQR: 29.90\n"
          ]
        }
      ]
    },
    {
      "cell_type": "markdown",
      "source": [
        "**total_area**\n",
        "- **Range**: 888 m² — again, a big spread.\n",
        "- **STD**: 35.65 m² — moderate variability.\n",
        "- **IQR**: 29.90 m² — the middle 50% of homes differ in area by about 30 m².\n",
        "\n",
        "**Interpretation**:  \n",
        "The **range** shows that there are both very small and very large properties. However, the **IQR and STD** are relatively small compared to the range, meaning **most properties are similar in size**, with a few very large homes increasing the range."
      ],
      "metadata": {
        "id": "aGCiP-g6Y03-"
      },
      "id": "aGCiP-g6Y03-"
    },
    {
      "cell_type": "markdown",
      "source": [
        "#### rooms"
      ],
      "metadata": {
        "id": "qqcfIYBgXTFw"
      },
      "id": "qqcfIYBgXTFw"
    },
    {
      "cell_type": "code",
      "source": [
        "print(f'Range: {df.rooms.max() - df.rooms.min():.2f}')\n",
        "print(f'STD: {df.rooms.std():.2f}')\n",
        "print(f'IQR: {df.rooms.quantile(0.75) - df.rooms.quantile(0.25):.2f}')"
      ],
      "metadata": {
        "colab": {
          "base_uri": "https://localhost:8080/"
        },
        "id": "Ad_iLvrQXlPq",
        "outputId": "55a9ed94-f6a4-4991-9fe0-4e8ec256d1cb"
      },
      "id": "Ad_iLvrQXlPq",
      "execution_count": 38,
      "outputs": [
        {
          "output_type": "stream",
          "name": "stdout",
          "text": [
            "Range: 19.00\n",
            "STD: 1.08\n",
            "IQR: 2.00\n"
          ]
        }
      ]
    },
    {
      "cell_type": "markdown",
      "source": [
        "**rooms**\n",
        "- **Range**: 19 rooms — from studio apartments to mansions.\n",
        "- **STD**: 1.08 — most properties have a similar number of rooms.\n",
        "- **IQR**: 2 — 50% of properties differ by 2 rooms or less.\n",
        "\n",
        "**Interpretation**:  \n",
        "Despite the large range, the **low STD and IQR** tell us most properties are **clustered around a typical room count**, with very few having extremely high room numbers."
      ],
      "metadata": {
        "id": "i8TgfD2fY7vI"
      },
      "id": "i8TgfD2fY7vI"
    },
    {
      "cell_type": "markdown",
      "id": "13b2a2ee-c485-4e0f-846a-9a6e756c8d74",
      "metadata": {
        "id": "13b2a2ee-c485-4e0f-846a-9a6e756c8d74"
      },
      "source": [
        "### Measures of Shape. Skewness / Kurtosis"
      ]
    },
    {
      "cell_type": "markdown",
      "source": [
        "last_price"
      ],
      "metadata": {
        "id": "gmehsKqHZKs2"
      },
      "id": "gmehsKqHZKs2"
    },
    {
      "cell_type": "code",
      "source": [
        "print(f'Skewness: {df.last_price.skew():.2f}')\n",
        "print(f'Kurtosis: {df.last_price.kurtosis():.2f}')"
      ],
      "metadata": {
        "colab": {
          "base_uri": "https://localhost:8080/"
        },
        "id": "xCZyPHBxZQEX",
        "outputId": "46c7c0ee-94d3-4e47-8736-e349c6455a8a"
      },
      "id": "xCZyPHBxZQEX",
      "execution_count": 44,
      "outputs": [
        {
          "output_type": "stream",
          "name": "stdout",
          "text": [
            "Skewness: 25.80\n",
            "Kurtosis: 1277.68\n"
          ]
        }
      ]
    },
    {
      "cell_type": "markdown",
      "source": [
        "**Understanding the Metrics:**\n",
        "\n",
        "- **Skewness**:\n",
        "  - `0` → perfectly symmetrical distribution\n",
        "  - `>0` → **right-skewed** (tail on the right)\n",
        "  - `<0` → **left-skewed** (tail on the left)\n",
        "\n",
        "- **Kurtosis**:\n",
        "  - `≈3` → normal distribution (mesokurtic)\n",
        "  - `>3` → **peaked with heavy tails** (leptokurtic → more outliers)\n",
        "  - `<3` → **flatter** distribution (platykurtic → fewer outliers)\n",
        "\n",
        "---\n",
        "\n",
        "- **Skewness: 25.80** → extremely **right-skewed**\n",
        "- **Kurtosis: 1277.68** → **very heavy-tailed** and **sharp-peaked**\n",
        "\n",
        "**Interpretation**: Most properties are in the lower price range, but there are **a few extremely expensive ones** that create a long right tail and lots of outliers."
      ],
      "metadata": {
        "id": "d0bYQBfsgTtg"
      },
      "id": "d0bYQBfsgTtg"
    },
    {
      "cell_type": "markdown",
      "source": [
        "#### total_area"
      ],
      "metadata": {
        "id": "gMOnfTi2ZH2H"
      },
      "id": "gMOnfTi2ZH2H"
    },
    {
      "cell_type": "code",
      "source": [
        "print(f'Skewness: {df.total_area.skew():.2f}')\n",
        "print(f'Kurtosis: {df.total_area.kurtosis():.2f}')"
      ],
      "metadata": {
        "colab": {
          "base_uri": "https://localhost:8080/"
        },
        "id": "Mgc3H_jGbs6Q",
        "outputId": "52e02981-d415-4aa0-ad8c-b145fb137d1f"
      },
      "id": "Mgc3H_jGbs6Q",
      "execution_count": 45,
      "outputs": [
        {
          "output_type": "stream",
          "name": "stdout",
          "text": [
            "Skewness: 4.77\n",
            "Kurtosis: 47.52\n"
          ]
        }
      ]
    },
    {
      "cell_type": "markdown",
      "source": [
        "- **Skewness: 4.77** → heavily **right-skewed**\n",
        "- **Kurtosis: 47.52** → sharp peak with many extreme values\n",
        "\n",
        "**Interpretation**: Most homes are of modest size, but there are some **very large properties** (e.g., mansions or commercial buildings) skewing the data."
      ],
      "metadata": {
        "id": "aUDC-1BcgbKo"
      },
      "id": "aUDC-1BcgbKo"
    },
    {
      "cell_type": "markdown",
      "source": [
        "#### rooms"
      ],
      "metadata": {
        "id": "MG2cjwAMZGz1"
      },
      "id": "MG2cjwAMZGz1"
    },
    {
      "cell_type": "code",
      "source": [
        "print(f'Skewness: {df.rooms.skew():.2f}')\n",
        "print(f'Kurtosis: {df.rooms.kurtosis():.2f}')"
      ],
      "metadata": {
        "colab": {
          "base_uri": "https://localhost:8080/"
        },
        "id": "Eyb3K1W-ZDN6",
        "outputId": "53bc4b5b-fa92-405b-d97d-911f9a834232"
      },
      "id": "Eyb3K1W-ZDN6",
      "execution_count": 46,
      "outputs": [
        {
          "output_type": "stream",
          "name": "stdout",
          "text": [
            "Skewness: 1.52\n",
            "Kurtosis: 8.69\n"
          ]
        }
      ]
    },
    {
      "cell_type": "markdown",
      "source": [
        "- **Skewness: 1.52** → moderately **right-skewed**\n",
        "- **Kurtosis: 8.69** → still peaked, with some outliers\n",
        "\n",
        "**Interpretation**: Most properties have fewer rooms (e.g., 1–3), but a small number have many rooms (like 8, 10, etc.), which increases skewness and kurtosis."
      ],
      "metadata": {
        "id": "HquxAnwKgdyO"
      },
      "id": "HquxAnwKgdyO"
    },
    {
      "cell_type": "markdown",
      "source": [
        "## 🔍 **Basic Insights**\n",
        "\n",
        "### 💰 `last_price` (Property Price):\n",
        "- **Mean = 6.5M**, **Median = 4.65M** → the mean is much higher than the median → **right-skewed** distribution.\n",
        "- **Huge range**: nearly **763 million** — extreme variability, very large standard deviation.\n",
        "- **Skewness = 25.80**, **Kurtosis = 1277.68** → extremely heavy tail and many outliers.\n",
        "\n",
        "👉 **Conclusion**: A small number of **super-expensive properties** are skewing the entire distribution. Most listings are priced much lower.\n",
        "\n",
        "---\n",
        "\n",
        "### 📏 `total_area` (Property Area):\n",
        "- **Mean = 60.35 m²**, **Median = 52 m²** → again, **right-skewed**.\n",
        "- Range from small apartments to **888 m²** → highly variable.\n",
        "- **Skewness = 4.77**, **Kurtosis = 47.52** → many large outliers.\n",
        "\n",
        "👉 **Conclusion**: Most properties are small to medium-sized, but a few **very large units** (villas, commercial?) are stretching the distribution.\n",
        "\n",
        "---\n",
        "\n",
        "### 🛏️ `rooms` (Number of Rooms):\n",
        "- **Mean ≈ Median** → nearly symmetrical, but slightly right-skewed.\n",
        "- **Mode = 1** → majority of listings are **1-room apartments**.\n",
        "- **Max = 19 rooms** → extreme values likely **outliers** or non-residential.\n",
        "\n",
        "👉 **Conclusion**: Distribution is fairly normal but includes **some anomalies** (very large homes).\n",
        "\n",
        "---"
      ],
      "metadata": {
        "id": "kfOhXqkxiMwG"
      },
      "id": "kfOhXqkxiMwG"
    },
    {
      "cell_type": "markdown",
      "source": [
        "## ✅ **Recommendations**\n",
        "\n",
        "### 1. 🧹 **Outlier Detection and Removal**\n",
        "Use **Z-score** or **IQR method** to filter or remove extreme values:\n",
        "\n",
        "```python\n",
        "# Z-score threshold method\n",
        "df = df[(df['z_last_price'].abs() < 3) &\n",
        "        (df['z_total_area'].abs() < 3) &\n",
        "        (df['z_rooms'].abs() < 3)]\n",
        "```\n",
        "\n",
        "Or use **percentile-based filtering**, e.g., remove values above the **99th percentile** for `last_price`.\n",
        "\n",
        "Consider capping `rooms` to a realistic upper bound (e.g., keep only 1–6 rooms).\n",
        "\n",
        "---\n",
        "\n",
        "### 2. 🔄 **Log Transformation**\n",
        "Since `last_price` and `total_area` are **heavily skewed**, applying a **log transformation** will help normalize the data:\n",
        "\n",
        "```python\n",
        "df['log_price'] = np.log1p(df['last_price'])\n",
        "df['log_area'] = np.log1p(df['total_area'])\n",
        "```\n",
        "\n",
        "This transformation is **highly recommended** for machine learning models or clean visualizations.\n",
        "\n",
        "---\n",
        "\n",
        "### 3. 📊 **Visualizations**\n",
        "Use the following plots to explore and clean your data:\n",
        "- **Histograms** before/after log transformation\n",
        "- **Boxplots** to detect outliers\n",
        "- **Scatter plots / pairplots** to visualize relationships between `price`, `area`, and `rooms`\n",
        "\n",
        "---\n",
        "\n",
        "### 4. ✅ **Additional Cleanup Ideas**\n",
        "- Check for invalid values like `rooms == 0` or `total_area == 0` — likely input errors.\n",
        "- Normalize features before modeling.\n",
        "- Create **price quantiles** to categorize listings (e.g., \"low\", \"mid\", \"high\" price tiers).\n",
        "\n",
        "---"
      ],
      "metadata": {
        "id": "jtewRSSviQi1"
      },
      "id": "jtewRSSviQi1"
    }
  ],
  "metadata": {
    "kernelspec": {
      "display_name": "Python 3 (ipykernel)",
      "language": "python",
      "name": "python3"
    },
    "language_info": {
      "codemirror_mode": {
        "name": "ipython",
        "version": 3
      },
      "file_extension": ".py",
      "mimetype": "text/x-python",
      "name": "python",
      "nbconvert_exporter": "python",
      "pygments_lexer": "ipython3",
      "version": "3.13.2"
    },
    "colab": {
      "provenance": [],
      "include_colab_link": true
    }
  },
  "nbformat": 4,
  "nbformat_minor": 5
}